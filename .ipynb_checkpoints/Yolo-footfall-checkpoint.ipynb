{
 "cells": [
  {
   "cell_type": "code",
   "execution_count": 1,
   "id": "cf4840dd-a35a-46fe-b0fd-43219783ad6c",
   "metadata": {},
   "outputs": [
    {
     "name": "stdout",
     "output_type": "stream",
     "text": [
      "C:\\Users\\Alexkoh\\Desktop\\Footfallcam\n"
     ]
    }
   ],
   "source": [
    "import os\n",
    "print(os.getcwd())"
   ]
  },
  {
   "cell_type": "code",
   "execution_count": 2,
   "id": "69da84ce-8bad-4aa0-8f6e-0c009ab3404e",
   "metadata": {},
   "outputs": [
    {
     "name": "stderr",
     "output_type": "stream",
     "text": [
      "\n",
      "                   from  n    params  module                                       arguments                     \n",
      "  0                  -1  1       464  ultralytics.nn.modules.conv.Conv             [3, 16, 3, 2]                 \n",
      "  1                  -1  1      4672  ultralytics.nn.modules.conv.Conv             [16, 32, 3, 2]                \n",
      "  2                  -1  1      7360  ultralytics.nn.modules.block.C2f             [32, 32, 1, True]             \n",
      "  3                  -1  1     18560  ultralytics.nn.modules.conv.Conv             [32, 64, 3, 2]                \n",
      "  4                  -1  2     49664  ultralytics.nn.modules.block.C2f             [64, 64, 2, True]             \n",
      "  5                  -1  1     73984  ultralytics.nn.modules.conv.Conv             [64, 128, 3, 2]               \n",
      "  6                  -1  2    197632  ultralytics.nn.modules.block.C2f             [128, 128, 2, True]           \n",
      "  7                  -1  1    295424  ultralytics.nn.modules.conv.Conv             [128, 256, 3, 2]              \n",
      "  8                  -1  1    460288  ultralytics.nn.modules.block.C2f             [256, 256, 1, True]           \n",
      "  9                  -1  1    164608  ultralytics.nn.modules.block.SPPF            [256, 256, 5]                 \n",
      " 10                  -1  1         0  torch.nn.modules.upsampling.Upsample         [None, 2, 'nearest']          \n",
      " 11             [-1, 6]  1         0  ultralytics.nn.modules.conv.Concat           [1]                           \n",
      " 12                  -1  1    148224  ultralytics.nn.modules.block.C2f             [384, 128, 1]                 \n",
      " 13                  -1  1         0  torch.nn.modules.upsampling.Upsample         [None, 2, 'nearest']          \n",
      " 14             [-1, 4]  1         0  ultralytics.nn.modules.conv.Concat           [1]                           \n",
      " 15                  -1  1     37248  ultralytics.nn.modules.block.C2f             [192, 64, 1]                  \n",
      " 16                  -1  1     36992  ultralytics.nn.modules.conv.Conv             [64, 64, 3, 2]                \n",
      " 17            [-1, 12]  1         0  ultralytics.nn.modules.conv.Concat           [1]                           \n",
      " 18                  -1  1    123648  ultralytics.nn.modules.block.C2f             [192, 128, 1]                 \n",
      " 19                  -1  1    147712  ultralytics.nn.modules.conv.Conv             [128, 128, 3, 2]              \n",
      " 20             [-1, 9]  1         0  ultralytics.nn.modules.conv.Concat           [1]                           \n",
      " 21                  -1  1    493056  ultralytics.nn.modules.block.C2f             [384, 256, 1]                 \n",
      " 22        [15, 18, 21]  1    897664  ultralytics.nn.modules.head.Detect           [80, [64, 128, 256]]          \n",
      "YOLOv8n summary: 225 layers, 3157200 parameters, 3157184 gradients, 8.9 GFLOPs\n",
      "\n",
      "Downloading https://github.com/ultralytics/assets/releases/download/v0.0.0/yolov8n.pt to 'yolov8n.pt'...\n",
      "100%|█████████████████████████████████████████████████████████████████████████████| 6.23M/6.23M [00:03<00:00, 1.75MB/s]\n",
      "New https://pypi.org/project/ultralytics/8.0.235 available  Update with 'pip install -U ultralytics'\n",
      "Ultralytics YOLOv8.0.193  Python-3.11.5 torch-2.1.0+cpu CPU (AMD Ryzen 7 5800U with Radeon Graphics)\n",
      "\u001b[34m\u001b[1mengine\\trainer: \u001b[0mtask=detect, mode=train, model=yolov8n.pt, data=coco128.yaml, epochs=3, patience=50, batch=16, imgsz=640, save=True, save_period=-1, cache=False, device=None, workers=8, project=None, name=None, exist_ok=False, pretrained=True, optimizer=auto, verbose=True, seed=0, deterministic=True, single_cls=False, rect=False, cos_lr=False, close_mosaic=10, resume=False, amp=True, fraction=1.0, profile=False, freeze=None, overlap_mask=True, mask_ratio=4, dropout=0.0, val=True, split=val, save_json=False, save_hybrid=False, conf=None, iou=0.7, max_det=300, half=False, dnn=False, plots=True, source=None, show=False, save_txt=False, save_conf=False, save_crop=False, show_labels=True, show_conf=True, vid_stride=1, stream_buffer=False, line_width=None, visualize=False, augment=False, agnostic_nms=False, classes=None, retina_masks=False, boxes=True, format=torchscript, keras=False, optimize=False, int8=False, dynamic=False, simplify=False, opset=None, workspace=4, nms=False, lr0=0.01, lrf=0.01, momentum=0.937, weight_decay=0.0005, warmup_epochs=3.0, warmup_momentum=0.8, warmup_bias_lr=0.1, box=7.5, cls=0.5, dfl=1.5, pose=12.0, kobj=1.0, label_smoothing=0.0, nbs=64, hsv_h=0.015, hsv_s=0.7, hsv_v=0.4, degrees=0.0, translate=0.1, scale=0.5, shear=0.0, perspective=0.0, flipud=0.0, fliplr=0.5, mosaic=1.0, mixup=0.0, copy_paste=0.0, cfg=None, tracker=botsort.yaml, save_dir=runs\\detect\\train\n",
      "\n",
      "Dataset 'coco128.yaml' images not found , missing path 'C:\\Users\\Alex\\Desktop\\yolo demo\\yolov5\\datasets\\coco128\\images\\train2017'\n",
      "Downloading https://ultralytics.com/assets/coco128.zip to 'C:\\Users\\Alex\\Desktop\\yolo demo\\yolov5\\datasets\\coco128.zip'...\n",
      "100%|██████████████████████████████████████████████████████████████████████████████| 6.66M/6.66M [00:07<00:00, 891kB/s]\n",
      "Unzipping C:\\Users\\Alex\\Desktop\\yolo demo\\yolov5\\datasets\\coco128.zip to C:\\Users\\Alex\\Desktop\\yolo demo\\yolov5\\dataset\n",
      "Dataset download success  (15.2s), saved to \u001b[1mC:\\Users\\Alex\\Desktop\\yolo demo\\yolov5\\datasets\u001b[0m\n",
      "\n",
      "Downloading https://ultralytics.com/assets/Arial.ttf to 'C:\\Users\\Alex\\AppData\\Roaming\\Ultralytics\\Arial.ttf'...\n",
      "100%|███████████████████████████████████████████████████████████████████████████████| 755k/755k [00:00<00:00, 1.53MB/s]\n",
      "\n",
      "                   from  n    params  module                                       arguments                     \n",
      "  0                  -1  1       464  ultralytics.nn.modules.conv.Conv             [3, 16, 3, 2]                 \n",
      "  1                  -1  1      4672  ultralytics.nn.modules.conv.Conv             [16, 32, 3, 2]                \n",
      "  2                  -1  1      7360  ultralytics.nn.modules.block.C2f             [32, 32, 1, True]             \n",
      "  3                  -1  1     18560  ultralytics.nn.modules.conv.Conv             [32, 64, 3, 2]                \n",
      "  4                  -1  2     49664  ultralytics.nn.modules.block.C2f             [64, 64, 2, True]             \n",
      "  5                  -1  1     73984  ultralytics.nn.modules.conv.Conv             [64, 128, 3, 2]               \n",
      "  6                  -1  2    197632  ultralytics.nn.modules.block.C2f             [128, 128, 2, True]           \n",
      "  7                  -1  1    295424  ultralytics.nn.modules.conv.Conv             [128, 256, 3, 2]              \n",
      "  8                  -1  1    460288  ultralytics.nn.modules.block.C2f             [256, 256, 1, True]           \n",
      "  9                  -1  1    164608  ultralytics.nn.modules.block.SPPF            [256, 256, 5]                 \n",
      " 10                  -1  1         0  torch.nn.modules.upsampling.Upsample         [None, 2, 'nearest']          \n",
      " 11             [-1, 6]  1         0  ultralytics.nn.modules.conv.Concat           [1]                           \n",
      " 12                  -1  1    148224  ultralytics.nn.modules.block.C2f             [384, 128, 1]                 \n",
      " 13                  -1  1         0  torch.nn.modules.upsampling.Upsample         [None, 2, 'nearest']          \n",
      " 14             [-1, 4]  1         0  ultralytics.nn.modules.conv.Concat           [1]                           \n",
      " 15                  -1  1     37248  ultralytics.nn.modules.block.C2f             [192, 64, 1]                  \n",
      " 16                  -1  1     36992  ultralytics.nn.modules.conv.Conv             [64, 64, 3, 2]                \n",
      " 17            [-1, 12]  1         0  ultralytics.nn.modules.conv.Concat           [1]                           \n",
      " 18                  -1  1    123648  ultralytics.nn.modules.block.C2f             [192, 128, 1]                 \n",
      " 19                  -1  1    147712  ultralytics.nn.modules.conv.Conv             [128, 128, 3, 2]              \n",
      " 20             [-1, 9]  1         0  ultralytics.nn.modules.conv.Concat           [1]                           \n",
      " 21                  -1  1    493056  ultralytics.nn.modules.block.C2f             [384, 256, 1]                 \n",
      " 22        [15, 18, 21]  1    897664  ultralytics.nn.modules.head.Detect           [80, [64, 128, 256]]          \n",
      "Model summary: 225 layers, 3157200 parameters, 3157184 gradients, 8.9 GFLOPs\n",
      "\n",
      "Transferred 355/355 items from pretrained weights\n",
      "Freezing layer 'model.22.dfl.conv.weight'\n",
      "\u001b[34m\u001b[1mtrain: \u001b[0mScanning C:\\Users\\Alex\\Desktop\\yolo demo\\yolov5\\datasets\\coco128\\labels\\train2017... 126 images, 2 backgrounds, \u001b[0m\n",
      "\u001b[34m\u001b[1mtrain: \u001b[0mNew cache created: C:\\Users\\Alex\\Desktop\\yolo demo\\yolov5\\datasets\\coco128\\labels\\train2017.cache\n",
      "\u001b[34m\u001b[1mval: \u001b[0mScanning C:\\Users\\Alex\\Desktop\\yolo demo\\yolov5\\datasets\\coco128\\labels\\train2017.cache... 126 images, 2 backgroun\u001b[0m\n",
      "Plotting labels to runs\\detect\\train\\labels.jpg... \n",
      "\u001b[34m\u001b[1moptimizer:\u001b[0m 'optimizer=auto' found, ignoring 'lr0=0.01' and 'momentum=0.937' and determining best 'optimizer', 'lr0' and 'momentum' automatically... \n",
      "\u001b[34m\u001b[1moptimizer:\u001b[0m AdamW(lr=0.000119, momentum=0.9) with parameter groups 57 weight(decay=0.0), 64 weight(decay=0.0005), 63 bias(decay=0.0)\n",
      "Image sizes 640 train, 640 val\n",
      "Using 0 dataloader workers\n",
      "Logging results to \u001b[1mruns\\detect\\train\u001b[0m\n",
      "Starting training for 3 epochs...\n",
      "\n",
      "      Epoch    GPU_mem   box_loss   cls_loss   dfl_loss  Instances       Size\n",
      "        1/3         0G      1.096      1.365      1.202        201        640: 100%|██████████| 8/8 [00:46<00:00,  5.77\n",
      "                 Class     Images  Instances      Box(P          R      mAP50  mAP50-95): 100%|██████████| 4/4 [00:17<0\n",
      "                   all        128        929      0.658      0.532      0.615      0.457\n",
      "\n",
      "      Epoch    GPU_mem   box_loss   cls_loss   dfl_loss  Instances       Size\n",
      "        2/3         0G      1.216      1.443      1.268        136        640: 100%|██████████| 8/8 [00:45<00:00,  5.64\n",
      "                 Class     Images  Instances      Box(P          R      mAP50  mAP50-95): 100%|██████████| 4/4 [00:17<0\n",
      "                   all        128        929      0.672      0.542      0.628      0.466\n",
      "\n",
      "      Epoch    GPU_mem   box_loss   cls_loss   dfl_loss  Instances       Size\n",
      "        3/3         0G      1.193      1.342      1.243        206        640: 100%|██████████| 8/8 [00:45<00:00,  5.65\n",
      "                 Class     Images  Instances      Box(P          R      mAP50  mAP50-95): 100%|██████████| 4/4 [00:17<0\n",
      "                   all        128        929       0.69      0.532      0.631      0.468\n",
      "\n",
      "3 epochs completed in 0.053 hours.\n",
      "Optimizer stripped from runs\\detect\\train\\weights\\last.pt, 6.5MB\n",
      "Optimizer stripped from runs\\detect\\train\\weights\\best.pt, 6.5MB\n",
      "\n",
      "Validating runs\\detect\\train\\weights\\best.pt...\n",
      "Ultralytics YOLOv8.0.193  Python-3.11.5 torch-2.1.0+cpu CPU (AMD Ryzen 7 5800U with Radeon Graphics)\n",
      "Model summary (fused): 168 layers, 3151904 parameters, 0 gradients, 8.7 GFLOPs\n",
      "                 Class     Images  Instances      Box(P          R      mAP50  mAP50-95): 100%|██████████| 4/4 [00:12<0\n",
      "                   all        128        929      0.691      0.531      0.631      0.468\n",
      "                person        128        254      0.818      0.654      0.764      0.537\n",
      "               bicycle        128          6      0.663       0.33      0.333      0.261\n",
      "                   car        128         46      0.868      0.217      0.279      0.174\n",
      "            motorcycle        128          5      0.678      0.846      0.938      0.743\n",
      "              airplane        128          6      0.817      0.752      0.927      0.687\n",
      "                   bus        128          7      0.754      0.714      0.728      0.671\n",
      "                 train        128          3      0.565      0.667       0.83      0.681\n",
      "                 truck        128         12          1      0.326      0.522      0.328\n",
      "                  boat        128          6      0.299      0.167       0.36      0.233\n",
      "         traffic light        128         14      0.738      0.204      0.201      0.138\n",
      "             stop sign        128          2          1      0.971      0.995      0.707\n",
      "                 bench        128          9      0.815      0.494      0.633      0.382\n",
      "                  bird        128         16      0.912      0.625      0.894      0.556\n",
      "                   cat        128          4      0.876          1      0.995      0.791\n",
      "                   dog        128          9      0.658      0.889      0.871      0.652\n",
      "                 horse        128          2      0.571          1      0.995      0.518\n",
      "              elephant        128         17      0.848      0.824      0.918      0.674\n",
      "                  bear        128          1      0.624          1      0.995      0.895\n",
      "                 zebra        128          4      0.865          1      0.995      0.965\n",
      "               giraffe        128          9      0.898       0.98      0.973      0.713\n",
      "              backpack        128          6      0.648      0.333      0.379       0.22\n",
      "              umbrella        128         18      0.814        0.5      0.669      0.465\n",
      "               handbag        128         19          1          0      0.207      0.126\n",
      "                   tie        128          7       0.83        0.7      0.677      0.496\n",
      "              suitcase        128          4      0.609      0.783      0.828      0.592\n",
      "               frisbee        128          5       0.63        0.8       0.76      0.664\n",
      "                  skis        128          1      0.745          1      0.995      0.497\n",
      "             snowboard        128          7       0.75      0.714      0.755      0.492\n",
      "           sports ball        128          6      0.689      0.377      0.502      0.274\n",
      "                  kite        128         10      0.805      0.415      0.588      0.203\n",
      "          baseball bat        128          4       0.45       0.25      0.378      0.187\n",
      "        baseball glove        128          7      0.679      0.429      0.429      0.294\n",
      "            skateboard        128          5       0.81        0.6      0.599      0.446\n",
      "         tennis racket        128          7      0.696      0.335      0.502      0.365\n",
      "                bottle        128         18      0.508      0.344      0.366       0.22\n",
      "            wine glass        128         16      0.796      0.488       0.61      0.363\n",
      "                   cup        128         36      0.651       0.26      0.402      0.289\n",
      "                  fork        128          6      0.609      0.167      0.294      0.205\n",
      "                 knife        128         16      0.745      0.549      0.629      0.362\n",
      "                 spoon        128         22      0.511      0.191      0.349      0.182\n",
      "                  bowl        128         28      0.693      0.679      0.641      0.528\n",
      "                banana        128          1          0          0      0.111     0.0369\n",
      "              sandwich        128          2      0.323        0.5      0.662      0.662\n",
      "                orange        128          4          1      0.335      0.995      0.666\n",
      "              broccoli        128         11      0.396      0.182      0.254      0.213\n",
      "                carrot        128         24      0.818      0.458      0.673      0.434\n",
      "               hot dog        128          2      0.634          1      0.828      0.795\n",
      "                 pizza        128          5      0.791          1      0.995      0.843\n",
      "                 donut        128         14       0.65          1      0.926       0.84\n",
      "                  cake        128          4      0.725          1      0.995       0.88\n",
      "                 chair        128         35      0.564      0.514      0.462       0.26\n",
      "                 couch        128          6      0.422      0.333      0.614      0.469\n",
      "          potted plant        128         14      0.817      0.643      0.722      0.498\n",
      "                   bed        128          3      0.794      0.667      0.775      0.676\n",
      "          dining table        128         13      0.512      0.615      0.514       0.41\n",
      "                toilet        128          2      0.644        0.5      0.745      0.721\n",
      "                    tv        128          2      0.543       0.63      0.828      0.762\n",
      "                laptop        128          3          1          0      0.665      0.522\n",
      "                 mouse        128          2          1          0     0.0443    0.00443\n",
      "                remote        128          8      0.874        0.5      0.578      0.502\n",
      "            cell phone        128          8          0          0     0.0582     0.0384\n",
      "             microwave        128          3        0.6      0.667       0.83      0.699\n",
      "                  oven        128          5      0.456        0.4      0.342      0.272\n",
      "                  sink        128          6      0.372      0.167      0.203      0.125\n",
      "          refrigerator        128          5      0.668        0.4       0.65      0.522\n",
      "                  book        128         29      0.619      0.113      0.355       0.18\n",
      "                 clock        128          9      0.778      0.781      0.891      0.721\n",
      "                  vase        128          2      0.411          1      0.828      0.795\n",
      "              scissors        128          1          1          0      0.249     0.0746\n",
      "            teddy bear        128         21      0.939      0.333      0.635      0.429\n",
      "            toothbrush        128          5      0.747        0.4      0.672      0.424\n",
      "Speed: 2.7ms preprocess, 82.8ms inference, 0.0ms loss, 2.2ms postprocess per image\n",
      "Results saved to \u001b[1mruns\\detect\\train\u001b[0m\n",
      "Ultralytics YOLOv8.0.193  Python-3.11.5 torch-2.1.0+cpu CPU (AMD Ryzen 7 5800U with Radeon Graphics)\n",
      "Model summary (fused): 168 layers, 3151904 parameters, 0 gradients, 8.7 GFLOPs\n",
      "\u001b[34m\u001b[1mval: \u001b[0mScanning C:\\Users\\Alex\\Desktop\\yolo demo\\yolov5\\datasets\\coco128\\labels\\train2017.cache... 126 images, 2 backgroun\u001b[0m\n",
      "                 Class     Images  Instances      Box(P          R      mAP50  mAP50-95): 100%|██████████| 8/8 [00:11<0\n",
      "                   all        128        929      0.677      0.547      0.626      0.463\n",
      "                person        128        254      0.805      0.665      0.766      0.539\n",
      "               bicycle        128          6      0.499      0.333      0.329      0.258\n",
      "                   car        128         46      0.816      0.217      0.279      0.174\n",
      "            motorcycle        128          5      0.684      0.874      0.938      0.743\n",
      "              airplane        128          6       0.82      0.767      0.927      0.687\n",
      "                   bus        128          7       0.74      0.714      0.728      0.671\n",
      "                 train        128          3      0.554      0.667       0.83      0.681\n",
      "                 truck        128         12          1      0.368      0.496      0.286\n",
      "                  boat        128          6      0.238      0.167      0.327      0.205\n",
      "         traffic light        128         14      0.738      0.204      0.201      0.138\n",
      "             stop sign        128          2          1      0.989      0.995      0.708\n",
      "                 bench        128          9      0.825      0.527      0.632      0.382\n",
      "                  bird        128         16       0.85      0.708      0.884      0.549\n",
      "                   cat        128          4      0.867          1      0.995      0.791\n",
      "                   dog        128          9      0.649      0.889      0.871      0.652\n",
      "                 horse        128          2       0.51          1      0.995      0.518\n",
      "              elephant        128         17      0.824      0.829      0.918      0.674\n",
      "                  bear        128          1      0.609          1      0.995      0.895\n",
      "                 zebra        128          4       0.86          1      0.995      0.965\n",
      "               giraffe        128          9      0.807      0.935      0.951      0.753\n",
      "              backpack        128          6      0.629      0.333      0.379      0.231\n",
      "              umbrella        128         18      0.697        0.5      0.664      0.463\n",
      "               handbag        128         19          1     0.0682      0.206      0.126\n",
      "                   tie        128          7      0.827      0.714      0.677      0.495\n",
      "              suitcase        128          4      0.663          1      0.828      0.592\n",
      "               frisbee        128          5      0.604        0.8      0.759      0.664\n",
      "                  skis        128          1      0.626          1      0.995      0.497\n",
      "             snowboard        128          7      0.727      0.714      0.755      0.491\n",
      "           sports ball        128          6      0.698      0.396      0.502      0.274\n",
      "                  kite        128         10      0.824      0.472      0.589      0.204\n",
      "          baseball bat        128          4      0.526       0.25      0.353      0.199\n",
      "        baseball glove        128          7      0.641      0.429      0.429      0.316\n",
      "            skateboard        128          5      0.864        0.6      0.599       0.44\n",
      "         tennis racket        128          7      0.709      0.358      0.502      0.337\n",
      "                bottle        128         18      0.524      0.369      0.368      0.217\n",
      "            wine glass        128         16      0.775      0.432      0.569      0.354\n",
      "                   cup        128         36       0.67      0.278      0.419      0.302\n",
      "                  fork        128          6      0.584      0.167      0.237      0.183\n",
      "                 knife        128         16       0.65      0.562      0.607      0.353\n",
      "                 spoon        128         22      0.595      0.202       0.35      0.197\n",
      "                  bowl        128         28      0.681      0.687      0.671      0.518\n",
      "                banana        128          1          0          0     0.0829     0.0344\n",
      "              sandwich        128          2      0.323        0.5      0.308      0.308\n",
      "                orange        128          4          1      0.371      0.995      0.666\n",
      "              broccoli        128         11      0.358      0.182      0.263      0.214\n",
      "                carrot        128         24      0.736       0.58      0.669      0.428\n",
      "               hot dog        128          2      0.658      0.975      0.828      0.828\n",
      "                 pizza        128          5      0.858          1      0.995      0.843\n",
      "                 donut        128         14      0.647          1      0.926      0.841\n",
      "                  cake        128          4      0.612          1      0.995       0.88\n",
      "                 chair        128         35       0.54      0.514      0.451      0.249\n",
      "                 couch        128          6      0.524        0.5      0.715      0.553\n",
      "          potted plant        128         14      0.784      0.643      0.722      0.498\n",
      "                   bed        128          3      0.764      0.667      0.863      0.655\n",
      "          dining table        128         13      0.465      0.538      0.486      0.387\n",
      "                toilet        128          2      0.629        0.5      0.745      0.721\n",
      "                    tv        128          2      0.563       0.69      0.828      0.762\n",
      "                laptop        128          3          1          0        0.6       0.48\n",
      "                 mouse        128          2          1          0     0.0683    0.00683\n",
      "                remote        128          8      0.858        0.5      0.613      0.523\n",
      "            cell phone        128          8          0          0     0.0576     0.0382\n",
      "             microwave        128          3      0.567      0.667       0.83      0.683\n",
      "                  oven        128          5      0.459        0.4      0.342      0.272\n",
      "                  sink        128          6      0.383      0.167      0.166      0.104\n",
      "          refrigerator        128          5      0.639        0.4      0.654      0.506\n",
      "                  book        128         29      0.638      0.123      0.379      0.203\n",
      "                 clock        128          9      0.782      0.798      0.892      0.722\n",
      "                  vase        128          2      0.368          1      0.828      0.795\n",
      "              scissors        128          1          1          0      0.249     0.0746\n",
      "            teddy bear        128         21       0.92      0.333      0.632      0.426\n",
      "            toothbrush        128          5      0.746        0.6      0.743      0.478\n",
      "Speed: 2.0ms preprocess, 72.7ms inference, 0.0ms loss, 2.1ms postprocess per image\n",
      "Results saved to \u001b[1mruns\\detect\\val\u001b[0m\n",
      "\n",
      "Downloading https://ultralytics.com/images/bus.jpg to 'bus.jpg'...\n",
      "100%|███████████████████████████████████████████████████████████████████████████████| 476k/476k [00:00<00:00, 1.40MB/s]\n",
      "image 1/1 C:\\Users\\Alex\\Desktop\\Footfall\\bus.jpg: 640x480 4 persons, 1 bus, 1 stop sign, 144.0ms\n",
      "Speed: 0.0ms preprocess, 144.0ms inference, 2.5ms postprocess per image at shape (1, 3, 640, 480)\n",
      "Ultralytics YOLOv8.0.193  Python-3.11.5 torch-2.1.0+cpu CPU (AMD Ryzen 7 5800U with Radeon Graphics)\n",
      "\n",
      "\u001b[34m\u001b[1mPyTorch:\u001b[0m starting from 'runs\\detect\\train\\weights\\best.pt' with input shape (1, 3, 640, 640) BCHW and output shape(s) (1, 84, 8400) (6.2 MB)\n",
      "\u001b[31m\u001b[1mrequirements:\u001b[0m Ultralytics requirement ['onnx>=1.12.0'] not found, attempting AutoUpdate...\n",
      "Collecting onnx>=1.12.0\n",
      "  Obtaining dependency information for onnx>=1.12.0 from https://files.pythonhosted.org/packages/db/2d/0851d7bb5ae1d08cc27a0ccfba9e77e2393f47ea56e57d347e2926b6d316/onnx-1.15.0-cp311-cp311-win_amd64.whl.metadata\n",
      "  Downloading onnx-1.15.0-cp311-cp311-win_amd64.whl.metadata (15 kB)\n",
      "Requirement already satisfied: numpy in c:\\users\\alex\\anaconda3\\envs\\yolo\\lib\\site-packages (from onnx>=1.12.0) (1.26.0)\n",
      "Collecting protobuf>=3.20.2 (from onnx>=1.12.0)\n",
      "  Obtaining dependency information for protobuf>=3.20.2 from https://files.pythonhosted.org/packages/fe/6b/7f177e8d6fe4caa14f4065433af9f879d4fab84f0d17dcba7b407f6bd808/protobuf-4.25.1-cp310-abi3-win_amd64.whl.metadata\n",
      "  Downloading protobuf-4.25.1-cp310-abi3-win_amd64.whl.metadata (541 bytes)\n",
      "Downloading onnx-1.15.0-cp311-cp311-win_amd64.whl (14.3 MB)\n",
      "   ---------------------------------------- 14.3/14.3 MB 2.6 MB/s eta 0:00:003\n",
      "Downloading protobuf-4.25.1-cp310-abi3-win_amd64.whl (413 kB)\n",
      "   ---------------------------------------- 413.4/413.4 kB 3.2 MB/s eta 0:00:00\n",
      "Installing collected packages: protobuf, onnx\n",
      "Successfully installed onnx-1.15.0 protobuf-4.25.1\n",
      "\n",
      "\u001b[31m\u001b[1mrequirements:\u001b[0m AutoUpdate success  24.3s, installed 1 package: ['onnx>=1.12.0']\n",
      "\u001b[31m\u001b[1mrequirements:\u001b[0m  \u001b[1mRestart runtime or rerun command for updates to take effect\u001b[0m\n",
      "\n",
      "\n",
      "\u001b[34m\u001b[1mONNX:\u001b[0m starting export with onnx 1.15.0 opset 17...\n",
      "\u001b[34m\u001b[1mONNX:\u001b[0m export success  25.3s, saved as 'runs\\detect\\train\\weights\\best.onnx' (12.2 MB)\n",
      "\n",
      "Export complete (27.2s)\n",
      "Results saved to \u001b[1mC:\\Users\\Alex\\Desktop\\Footfall\\runs\\detect\\train\\weights\u001b[0m\n",
      "Predict:         yolo predict task=detect model=runs\\detect\\train\\weights\\best.onnx imgsz=640  \n",
      "Validate:        yolo val task=detect model=runs\\detect\\train\\weights\\best.onnx imgsz=640 data=C:\\Users\\Alex\\anaconda3\\envs\\yolo\\Lib\\site-packages\\ultralytics\\cfg\\datasets\\coco128.yaml  \n",
      "Visualize:       https://netron.app\n"
     ]
    }
   ],
   "source": [
    "from ultralytics import YOLO\n",
    "\n",
    "# Load a model\n",
    "model = YOLO(\"yolov8n.yaml\")  # build a new model from scratch\n",
    "model = YOLO(\"yolov8n.pt\")  # load a pretrained model (recommended for training)\n",
    "\n",
    "# Use the model\n",
    "model.train(data=\"coco128.yaml\", epochs=3)  # train the model\n",
    "metrics = model.val()  # evaluate model performance on the validation set\n",
    "results = model(\"https://ultralytics.com/images/bus.jpg\")  # predict on an image\n",
    "path = model.export(format=\"onnx\")  # export the model to ONNX format"
   ]
  },
  {
   "cell_type": "code",
   "execution_count": 1,
   "id": "a1e4e222-5f5a-47d7-999a-0bfb0a489517",
   "metadata": {},
   "outputs": [
    {
     "name": "stdout",
     "output_type": "stream",
     "text": [
      "Conversion completed!\n"
     ]
    }
   ],
   "source": [
    "import xml.etree.ElementTree as ET\n",
    "import os\n",
    "\n",
    "def convert_annotation(xml_file, classes):\n",
    "    tree = ET.parse(xml_file)\n",
    "    root = tree.getroot()\n",
    "\n",
    "    size = root.find('size')\n",
    "    w = int(size.find('width').text)\n",
    "    h = int(size.find('height').text)\n",
    "\n",
    "    yolo_annotations = []\n",
    "\n",
    "    for obj in root.iter('object'):\n",
    "        cls = obj.find('name').text\n",
    "        if cls not in classes:\n",
    "            continue\n",
    "        cls_id = classes.index(cls)\n",
    "\n",
    "        xmlbox = obj.find('bndbox')\n",
    "        b = (float(xmlbox.find('xmin').text), float(xmlbox.find('xmax').text),\n",
    "             float(xmlbox.find('ymin').text), float(xmlbox.find('ymax').text))\n",
    "\n",
    "        bb = (b[0]/w, b[1]/w, b[2]/h, b[3]/h)\n",
    "        yolo_annotations.append(f\"{cls_id} {bb[0]+(bb[1]-bb[0])/2} {bb[2]+(bb[3]-bb[2])/2} {bb[1]-bb[0]} {bb[3]-bb[2]}\")\n",
    "\n",
    "    return yolo_annotations\n",
    "\n",
    "# Define your classes here. For example:\n",
    "classes = [\"Tag\"]\n",
    "\n",
    "# Path to your XML files\n",
    "xml_files_path = 'Frames'\n",
    "yolo_annotations_path = 'Annotations'\n",
    "\n",
    "if not os.path.exists(yolo_annotations_path):\n",
    "    os.makedirs(yolo_annotations_path)\n",
    "\n",
    "for file in os.listdir(xml_files_path):\n",
    "    if file.endswith('.xml'):\n",
    "        xml_file = os.path.join(xml_files_path, file)\n",
    "        yolo_annotations = convert_annotation(xml_file, classes)\n",
    "\n",
    "        # Save the YOLO format annotations to a .txt file with the same name as the XML file\n",
    "        txt_file = os.path.join(yolo_annotations_path, file.replace('.xml', '.txt'))\n",
    "        with open(txt_file, 'w') as f:\n",
    "            for annotation in yolo_annotations:\n",
    "                f.write(annotation + \"\\n\")\n",
    "\n",
    "print(\"Conversion completed!\")\n"
   ]
  },
  {
   "cell_type": "code",
   "execution_count": 3,
   "id": "db136579-b42f-49e6-b08d-004535b27e90",
   "metadata": {},
   "outputs": [],
   "source": [
    "import cv2\n",
    "import os\n",
    "\n",
    "def draw_bounding_boxes(image_path, yolo_annotation, output_path):\n",
    "    image = cv2.imread(image_path)\n",
    "\n",
    "    with open(yolo_annotation, 'r') as file:\n",
    "        lines = file.readlines()\n",
    "        for line in lines:\n",
    "            elements = line.split()\n",
    "            x_center, y_center, width, height = float(elements[1]), float(elements[2]), float(elements[3]), float(elements[4])\n",
    "\n",
    "            # Convert YOLO format to bounding box coordinates\n",
    "            x_min = int((x_center - width / 2) * image.shape[1])\n",
    "            y_min = int((y_center - height / 2) * image.shape[0])\n",
    "            x_max = int((x_center + width / 2) * image.shape[1])\n",
    "            y_max = int((y_center + height / 2) * image.shape[0])\n",
    "\n",
    "            # Draw bounding box\n",
    "            cv2.rectangle(image, (x_min, y_min), (x_max, y_max), (0, 255, 0), 2)\n",
    "\n",
    "    # Save or display the image\n",
    "    cv2.imwrite(output_path, image)\n",
    "    # cv2.imshow('Image', image)\n",
    "    # cv2.waitKey(0)\n",
    "    # cv2.destroyAllWindows()\n",
    "\n",
    "# Example usage\n",
    "image_path = 'Frames/frame380.jpg'\n",
    "yolo_annotation = 'Annotations/frame380.txt'\n",
    "output_path = 'output1.jpg'\n",
    "\n",
    "draw_bounding_boxes(image_path, yolo_annotation, output_path)\n"
   ]
  },
  {
   "cell_type": "code",
   "execution_count": 9,
   "id": "6f3670c4-130a-4506-920f-b904aa24844f",
   "metadata": {},
   "outputs": [
    {
     "name": "stdout",
     "output_type": "stream",
     "text": [
      "Files and corresponding annotations moved successfully.\n"
     ]
    }
   ],
   "source": [
    "import os\n",
    "import shutil\n",
    "import random\n",
    "\n",
    "def move_files(base_folder, src_subfolder, dest_subfolder, extension, percentage=0.2):\n",
    "    src_folder = os.path.join(base_folder, src_subfolder)\n",
    "    dest_folder = os.path.join(base_folder, dest_subfolder)\n",
    "    files = [file for file in os.listdir(src_folder) if file.endswith(extension)]\n",
    "    num_files_to_move = int(len(files) * percentage)\n",
    "\n",
    "    selected_files = random.sample(files, num_files_to_move)\n",
    "\n",
    "    for file in selected_files:\n",
    "        # Move image file\n",
    "        src_image_path = os.path.join(src_folder, file)\n",
    "        dest_image_path = os.path.join(dest_folder, file)\n",
    "        shutil.move(src_image_path, dest_image_path)\n",
    "\n",
    "        # Move corresponding annotation file\n",
    "        annotation_file = file.replace(extension, '.txt')\n",
    "        src_annotation_path = os.path.join(base_folder.replace('Frames', 'Annotations'), src_subfolder, annotation_file)\n",
    "        dest_annotation_path = os.path.join(base_folder.replace('Frames', 'Annotations'), dest_subfolder, annotation_file)\n",
    "        shutil.move(src_annotation_path, dest_annotation_path)\n",
    "\n",
    "# Directories\n",
    "frame_base_dir = 'Frames'\n",
    "annotations_base_dir = 'Annotations'\n",
    "\n",
    "# Move image and annotation files\n",
    "move_files(frame_base_dir, 'Train', 'Val', '.jpg', percentage=0.2)\n",
    "\n",
    "print(\"Files and corresponding annotations moved successfully.\")\n"
   ]
  },
  {
   "cell_type": "code",
   "execution_count": 1,
   "id": "2cdf1750-e3b6-4e73-9f38-78d1e7e554bd",
   "metadata": {},
   "outputs": [
    {
     "name": "stdout",
     "output_type": "stream",
     "text": [
      "Ultralytics YOLOv8.0.235 🚀 Python-3.9.18 torch-2.1.2+cu118 CUDA:0 (NVIDIA GeForce RTX 2070 SUPER, 8192MiB)\n",
      "\u001b[34m\u001b[1mengine\\trainer: \u001b[0mtask=detect, mode=train, model=yolov8n.pt, data=data.yaml, epochs=50, time=None, patience=50, batch=16, imgsz=640, save=True, save_period=-1, cache=False, device=None, workers=8, project=None, name=train6, exist_ok=False, pretrained=True, optimizer=auto, verbose=True, seed=0, deterministic=True, single_cls=False, rect=False, cos_lr=False, close_mosaic=10, resume=False, amp=True, fraction=1.0, profile=False, freeze=None, multi_scale=False, overlap_mask=True, mask_ratio=4, dropout=0.0, val=True, split=val, save_json=False, save_hybrid=False, conf=None, iou=0.7, max_det=300, half=False, dnn=False, plots=True, source=None, vid_stride=1, stream_buffer=False, visualize=False, augment=False, agnostic_nms=False, classes=None, retina_masks=False, embed=None, show=False, save_frames=False, save_txt=False, save_conf=False, save_crop=False, show_labels=True, show_conf=True, show_boxes=True, line_width=None, format=torchscript, keras=False, optimize=False, int8=False, dynamic=False, simplify=False, opset=None, workspace=4, nms=False, lr0=0.01, lrf=0.01, momentum=0.937, weight_decay=0.0005, warmup_epochs=3.0, warmup_momentum=0.8, warmup_bias_lr=0.1, box=7.5, cls=0.5, dfl=1.5, pose=12.0, kobj=1.0, label_smoothing=0.0, nbs=64, hsv_h=0.015, hsv_s=0.7, hsv_v=0.4, degrees=0.0, translate=0.1, scale=0.5, shear=0.0, perspective=0.0, flipud=0.0, fliplr=0.5, mosaic=1.0, mixup=0.0, copy_paste=0.0, auto_augment=randaugment, erasing=0.4, crop_fraction=1.0, cfg=None, tracker=botsort.yaml, save_dir=runs\\detect\\train6\n",
      "Overriding model.yaml nc=80 with nc=1\n",
      "\n",
      "                   from  n    params  module                                       arguments                     \n",
      "  0                  -1  1       464  ultralytics.nn.modules.conv.Conv             [3, 16, 3, 2]                 \n",
      "  1                  -1  1      4672  ultralytics.nn.modules.conv.Conv             [16, 32, 3, 2]                \n",
      "  2                  -1  1      7360  ultralytics.nn.modules.block.C2f             [32, 32, 1, True]             \n",
      "  3                  -1  1     18560  ultralytics.nn.modules.conv.Conv             [32, 64, 3, 2]                \n",
      "  4                  -1  2     49664  ultralytics.nn.modules.block.C2f             [64, 64, 2, True]             \n",
      "  5                  -1  1     73984  ultralytics.nn.modules.conv.Conv             [64, 128, 3, 2]               \n",
      "  6                  -1  2    197632  ultralytics.nn.modules.block.C2f             [128, 128, 2, True]           \n",
      "  7                  -1  1    295424  ultralytics.nn.modules.conv.Conv             [128, 256, 3, 2]              \n",
      "  8                  -1  1    460288  ultralytics.nn.modules.block.C2f             [256, 256, 1, True]           \n",
      "  9                  -1  1    164608  ultralytics.nn.modules.block.SPPF            [256, 256, 5]                 \n",
      " 10                  -1  1         0  torch.nn.modules.upsampling.Upsample         [None, 2, 'nearest']          \n",
      " 11             [-1, 6]  1         0  ultralytics.nn.modules.conv.Concat           [1]                           \n",
      " 12                  -1  1    148224  ultralytics.nn.modules.block.C2f             [384, 128, 1]                 \n",
      " 13                  -1  1         0  torch.nn.modules.upsampling.Upsample         [None, 2, 'nearest']          \n",
      " 14             [-1, 4]  1         0  ultralytics.nn.modules.conv.Concat           [1]                           \n",
      " 15                  -1  1     37248  ultralytics.nn.modules.block.C2f             [192, 64, 1]                  \n",
      " 16                  -1  1     36992  ultralytics.nn.modules.conv.Conv             [64, 64, 3, 2]                \n",
      " 17            [-1, 12]  1         0  ultralytics.nn.modules.conv.Concat           [1]                           \n",
      " 18                  -1  1    123648  ultralytics.nn.modules.block.C2f             [192, 128, 1]                 \n",
      " 19                  -1  1    147712  ultralytics.nn.modules.conv.Conv             [128, 128, 3, 2]              \n",
      " 20             [-1, 9]  1         0  ultralytics.nn.modules.conv.Concat           [1]                           \n",
      " 21                  -1  1    493056  ultralytics.nn.modules.block.C2f             [384, 256, 1]                 \n",
      " 22        [15, 18, 21]  1    751507  ultralytics.nn.modules.head.Detect           [1, [64, 128, 256]]           \n",
      "Model summary: 225 layers, 3011043 parameters, 3011027 gradients, 8.2 GFLOPs\n",
      "\n",
      "Transferred 319/355 items from pretrained weights\n",
      "\u001b[34m\u001b[1mTensorBoard: \u001b[0mStart with 'tensorboard --logdir runs\\detect\\train6', view at http://localhost:6006/\n",
      "Freezing layer 'model.22.dfl.conv.weight'\n",
      "\u001b[34m\u001b[1mAMP: \u001b[0mrunning Automatic Mixed Precision (AMP) checks with YOLOv8n...\n",
      "\u001b[34m\u001b[1mAMP: \u001b[0mchecks passed ✅\n"
     ]
    },
    {
     "name": "stderr",
     "output_type": "stream",
     "text": [
      "\u001b[34m\u001b[1mtrain: \u001b[0mScanning C:\\Users\\Alexkoh\\Desktop\\Footfallcam\\Frames\\Train.cache... 40 images, 0 backgrounds, 0 corrupt: 100%|██\u001b[0m\n",
      "\u001b[34m\u001b[1mval: \u001b[0mScanning C:\\Users\\Alexkoh\\Desktop\\Footfallcam\\Frames\\Val.cache... 10 images, 0 backgrounds, 0 corrupt: 100%|██████\u001b[0m\n"
     ]
    },
    {
     "name": "stdout",
     "output_type": "stream",
     "text": [
      "Plotting labels to runs\\detect\\train6\\labels.jpg... \n",
      "\u001b[34m\u001b[1moptimizer:\u001b[0m 'optimizer=auto' found, ignoring 'lr0=0.01' and 'momentum=0.937' and determining best 'optimizer', 'lr0' and 'momentum' automatically... \n",
      "\u001b[34m\u001b[1moptimizer:\u001b[0m AdamW(lr=0.002, momentum=0.9) with parameter groups 57 weight(decay=0.0), 64 weight(decay=0.0005), 63 bias(decay=0.0)\n",
      "\u001b[34m\u001b[1mMLflow: \u001b[0mlogging run_id(fba8522264644c44b5e9a2510ef8b3fd) to runs\\mlflow\n",
      "\u001b[34m\u001b[1mMLflow: \u001b[0mview at http://127.0.0.1:5000 with 'mlflow server --backend-store-uri runs\\mlflow'\n",
      "\u001b[34m\u001b[1mMLflow: \u001b[0mdisable with 'yolo settings mlflow=False'\n",
      "50 epochs...\n",
      "\n",
      "      Epoch    GPU_mem   box_loss   cls_loss   dfl_loss  Instances       Size\n"
     ]
    },
    {
     "name": "stderr",
     "output_type": "stream",
     "text": [
      "       1/50      2.26G      4.305      30.47      2.117         16        640: 100%|██████████| 3/3 [00:00<00:00,  3.33\n",
      "                 Class     Images  Instances      Box(P          R      mAP50  mAP50-95): 100%|██████████| 1/1 [00:00<0"
     ]
    },
    {
     "name": "stdout",
     "output_type": "stream",
     "text": [
      "                   all         10         10          0          0          0          0\n"
     ]
    },
    {
     "name": "stderr",
     "output_type": "stream",
     "text": [
      "\n"
     ]
    },
    {
     "name": "stdout",
     "output_type": "stream",
     "text": [
      "\n",
      "      Epoch    GPU_mem   box_loss   cls_loss   dfl_loss  Instances       Size\n"
     ]
    },
    {
     "name": "stderr",
     "output_type": "stream",
     "text": [
      "       2/50      2.23G      4.595      38.97      2.359         16        640: 100%|██████████| 3/3 [00:00<00:00,  9.71\n",
      "                 Class     Images  Instances      Box(P          R      mAP50  mAP50-95): 100%|██████████| 1/1 [00:00<0"
     ]
    },
    {
     "name": "stdout",
     "output_type": "stream",
     "text": [
      "                   all         10         10          0          0          0          0\n"
     ]
    },
    {
     "name": "stderr",
     "output_type": "stream",
     "text": [
      "\n"
     ]
    },
    {
     "name": "stdout",
     "output_type": "stream",
     "text": [
      "\n",
      "      Epoch    GPU_mem   box_loss   cls_loss   dfl_loss  Instances       Size\n"
     ]
    },
    {
     "name": "stderr",
     "output_type": "stream",
     "text": [
      "       3/50      2.24G      4.645      25.55      2.131         12        640: 100%|██████████| 3/3 [00:00<00:00,  9.35\n",
      "                 Class     Images  Instances      Box(P          R      mAP50  mAP50-95): 100%|██████████| 1/1 [00:00<0"
     ]
    },
    {
     "name": "stdout",
     "output_type": "stream",
     "text": [
      "                   all         10         10          0          0          0          0\n"
     ]
    },
    {
     "name": "stderr",
     "output_type": "stream",
     "text": [
      "\n"
     ]
    },
    {
     "name": "stdout",
     "output_type": "stream",
     "text": [
      "\n",
      "      Epoch    GPU_mem   box_loss   cls_loss   dfl_loss  Instances       Size\n"
     ]
    },
    {
     "name": "stderr",
     "output_type": "stream",
     "text": [
      "       4/50      2.25G      4.291       41.8       2.02         11        640: 100%|██████████| 3/3 [00:00<00:00,  9.84\n",
      "                 Class     Images  Instances      Box(P          R      mAP50  mAP50-95): 100%|██████████| 1/1 [00:00<0"
     ]
    },
    {
     "name": "stdout",
     "output_type": "stream",
     "text": [
      "                   all         10         10          0          0          0          0\n"
     ]
    },
    {
     "name": "stderr",
     "output_type": "stream",
     "text": [
      "\n"
     ]
    },
    {
     "name": "stdout",
     "output_type": "stream",
     "text": [
      "\n",
      "      Epoch    GPU_mem   box_loss   cls_loss   dfl_loss  Instances       Size\n"
     ]
    },
    {
     "name": "stderr",
     "output_type": "stream",
     "text": [
      "       5/50      2.25G      3.073       11.8       1.33         13        640: 100%|██████████| 3/3 [00:00<00:00,  9.55\n",
      "                 Class     Images  Instances      Box(P          R      mAP50  mAP50-95): 100%|██████████| 1/1 [00:00<0"
     ]
    },
    {
     "name": "stdout",
     "output_type": "stream",
     "text": [
      "                   all         10         10   0.000333        0.1    0.00023   0.000138\n"
     ]
    },
    {
     "name": "stderr",
     "output_type": "stream",
     "text": [
      "\n"
     ]
    },
    {
     "name": "stdout",
     "output_type": "stream",
     "text": [
      "\n",
      "      Epoch    GPU_mem   box_loss   cls_loss   dfl_loss  Instances       Size\n"
     ]
    },
    {
     "name": "stderr",
     "output_type": "stream",
     "text": [
      "       6/50      2.25G      2.154      6.221      1.007         14        640: 100%|██████████| 3/3 [00:00<00:00, 10.17\n",
      "                 Class     Images  Instances      Box(P          R      mAP50  mAP50-95): 100%|██████████| 1/1 [00:00<0"
     ]
    },
    {
     "name": "stdout",
     "output_type": "stream",
     "text": [
      "                   all         10         10   0.000333        0.1   0.000236   4.72e-05\n"
     ]
    },
    {
     "name": "stderr",
     "output_type": "stream",
     "text": [
      "\n"
     ]
    },
    {
     "name": "stdout",
     "output_type": "stream",
     "text": [
      "\n",
      "      Epoch    GPU_mem   box_loss   cls_loss   dfl_loss  Instances       Size\n"
     ]
    },
    {
     "name": "stderr",
     "output_type": "stream",
     "text": [
      "       7/50      2.26G      2.123      5.536     0.9494         12        640: 100%|██████████| 3/3 [00:00<00:00, 10.00\n",
      "                 Class     Images  Instances      Box(P          R      mAP50  mAP50-95): 100%|██████████| 1/1 [00:00<0"
     ]
    },
    {
     "name": "stdout",
     "output_type": "stream",
     "text": [
      "                   all         10         10   0.000333        0.1   0.000231   4.62e-05\n"
     ]
    },
    {
     "name": "stderr",
     "output_type": "stream",
     "text": [
      "\n"
     ]
    },
    {
     "name": "stdout",
     "output_type": "stream",
     "text": [
      "\n",
      "      Epoch    GPU_mem   box_loss   cls_loss   dfl_loss  Instances       Size\n"
     ]
    },
    {
     "name": "stderr",
     "output_type": "stream",
     "text": [
      "       8/50      2.25G      2.067      4.644     0.9666         19        640: 100%|██████████| 3/3 [00:00<00:00, 10.53\n",
      "                 Class     Images  Instances      Box(P          R      mAP50  mAP50-95): 100%|██████████| 1/1 [00:00<0"
     ]
    },
    {
     "name": "stdout",
     "output_type": "stream",
     "text": [
      "                   all         10         10   0.000333        0.1   0.000229   4.59e-05\n"
     ]
    },
    {
     "name": "stderr",
     "output_type": "stream",
     "text": [
      "\n"
     ]
    },
    {
     "name": "stdout",
     "output_type": "stream",
     "text": [
      "\n",
      "      Epoch    GPU_mem   box_loss   cls_loss   dfl_loss  Instances       Size\n"
     ]
    },
    {
     "name": "stderr",
     "output_type": "stream",
     "text": [
      "       9/50      2.26G      1.721      4.296     0.8787         13        640: 100%|██████████| 3/3 [00:00<00:00, 10.10\n",
      "                 Class     Images  Instances      Box(P          R      mAP50  mAP50-95): 100%|██████████| 1/1 [00:00<0"
     ]
    },
    {
     "name": "stdout",
     "output_type": "stream",
     "text": [
      "                   all         10         10   0.000333        0.1   0.000229   4.59e-05\n"
     ]
    },
    {
     "name": "stderr",
     "output_type": "stream",
     "text": [
      "\n"
     ]
    },
    {
     "name": "stdout",
     "output_type": "stream",
     "text": [
      "\n",
      "      Epoch    GPU_mem   box_loss   cls_loss   dfl_loss  Instances       Size\n"
     ]
    },
    {
     "name": "stderr",
     "output_type": "stream",
     "text": [
      "      10/50      2.25G      1.889      4.723     0.8737         12        640: 100%|██████████| 3/3 [00:00<00:00, 10.38\n",
      "                 Class     Images  Instances      Box(P          R      mAP50  mAP50-95): 100%|██████████| 1/1 [00:00<0"
     ]
    },
    {
     "name": "stdout",
     "output_type": "stream",
     "text": [
      "                   all         10         10   0.000333        0.1   0.000229   4.59e-05\n"
     ]
    },
    {
     "name": "stderr",
     "output_type": "stream",
     "text": [
      "\n"
     ]
    },
    {
     "name": "stdout",
     "output_type": "stream",
     "text": [
      "\n",
      "      Epoch    GPU_mem   box_loss   cls_loss   dfl_loss  Instances       Size\n"
     ]
    },
    {
     "name": "stderr",
     "output_type": "stream",
     "text": [
      "      11/50      2.26G      2.002      4.477     0.8999         12        640: 100%|██████████| 3/3 [00:00<00:00,  9.90\n",
      "                 Class     Images  Instances      Box(P          R      mAP50  mAP50-95): 100%|██████████| 1/1 [00:00<0"
     ]
    },
    {
     "name": "stdout",
     "output_type": "stream",
     "text": [
      "                   all         10         10   0.000333        0.1   0.000229   4.59e-05\n"
     ]
    },
    {
     "name": "stderr",
     "output_type": "stream",
     "text": [
      "\n"
     ]
    },
    {
     "name": "stdout",
     "output_type": "stream",
     "text": [
      "\n",
      "      Epoch    GPU_mem   box_loss   cls_loss   dfl_loss  Instances       Size\n"
     ]
    },
    {
     "name": "stderr",
     "output_type": "stream",
     "text": [
      "      12/50      2.25G      1.834      5.031     0.9143          9        640: 100%|██████████| 3/3 [00:00<00:00, 10.71\n",
      "                 Class     Images  Instances      Box(P          R      mAP50  mAP50-95): 100%|██████████| 1/1 [00:00<0"
     ]
    },
    {
     "name": "stdout",
     "output_type": "stream",
     "text": [
      "                   all         10         10   0.000333        0.1   0.000229   4.59e-05\n"
     ]
    },
    {
     "name": "stderr",
     "output_type": "stream",
     "text": [
      "\n"
     ]
    },
    {
     "name": "stdout",
     "output_type": "stream",
     "text": [
      "\n",
      "      Epoch    GPU_mem   box_loss   cls_loss   dfl_loss  Instances       Size\n"
     ]
    },
    {
     "name": "stderr",
     "output_type": "stream",
     "text": [
      "      13/50      2.26G      1.618      3.895     0.8922          8        640: 100%|██████████| 3/3 [00:00<00:00, 10.20\n",
      "                 Class     Images  Instances      Box(P          R      mAP50  mAP50-95): 100%|██████████| 1/1 [00:00<0"
     ]
    },
    {
     "name": "stdout",
     "output_type": "stream",
     "text": [
      "                   all         10         10   0.000333        0.1   0.000229   4.59e-05\n"
     ]
    },
    {
     "name": "stderr",
     "output_type": "stream",
     "text": [
      "\n"
     ]
    },
    {
     "name": "stdout",
     "output_type": "stream",
     "text": [
      "\n",
      "      Epoch    GPU_mem   box_loss   cls_loss   dfl_loss  Instances       Size\n"
     ]
    },
    {
     "name": "stderr",
     "output_type": "stream",
     "text": [
      "      14/50      2.25G      1.813      3.752     0.8662         13        640: 100%|██████████| 3/3 [00:00<00:00, 10.79\n",
      "                 Class     Images  Instances      Box(P          R      mAP50  mAP50-95): 100%|██████████| 1/1 [00:00<0"
     ]
    },
    {
     "name": "stdout",
     "output_type": "stream",
     "text": [
      "                   all         10         10   0.000333        0.1   0.000229   4.59e-05\n"
     ]
    },
    {
     "name": "stderr",
     "output_type": "stream",
     "text": [
      "\n"
     ]
    },
    {
     "name": "stdout",
     "output_type": "stream",
     "text": [
      "\n",
      "      Epoch    GPU_mem   box_loss   cls_loss   dfl_loss  Instances       Size\n"
     ]
    },
    {
     "name": "stderr",
     "output_type": "stream",
     "text": [
      "      15/50      2.26G      1.654      3.268     0.8735         11        640: 100%|██████████| 3/3 [00:00<00:00, 10.17\n",
      "                 Class     Images  Instances      Box(P          R      mAP50  mAP50-95): 100%|██████████| 1/1 [00:00<0"
     ]
    },
    {
     "name": "stdout",
     "output_type": "stream",
     "text": [
      "                   all         10         10   0.000333        0.1   0.000229   4.59e-05\n"
     ]
    },
    {
     "name": "stderr",
     "output_type": "stream",
     "text": [
      "\n"
     ]
    },
    {
     "name": "stdout",
     "output_type": "stream",
     "text": [
      "\n",
      "      Epoch    GPU_mem   box_loss   cls_loss   dfl_loss  Instances       Size\n"
     ]
    },
    {
     "name": "stderr",
     "output_type": "stream",
     "text": [
      "      16/50      2.25G      1.864      2.916     0.9481         12        640: 100%|██████████| 3/3 [00:00<00:00, 10.75\n",
      "                 Class     Images  Instances      Box(P          R      mAP50  mAP50-95): 100%|██████████| 1/1 [00:00<0"
     ]
    },
    {
     "name": "stdout",
     "output_type": "stream",
     "text": [
      "                   all         10         10   0.000333        0.1   0.000229   4.59e-05\n"
     ]
    },
    {
     "name": "stderr",
     "output_type": "stream",
     "text": [
      "\n"
     ]
    },
    {
     "name": "stdout",
     "output_type": "stream",
     "text": [
      "\n",
      "      Epoch    GPU_mem   box_loss   cls_loss   dfl_loss  Instances       Size\n"
     ]
    },
    {
     "name": "stderr",
     "output_type": "stream",
     "text": [
      "      17/50      2.26G      1.687      3.016     0.9095         21        640: 100%|██████████| 3/3 [00:00<00:00, 10.34\n",
      "                 Class     Images  Instances      Box(P          R      mAP50  mAP50-95): 100%|██████████| 1/1 [00:00<0"
     ]
    },
    {
     "name": "stdout",
     "output_type": "stream",
     "text": [
      "                   all         10         10   0.000333        0.1   0.000229   4.59e-05\n"
     ]
    },
    {
     "name": "stderr",
     "output_type": "stream",
     "text": [
      "\n"
     ]
    },
    {
     "name": "stdout",
     "output_type": "stream",
     "text": [
      "\n",
      "      Epoch    GPU_mem   box_loss   cls_loss   dfl_loss  Instances       Size\n"
     ]
    },
    {
     "name": "stderr",
     "output_type": "stream",
     "text": [
      "      18/50      2.26G       1.83      3.157     0.8902         12        640: 100%|██████████| 3/3 [00:00<00:00, 10.75\n",
      "                 Class     Images  Instances      Box(P          R      mAP50  mAP50-95): 100%|██████████| 1/1 [00:00<0"
     ]
    },
    {
     "name": "stdout",
     "output_type": "stream",
     "text": [
      "                   all         10         10   0.000333        0.1   0.000229   4.59e-05\n"
     ]
    },
    {
     "name": "stderr",
     "output_type": "stream",
     "text": [
      "\n"
     ]
    },
    {
     "name": "stdout",
     "output_type": "stream",
     "text": [
      "\n",
      "      Epoch    GPU_mem   box_loss   cls_loss   dfl_loss  Instances       Size\n"
     ]
    },
    {
     "name": "stderr",
     "output_type": "stream",
     "text": [
      "      19/50      2.26G      1.836      3.335     0.9184          7        640: 100%|██████████| 3/3 [00:00<00:00, 10.75\n",
      "                 Class     Images  Instances      Box(P          R      mAP50  mAP50-95): 100%|██████████| 1/1 [00:00<0"
     ]
    },
    {
     "name": "stdout",
     "output_type": "stream",
     "text": [
      "                   all         10         10   0.000333        0.1   0.000229   4.59e-05\n"
     ]
    },
    {
     "name": "stderr",
     "output_type": "stream",
     "text": [
      "\n"
     ]
    },
    {
     "name": "stdout",
     "output_type": "stream",
     "text": [
      "\n",
      "      Epoch    GPU_mem   box_loss   cls_loss   dfl_loss  Instances       Size\n"
     ]
    },
    {
     "name": "stderr",
     "output_type": "stream",
     "text": [
      "      20/50      2.26G      1.866      3.099     0.8673         17        640: 100%|██████████| 3/3 [00:00<00:00, 10.75\n",
      "                 Class     Images  Instances      Box(P          R      mAP50  mAP50-95): 100%|██████████| 1/1 [00:00<0"
     ]
    },
    {
     "name": "stdout",
     "output_type": "stream",
     "text": [
      "                   all         10         10   0.000333        0.1   0.000229   4.59e-05\n"
     ]
    },
    {
     "name": "stderr",
     "output_type": "stream",
     "text": [
      "\n"
     ]
    },
    {
     "name": "stdout",
     "output_type": "stream",
     "text": [
      "\n",
      "      Epoch    GPU_mem   box_loss   cls_loss   dfl_loss  Instances       Size\n"
     ]
    },
    {
     "name": "stderr",
     "output_type": "stream",
     "text": [
      "      21/50      2.26G      1.941       3.05     0.8931          8        640: 100%|██████████| 3/3 [00:00<00:00, 10.53\n",
      "                 Class     Images  Instances      Box(P          R      mAP50  mAP50-95): 100%|██████████| 1/1 [00:00<0"
     ]
    },
    {
     "name": "stdout",
     "output_type": "stream",
     "text": [
      "                   all         10         10   0.000333        0.1   0.000229   4.59e-05\n"
     ]
    },
    {
     "name": "stderr",
     "output_type": "stream",
     "text": [
      "\n"
     ]
    },
    {
     "name": "stdout",
     "output_type": "stream",
     "text": [
      "\n",
      "      Epoch    GPU_mem   box_loss   cls_loss   dfl_loss  Instances       Size\n"
     ]
    },
    {
     "name": "stderr",
     "output_type": "stream",
     "text": [
      "      22/50      2.26G      1.779      3.358     0.8917          8        640: 100%|██████████| 3/3 [00:00<00:00, 10.53\n",
      "                 Class     Images  Instances      Box(P          R      mAP50  mAP50-95): 100%|██████████| 1/1 [00:00<0"
     ]
    },
    {
     "name": "stdout",
     "output_type": "stream",
     "text": [
      "                   all         10         10   0.000333        0.1   0.000229   4.59e-05\n"
     ]
    },
    {
     "name": "stderr",
     "output_type": "stream",
     "text": [
      "\n"
     ]
    },
    {
     "name": "stdout",
     "output_type": "stream",
     "text": [
      "\n",
      "      Epoch    GPU_mem   box_loss   cls_loss   dfl_loss  Instances       Size\n"
     ]
    },
    {
     "name": "stderr",
     "output_type": "stream",
     "text": [
      "      23/50      2.26G       1.61       2.66     0.8649         12        640: 100%|██████████| 3/3 [00:00<00:00, 10.68\n",
      "                 Class     Images  Instances      Box(P          R      mAP50  mAP50-95): 100%|██████████| 1/1 [00:00<0"
     ]
    },
    {
     "name": "stdout",
     "output_type": "stream",
     "text": [
      "                   all         10         10   0.000333        0.1   0.000229   4.59e-05\n"
     ]
    },
    {
     "name": "stderr",
     "output_type": "stream",
     "text": [
      "\n"
     ]
    },
    {
     "name": "stdout",
     "output_type": "stream",
     "text": [
      "\n",
      "      Epoch    GPU_mem   box_loss   cls_loss   dfl_loss  Instances       Size\n"
     ]
    },
    {
     "name": "stderr",
     "output_type": "stream",
     "text": [
      "      24/50      2.26G      1.702      2.978     0.8751         11        640: 100%|██████████| 3/3 [00:00<00:00, 10.60\n",
      "                 Class     Images  Instances      Box(P          R      mAP50  mAP50-95): 100%|██████████| 1/1 [00:00<0"
     ]
    },
    {
     "name": "stdout",
     "output_type": "stream",
     "text": [
      "                   all         10         10   0.000333        0.1   0.000229   4.59e-05\n"
     ]
    },
    {
     "name": "stderr",
     "output_type": "stream",
     "text": [
      "\n"
     ]
    },
    {
     "name": "stdout",
     "output_type": "stream",
     "text": [
      "\n",
      "      Epoch    GPU_mem   box_loss   cls_loss   dfl_loss  Instances       Size\n"
     ]
    },
    {
     "name": "stderr",
     "output_type": "stream",
     "text": [
      "      25/50      2.26G      1.799      2.762     0.8698         15        640: 100%|██████████| 3/3 [00:00<00:00, 10.60\n",
      "                 Class     Images  Instances      Box(P          R      mAP50  mAP50-95): 100%|██████████| 1/1 [00:00<0"
     ]
    },
    {
     "name": "stdout",
     "output_type": "stream",
     "text": [
      "                   all         10         10   0.000333        0.1   0.000229   4.59e-05\n"
     ]
    },
    {
     "name": "stderr",
     "output_type": "stream",
     "text": [
      "\n"
     ]
    },
    {
     "name": "stdout",
     "output_type": "stream",
     "text": [
      "\n",
      "      Epoch    GPU_mem   box_loss   cls_loss   dfl_loss  Instances       Size\n"
     ]
    },
    {
     "name": "stderr",
     "output_type": "stream",
     "text": [
      "      26/50      2.26G      1.738      2.832     0.8676         14        640: 100%|██████████| 3/3 [00:00<00:00, 10.42\n",
      "                 Class     Images  Instances      Box(P          R      mAP50  mAP50-95): 100%|██████████| 1/1 [00:00<0"
     ]
    },
    {
     "name": "stdout",
     "output_type": "stream",
     "text": [
      "                   all         10         10   0.000333        0.1   0.000229   4.59e-05\n"
     ]
    },
    {
     "name": "stderr",
     "output_type": "stream",
     "text": [
      "\n"
     ]
    },
    {
     "name": "stdout",
     "output_type": "stream",
     "text": [
      "\n",
      "      Epoch    GPU_mem   box_loss   cls_loss   dfl_loss  Instances       Size\n"
     ]
    },
    {
     "name": "stderr",
     "output_type": "stream",
     "text": [
      "      27/50      2.26G      1.758      2.614     0.9155         13        640: 100%|██████████| 3/3 [00:00<00:00, 10.31\n",
      "                 Class     Images  Instances      Box(P          R      mAP50  mAP50-95): 100%|██████████| 1/1 [00:00<0"
     ]
    },
    {
     "name": "stdout",
     "output_type": "stream",
     "text": [
      "                   all         10         10   0.000333        0.1   0.000229   4.59e-05\n"
     ]
    },
    {
     "name": "stderr",
     "output_type": "stream",
     "text": [
      "\n"
     ]
    },
    {
     "name": "stdout",
     "output_type": "stream",
     "text": [
      "\n",
      "      Epoch    GPU_mem   box_loss   cls_loss   dfl_loss  Instances       Size\n"
     ]
    },
    {
     "name": "stderr",
     "output_type": "stream",
     "text": [
      "      28/50      2.26G      1.647      2.667     0.8969         11        640: 100%|██████████| 3/3 [00:00<00:00, 10.42\n",
      "                 Class     Images  Instances      Box(P          R      mAP50  mAP50-95): 100%|██████████| 1/1 [00:00<0"
     ]
    },
    {
     "name": "stdout",
     "output_type": "stream",
     "text": [
      "                   all         10         10   0.000333        0.1   0.000229   4.59e-05\n"
     ]
    },
    {
     "name": "stderr",
     "output_type": "stream",
     "text": [
      "\n"
     ]
    },
    {
     "name": "stdout",
     "output_type": "stream",
     "text": [
      "\n",
      "      Epoch    GPU_mem   box_loss   cls_loss   dfl_loss  Instances       Size\n"
     ]
    },
    {
     "name": "stderr",
     "output_type": "stream",
     "text": [
      "      29/50      2.26G      1.649      3.074      0.864         10        640: 100%|██████████| 3/3 [00:00<00:00, 11.11\n",
      "                 Class     Images  Instances      Box(P          R      mAP50  mAP50-95): 100%|██████████| 1/1 [00:00<0"
     ]
    },
    {
     "name": "stdout",
     "output_type": "stream",
     "text": [
      "                   all         10         10   0.000333        0.1   0.000229   4.59e-05\n"
     ]
    },
    {
     "name": "stderr",
     "output_type": "stream",
     "text": [
      "\n"
     ]
    },
    {
     "name": "stdout",
     "output_type": "stream",
     "text": [
      "\n",
      "      Epoch    GPU_mem   box_loss   cls_loss   dfl_loss  Instances       Size\n"
     ]
    },
    {
     "name": "stderr",
     "output_type": "stream",
     "text": [
      "      30/50      2.26G      1.605      3.272     0.8486         10        640: 100%|██████████| 3/3 [00:00<00:00, 10.68\n",
      "                 Class     Images  Instances      Box(P          R      mAP50  mAP50-95): 100%|██████████| 1/1 [00:00<0"
     ]
    },
    {
     "name": "stdout",
     "output_type": "stream",
     "text": [
      "                   all         10         10   0.000333        0.1   0.000229   4.59e-05\n"
     ]
    },
    {
     "name": "stderr",
     "output_type": "stream",
     "text": [
      "\n"
     ]
    },
    {
     "name": "stdout",
     "output_type": "stream",
     "text": [
      "\n",
      "      Epoch    GPU_mem   box_loss   cls_loss   dfl_loss  Instances       Size\n"
     ]
    },
    {
     "name": "stderr",
     "output_type": "stream",
     "text": [
      "      31/50      2.25G      1.543      2.385     0.8779         15        640: 100%|██████████| 3/3 [00:00<00:00, 10.60\n",
      "                 Class     Images  Instances      Box(P          R      mAP50  mAP50-95): 100%|██████████| 1/1 [00:00<0"
     ]
    },
    {
     "name": "stdout",
     "output_type": "stream",
     "text": [
      "                   all         10         10   0.000333        0.1   0.000229   4.59e-05\n"
     ]
    },
    {
     "name": "stderr",
     "output_type": "stream",
     "text": [
      "\n"
     ]
    },
    {
     "name": "stdout",
     "output_type": "stream",
     "text": [
      "\n",
      "      Epoch    GPU_mem   box_loss   cls_loss   dfl_loss  Instances       Size\n"
     ]
    },
    {
     "name": "stderr",
     "output_type": "stream",
     "text": [
      "      32/50      2.26G      1.519      2.632     0.8718         15        640: 100%|██████████| 3/3 [00:00<00:00, 10.75\n",
      "                 Class     Images  Instances      Box(P          R      mAP50  mAP50-95): 100%|██████████| 1/1 [00:00<0"
     ]
    },
    {
     "name": "stdout",
     "output_type": "stream",
     "text": [
      "                   all         10         10   0.000333        0.1   0.000229   4.59e-05\n"
     ]
    },
    {
     "name": "stderr",
     "output_type": "stream",
     "text": [
      "\n"
     ]
    },
    {
     "name": "stdout",
     "output_type": "stream",
     "text": [
      "\n",
      "      Epoch    GPU_mem   box_loss   cls_loss   dfl_loss  Instances       Size\n"
     ]
    },
    {
     "name": "stderr",
     "output_type": "stream",
     "text": [
      "      33/50      2.26G      1.645      2.698     0.9074         18        640: 100%|██████████| 3/3 [00:00<00:00, 11.24\n",
      "                 Class     Images  Instances      Box(P          R      mAP50  mAP50-95): 100%|██████████| 1/1 [00:00<0"
     ]
    },
    {
     "name": "stdout",
     "output_type": "stream",
     "text": [
      "                   all         10         10   0.000333        0.1   0.000229   4.59e-05\n"
     ]
    },
    {
     "name": "stderr",
     "output_type": "stream",
     "text": [
      "\n"
     ]
    },
    {
     "name": "stdout",
     "output_type": "stream",
     "text": [
      "\n",
      "      Epoch    GPU_mem   box_loss   cls_loss   dfl_loss  Instances       Size\n"
     ]
    },
    {
     "name": "stderr",
     "output_type": "stream",
     "text": [
      "      34/50      2.26G       1.43       2.71      0.836          9        640: 100%|██████████| 3/3 [00:00<00:00, 10.71\n",
      "                 Class     Images  Instances      Box(P          R      mAP50  mAP50-95): 100%|██████████| 1/1 [00:00<0\n"
     ]
    },
    {
     "name": "stdout",
     "output_type": "stream",
     "text": [
      "                   all         10         10   0.000333        0.1   0.000229   4.59e-05\n",
      "\n",
      "      Epoch    GPU_mem   box_loss   cls_loss   dfl_loss  Instances       Size\n"
     ]
    },
    {
     "name": "stderr",
     "output_type": "stream",
     "text": [
      "      35/50      2.25G      1.543      2.532     0.8806          6        640: 100%|██████████| 3/3 [00:00<00:00, 10.53\n",
      "                 Class     Images  Instances      Box(P          R      mAP50  mAP50-95): 100%|██████████| 1/1 [00:00<0"
     ]
    },
    {
     "name": "stdout",
     "output_type": "stream",
     "text": [
      "                   all         10         10   0.000333        0.1   0.000229   4.59e-05\n"
     ]
    },
    {
     "name": "stderr",
     "output_type": "stream",
     "text": [
      "\n"
     ]
    },
    {
     "name": "stdout",
     "output_type": "stream",
     "text": [
      "\n",
      "      Epoch    GPU_mem   box_loss   cls_loss   dfl_loss  Instances       Size\n"
     ]
    },
    {
     "name": "stderr",
     "output_type": "stream",
     "text": [
      "      36/50      2.26G      1.699      2.559     0.8871         10        640: 100%|██████████| 3/3 [00:00<00:00, 10.79\n",
      "                 Class     Images  Instances      Box(P          R      mAP50  mAP50-95): 100%|██████████| 1/1 [00:00<0"
     ]
    },
    {
     "name": "stdout",
     "output_type": "stream",
     "text": [
      "                   all         10         10   0.000333        0.1   0.000229   4.59e-05\n"
     ]
    },
    {
     "name": "stderr",
     "output_type": "stream",
     "text": [
      "\n"
     ]
    },
    {
     "name": "stdout",
     "output_type": "stream",
     "text": [
      "\n",
      "      Epoch    GPU_mem   box_loss   cls_loss   dfl_loss  Instances       Size\n"
     ]
    },
    {
     "name": "stderr",
     "output_type": "stream",
     "text": [
      "      37/50      2.26G      1.693      2.475     0.9081          7        640: 100%|██████████| 3/3 [00:00<00:00, 11.28\n",
      "                 Class     Images  Instances      Box(P          R      mAP50  mAP50-95): 100%|██████████| 1/1 [00:00<0\n"
     ]
    },
    {
     "name": "stdout",
     "output_type": "stream",
     "text": [
      "                   all         10         10   0.000333        0.1   0.000229   4.59e-05\n",
      "\n",
      "      Epoch    GPU_mem   box_loss   cls_loss   dfl_loss  Instances       Size\n"
     ]
    },
    {
     "name": "stderr",
     "output_type": "stream",
     "text": [
      "      38/50      2.26G       1.71      2.804     0.8611         13        640: 100%|██████████| 3/3 [00:00<00:00, 10.79\n",
      "                 Class     Images  Instances      Box(P          R      mAP50  mAP50-95): 100%|██████████| 1/1 [00:00<0"
     ]
    },
    {
     "name": "stdout",
     "output_type": "stream",
     "text": [
      "                   all         10         10   0.000333        0.1   0.000229   4.59e-05\n"
     ]
    },
    {
     "name": "stderr",
     "output_type": "stream",
     "text": [
      "\n"
     ]
    },
    {
     "name": "stdout",
     "output_type": "stream",
     "text": [
      "\n",
      "      Epoch    GPU_mem   box_loss   cls_loss   dfl_loss  Instances       Size\n"
     ]
    },
    {
     "name": "stderr",
     "output_type": "stream",
     "text": [
      "      39/50      2.25G      1.521      2.431     0.8534         12        640: 100%|██████████| 3/3 [00:00<00:00, 10.60\n",
      "                 Class     Images  Instances      Box(P          R      mAP50  mAP50-95): 100%|██████████| 1/1 [00:00<0"
     ]
    },
    {
     "name": "stdout",
     "output_type": "stream",
     "text": [
      "                   all         10         10   0.000333        0.1   0.000229   4.59e-05\n"
     ]
    },
    {
     "name": "stderr",
     "output_type": "stream",
     "text": [
      "\n"
     ]
    },
    {
     "name": "stdout",
     "output_type": "stream",
     "text": [
      "\n",
      "      Epoch    GPU_mem   box_loss   cls_loss   dfl_loss  Instances       Size\n"
     ]
    },
    {
     "name": "stderr",
     "output_type": "stream",
     "text": [
      "      40/50      2.26G      1.609      2.613     0.8888         11        640: 100%|██████████| 3/3 [00:00<00:00, 10.79\n",
      "                 Class     Images  Instances      Box(P          R      mAP50  mAP50-95): 100%|██████████| 1/1 [00:00<0"
     ]
    },
    {
     "name": "stdout",
     "output_type": "stream",
     "text": [
      "                   all         10         10   0.000333        0.1   0.000229   4.59e-05\n"
     ]
    },
    {
     "name": "stderr",
     "output_type": "stream",
     "text": [
      "\n"
     ]
    },
    {
     "name": "stdout",
     "output_type": "stream",
     "text": [
      "Closing dataloader mosaic\n",
      "\n",
      "      Epoch    GPU_mem   box_loss   cls_loss   dfl_loss  Instances       Size\n"
     ]
    },
    {
     "name": "stderr",
     "output_type": "stream",
     "text": [
      "      41/50      2.26G      1.458      2.915     0.8475          8        640: 100%|██████████| 3/3 [00:03<00:00,  1.02\n",
      "                 Class     Images  Instances      Box(P          R      mAP50  mAP50-95): 100%|██████████| 1/1 [00:00<0"
     ]
    },
    {
     "name": "stdout",
     "output_type": "stream",
     "text": [
      "                   all         10         10   0.000333        0.1   0.000229   4.59e-05\n"
     ]
    },
    {
     "name": "stderr",
     "output_type": "stream",
     "text": [
      "\n"
     ]
    },
    {
     "name": "stdout",
     "output_type": "stream",
     "text": [
      "\n",
      "      Epoch    GPU_mem   box_loss   cls_loss   dfl_loss  Instances       Size\n"
     ]
    },
    {
     "name": "stderr",
     "output_type": "stream",
     "text": [
      "      42/50      2.26G      1.354      2.962     0.8761          6        640: 100%|██████████| 3/3 [00:00<00:00, 10.24\n",
      "                 Class     Images  Instances      Box(P          R      mAP50  mAP50-95): 100%|██████████| 1/1 [00:00<0"
     ]
    },
    {
     "name": "stdout",
     "output_type": "stream",
     "text": [
      "                   all         10         10   0.000333        0.1   0.000229   4.59e-05\n"
     ]
    },
    {
     "name": "stderr",
     "output_type": "stream",
     "text": [
      "\n"
     ]
    },
    {
     "name": "stdout",
     "output_type": "stream",
     "text": [
      "\n",
      "      Epoch    GPU_mem   box_loss   cls_loss   dfl_loss  Instances       Size\n"
     ]
    },
    {
     "name": "stderr",
     "output_type": "stream",
     "text": [
      "      43/50      2.25G      1.489      2.473     0.9079          8        640: 100%|██████████| 3/3 [00:00<00:00, 10.75\n",
      "                 Class     Images  Instances      Box(P          R      mAP50  mAP50-95): 100%|██████████| 1/1 [00:00<0"
     ]
    },
    {
     "name": "stdout",
     "output_type": "stream",
     "text": [
      "                   all         10         10   0.000333        0.1   0.000229   4.59e-05\n"
     ]
    },
    {
     "name": "stderr",
     "output_type": "stream",
     "text": [
      "\n"
     ]
    },
    {
     "name": "stdout",
     "output_type": "stream",
     "text": [
      "\n",
      "      Epoch    GPU_mem   box_loss   cls_loss   dfl_loss  Instances       Size\n"
     ]
    },
    {
     "name": "stderr",
     "output_type": "stream",
     "text": [
      "      44/50      2.26G       1.47      2.489     0.8606          8        640: 100%|██████████| 3/3 [00:00<00:00, 10.68\n",
      "                 Class     Images  Instances      Box(P          R      mAP50  mAP50-95): 100%|██████████| 1/1 [00:00<0"
     ]
    },
    {
     "name": "stdout",
     "output_type": "stream",
     "text": [
      "                   all         10         10   0.000333        0.1   0.000229   4.59e-05\n"
     ]
    },
    {
     "name": "stderr",
     "output_type": "stream",
     "text": [
      "\n"
     ]
    },
    {
     "name": "stdout",
     "output_type": "stream",
     "text": [
      "\n",
      "      Epoch    GPU_mem   box_loss   cls_loss   dfl_loss  Instances       Size\n"
     ]
    },
    {
     "name": "stderr",
     "output_type": "stream",
     "text": [
      "      45/50      2.26G      1.455       2.28     0.9073          8        640: 100%|██████████| 3/3 [00:00<00:00, 11.36\n",
      "                 Class     Images  Instances      Box(P          R      mAP50  mAP50-95): 100%|██████████| 1/1 [00:00<0"
     ]
    },
    {
     "name": "stdout",
     "output_type": "stream",
     "text": [
      "                   all         10         10   0.000333        0.1   0.000229   4.59e-05\n"
     ]
    },
    {
     "name": "stderr",
     "output_type": "stream",
     "text": [
      "\n"
     ]
    },
    {
     "name": "stdout",
     "output_type": "stream",
     "text": [
      "\n",
      "      Epoch    GPU_mem   box_loss   cls_loss   dfl_loss  Instances       Size\n"
     ]
    },
    {
     "name": "stderr",
     "output_type": "stream",
     "text": [
      "      46/50      2.26G      1.505      2.706     0.9047          8        640: 100%|██████████| 3/3 [00:00<00:00, 10.87\n",
      "                 Class     Images  Instances      Box(P          R      mAP50  mAP50-95): 100%|██████████| 1/1 [00:00<0"
     ]
    },
    {
     "name": "stdout",
     "output_type": "stream",
     "text": [
      "                   all         10         10   0.000333        0.1   0.000229   4.59e-05\n"
     ]
    },
    {
     "name": "stderr",
     "output_type": "stream",
     "text": [
      "\n"
     ]
    },
    {
     "name": "stdout",
     "output_type": "stream",
     "text": [
      "\n",
      "      Epoch    GPU_mem   box_loss   cls_loss   dfl_loss  Instances       Size\n"
     ]
    },
    {
     "name": "stderr",
     "output_type": "stream",
     "text": [
      "      47/50      2.25G      1.354      2.368     0.9168          8        640: 100%|██████████| 3/3 [00:00<00:00, 10.79\n",
      "                 Class     Images  Instances      Box(P          R      mAP50  mAP50-95): 100%|██████████| 1/1 [00:00<0"
     ]
    },
    {
     "name": "stdout",
     "output_type": "stream",
     "text": [
      "                   all         10         10   0.000333        0.1   0.000229   4.59e-05\n"
     ]
    },
    {
     "name": "stderr",
     "output_type": "stream",
     "text": [
      "\n"
     ]
    },
    {
     "name": "stdout",
     "output_type": "stream",
     "text": [
      "\n",
      "      Epoch    GPU_mem   box_loss   cls_loss   dfl_loss  Instances       Size\n"
     ]
    },
    {
     "name": "stderr",
     "output_type": "stream",
     "text": [
      "      48/50      2.26G      1.434      2.204     0.8705          8        640: 100%|██████████| 3/3 [00:00<00:00, 10.38\n",
      "                 Class     Images  Instances      Box(P          R      mAP50  mAP50-95): 100%|██████████| 1/1 [00:00<0"
     ]
    },
    {
     "name": "stdout",
     "output_type": "stream",
     "text": [
      "                   all         10         10   0.000333        0.1   0.000229   4.59e-05\n"
     ]
    },
    {
     "name": "stderr",
     "output_type": "stream",
     "text": [
      "\n"
     ]
    },
    {
     "name": "stdout",
     "output_type": "stream",
     "text": [
      "\n",
      "      Epoch    GPU_mem   box_loss   cls_loss   dfl_loss  Instances       Size\n"
     ]
    },
    {
     "name": "stderr",
     "output_type": "stream",
     "text": [
      "      49/50      2.26G      1.395       2.62     0.8897          8        640: 100%|██████████| 3/3 [00:00<00:00, 11.11\n",
      "                 Class     Images  Instances      Box(P          R      mAP50  mAP50-95): 100%|██████████| 1/1 [00:00<0"
     ]
    },
    {
     "name": "stdout",
     "output_type": "stream",
     "text": [
      "                   all         10         10   0.000333        0.1   0.000229   4.59e-05\n"
     ]
    },
    {
     "name": "stderr",
     "output_type": "stream",
     "text": [
      "\n"
     ]
    },
    {
     "name": "stdout",
     "output_type": "stream",
     "text": [
      "\n",
      "      Epoch    GPU_mem   box_loss   cls_loss   dfl_loss  Instances       Size\n"
     ]
    },
    {
     "name": "stderr",
     "output_type": "stream",
     "text": [
      "      50/50      2.26G      1.478      2.287     0.8866          8        640: 100%|██████████| 3/3 [00:00<00:00, 10.56\n",
      "                 Class     Images  Instances      Box(P          R      mAP50  mAP50-95): 100%|██████████| 1/1 [00:00<0"
     ]
    },
    {
     "name": "stdout",
     "output_type": "stream",
     "text": [
      "                   all         10         10   0.000333        0.1   0.000229   4.59e-05\n"
     ]
    },
    {
     "name": "stderr",
     "output_type": "stream",
     "text": [
      "\n"
     ]
    },
    {
     "name": "stdout",
     "output_type": "stream",
     "text": [
      "\n",
      "50 epochs completed in 0.011 hours.\n",
      "Optimizer stripped from runs\\detect\\train6\\weights\\last.pt, 6.2MB\n",
      "Optimizer stripped from runs\\detect\\train6\\weights\\best.pt, 6.2MB\n",
      "\n",
      "Validating runs\\detect\\train6\\weights\\best.pt...\n",
      "Ultralytics YOLOv8.0.235 🚀 Python-3.9.18 torch-2.1.2+cu118 CUDA:0 (NVIDIA GeForce RTX 2070 SUPER, 8192MiB)\n",
      "Model summary (fused): 168 layers, 3005843 parameters, 0 gradients, 8.1 GFLOPs\n"
     ]
    },
    {
     "name": "stderr",
     "output_type": "stream",
     "text": [
      "                 Class     Images  Instances      Box(P          R      mAP50  mAP50-95): 100%|██████████| 1/1 [00:00<0\n"
     ]
    },
    {
     "name": "stdout",
     "output_type": "stream",
     "text": [
      "                   all         10         10   0.000333        0.1   0.000231   0.000139\n",
      "Speed: 0.2ms preprocess, 1.1ms inference, 0.0ms loss, 0.9ms postprocess per image\n",
      "Results saved to \u001b[1mruns\\detect\\train6\u001b[0m\n",
      "\u001b[34m\u001b[1mMLflow: \u001b[0mresults logged to runs\\mlflow\n",
      "\u001b[34m\u001b[1mMLflow: \u001b[0mdisable with 'yolo settings mlflow=False'\n"
     ]
    },
    {
     "data": {
      "text/plain": [
       "ultralytics.utils.metrics.DetMetrics object with attributes:\n",
       "\n",
       "ap_class_index: array([0])\n",
       "box: ultralytics.utils.metrics.Metric object\n",
       "confusion_matrix: <ultralytics.utils.metrics.ConfusionMatrix object at 0x000001AD1D05A0D0>\n",
       "curves: ['Precision-Recall(B)', 'F1-Confidence(B)', 'Precision-Confidence(B)', 'Recall-Confidence(B)']\n",
       "curves_results: [[array([          0,    0.001001,    0.002002,    0.003003,    0.004004,    0.005005,    0.006006,    0.007007,    0.008008,    0.009009,     0.01001,    0.011011,    0.012012,    0.013013,    0.014014,    0.015015,    0.016016,    0.017017,    0.018018,    0.019019,     0.02002,    0.021021,    0.022022,    0.023023,\n",
       "          0.024024,    0.025025,    0.026026,    0.027027,    0.028028,    0.029029,     0.03003,    0.031031,    0.032032,    0.033033,    0.034034,    0.035035,    0.036036,    0.037037,    0.038038,    0.039039,     0.04004,    0.041041,    0.042042,    0.043043,    0.044044,    0.045045,    0.046046,    0.047047,\n",
       "          0.048048,    0.049049,     0.05005,    0.051051,    0.052052,    0.053053,    0.054054,    0.055055,    0.056056,    0.057057,    0.058058,    0.059059,     0.06006,    0.061061,    0.062062,    0.063063,    0.064064,    0.065065,    0.066066,    0.067067,    0.068068,    0.069069,     0.07007,    0.071071,\n",
       "          0.072072,    0.073073,    0.074074,    0.075075,    0.076076,    0.077077,    0.078078,    0.079079,     0.08008,    0.081081,    0.082082,    0.083083,    0.084084,    0.085085,    0.086086,    0.087087,    0.088088,    0.089089,     0.09009,    0.091091,    0.092092,    0.093093,    0.094094,    0.095095,\n",
       "          0.096096,    0.097097,    0.098098,    0.099099,      0.1001,      0.1011,      0.1021,      0.1031,      0.1041,     0.10511,     0.10611,     0.10711,     0.10811,     0.10911,     0.11011,     0.11111,     0.11211,     0.11311,     0.11411,     0.11512,     0.11612,     0.11712,     0.11812,     0.11912,\n",
       "           0.12012,     0.12112,     0.12212,     0.12312,     0.12412,     0.12513,     0.12613,     0.12713,     0.12813,     0.12913,     0.13013,     0.13113,     0.13213,     0.13313,     0.13413,     0.13514,     0.13614,     0.13714,     0.13814,     0.13914,     0.14014,     0.14114,     0.14214,     0.14314,\n",
       "           0.14414,     0.14515,     0.14615,     0.14715,     0.14815,     0.14915,     0.15015,     0.15115,     0.15215,     0.15315,     0.15415,     0.15516,     0.15616,     0.15716,     0.15816,     0.15916,     0.16016,     0.16116,     0.16216,     0.16316,     0.16416,     0.16517,     0.16617,     0.16717,\n",
       "           0.16817,     0.16917,     0.17017,     0.17117,     0.17217,     0.17317,     0.17417,     0.17518,     0.17618,     0.17718,     0.17818,     0.17918,     0.18018,     0.18118,     0.18218,     0.18318,     0.18418,     0.18519,     0.18619,     0.18719,     0.18819,     0.18919,     0.19019,     0.19119,\n",
       "           0.19219,     0.19319,     0.19419,      0.1952,      0.1962,      0.1972,      0.1982,      0.1992,      0.2002,      0.2012,      0.2022,      0.2032,      0.2042,     0.20521,     0.20621,     0.20721,     0.20821,     0.20921,     0.21021,     0.21121,     0.21221,     0.21321,     0.21421,     0.21522,\n",
       "           0.21622,     0.21722,     0.21822,     0.21922,     0.22022,     0.22122,     0.22222,     0.22322,     0.22422,     0.22523,     0.22623,     0.22723,     0.22823,     0.22923,     0.23023,     0.23123,     0.23223,     0.23323,     0.23423,     0.23524,     0.23624,     0.23724,     0.23824,     0.23924,\n",
       "           0.24024,     0.24124,     0.24224,     0.24324,     0.24424,     0.24525,     0.24625,     0.24725,     0.24825,     0.24925,     0.25025,     0.25125,     0.25225,     0.25325,     0.25425,     0.25526,     0.25626,     0.25726,     0.25826,     0.25926,     0.26026,     0.26126,     0.26226,     0.26326,\n",
       "           0.26426,     0.26527,     0.26627,     0.26727,     0.26827,     0.26927,     0.27027,     0.27127,     0.27227,     0.27327,     0.27427,     0.27528,     0.27628,     0.27728,     0.27828,     0.27928,     0.28028,     0.28128,     0.28228,     0.28328,     0.28428,     0.28529,     0.28629,     0.28729,\n",
       "           0.28829,     0.28929,     0.29029,     0.29129,     0.29229,     0.29329,     0.29429,      0.2953,      0.2963,      0.2973,      0.2983,      0.2993,      0.3003,      0.3013,      0.3023,      0.3033,      0.3043,     0.30531,     0.30631,     0.30731,     0.30831,     0.30931,     0.31031,     0.31131,\n",
       "           0.31231,     0.31331,     0.31431,     0.31532,     0.31632,     0.31732,     0.31832,     0.31932,     0.32032,     0.32132,     0.32232,     0.32332,     0.32432,     0.32533,     0.32633,     0.32733,     0.32833,     0.32933,     0.33033,     0.33133,     0.33233,     0.33333,     0.33433,     0.33534,\n",
       "           0.33634,     0.33734,     0.33834,     0.33934,     0.34034,     0.34134,     0.34234,     0.34334,     0.34434,     0.34535,     0.34635,     0.34735,     0.34835,     0.34935,     0.35035,     0.35135,     0.35235,     0.35335,     0.35435,     0.35536,     0.35636,     0.35736,     0.35836,     0.35936,\n",
       "           0.36036,     0.36136,     0.36236,     0.36336,     0.36436,     0.36537,     0.36637,     0.36737,     0.36837,     0.36937,     0.37037,     0.37137,     0.37237,     0.37337,     0.37437,     0.37538,     0.37638,     0.37738,     0.37838,     0.37938,     0.38038,     0.38138,     0.38238,     0.38338,\n",
       "           0.38438,     0.38539,     0.38639,     0.38739,     0.38839,     0.38939,     0.39039,     0.39139,     0.39239,     0.39339,     0.39439,      0.3954,      0.3964,      0.3974,      0.3984,      0.3994,      0.4004,      0.4014,      0.4024,      0.4034,      0.4044,     0.40541,     0.40641,     0.40741,\n",
       "           0.40841,     0.40941,     0.41041,     0.41141,     0.41241,     0.41341,     0.41441,     0.41542,     0.41642,     0.41742,     0.41842,     0.41942,     0.42042,     0.42142,     0.42242,     0.42342,     0.42442,     0.42543,     0.42643,     0.42743,     0.42843,     0.42943,     0.43043,     0.43143,\n",
       "           0.43243,     0.43343,     0.43443,     0.43544,     0.43644,     0.43744,     0.43844,     0.43944,     0.44044,     0.44144,     0.44244,     0.44344,     0.44444,     0.44545,     0.44645,     0.44745,     0.44845,     0.44945,     0.45045,     0.45145,     0.45245,     0.45345,     0.45445,     0.45546,\n",
       "           0.45646,     0.45746,     0.45846,     0.45946,     0.46046,     0.46146,     0.46246,     0.46346,     0.46446,     0.46547,     0.46647,     0.46747,     0.46847,     0.46947,     0.47047,     0.47147,     0.47247,     0.47347,     0.47447,     0.47548,     0.47648,     0.47748,     0.47848,     0.47948,\n",
       "           0.48048,     0.48148,     0.48248,     0.48348,     0.48448,     0.48549,     0.48649,     0.48749,     0.48849,     0.48949,     0.49049,     0.49149,     0.49249,     0.49349,     0.49449,      0.4955,      0.4965,      0.4975,      0.4985,      0.4995,      0.5005,      0.5015,      0.5025,      0.5035,\n",
       "            0.5045,     0.50551,     0.50651,     0.50751,     0.50851,     0.50951,     0.51051,     0.51151,     0.51251,     0.51351,     0.51451,     0.51552,     0.51652,     0.51752,     0.51852,     0.51952,     0.52052,     0.52152,     0.52252,     0.52352,     0.52452,     0.52553,     0.52653,     0.52753,\n",
       "           0.52853,     0.52953,     0.53053,     0.53153,     0.53253,     0.53353,     0.53453,     0.53554,     0.53654,     0.53754,     0.53854,     0.53954,     0.54054,     0.54154,     0.54254,     0.54354,     0.54454,     0.54555,     0.54655,     0.54755,     0.54855,     0.54955,     0.55055,     0.55155,\n",
       "           0.55255,     0.55355,     0.55455,     0.55556,     0.55656,     0.55756,     0.55856,     0.55956,     0.56056,     0.56156,     0.56256,     0.56356,     0.56456,     0.56557,     0.56657,     0.56757,     0.56857,     0.56957,     0.57057,     0.57157,     0.57257,     0.57357,     0.57457,     0.57558,\n",
       "           0.57658,     0.57758,     0.57858,     0.57958,     0.58058,     0.58158,     0.58258,     0.58358,     0.58458,     0.58559,     0.58659,     0.58759,     0.58859,     0.58959,     0.59059,     0.59159,     0.59259,     0.59359,     0.59459,      0.5956,      0.5966,      0.5976,      0.5986,      0.5996,\n",
       "            0.6006,      0.6016,      0.6026,      0.6036,      0.6046,     0.60561,     0.60661,     0.60761,     0.60861,     0.60961,     0.61061,     0.61161,     0.61261,     0.61361,     0.61461,     0.61562,     0.61662,     0.61762,     0.61862,     0.61962,     0.62062,     0.62162,     0.62262,     0.62362,\n",
       "           0.62462,     0.62563,     0.62663,     0.62763,     0.62863,     0.62963,     0.63063,     0.63163,     0.63263,     0.63363,     0.63463,     0.63564,     0.63664,     0.63764,     0.63864,     0.63964,     0.64064,     0.64164,     0.64264,     0.64364,     0.64464,     0.64565,     0.64665,     0.64765,\n",
       "           0.64865,     0.64965,     0.65065,     0.65165,     0.65265,     0.65365,     0.65465,     0.65566,     0.65666,     0.65766,     0.65866,     0.65966,     0.66066,     0.66166,     0.66266,     0.66366,     0.66466,     0.66567,     0.66667,     0.66767,     0.66867,     0.66967,     0.67067,     0.67167,\n",
       "           0.67267,     0.67367,     0.67467,     0.67568,     0.67668,     0.67768,     0.67868,     0.67968,     0.68068,     0.68168,     0.68268,     0.68368,     0.68468,     0.68569,     0.68669,     0.68769,     0.68869,     0.68969,     0.69069,     0.69169,     0.69269,     0.69369,     0.69469,      0.6957,\n",
       "            0.6967,      0.6977,      0.6987,      0.6997,      0.7007,      0.7017,      0.7027,      0.7037,      0.7047,     0.70571,     0.70671,     0.70771,     0.70871,     0.70971,     0.71071,     0.71171,     0.71271,     0.71371,     0.71471,     0.71572,     0.71672,     0.71772,     0.71872,     0.71972,\n",
       "           0.72072,     0.72172,     0.72272,     0.72372,     0.72472,     0.72573,     0.72673,     0.72773,     0.72873,     0.72973,     0.73073,     0.73173,     0.73273,     0.73373,     0.73473,     0.73574,     0.73674,     0.73774,     0.73874,     0.73974,     0.74074,     0.74174,     0.74274,     0.74374,\n",
       "           0.74474,     0.74575,     0.74675,     0.74775,     0.74875,     0.74975,     0.75075,     0.75175,     0.75275,     0.75375,     0.75475,     0.75576,     0.75676,     0.75776,     0.75876,     0.75976,     0.76076,     0.76176,     0.76276,     0.76376,     0.76476,     0.76577,     0.76677,     0.76777,\n",
       "           0.76877,     0.76977,     0.77077,     0.77177,     0.77277,     0.77377,     0.77477,     0.77578,     0.77678,     0.77778,     0.77878,     0.77978,     0.78078,     0.78178,     0.78278,     0.78378,     0.78478,     0.78579,     0.78679,     0.78779,     0.78879,     0.78979,     0.79079,     0.79179,\n",
       "           0.79279,     0.79379,     0.79479,      0.7958,      0.7968,      0.7978,      0.7988,      0.7998,      0.8008,      0.8018,      0.8028,      0.8038,      0.8048,     0.80581,     0.80681,     0.80781,     0.80881,     0.80981,     0.81081,     0.81181,     0.81281,     0.81381,     0.81481,     0.81582,\n",
       "           0.81682,     0.81782,     0.81882,     0.81982,     0.82082,     0.82182,     0.82282,     0.82382,     0.82482,     0.82583,     0.82683,     0.82783,     0.82883,     0.82983,     0.83083,     0.83183,     0.83283,     0.83383,     0.83483,     0.83584,     0.83684,     0.83784,     0.83884,     0.83984,\n",
       "           0.84084,     0.84184,     0.84284,     0.84384,     0.84484,     0.84585,     0.84685,     0.84785,     0.84885,     0.84985,     0.85085,     0.85185,     0.85285,     0.85385,     0.85485,     0.85586,     0.85686,     0.85786,     0.85886,     0.85986,     0.86086,     0.86186,     0.86286,     0.86386,\n",
       "           0.86486,     0.86587,     0.86687,     0.86787,     0.86887,     0.86987,     0.87087,     0.87187,     0.87287,     0.87387,     0.87487,     0.87588,     0.87688,     0.87788,     0.87888,     0.87988,     0.88088,     0.88188,     0.88288,     0.88388,     0.88488,     0.88589,     0.88689,     0.88789,\n",
       "           0.88889,     0.88989,     0.89089,     0.89189,     0.89289,     0.89389,     0.89489,      0.8959,      0.8969,      0.8979,      0.8989,      0.8999,      0.9009,      0.9019,      0.9029,      0.9039,      0.9049,     0.90591,     0.90691,     0.90791,     0.90891,     0.90991,     0.91091,     0.91191,\n",
       "           0.91291,     0.91391,     0.91491,     0.91592,     0.91692,     0.91792,     0.91892,     0.91992,     0.92092,     0.92192,     0.92292,     0.92392,     0.92492,     0.92593,     0.92693,     0.92793,     0.92893,     0.92993,     0.93093,     0.93193,     0.93293,     0.93393,     0.93493,     0.93594,\n",
       "           0.93694,     0.93794,     0.93894,     0.93994,     0.94094,     0.94194,     0.94294,     0.94394,     0.94494,     0.94595,     0.94695,     0.94795,     0.94895,     0.94995,     0.95095,     0.95195,     0.95295,     0.95395,     0.95495,     0.95596,     0.95696,     0.95796,     0.95896,     0.95996,\n",
       "           0.96096,     0.96196,     0.96296,     0.96396,     0.96496,     0.96597,     0.96697,     0.96797,     0.96897,     0.96997,     0.97097,     0.97197,     0.97297,     0.97397,     0.97497,     0.97598,     0.97698,     0.97798,     0.97898,     0.97998,     0.98098,     0.98198,     0.98298,     0.98398,\n",
       "           0.98498,     0.98599,     0.98699,     0.98799,     0.98899,     0.98999,     0.99099,     0.99199,     0.99299,     0.99399,     0.99499,       0.996,       0.997,       0.998,       0.999,           1]), array([[ 0.00083542,  0.00083542,  0.00083542,  0.00083542,  0.00083542,  0.00083542,  0.00083542,  0.00083542,  0.00083542,  0.00083542,  0.00083542,  0.00083542,  0.00083542,  0.00083542,  0.00083542,  0.00083542,  0.00083542,  0.00083542,  0.00083542,  0.00083542,  0.00083542,  0.00083542,  0.00083542,\n",
       "         0.00083542,  0.00083542,  0.00083542,  0.00083542,  0.00083542,  0.00083542,  0.00083542,  0.00083542,  0.00083542,  0.00083542,  0.00083542,  0.00083542,  0.00083542,  0.00083542,  0.00083542,  0.00083542,  0.00083542,  0.00083542,  0.00083542,  0.00083542,  0.00083542,  0.00083542,  0.00083542,\n",
       "         0.00083542,  0.00083542,  0.00083542,  0.00083542,  0.00083542,  0.00083542,  0.00083542,  0.00083542,  0.00083542,  0.00083542,  0.00083542,  0.00083542,  0.00083542,  0.00083542,  0.00083542,  0.00083542,  0.00083542,  0.00083542,  0.00083542,  0.00083542,  0.00083542,  0.00083542,  0.00083542,\n",
       "         0.00083542,  0.00083542,  0.00083542,  0.00083542,  0.00083542,  0.00083542,  0.00083542,  0.00083542,  0.00083542,  0.00083542,  0.00083542,  0.00083542,  0.00083542,  0.00083542,  0.00083542,  0.00083542,  0.00083542,  0.00083542,  0.00083542,  0.00083542,  0.00083542,  0.00083542,  0.00083542,\n",
       "         0.00083542,  0.00083542,  0.00083542,  0.00083542,  0.00083542,  0.00083542,  0.00083542,  0.00083542,   0.0003333,  0.00033293,  0.00033255,  0.00033218,  0.00033181,  0.00033144,  0.00033107,   0.0003307,  0.00033033,  0.00032996,  0.00032959,  0.00032922,  0.00032885,  0.00032848,  0.00032811,\n",
       "         0.00032774,  0.00032736,  0.00032699,  0.00032662,  0.00032625,  0.00032588,  0.00032551,  0.00032514,  0.00032477,   0.0003244,  0.00032403,  0.00032366,  0.00032329,  0.00032292,  0.00032254,  0.00032217,   0.0003218,  0.00032143,  0.00032106,  0.00032069,  0.00032032,  0.00031995,  0.00031958,\n",
       "         0.00031921,  0.00031884,  0.00031847,   0.0003181,  0.00031773,  0.00031735,  0.00031698,  0.00031661,  0.00031624,  0.00031587,   0.0003155,  0.00031513,  0.00031476,  0.00031439,  0.00031402,  0.00031365,  0.00031328,  0.00031291,  0.00031253,  0.00031216,  0.00031179,  0.00031142,  0.00031105,\n",
       "         0.00031068,  0.00031031,  0.00030994,  0.00030957,   0.0003092,  0.00030883,  0.00030846,  0.00030809,  0.00030772,  0.00030734,  0.00030697,   0.0003066,  0.00030623,  0.00030586,  0.00030549,  0.00030512,  0.00030475,  0.00030438,  0.00030401,  0.00030364,  0.00030327,   0.0003029,  0.00030252,\n",
       "         0.00030215,  0.00030178,  0.00030141,  0.00030104,  0.00030067,   0.0003003,  0.00029993,  0.00029956,  0.00029919,  0.00029882,  0.00029845,  0.00029808,  0.00029771,  0.00029733,  0.00029696,  0.00029659,  0.00029622,  0.00029585,  0.00029548,  0.00029511,  0.00029474,  0.00029437,    0.000294,\n",
       "         0.00029363,  0.00029326,  0.00029289,  0.00029251,  0.00029214,  0.00029177,   0.0002914,  0.00029103,  0.00029066,  0.00029029,  0.00028992,  0.00028955,  0.00028918,  0.00028881,  0.00028844,  0.00028807,   0.0002877,  0.00028732,  0.00028695,  0.00028658,  0.00028621,  0.00028584,  0.00028547,\n",
       "          0.0002851,  0.00028473,  0.00028436,  0.00028399,  0.00028362,  0.00028325,  0.00028288,   0.0002825,  0.00028213,  0.00028176,  0.00028139,  0.00028102,  0.00028065,  0.00028028,  0.00027991,  0.00027954,  0.00027917,   0.0002788,  0.00027843,  0.00027806,  0.00027769,  0.00027731,  0.00027694,\n",
       "         0.00027657,   0.0002762,  0.00027583,  0.00027546,  0.00027509,  0.00027472,  0.00027435,  0.00027398,  0.00027361,  0.00027324,  0.00027287,  0.00027249,  0.00027212,  0.00027175,  0.00027138,  0.00027101,  0.00027064,  0.00027027,   0.0002699,  0.00026953,  0.00026916,  0.00026879,  0.00026842,\n",
       "         0.00026805,  0.00026768,   0.0002673,  0.00026693,  0.00026656,  0.00026619,  0.00026582,  0.00026545,  0.00026508,  0.00026471,  0.00026434,  0.00026397,   0.0002636,  0.00026323,  0.00026286,  0.00026248,  0.00026211,  0.00026174,  0.00026137,    0.000261,  0.00026063,  0.00026026,  0.00025989,\n",
       "         0.00025952,  0.00025915,  0.00025878,  0.00025841,  0.00025804,  0.00025767,  0.00025729,  0.00025692,  0.00025655,  0.00025618,  0.00025581,  0.00025544,  0.00025507,   0.0002547,  0.00025433,  0.00025396,  0.00025359,  0.00025322,  0.00025285,  0.00025247,   0.0002521,  0.00025173,  0.00025136,\n",
       "         0.00025099,  0.00025062,  0.00025025,  0.00024988,  0.00024951,  0.00024914,  0.00024877,   0.0002484,  0.00024803,  0.00024766,  0.00024728,  0.00024691,  0.00024654,  0.00024617,   0.0002458,  0.00024543,  0.00024506,  0.00024469,  0.00024432,  0.00024395,  0.00024358,  0.00024321,  0.00024284,\n",
       "         0.00024246,  0.00024209,  0.00024172,  0.00024135,  0.00024098,  0.00024061,  0.00024024,  0.00023987,   0.0002395,  0.00023913,  0.00023876,  0.00023839,  0.00023802,  0.00023765,  0.00023727,   0.0002369,  0.00023653,  0.00023616,  0.00023579,  0.00023542,  0.00023505,  0.00023468,  0.00023431,\n",
       "         0.00023394,  0.00023357,   0.0002332,  0.00023283,  0.00023245,  0.00023208,  0.00023171,  0.00023134,  0.00023097,   0.0002306,  0.00023023,  0.00022986,  0.00022949,  0.00022912,  0.00022875,  0.00022838,  0.00022801,  0.00022764,  0.00022726,  0.00022689,  0.00022652,  0.00022615,  0.00022578,\n",
       "         0.00022541,  0.00022504,  0.00022467,   0.0002243,  0.00022393,  0.00022356,  0.00022319,  0.00022282,  0.00022244,  0.00022207,   0.0002217,  0.00022133,  0.00022096,  0.00022059,  0.00022022,  0.00021985,  0.00021948,  0.00021911,  0.00021874,  0.00021837,    0.000218,  0.00021763,  0.00021725,\n",
       "         0.00021688,  0.00021651,  0.00021614,  0.00021577,   0.0002154,  0.00021503,  0.00021466,  0.00021429,  0.00021392,  0.00021355,  0.00021318,  0.00021281,  0.00021243,  0.00021206,  0.00021169,  0.00021132,  0.00021095,  0.00021058,  0.00021021,  0.00020984,  0.00020947,   0.0002091,  0.00020873,\n",
       "         0.00020836,  0.00020799,  0.00020762,  0.00020724,  0.00020687,   0.0002065,  0.00020613,  0.00020576,  0.00020539,  0.00020502,  0.00020465,  0.00020428,  0.00020391,  0.00020354,  0.00020317,   0.0002028,  0.00020242,  0.00020205,  0.00020168,  0.00020131,  0.00020094,  0.00020057,   0.0002002,\n",
       "         0.00019983,  0.00019946,  0.00019909,  0.00019872,  0.00019835,  0.00019798,  0.00019761,  0.00019723,  0.00019686,  0.00019649,  0.00019612,  0.00019575,  0.00019538,  0.00019501,  0.00019464,  0.00019427,   0.0001939,  0.00019353,  0.00019316,  0.00019279,  0.00019241,  0.00019204,  0.00019167,\n",
       "          0.0001913,  0.00019093,  0.00019056,  0.00019019,  0.00018982,  0.00018945,  0.00018908,  0.00018871,  0.00018834,  0.00018797,   0.0001876,  0.00018722,  0.00018685,  0.00018648,  0.00018611,  0.00018574,  0.00018537,    0.000185,  0.00018463,  0.00018426,  0.00018389,  0.00018352,  0.00018315,\n",
       "         0.00018278,   0.0001824,  0.00018203,  0.00018166,  0.00018129,  0.00018092,  0.00018055,  0.00018018,  0.00017981,  0.00017944,  0.00017907,   0.0001787,  0.00017833,  0.00017796,  0.00017758,  0.00017721,  0.00017684,  0.00017647,   0.0001761,  0.00017573,  0.00017536,  0.00017499,  0.00017462,\n",
       "         0.00017425,  0.00017388,  0.00017351,  0.00017314,  0.00017277,  0.00017239,  0.00017202,  0.00017165,  0.00017128,  0.00017091,  0.00017054,  0.00017017,   0.0001698,  0.00016943,  0.00016906,  0.00016869,  0.00016832,  0.00016795,  0.00016757,   0.0001672,  0.00016683,  0.00016646,  0.00016609,\n",
       "         0.00016572,  0.00016535,  0.00016498,  0.00016461,  0.00016424,  0.00016387,   0.0001635,  0.00016313,  0.00016276,  0.00016238,  0.00016201,  0.00016164,  0.00016127,   0.0001609,  0.00016053,  0.00016016,  0.00015979,  0.00015942,  0.00015905,  0.00015868,  0.00015831,  0.00015794,  0.00015756,\n",
       "         0.00015719,  0.00015682,  0.00015645,  0.00015608,  0.00015571,  0.00015534,  0.00015497,   0.0001546,  0.00015423,  0.00015386,  0.00015349,  0.00015312,  0.00015275,  0.00015237,    0.000152,  0.00015163,  0.00015126,  0.00015089,  0.00015052,  0.00015015,  0.00014978,  0.00014941,  0.00014904,\n",
       "         0.00014867,   0.0001483,  0.00014793,  0.00014755,  0.00014718,  0.00014681,  0.00014644,  0.00014607,   0.0001457,  0.00014533,  0.00014496,  0.00014459,  0.00014422,  0.00014385,  0.00014348,  0.00014311,  0.00014274,  0.00014236,  0.00014199,  0.00014162,  0.00014125,  0.00014088,  0.00014051,\n",
       "         0.00014014,  0.00013977,   0.0001394,  0.00013903,  0.00013866,  0.00013829,  0.00013792,  0.00013754,  0.00013717,   0.0001368,  0.00013643,  0.00013606,  0.00013569,  0.00013532,  0.00013495,  0.00013458,  0.00013421,  0.00013384,  0.00013347,   0.0001331,  0.00013273,  0.00013235,  0.00013198,\n",
       "         0.00013161,  0.00013124,  0.00013087,   0.0001305,  0.00013013,  0.00012976,  0.00012939,  0.00012902,  0.00012865,  0.00012828,  0.00012791,  0.00012753,  0.00012716,  0.00012679,  0.00012642,  0.00012605,  0.00012568,  0.00012531,  0.00012494,  0.00012457,   0.0001242,  0.00012383,  0.00012346,\n",
       "         0.00012309,  0.00012272,  0.00012234,  0.00012197,   0.0001216,  0.00012123,  0.00012086,  0.00012049,  0.00012012,  0.00011975,  0.00011938,  0.00011901,  0.00011864,  0.00011827,   0.0001179,  0.00011752,  0.00011715,  0.00011678,  0.00011641,  0.00011604,  0.00011567,   0.0001153,  0.00011493,\n",
       "         0.00011456,  0.00011419,  0.00011382,  0.00011345,  0.00011308,  0.00011271,  0.00011233,  0.00011196,  0.00011159,  0.00011122,  0.00011085,  0.00011048,  0.00011011,  0.00010974,  0.00010937,    0.000109,  0.00010863,  0.00010826,  0.00010789,  0.00010751,  0.00010714,  0.00010677,   0.0001064,\n",
       "         0.00010603,  0.00010566,  0.00010529,  0.00010492,  0.00010455,  0.00010418,  0.00010381,  0.00010344,  0.00010307,   0.0001027,  0.00010232,  0.00010195,  0.00010158,  0.00010121,  0.00010084,  0.00010047,   0.0001001,  9.9729e-05,  9.9359e-05,  9.8988e-05,  9.8617e-05,  9.8246e-05,  9.7876e-05,\n",
       "         9.7505e-05,  9.7134e-05,  9.6763e-05,  9.6393e-05,  9.6022e-05,  9.5651e-05,   9.528e-05,   9.491e-05,  9.4539e-05,  9.4168e-05,  9.3798e-05,  9.3427e-05,  9.3056e-05,  9.2685e-05,  9.2315e-05,  9.1944e-05,  9.1573e-05,  9.1202e-05,  9.0832e-05,  9.0461e-05,   9.009e-05,  8.9719e-05,  8.9349e-05,\n",
       "         8.8978e-05,  8.8607e-05,  8.8236e-05,  8.7866e-05,  8.7495e-05,  8.7124e-05,  8.6753e-05,  8.6383e-05,  8.6012e-05,  8.5641e-05,   8.527e-05,    8.49e-05,  8.4529e-05,  8.4158e-05,  8.3787e-05,  8.3417e-05,  8.3046e-05,  8.2675e-05,  8.2305e-05,  8.1934e-05,  8.1563e-05,  8.1192e-05,  8.0822e-05,\n",
       "         8.0451e-05,   8.008e-05,  7.9709e-05,  7.9339e-05,  7.8968e-05,  7.8597e-05,  7.8226e-05,  7.7856e-05,  7.7485e-05,  7.7114e-05,  7.6743e-05,  7.6373e-05,  7.6002e-05,  7.5631e-05,   7.526e-05,   7.489e-05,  7.4519e-05,  7.4148e-05,  7.3777e-05,  7.3407e-05,  7.3036e-05,  7.2665e-05,  7.2295e-05,\n",
       "         7.1924e-05,  7.1553e-05,  7.1182e-05,  7.0812e-05,  7.0441e-05,   7.007e-05,  6.9699e-05,  6.9329e-05,  6.8958e-05,  6.8587e-05,  6.8216e-05,  6.7846e-05,  6.7475e-05,  6.7104e-05,  6.6733e-05,  6.6363e-05,  6.5992e-05,  6.5621e-05,   6.525e-05,   6.488e-05,  6.4509e-05,  6.4138e-05,  6.3767e-05,\n",
       "         6.3397e-05,  6.3026e-05,  6.2655e-05,  6.2285e-05,  6.1914e-05,  6.1543e-05,  6.1172e-05,  6.0802e-05,  6.0431e-05,   6.006e-05,  5.9689e-05,  5.9319e-05,  5.8948e-05,  5.8577e-05,  5.8206e-05,  5.7836e-05,  5.7465e-05,  5.7094e-05,  5.6723e-05,  5.6353e-05,  5.5982e-05,  5.5611e-05,   5.524e-05,\n",
       "          5.487e-05,  5.4499e-05,  5.4128e-05,  5.3757e-05,  5.3387e-05,  5.3016e-05,  5.2645e-05,  5.2274e-05,  5.1904e-05,  5.1533e-05,  5.1162e-05,  5.0792e-05,  5.0421e-05,   5.005e-05,  4.9679e-05,  4.9309e-05,  4.8938e-05,  4.8567e-05,  4.8196e-05,  4.7826e-05,  4.7455e-05,  4.7084e-05,  4.6713e-05,\n",
       "         4.6343e-05,  4.5972e-05,  4.5601e-05,   4.523e-05,   4.486e-05,  4.4489e-05,  4.4118e-05,  4.3747e-05,  4.3377e-05,  4.3006e-05,  4.2635e-05,  4.2264e-05,  4.1894e-05,  4.1523e-05,  4.1152e-05,  4.0782e-05,  4.0411e-05,   4.004e-05,  3.9669e-05,  3.9299e-05,  3.8928e-05,  3.8557e-05,  3.8186e-05,\n",
       "         3.7816e-05,  3.7445e-05,  3.7074e-05,  3.6703e-05,  3.6333e-05,  3.5962e-05,  3.5591e-05,   3.522e-05,   3.485e-05,  3.4479e-05,  3.4108e-05,  3.3737e-05,  3.3367e-05,  3.2996e-05,  3.2625e-05,  3.2254e-05,  3.1884e-05,  3.1513e-05,  3.1142e-05,  3.0772e-05,  3.0401e-05,   3.003e-05,  2.9659e-05,\n",
       "         2.9289e-05,  2.8918e-05,  2.8547e-05,  2.8176e-05,  2.7806e-05,  2.7435e-05,  2.7064e-05,  2.6693e-05,  2.6323e-05,  2.5952e-05,  2.5581e-05,   2.521e-05,   2.484e-05,  2.4469e-05,  2.4098e-05,  2.3727e-05,  2.3357e-05,  2.2986e-05,  2.2615e-05,  2.2244e-05,  2.1874e-05,  2.1503e-05,  2.1132e-05,\n",
       "         2.0762e-05,  2.0391e-05,   2.002e-05,  1.9649e-05,  1.9279e-05,  1.8908e-05,  1.8537e-05,  1.8166e-05,  1.7796e-05,  1.7425e-05,  1.7054e-05,  1.6683e-05,  1.6313e-05,  1.5942e-05,  1.5571e-05,    1.52e-05,   1.483e-05,  1.4459e-05,  1.4088e-05,  1.3717e-05,  1.3347e-05,  1.2976e-05,  1.2605e-05,\n",
       "         1.2234e-05,  1.1864e-05,  1.1493e-05,  1.1122e-05,  1.0751e-05,  1.0381e-05,   1.001e-05,  9.6393e-06,  9.2685e-06,  8.8978e-06,   8.527e-06,  8.1563e-06,  7.7856e-06,  7.4148e-06,  7.0441e-06,  6.6733e-06,  6.3026e-06,  5.9319e-06,  5.5611e-06,  5.1904e-06,  4.8196e-06,  4.4489e-06,  4.0782e-06,\n",
       "         3.7074e-06,  3.3367e-06,  2.9659e-06,  2.5952e-06,  2.2244e-06,  1.8537e-06,   1.483e-06,  1.1122e-06,  7.4148e-07,  3.7074e-07,           0]]), 'Recall', 'Precision'], [array([          0,    0.001001,    0.002002,    0.003003,    0.004004,    0.005005,    0.006006,    0.007007,    0.008008,    0.009009,     0.01001,    0.011011,    0.012012,    0.013013,    0.014014,    0.015015,    0.016016,    0.017017,    0.018018,    0.019019,     0.02002,    0.021021,    0.022022,    0.023023,\n",
       "          0.024024,    0.025025,    0.026026,    0.027027,    0.028028,    0.029029,     0.03003,    0.031031,    0.032032,    0.033033,    0.034034,    0.035035,    0.036036,    0.037037,    0.038038,    0.039039,     0.04004,    0.041041,    0.042042,    0.043043,    0.044044,    0.045045,    0.046046,    0.047047,\n",
       "          0.048048,    0.049049,     0.05005,    0.051051,    0.052052,    0.053053,    0.054054,    0.055055,    0.056056,    0.057057,    0.058058,    0.059059,     0.06006,    0.061061,    0.062062,    0.063063,    0.064064,    0.065065,    0.066066,    0.067067,    0.068068,    0.069069,     0.07007,    0.071071,\n",
       "          0.072072,    0.073073,    0.074074,    0.075075,    0.076076,    0.077077,    0.078078,    0.079079,     0.08008,    0.081081,    0.082082,    0.083083,    0.084084,    0.085085,    0.086086,    0.087087,    0.088088,    0.089089,     0.09009,    0.091091,    0.092092,    0.093093,    0.094094,    0.095095,\n",
       "          0.096096,    0.097097,    0.098098,    0.099099,      0.1001,      0.1011,      0.1021,      0.1031,      0.1041,     0.10511,     0.10611,     0.10711,     0.10811,     0.10911,     0.11011,     0.11111,     0.11211,     0.11311,     0.11411,     0.11512,     0.11612,     0.11712,     0.11812,     0.11912,\n",
       "           0.12012,     0.12112,     0.12212,     0.12312,     0.12412,     0.12513,     0.12613,     0.12713,     0.12813,     0.12913,     0.13013,     0.13113,     0.13213,     0.13313,     0.13413,     0.13514,     0.13614,     0.13714,     0.13814,     0.13914,     0.14014,     0.14114,     0.14214,     0.14314,\n",
       "           0.14414,     0.14515,     0.14615,     0.14715,     0.14815,     0.14915,     0.15015,     0.15115,     0.15215,     0.15315,     0.15415,     0.15516,     0.15616,     0.15716,     0.15816,     0.15916,     0.16016,     0.16116,     0.16216,     0.16316,     0.16416,     0.16517,     0.16617,     0.16717,\n",
       "           0.16817,     0.16917,     0.17017,     0.17117,     0.17217,     0.17317,     0.17417,     0.17518,     0.17618,     0.17718,     0.17818,     0.17918,     0.18018,     0.18118,     0.18218,     0.18318,     0.18418,     0.18519,     0.18619,     0.18719,     0.18819,     0.18919,     0.19019,     0.19119,\n",
       "           0.19219,     0.19319,     0.19419,      0.1952,      0.1962,      0.1972,      0.1982,      0.1992,      0.2002,      0.2012,      0.2022,      0.2032,      0.2042,     0.20521,     0.20621,     0.20721,     0.20821,     0.20921,     0.21021,     0.21121,     0.21221,     0.21321,     0.21421,     0.21522,\n",
       "           0.21622,     0.21722,     0.21822,     0.21922,     0.22022,     0.22122,     0.22222,     0.22322,     0.22422,     0.22523,     0.22623,     0.22723,     0.22823,     0.22923,     0.23023,     0.23123,     0.23223,     0.23323,     0.23423,     0.23524,     0.23624,     0.23724,     0.23824,     0.23924,\n",
       "           0.24024,     0.24124,     0.24224,     0.24324,     0.24424,     0.24525,     0.24625,     0.24725,     0.24825,     0.24925,     0.25025,     0.25125,     0.25225,     0.25325,     0.25425,     0.25526,     0.25626,     0.25726,     0.25826,     0.25926,     0.26026,     0.26126,     0.26226,     0.26326,\n",
       "           0.26426,     0.26527,     0.26627,     0.26727,     0.26827,     0.26927,     0.27027,     0.27127,     0.27227,     0.27327,     0.27427,     0.27528,     0.27628,     0.27728,     0.27828,     0.27928,     0.28028,     0.28128,     0.28228,     0.28328,     0.28428,     0.28529,     0.28629,     0.28729,\n",
       "           0.28829,     0.28929,     0.29029,     0.29129,     0.29229,     0.29329,     0.29429,      0.2953,      0.2963,      0.2973,      0.2983,      0.2993,      0.3003,      0.3013,      0.3023,      0.3033,      0.3043,     0.30531,     0.30631,     0.30731,     0.30831,     0.30931,     0.31031,     0.31131,\n",
       "           0.31231,     0.31331,     0.31431,     0.31532,     0.31632,     0.31732,     0.31832,     0.31932,     0.32032,     0.32132,     0.32232,     0.32332,     0.32432,     0.32533,     0.32633,     0.32733,     0.32833,     0.32933,     0.33033,     0.33133,     0.33233,     0.33333,     0.33433,     0.33534,\n",
       "           0.33634,     0.33734,     0.33834,     0.33934,     0.34034,     0.34134,     0.34234,     0.34334,     0.34434,     0.34535,     0.34635,     0.34735,     0.34835,     0.34935,     0.35035,     0.35135,     0.35235,     0.35335,     0.35435,     0.35536,     0.35636,     0.35736,     0.35836,     0.35936,\n",
       "           0.36036,     0.36136,     0.36236,     0.36336,     0.36436,     0.36537,     0.36637,     0.36737,     0.36837,     0.36937,     0.37037,     0.37137,     0.37237,     0.37337,     0.37437,     0.37538,     0.37638,     0.37738,     0.37838,     0.37938,     0.38038,     0.38138,     0.38238,     0.38338,\n",
       "           0.38438,     0.38539,     0.38639,     0.38739,     0.38839,     0.38939,     0.39039,     0.39139,     0.39239,     0.39339,     0.39439,      0.3954,      0.3964,      0.3974,      0.3984,      0.3994,      0.4004,      0.4014,      0.4024,      0.4034,      0.4044,     0.40541,     0.40641,     0.40741,\n",
       "           0.40841,     0.40941,     0.41041,     0.41141,     0.41241,     0.41341,     0.41441,     0.41542,     0.41642,     0.41742,     0.41842,     0.41942,     0.42042,     0.42142,     0.42242,     0.42342,     0.42442,     0.42543,     0.42643,     0.42743,     0.42843,     0.42943,     0.43043,     0.43143,\n",
       "           0.43243,     0.43343,     0.43443,     0.43544,     0.43644,     0.43744,     0.43844,     0.43944,     0.44044,     0.44144,     0.44244,     0.44344,     0.44444,     0.44545,     0.44645,     0.44745,     0.44845,     0.44945,     0.45045,     0.45145,     0.45245,     0.45345,     0.45445,     0.45546,\n",
       "           0.45646,     0.45746,     0.45846,     0.45946,     0.46046,     0.46146,     0.46246,     0.46346,     0.46446,     0.46547,     0.46647,     0.46747,     0.46847,     0.46947,     0.47047,     0.47147,     0.47247,     0.47347,     0.47447,     0.47548,     0.47648,     0.47748,     0.47848,     0.47948,\n",
       "           0.48048,     0.48148,     0.48248,     0.48348,     0.48448,     0.48549,     0.48649,     0.48749,     0.48849,     0.48949,     0.49049,     0.49149,     0.49249,     0.49349,     0.49449,      0.4955,      0.4965,      0.4975,      0.4985,      0.4995,      0.5005,      0.5015,      0.5025,      0.5035,\n",
       "            0.5045,     0.50551,     0.50651,     0.50751,     0.50851,     0.50951,     0.51051,     0.51151,     0.51251,     0.51351,     0.51451,     0.51552,     0.51652,     0.51752,     0.51852,     0.51952,     0.52052,     0.52152,     0.52252,     0.52352,     0.52452,     0.52553,     0.52653,     0.52753,\n",
       "           0.52853,     0.52953,     0.53053,     0.53153,     0.53253,     0.53353,     0.53453,     0.53554,     0.53654,     0.53754,     0.53854,     0.53954,     0.54054,     0.54154,     0.54254,     0.54354,     0.54454,     0.54555,     0.54655,     0.54755,     0.54855,     0.54955,     0.55055,     0.55155,\n",
       "           0.55255,     0.55355,     0.55455,     0.55556,     0.55656,     0.55756,     0.55856,     0.55956,     0.56056,     0.56156,     0.56256,     0.56356,     0.56456,     0.56557,     0.56657,     0.56757,     0.56857,     0.56957,     0.57057,     0.57157,     0.57257,     0.57357,     0.57457,     0.57558,\n",
       "           0.57658,     0.57758,     0.57858,     0.57958,     0.58058,     0.58158,     0.58258,     0.58358,     0.58458,     0.58559,     0.58659,     0.58759,     0.58859,     0.58959,     0.59059,     0.59159,     0.59259,     0.59359,     0.59459,      0.5956,      0.5966,      0.5976,      0.5986,      0.5996,\n",
       "            0.6006,      0.6016,      0.6026,      0.6036,      0.6046,     0.60561,     0.60661,     0.60761,     0.60861,     0.60961,     0.61061,     0.61161,     0.61261,     0.61361,     0.61461,     0.61562,     0.61662,     0.61762,     0.61862,     0.61962,     0.62062,     0.62162,     0.62262,     0.62362,\n",
       "           0.62462,     0.62563,     0.62663,     0.62763,     0.62863,     0.62963,     0.63063,     0.63163,     0.63263,     0.63363,     0.63463,     0.63564,     0.63664,     0.63764,     0.63864,     0.63964,     0.64064,     0.64164,     0.64264,     0.64364,     0.64464,     0.64565,     0.64665,     0.64765,\n",
       "           0.64865,     0.64965,     0.65065,     0.65165,     0.65265,     0.65365,     0.65465,     0.65566,     0.65666,     0.65766,     0.65866,     0.65966,     0.66066,     0.66166,     0.66266,     0.66366,     0.66466,     0.66567,     0.66667,     0.66767,     0.66867,     0.66967,     0.67067,     0.67167,\n",
       "           0.67267,     0.67367,     0.67467,     0.67568,     0.67668,     0.67768,     0.67868,     0.67968,     0.68068,     0.68168,     0.68268,     0.68368,     0.68468,     0.68569,     0.68669,     0.68769,     0.68869,     0.68969,     0.69069,     0.69169,     0.69269,     0.69369,     0.69469,      0.6957,\n",
       "            0.6967,      0.6977,      0.6987,      0.6997,      0.7007,      0.7017,      0.7027,      0.7037,      0.7047,     0.70571,     0.70671,     0.70771,     0.70871,     0.70971,     0.71071,     0.71171,     0.71271,     0.71371,     0.71471,     0.71572,     0.71672,     0.71772,     0.71872,     0.71972,\n",
       "           0.72072,     0.72172,     0.72272,     0.72372,     0.72472,     0.72573,     0.72673,     0.72773,     0.72873,     0.72973,     0.73073,     0.73173,     0.73273,     0.73373,     0.73473,     0.73574,     0.73674,     0.73774,     0.73874,     0.73974,     0.74074,     0.74174,     0.74274,     0.74374,\n",
       "           0.74474,     0.74575,     0.74675,     0.74775,     0.74875,     0.74975,     0.75075,     0.75175,     0.75275,     0.75375,     0.75475,     0.75576,     0.75676,     0.75776,     0.75876,     0.75976,     0.76076,     0.76176,     0.76276,     0.76376,     0.76476,     0.76577,     0.76677,     0.76777,\n",
       "           0.76877,     0.76977,     0.77077,     0.77177,     0.77277,     0.77377,     0.77477,     0.77578,     0.77678,     0.77778,     0.77878,     0.77978,     0.78078,     0.78178,     0.78278,     0.78378,     0.78478,     0.78579,     0.78679,     0.78779,     0.78879,     0.78979,     0.79079,     0.79179,\n",
       "           0.79279,     0.79379,     0.79479,      0.7958,      0.7968,      0.7978,      0.7988,      0.7998,      0.8008,      0.8018,      0.8028,      0.8038,      0.8048,     0.80581,     0.80681,     0.80781,     0.80881,     0.80981,     0.81081,     0.81181,     0.81281,     0.81381,     0.81481,     0.81582,\n",
       "           0.81682,     0.81782,     0.81882,     0.81982,     0.82082,     0.82182,     0.82282,     0.82382,     0.82482,     0.82583,     0.82683,     0.82783,     0.82883,     0.82983,     0.83083,     0.83183,     0.83283,     0.83383,     0.83483,     0.83584,     0.83684,     0.83784,     0.83884,     0.83984,\n",
       "           0.84084,     0.84184,     0.84284,     0.84384,     0.84484,     0.84585,     0.84685,     0.84785,     0.84885,     0.84985,     0.85085,     0.85185,     0.85285,     0.85385,     0.85485,     0.85586,     0.85686,     0.85786,     0.85886,     0.85986,     0.86086,     0.86186,     0.86286,     0.86386,\n",
       "           0.86486,     0.86587,     0.86687,     0.86787,     0.86887,     0.86987,     0.87087,     0.87187,     0.87287,     0.87387,     0.87487,     0.87588,     0.87688,     0.87788,     0.87888,     0.87988,     0.88088,     0.88188,     0.88288,     0.88388,     0.88488,     0.88589,     0.88689,     0.88789,\n",
       "           0.88889,     0.88989,     0.89089,     0.89189,     0.89289,     0.89389,     0.89489,      0.8959,      0.8969,      0.8979,      0.8989,      0.8999,      0.9009,      0.9019,      0.9029,      0.9039,      0.9049,     0.90591,     0.90691,     0.90791,     0.90891,     0.90991,     0.91091,     0.91191,\n",
       "           0.91291,     0.91391,     0.91491,     0.91592,     0.91692,     0.91792,     0.91892,     0.91992,     0.92092,     0.92192,     0.92292,     0.92392,     0.92492,     0.92593,     0.92693,     0.92793,     0.92893,     0.92993,     0.93093,     0.93193,     0.93293,     0.93393,     0.93493,     0.93594,\n",
       "           0.93694,     0.93794,     0.93894,     0.93994,     0.94094,     0.94194,     0.94294,     0.94394,     0.94494,     0.94595,     0.94695,     0.94795,     0.94895,     0.94995,     0.95095,     0.95195,     0.95295,     0.95395,     0.95495,     0.95596,     0.95696,     0.95796,     0.95896,     0.95996,\n",
       "           0.96096,     0.96196,     0.96296,     0.96396,     0.96496,     0.96597,     0.96697,     0.96797,     0.96897,     0.96997,     0.97097,     0.97197,     0.97297,     0.97397,     0.97497,     0.97598,     0.97698,     0.97798,     0.97898,     0.97998,     0.98098,     0.98198,     0.98298,     0.98398,\n",
       "           0.98498,     0.98599,     0.98699,     0.98799,     0.98899,     0.98999,     0.99099,     0.99199,     0.99299,     0.99399,     0.99499,       0.996,       0.997,       0.998,       0.999,           1]), array([[ 0.00066445,  0.00066445,  0.00066445,  0.00066445,           0,           0,           0,           0,           0,           0,           0,           0,           0,           0,           0,           0,           0,           0,           0,           0,           0,           0,           0,\n",
       "                  0,           0,           0,           0,           0,           0,           0,           0,           0,           0,           0,           0,           0,           0,           0,           0,           0,           0,           0,           0,           0,           0,           0,\n",
       "                  0,           0,           0,           0,           0,           0,           0,           0,           0,           0,           0,           0,           0,           0,           0,           0,           0,           0,           0,           0,           0,           0,           0,\n",
       "                  0,           0,           0,           0,           0,           0,           0,           0,           0,           0,           0,           0,           0,           0,           0,           0,           0,           0,           0,           0,           0,           0,           0,\n",
       "                  0,           0,           0,           0,           0,           0,           0,           0,           0,           0,           0,           0,           0,           0,           0,           0,           0,           0,           0,           0,           0,           0,           0,\n",
       "                  0,           0,           0,           0,           0,           0,           0,           0,           0,           0,           0,           0,           0,           0,           0,           0,           0,           0,           0,           0,           0,           0,           0,\n",
       "                  0,           0,           0,           0,           0,           0,           0,           0,           0,           0,           0,           0,           0,           0,           0,           0,           0,           0,           0,           0,           0,           0,           0,\n",
       "                  0,           0,           0,           0,           0,           0,           0,           0,           0,           0,           0,           0,           0,           0,           0,           0,           0,           0,           0,           0,           0,           0,           0,\n",
       "                  0,           0,           0,           0,           0,           0,           0,           0,           0,           0,           0,           0,           0,           0,           0,           0,           0,           0,           0,           0,           0,           0,           0,\n",
       "                  0,           0,           0,           0,           0,           0,           0,           0,           0,           0,           0,           0,           0,           0,           0,           0,           0,           0,           0,           0,           0,           0,           0,\n",
       "                  0,           0,           0,           0,           0,           0,           0,           0,           0,           0,           0,           0,           0,           0,           0,           0,           0,           0,           0,           0,           0,           0,           0,\n",
       "                  0,           0,           0,           0,           0,           0,           0,           0,           0,           0,           0,           0,           0,           0,           0,           0,           0,           0,           0,           0,           0,           0,           0,\n",
       "                  0,           0,           0,           0,           0,           0,           0,           0,           0,           0,           0,           0,           0,           0,           0,           0,           0,           0,           0,           0,           0,           0,           0,\n",
       "                  0,           0,           0,           0,           0,           0,           0,           0,           0,           0,           0,           0,           0,           0,           0,           0,           0,           0,           0,           0,           0,           0,           0,\n",
       "                  0,           0,           0,           0,           0,           0,           0,           0,           0,           0,           0,           0,           0,           0,           0,           0,           0,           0,           0,           0,           0,           0,           0,\n",
       "                  0,           0,           0,           0,           0,           0,           0,           0,           0,           0,           0,           0,           0,           0,           0,           0,           0,           0,           0,           0,           0,           0,           0,\n",
       "                  0,           0,           0,           0,           0,           0,           0,           0,           0,           0,           0,           0,           0,           0,           0,           0,           0,           0,           0,           0,           0,           0,           0,\n",
       "                  0,           0,           0,           0,           0,           0,           0,           0,           0,           0,           0,           0,           0,           0,           0,           0,           0,           0,           0,           0,           0,           0,           0,\n",
       "                  0,           0,           0,           0,           0,           0,           0,           0,           0,           0,           0,           0,           0,           0,           0,           0,           0,           0,           0,           0,           0,           0,           0,\n",
       "                  0,           0,           0,           0,           0,           0,           0,           0,           0,           0,           0,           0,           0,           0,           0,           0,           0,           0,           0,           0,           0,           0,           0,\n",
       "                  0,           0,           0,           0,           0,           0,           0,           0,           0,           0,           0,           0,           0,           0,           0,           0,           0,           0,           0,           0,           0,           0,           0,\n",
       "                  0,           0,           0,           0,           0,           0,           0,           0,           0,           0,           0,           0,           0,           0,           0,           0,           0,           0,           0,           0,           0,           0,           0,\n",
       "                  0,           0,           0,           0,           0,           0,           0,           0,           0,           0,           0,           0,           0,           0,           0,           0,           0,           0,           0,           0,           0,           0,           0,\n",
       "                  0,           0,           0,           0,           0,           0,           0,           0,           0,           0,           0,           0,           0,           0,           0,           0,           0,           0,           0,           0,           0,           0,           0,\n",
       "                  0,           0,           0,           0,           0,           0,           0,           0,           0,           0,           0,           0,           0,           0,           0,           0,           0,           0,           0,           0,           0,           0,           0,\n",
       "                  0,           0,           0,           0,           0,           0,           0,           0,           0,           0,           0,           0,           0,           0,           0,           0,           0,           0,           0,           0,           0,           0,           0,\n",
       "                  0,           0,           0,           0,           0,           0,           0,           0,           0,           0,           0,           0,           0,           0,           0,           0,           0,           0,           0,           0,           0,           0,           0,\n",
       "                  0,           0,           0,           0,           0,           0,           0,           0,           0,           0,           0,           0,           0,           0,           0,           0,           0,           0,           0,           0,           0,           0,           0,\n",
       "                  0,           0,           0,           0,           0,           0,           0,           0,           0,           0,           0,           0,           0,           0,           0,           0,           0,           0,           0,           0,           0,           0,           0,\n",
       "                  0,           0,           0,           0,           0,           0,           0,           0,           0,           0,           0,           0,           0,           0,           0,           0,           0,           0,           0,           0,           0,           0,           0,\n",
       "                  0,           0,           0,           0,           0,           0,           0,           0,           0,           0,           0,           0,           0,           0,           0,           0,           0,           0,           0,           0,           0,           0,           0,\n",
       "                  0,           0,           0,           0,           0,           0,           0,           0,           0,           0,           0,           0,           0,           0,           0,           0,           0,           0,           0,           0,           0,           0,           0,\n",
       "                  0,           0,           0,           0,           0,           0,           0,           0,           0,           0,           0,           0,           0,           0,           0,           0,           0,           0,           0,           0,           0,           0,           0,\n",
       "                  0,           0,           0,           0,           0,           0,           0,           0,           0,           0,           0,           0,           0,           0,           0,           0,           0,           0,           0,           0,           0,           0,           0,\n",
       "                  0,           0,           0,           0,           0,           0,           0,           0,           0,           0,           0,           0,           0,           0,           0,           0,           0,           0,           0,           0,           0,           0,           0,\n",
       "                  0,           0,           0,           0,           0,           0,           0,           0,           0,           0,           0,           0,           0,           0,           0,           0,           0,           0,           0,           0,           0,           0,           0,\n",
       "                  0,           0,           0,           0,           0,           0,           0,           0,           0,           0,           0,           0,           0,           0,           0,           0,           0,           0,           0,           0,           0,           0,           0,\n",
       "                  0,           0,           0,           0,           0,           0,           0,           0,           0,           0,           0,           0,           0,           0,           0,           0,           0,           0,           0,           0,           0,           0,           0,\n",
       "                  0,           0,           0,           0,           0,           0,           0,           0,           0,           0,           0,           0,           0,           0,           0,           0,           0,           0,           0,           0,           0,           0,           0,\n",
       "                  0,           0,           0,           0,           0,           0,           0,           0,           0,           0,           0,           0,           0,           0,           0,           0,           0,           0,           0,           0,           0,           0,           0,\n",
       "                  0,           0,           0,           0,           0,           0,           0,           0,           0,           0,           0,           0,           0,           0,           0,           0,           0,           0,           0,           0,           0,           0,           0,\n",
       "                  0,           0,           0,           0,           0,           0,           0,           0,           0,           0,           0,           0,           0,           0,           0,           0,           0,           0,           0,           0,           0,           0,           0,\n",
       "                  0,           0,           0,           0,           0,           0,           0,           0,           0,           0,           0,           0,           0,           0,           0,           0,           0,           0,           0,           0,           0,           0,           0,\n",
       "                  0,           0,           0,           0,           0,           0,           0,           0,           0,           0,           0]]), 'Confidence', 'F1'], [array([          0,    0.001001,    0.002002,    0.003003,    0.004004,    0.005005,    0.006006,    0.007007,    0.008008,    0.009009,     0.01001,    0.011011,    0.012012,    0.013013,    0.014014,    0.015015,    0.016016,    0.017017,    0.018018,    0.019019,     0.02002,    0.021021,    0.022022,    0.023023,\n",
       "          0.024024,    0.025025,    0.026026,    0.027027,    0.028028,    0.029029,     0.03003,    0.031031,    0.032032,    0.033033,    0.034034,    0.035035,    0.036036,    0.037037,    0.038038,    0.039039,     0.04004,    0.041041,    0.042042,    0.043043,    0.044044,    0.045045,    0.046046,    0.047047,\n",
       "          0.048048,    0.049049,     0.05005,    0.051051,    0.052052,    0.053053,    0.054054,    0.055055,    0.056056,    0.057057,    0.058058,    0.059059,     0.06006,    0.061061,    0.062062,    0.063063,    0.064064,    0.065065,    0.066066,    0.067067,    0.068068,    0.069069,     0.07007,    0.071071,\n",
       "          0.072072,    0.073073,    0.074074,    0.075075,    0.076076,    0.077077,    0.078078,    0.079079,     0.08008,    0.081081,    0.082082,    0.083083,    0.084084,    0.085085,    0.086086,    0.087087,    0.088088,    0.089089,     0.09009,    0.091091,    0.092092,    0.093093,    0.094094,    0.095095,\n",
       "          0.096096,    0.097097,    0.098098,    0.099099,      0.1001,      0.1011,      0.1021,      0.1031,      0.1041,     0.10511,     0.10611,     0.10711,     0.10811,     0.10911,     0.11011,     0.11111,     0.11211,     0.11311,     0.11411,     0.11512,     0.11612,     0.11712,     0.11812,     0.11912,\n",
       "           0.12012,     0.12112,     0.12212,     0.12312,     0.12412,     0.12513,     0.12613,     0.12713,     0.12813,     0.12913,     0.13013,     0.13113,     0.13213,     0.13313,     0.13413,     0.13514,     0.13614,     0.13714,     0.13814,     0.13914,     0.14014,     0.14114,     0.14214,     0.14314,\n",
       "           0.14414,     0.14515,     0.14615,     0.14715,     0.14815,     0.14915,     0.15015,     0.15115,     0.15215,     0.15315,     0.15415,     0.15516,     0.15616,     0.15716,     0.15816,     0.15916,     0.16016,     0.16116,     0.16216,     0.16316,     0.16416,     0.16517,     0.16617,     0.16717,\n",
       "           0.16817,     0.16917,     0.17017,     0.17117,     0.17217,     0.17317,     0.17417,     0.17518,     0.17618,     0.17718,     0.17818,     0.17918,     0.18018,     0.18118,     0.18218,     0.18318,     0.18418,     0.18519,     0.18619,     0.18719,     0.18819,     0.18919,     0.19019,     0.19119,\n",
       "           0.19219,     0.19319,     0.19419,      0.1952,      0.1962,      0.1972,      0.1982,      0.1992,      0.2002,      0.2012,      0.2022,      0.2032,      0.2042,     0.20521,     0.20621,     0.20721,     0.20821,     0.20921,     0.21021,     0.21121,     0.21221,     0.21321,     0.21421,     0.21522,\n",
       "           0.21622,     0.21722,     0.21822,     0.21922,     0.22022,     0.22122,     0.22222,     0.22322,     0.22422,     0.22523,     0.22623,     0.22723,     0.22823,     0.22923,     0.23023,     0.23123,     0.23223,     0.23323,     0.23423,     0.23524,     0.23624,     0.23724,     0.23824,     0.23924,\n",
       "           0.24024,     0.24124,     0.24224,     0.24324,     0.24424,     0.24525,     0.24625,     0.24725,     0.24825,     0.24925,     0.25025,     0.25125,     0.25225,     0.25325,     0.25425,     0.25526,     0.25626,     0.25726,     0.25826,     0.25926,     0.26026,     0.26126,     0.26226,     0.26326,\n",
       "           0.26426,     0.26527,     0.26627,     0.26727,     0.26827,     0.26927,     0.27027,     0.27127,     0.27227,     0.27327,     0.27427,     0.27528,     0.27628,     0.27728,     0.27828,     0.27928,     0.28028,     0.28128,     0.28228,     0.28328,     0.28428,     0.28529,     0.28629,     0.28729,\n",
       "           0.28829,     0.28929,     0.29029,     0.29129,     0.29229,     0.29329,     0.29429,      0.2953,      0.2963,      0.2973,      0.2983,      0.2993,      0.3003,      0.3013,      0.3023,      0.3033,      0.3043,     0.30531,     0.30631,     0.30731,     0.30831,     0.30931,     0.31031,     0.31131,\n",
       "           0.31231,     0.31331,     0.31431,     0.31532,     0.31632,     0.31732,     0.31832,     0.31932,     0.32032,     0.32132,     0.32232,     0.32332,     0.32432,     0.32533,     0.32633,     0.32733,     0.32833,     0.32933,     0.33033,     0.33133,     0.33233,     0.33333,     0.33433,     0.33534,\n",
       "           0.33634,     0.33734,     0.33834,     0.33934,     0.34034,     0.34134,     0.34234,     0.34334,     0.34434,     0.34535,     0.34635,     0.34735,     0.34835,     0.34935,     0.35035,     0.35135,     0.35235,     0.35335,     0.35435,     0.35536,     0.35636,     0.35736,     0.35836,     0.35936,\n",
       "           0.36036,     0.36136,     0.36236,     0.36336,     0.36436,     0.36537,     0.36637,     0.36737,     0.36837,     0.36937,     0.37037,     0.37137,     0.37237,     0.37337,     0.37437,     0.37538,     0.37638,     0.37738,     0.37838,     0.37938,     0.38038,     0.38138,     0.38238,     0.38338,\n",
       "           0.38438,     0.38539,     0.38639,     0.38739,     0.38839,     0.38939,     0.39039,     0.39139,     0.39239,     0.39339,     0.39439,      0.3954,      0.3964,      0.3974,      0.3984,      0.3994,      0.4004,      0.4014,      0.4024,      0.4034,      0.4044,     0.40541,     0.40641,     0.40741,\n",
       "           0.40841,     0.40941,     0.41041,     0.41141,     0.41241,     0.41341,     0.41441,     0.41542,     0.41642,     0.41742,     0.41842,     0.41942,     0.42042,     0.42142,     0.42242,     0.42342,     0.42442,     0.42543,     0.42643,     0.42743,     0.42843,     0.42943,     0.43043,     0.43143,\n",
       "           0.43243,     0.43343,     0.43443,     0.43544,     0.43644,     0.43744,     0.43844,     0.43944,     0.44044,     0.44144,     0.44244,     0.44344,     0.44444,     0.44545,     0.44645,     0.44745,     0.44845,     0.44945,     0.45045,     0.45145,     0.45245,     0.45345,     0.45445,     0.45546,\n",
       "           0.45646,     0.45746,     0.45846,     0.45946,     0.46046,     0.46146,     0.46246,     0.46346,     0.46446,     0.46547,     0.46647,     0.46747,     0.46847,     0.46947,     0.47047,     0.47147,     0.47247,     0.47347,     0.47447,     0.47548,     0.47648,     0.47748,     0.47848,     0.47948,\n",
       "           0.48048,     0.48148,     0.48248,     0.48348,     0.48448,     0.48549,     0.48649,     0.48749,     0.48849,     0.48949,     0.49049,     0.49149,     0.49249,     0.49349,     0.49449,      0.4955,      0.4965,      0.4975,      0.4985,      0.4995,      0.5005,      0.5015,      0.5025,      0.5035,\n",
       "            0.5045,     0.50551,     0.50651,     0.50751,     0.50851,     0.50951,     0.51051,     0.51151,     0.51251,     0.51351,     0.51451,     0.51552,     0.51652,     0.51752,     0.51852,     0.51952,     0.52052,     0.52152,     0.52252,     0.52352,     0.52452,     0.52553,     0.52653,     0.52753,\n",
       "           0.52853,     0.52953,     0.53053,     0.53153,     0.53253,     0.53353,     0.53453,     0.53554,     0.53654,     0.53754,     0.53854,     0.53954,     0.54054,     0.54154,     0.54254,     0.54354,     0.54454,     0.54555,     0.54655,     0.54755,     0.54855,     0.54955,     0.55055,     0.55155,\n",
       "           0.55255,     0.55355,     0.55455,     0.55556,     0.55656,     0.55756,     0.55856,     0.55956,     0.56056,     0.56156,     0.56256,     0.56356,     0.56456,     0.56557,     0.56657,     0.56757,     0.56857,     0.56957,     0.57057,     0.57157,     0.57257,     0.57357,     0.57457,     0.57558,\n",
       "           0.57658,     0.57758,     0.57858,     0.57958,     0.58058,     0.58158,     0.58258,     0.58358,     0.58458,     0.58559,     0.58659,     0.58759,     0.58859,     0.58959,     0.59059,     0.59159,     0.59259,     0.59359,     0.59459,      0.5956,      0.5966,      0.5976,      0.5986,      0.5996,\n",
       "            0.6006,      0.6016,      0.6026,      0.6036,      0.6046,     0.60561,     0.60661,     0.60761,     0.60861,     0.60961,     0.61061,     0.61161,     0.61261,     0.61361,     0.61461,     0.61562,     0.61662,     0.61762,     0.61862,     0.61962,     0.62062,     0.62162,     0.62262,     0.62362,\n",
       "           0.62462,     0.62563,     0.62663,     0.62763,     0.62863,     0.62963,     0.63063,     0.63163,     0.63263,     0.63363,     0.63463,     0.63564,     0.63664,     0.63764,     0.63864,     0.63964,     0.64064,     0.64164,     0.64264,     0.64364,     0.64464,     0.64565,     0.64665,     0.64765,\n",
       "           0.64865,     0.64965,     0.65065,     0.65165,     0.65265,     0.65365,     0.65465,     0.65566,     0.65666,     0.65766,     0.65866,     0.65966,     0.66066,     0.66166,     0.66266,     0.66366,     0.66466,     0.66567,     0.66667,     0.66767,     0.66867,     0.66967,     0.67067,     0.67167,\n",
       "           0.67267,     0.67367,     0.67467,     0.67568,     0.67668,     0.67768,     0.67868,     0.67968,     0.68068,     0.68168,     0.68268,     0.68368,     0.68468,     0.68569,     0.68669,     0.68769,     0.68869,     0.68969,     0.69069,     0.69169,     0.69269,     0.69369,     0.69469,      0.6957,\n",
       "            0.6967,      0.6977,      0.6987,      0.6997,      0.7007,      0.7017,      0.7027,      0.7037,      0.7047,     0.70571,     0.70671,     0.70771,     0.70871,     0.70971,     0.71071,     0.71171,     0.71271,     0.71371,     0.71471,     0.71572,     0.71672,     0.71772,     0.71872,     0.71972,\n",
       "           0.72072,     0.72172,     0.72272,     0.72372,     0.72472,     0.72573,     0.72673,     0.72773,     0.72873,     0.72973,     0.73073,     0.73173,     0.73273,     0.73373,     0.73473,     0.73574,     0.73674,     0.73774,     0.73874,     0.73974,     0.74074,     0.74174,     0.74274,     0.74374,\n",
       "           0.74474,     0.74575,     0.74675,     0.74775,     0.74875,     0.74975,     0.75075,     0.75175,     0.75275,     0.75375,     0.75475,     0.75576,     0.75676,     0.75776,     0.75876,     0.75976,     0.76076,     0.76176,     0.76276,     0.76376,     0.76476,     0.76577,     0.76677,     0.76777,\n",
       "           0.76877,     0.76977,     0.77077,     0.77177,     0.77277,     0.77377,     0.77477,     0.77578,     0.77678,     0.77778,     0.77878,     0.77978,     0.78078,     0.78178,     0.78278,     0.78378,     0.78478,     0.78579,     0.78679,     0.78779,     0.78879,     0.78979,     0.79079,     0.79179,\n",
       "           0.79279,     0.79379,     0.79479,      0.7958,      0.7968,      0.7978,      0.7988,      0.7998,      0.8008,      0.8018,      0.8028,      0.8038,      0.8048,     0.80581,     0.80681,     0.80781,     0.80881,     0.80981,     0.81081,     0.81181,     0.81281,     0.81381,     0.81481,     0.81582,\n",
       "           0.81682,     0.81782,     0.81882,     0.81982,     0.82082,     0.82182,     0.82282,     0.82382,     0.82482,     0.82583,     0.82683,     0.82783,     0.82883,     0.82983,     0.83083,     0.83183,     0.83283,     0.83383,     0.83483,     0.83584,     0.83684,     0.83784,     0.83884,     0.83984,\n",
       "           0.84084,     0.84184,     0.84284,     0.84384,     0.84484,     0.84585,     0.84685,     0.84785,     0.84885,     0.84985,     0.85085,     0.85185,     0.85285,     0.85385,     0.85485,     0.85586,     0.85686,     0.85786,     0.85886,     0.85986,     0.86086,     0.86186,     0.86286,     0.86386,\n",
       "           0.86486,     0.86587,     0.86687,     0.86787,     0.86887,     0.86987,     0.87087,     0.87187,     0.87287,     0.87387,     0.87487,     0.87588,     0.87688,     0.87788,     0.87888,     0.87988,     0.88088,     0.88188,     0.88288,     0.88388,     0.88488,     0.88589,     0.88689,     0.88789,\n",
       "           0.88889,     0.88989,     0.89089,     0.89189,     0.89289,     0.89389,     0.89489,      0.8959,      0.8969,      0.8979,      0.8989,      0.8999,      0.9009,      0.9019,      0.9029,      0.9039,      0.9049,     0.90591,     0.90691,     0.90791,     0.90891,     0.90991,     0.91091,     0.91191,\n",
       "           0.91291,     0.91391,     0.91491,     0.91592,     0.91692,     0.91792,     0.91892,     0.91992,     0.92092,     0.92192,     0.92292,     0.92392,     0.92492,     0.92593,     0.92693,     0.92793,     0.92893,     0.92993,     0.93093,     0.93193,     0.93293,     0.93393,     0.93493,     0.93594,\n",
       "           0.93694,     0.93794,     0.93894,     0.93994,     0.94094,     0.94194,     0.94294,     0.94394,     0.94494,     0.94595,     0.94695,     0.94795,     0.94895,     0.94995,     0.95095,     0.95195,     0.95295,     0.95395,     0.95495,     0.95596,     0.95696,     0.95796,     0.95896,     0.95996,\n",
       "           0.96096,     0.96196,     0.96296,     0.96396,     0.96496,     0.96597,     0.96697,     0.96797,     0.96897,     0.96997,     0.97097,     0.97197,     0.97297,     0.97397,     0.97497,     0.97598,     0.97698,     0.97798,     0.97898,     0.97998,     0.98098,     0.98198,     0.98298,     0.98398,\n",
       "           0.98498,     0.98599,     0.98699,     0.98799,     0.98899,     0.98999,     0.99099,     0.99199,     0.99299,     0.99399,     0.99499,       0.996,       0.997,       0.998,       0.999,           1]), array([[ 0.00033333,  0.00033333,  0.00033333,  0.00033333,           0,           0,           0,           0,           0,           0,           0,           0,           0,           1,           1,           1,           1,           1,           1,           1,           1,           1,           1,\n",
       "                  1,           1,           1,           1,           1,           1,           1,           1,           1,           1,           1,           1,           1,           1,           1,           1,           1,           1,           1,           1,           1,           1,           1,\n",
       "                  1,           1,           1,           1,           1,           1,           1,           1,           1,           1,           1,           1,           1,           1,           1,           1,           1,           1,           1,           1,           1,           1,           1,\n",
       "                  1,           1,           1,           1,           1,           1,           1,           1,           1,           1,           1,           1,           1,           1,           1,           1,           1,           1,           1,           1,           1,           1,           1,\n",
       "                  1,           1,           1,           1,           1,           1,           1,           1,           1,           1,           1,           1,           1,           1,           1,           1,           1,           1,           1,           1,           1,           1,           1,\n",
       "                  1,           1,           1,           1,           1,           1,           1,           1,           1,           1,           1,           1,           1,           1,           1,           1,           1,           1,           1,           1,           1,           1,           1,\n",
       "                  1,           1,           1,           1,           1,           1,           1,           1,           1,           1,           1,           1,           1,           1,           1,           1,           1,           1,           1,           1,           1,           1,           1,\n",
       "                  1,           1,           1,           1,           1,           1,           1,           1,           1,           1,           1,           1,           1,           1,           1,           1,           1,           1,           1,           1,           1,           1,           1,\n",
       "                  1,           1,           1,           1,           1,           1,           1,           1,           1,           1,           1,           1,           1,           1,           1,           1,           1,           1,           1,           1,           1,           1,           1,\n",
       "                  1,           1,           1,           1,           1,           1,           1,           1,           1,           1,           1,           1,           1,           1,           1,           1,           1,           1,           1,           1,           1,           1,           1,\n",
       "                  1,           1,           1,           1,           1,           1,           1,           1,           1,           1,           1,           1,           1,           1,           1,           1,           1,           1,           1,           1,           1,           1,           1,\n",
       "                  1,           1,           1,           1,           1,           1,           1,           1,           1,           1,           1,           1,           1,           1,           1,           1,           1,           1,           1,           1,           1,           1,           1,\n",
       "                  1,           1,           1,           1,           1,           1,           1,           1,           1,           1,           1,           1,           1,           1,           1,           1,           1,           1,           1,           1,           1,           1,           1,\n",
       "                  1,           1,           1,           1,           1,           1,           1,           1,           1,           1,           1,           1,           1,           1,           1,           1,           1,           1,           1,           1,           1,           1,           1,\n",
       "                  1,           1,           1,           1,           1,           1,           1,           1,           1,           1,           1,           1,           1,           1,           1,           1,           1,           1,           1,           1,           1,           1,           1,\n",
       "                  1,           1,           1,           1,           1,           1,           1,           1,           1,           1,           1,           1,           1,           1,           1,           1,           1,           1,           1,           1,           1,           1,           1,\n",
       "                  1,           1,           1,           1,           1,           1,           1,           1,           1,           1,           1,           1,           1,           1,           1,           1,           1,           1,           1,           1,           1,           1,           1,\n",
       "                  1,           1,           1,           1,           1,           1,           1,           1,           1,           1,           1,           1,           1,           1,           1,           1,           1,           1,           1,           1,           1,           1,           1,\n",
       "                  1,           1,           1,           1,           1,           1,           1,           1,           1,           1,           1,           1,           1,           1,           1,           1,           1,           1,           1,           1,           1,           1,           1,\n",
       "                  1,           1,           1,           1,           1,           1,           1,           1,           1,           1,           1,           1,           1,           1,           1,           1,           1,           1,           1,           1,           1,           1,           1,\n",
       "                  1,           1,           1,           1,           1,           1,           1,           1,           1,           1,           1,           1,           1,           1,           1,           1,           1,           1,           1,           1,           1,           1,           1,\n",
       "                  1,           1,           1,           1,           1,           1,           1,           1,           1,           1,           1,           1,           1,           1,           1,           1,           1,           1,           1,           1,           1,           1,           1,\n",
       "                  1,           1,           1,           1,           1,           1,           1,           1,           1,           1,           1,           1,           1,           1,           1,           1,           1,           1,           1,           1,           1,           1,           1,\n",
       "                  1,           1,           1,           1,           1,           1,           1,           1,           1,           1,           1,           1,           1,           1,           1,           1,           1,           1,           1,           1,           1,           1,           1,\n",
       "                  1,           1,           1,           1,           1,           1,           1,           1,           1,           1,           1,           1,           1,           1,           1,           1,           1,           1,           1,           1,           1,           1,           1,\n",
       "                  1,           1,           1,           1,           1,           1,           1,           1,           1,           1,           1,           1,           1,           1,           1,           1,           1,           1,           1,           1,           1,           1,           1,\n",
       "                  1,           1,           1,           1,           1,           1,           1,           1,           1,           1,           1,           1,           1,           1,           1,           1,           1,           1,           1,           1,           1,           1,           1,\n",
       "                  1,           1,           1,           1,           1,           1,           1,           1,           1,           1,           1,           1,           1,           1,           1,           1,           1,           1,           1,           1,           1,           1,           1,\n",
       "                  1,           1,           1,           1,           1,           1,           1,           1,           1,           1,           1,           1,           1,           1,           1,           1,           1,           1,           1,           1,           1,           1,           1,\n",
       "                  1,           1,           1,           1,           1,           1,           1,           1,           1,           1,           1,           1,           1,           1,           1,           1,           1,           1,           1,           1,           1,           1,           1,\n",
       "                  1,           1,           1,           1,           1,           1,           1,           1,           1,           1,           1,           1,           1,           1,           1,           1,           1,           1,           1,           1,           1,           1,           1,\n",
       "                  1,           1,           1,           1,           1,           1,           1,           1,           1,           1,           1,           1,           1,           1,           1,           1,           1,           1,           1,           1,           1,           1,           1,\n",
       "                  1,           1,           1,           1,           1,           1,           1,           1,           1,           1,           1,           1,           1,           1,           1,           1,           1,           1,           1,           1,           1,           1,           1,\n",
       "                  1,           1,           1,           1,           1,           1,           1,           1,           1,           1,           1,           1,           1,           1,           1,           1,           1,           1,           1,           1,           1,           1,           1,\n",
       "                  1,           1,           1,           1,           1,           1,           1,           1,           1,           1,           1,           1,           1,           1,           1,           1,           1,           1,           1,           1,           1,           1,           1,\n",
       "                  1,           1,           1,           1,           1,           1,           1,           1,           1,           1,           1,           1,           1,           1,           1,           1,           1,           1,           1,           1,           1,           1,           1,\n",
       "                  1,           1,           1,           1,           1,           1,           1,           1,           1,           1,           1,           1,           1,           1,           1,           1,           1,           1,           1,           1,           1,           1,           1,\n",
       "                  1,           1,           1,           1,           1,           1,           1,           1,           1,           1,           1,           1,           1,           1,           1,           1,           1,           1,           1,           1,           1,           1,           1,\n",
       "                  1,           1,           1,           1,           1,           1,           1,           1,           1,           1,           1,           1,           1,           1,           1,           1,           1,           1,           1,           1,           1,           1,           1,\n",
       "                  1,           1,           1,           1,           1,           1,           1,           1,           1,           1,           1,           1,           1,           1,           1,           1,           1,           1,           1,           1,           1,           1,           1,\n",
       "                  1,           1,           1,           1,           1,           1,           1,           1,           1,           1,           1,           1,           1,           1,           1,           1,           1,           1,           1,           1,           1,           1,           1,\n",
       "                  1,           1,           1,           1,           1,           1,           1,           1,           1,           1,           1,           1,           1,           1,           1,           1,           1,           1,           1,           1,           1,           1,           1,\n",
       "                  1,           1,           1,           1,           1,           1,           1,           1,           1,           1,           1,           1,           1,           1,           1,           1,           1,           1,           1,           1,           1,           1,           1,\n",
       "                  1,           1,           1,           1,           1,           1,           1,           1,           1,           1,           1]]), 'Confidence', 'Precision'], [array([          0,    0.001001,    0.002002,    0.003003,    0.004004,    0.005005,    0.006006,    0.007007,    0.008008,    0.009009,     0.01001,    0.011011,    0.012012,    0.013013,    0.014014,    0.015015,    0.016016,    0.017017,    0.018018,    0.019019,     0.02002,    0.021021,    0.022022,    0.023023,\n",
       "          0.024024,    0.025025,    0.026026,    0.027027,    0.028028,    0.029029,     0.03003,    0.031031,    0.032032,    0.033033,    0.034034,    0.035035,    0.036036,    0.037037,    0.038038,    0.039039,     0.04004,    0.041041,    0.042042,    0.043043,    0.044044,    0.045045,    0.046046,    0.047047,\n",
       "          0.048048,    0.049049,     0.05005,    0.051051,    0.052052,    0.053053,    0.054054,    0.055055,    0.056056,    0.057057,    0.058058,    0.059059,     0.06006,    0.061061,    0.062062,    0.063063,    0.064064,    0.065065,    0.066066,    0.067067,    0.068068,    0.069069,     0.07007,    0.071071,\n",
       "          0.072072,    0.073073,    0.074074,    0.075075,    0.076076,    0.077077,    0.078078,    0.079079,     0.08008,    0.081081,    0.082082,    0.083083,    0.084084,    0.085085,    0.086086,    0.087087,    0.088088,    0.089089,     0.09009,    0.091091,    0.092092,    0.093093,    0.094094,    0.095095,\n",
       "          0.096096,    0.097097,    0.098098,    0.099099,      0.1001,      0.1011,      0.1021,      0.1031,      0.1041,     0.10511,     0.10611,     0.10711,     0.10811,     0.10911,     0.11011,     0.11111,     0.11211,     0.11311,     0.11411,     0.11512,     0.11612,     0.11712,     0.11812,     0.11912,\n",
       "           0.12012,     0.12112,     0.12212,     0.12312,     0.12412,     0.12513,     0.12613,     0.12713,     0.12813,     0.12913,     0.13013,     0.13113,     0.13213,     0.13313,     0.13413,     0.13514,     0.13614,     0.13714,     0.13814,     0.13914,     0.14014,     0.14114,     0.14214,     0.14314,\n",
       "           0.14414,     0.14515,     0.14615,     0.14715,     0.14815,     0.14915,     0.15015,     0.15115,     0.15215,     0.15315,     0.15415,     0.15516,     0.15616,     0.15716,     0.15816,     0.15916,     0.16016,     0.16116,     0.16216,     0.16316,     0.16416,     0.16517,     0.16617,     0.16717,\n",
       "           0.16817,     0.16917,     0.17017,     0.17117,     0.17217,     0.17317,     0.17417,     0.17518,     0.17618,     0.17718,     0.17818,     0.17918,     0.18018,     0.18118,     0.18218,     0.18318,     0.18418,     0.18519,     0.18619,     0.18719,     0.18819,     0.18919,     0.19019,     0.19119,\n",
       "           0.19219,     0.19319,     0.19419,      0.1952,      0.1962,      0.1972,      0.1982,      0.1992,      0.2002,      0.2012,      0.2022,      0.2032,      0.2042,     0.20521,     0.20621,     0.20721,     0.20821,     0.20921,     0.21021,     0.21121,     0.21221,     0.21321,     0.21421,     0.21522,\n",
       "           0.21622,     0.21722,     0.21822,     0.21922,     0.22022,     0.22122,     0.22222,     0.22322,     0.22422,     0.22523,     0.22623,     0.22723,     0.22823,     0.22923,     0.23023,     0.23123,     0.23223,     0.23323,     0.23423,     0.23524,     0.23624,     0.23724,     0.23824,     0.23924,\n",
       "           0.24024,     0.24124,     0.24224,     0.24324,     0.24424,     0.24525,     0.24625,     0.24725,     0.24825,     0.24925,     0.25025,     0.25125,     0.25225,     0.25325,     0.25425,     0.25526,     0.25626,     0.25726,     0.25826,     0.25926,     0.26026,     0.26126,     0.26226,     0.26326,\n",
       "           0.26426,     0.26527,     0.26627,     0.26727,     0.26827,     0.26927,     0.27027,     0.27127,     0.27227,     0.27327,     0.27427,     0.27528,     0.27628,     0.27728,     0.27828,     0.27928,     0.28028,     0.28128,     0.28228,     0.28328,     0.28428,     0.28529,     0.28629,     0.28729,\n",
       "           0.28829,     0.28929,     0.29029,     0.29129,     0.29229,     0.29329,     0.29429,      0.2953,      0.2963,      0.2973,      0.2983,      0.2993,      0.3003,      0.3013,      0.3023,      0.3033,      0.3043,     0.30531,     0.30631,     0.30731,     0.30831,     0.30931,     0.31031,     0.31131,\n",
       "           0.31231,     0.31331,     0.31431,     0.31532,     0.31632,     0.31732,     0.31832,     0.31932,     0.32032,     0.32132,     0.32232,     0.32332,     0.32432,     0.32533,     0.32633,     0.32733,     0.32833,     0.32933,     0.33033,     0.33133,     0.33233,     0.33333,     0.33433,     0.33534,\n",
       "           0.33634,     0.33734,     0.33834,     0.33934,     0.34034,     0.34134,     0.34234,     0.34334,     0.34434,     0.34535,     0.34635,     0.34735,     0.34835,     0.34935,     0.35035,     0.35135,     0.35235,     0.35335,     0.35435,     0.35536,     0.35636,     0.35736,     0.35836,     0.35936,\n",
       "           0.36036,     0.36136,     0.36236,     0.36336,     0.36436,     0.36537,     0.36637,     0.36737,     0.36837,     0.36937,     0.37037,     0.37137,     0.37237,     0.37337,     0.37437,     0.37538,     0.37638,     0.37738,     0.37838,     0.37938,     0.38038,     0.38138,     0.38238,     0.38338,\n",
       "           0.38438,     0.38539,     0.38639,     0.38739,     0.38839,     0.38939,     0.39039,     0.39139,     0.39239,     0.39339,     0.39439,      0.3954,      0.3964,      0.3974,      0.3984,      0.3994,      0.4004,      0.4014,      0.4024,      0.4034,      0.4044,     0.40541,     0.40641,     0.40741,\n",
       "           0.40841,     0.40941,     0.41041,     0.41141,     0.41241,     0.41341,     0.41441,     0.41542,     0.41642,     0.41742,     0.41842,     0.41942,     0.42042,     0.42142,     0.42242,     0.42342,     0.42442,     0.42543,     0.42643,     0.42743,     0.42843,     0.42943,     0.43043,     0.43143,\n",
       "           0.43243,     0.43343,     0.43443,     0.43544,     0.43644,     0.43744,     0.43844,     0.43944,     0.44044,     0.44144,     0.44244,     0.44344,     0.44444,     0.44545,     0.44645,     0.44745,     0.44845,     0.44945,     0.45045,     0.45145,     0.45245,     0.45345,     0.45445,     0.45546,\n",
       "           0.45646,     0.45746,     0.45846,     0.45946,     0.46046,     0.46146,     0.46246,     0.46346,     0.46446,     0.46547,     0.46647,     0.46747,     0.46847,     0.46947,     0.47047,     0.47147,     0.47247,     0.47347,     0.47447,     0.47548,     0.47648,     0.47748,     0.47848,     0.47948,\n",
       "           0.48048,     0.48148,     0.48248,     0.48348,     0.48448,     0.48549,     0.48649,     0.48749,     0.48849,     0.48949,     0.49049,     0.49149,     0.49249,     0.49349,     0.49449,      0.4955,      0.4965,      0.4975,      0.4985,      0.4995,      0.5005,      0.5015,      0.5025,      0.5035,\n",
       "            0.5045,     0.50551,     0.50651,     0.50751,     0.50851,     0.50951,     0.51051,     0.51151,     0.51251,     0.51351,     0.51451,     0.51552,     0.51652,     0.51752,     0.51852,     0.51952,     0.52052,     0.52152,     0.52252,     0.52352,     0.52452,     0.52553,     0.52653,     0.52753,\n",
       "           0.52853,     0.52953,     0.53053,     0.53153,     0.53253,     0.53353,     0.53453,     0.53554,     0.53654,     0.53754,     0.53854,     0.53954,     0.54054,     0.54154,     0.54254,     0.54354,     0.54454,     0.54555,     0.54655,     0.54755,     0.54855,     0.54955,     0.55055,     0.55155,\n",
       "           0.55255,     0.55355,     0.55455,     0.55556,     0.55656,     0.55756,     0.55856,     0.55956,     0.56056,     0.56156,     0.56256,     0.56356,     0.56456,     0.56557,     0.56657,     0.56757,     0.56857,     0.56957,     0.57057,     0.57157,     0.57257,     0.57357,     0.57457,     0.57558,\n",
       "           0.57658,     0.57758,     0.57858,     0.57958,     0.58058,     0.58158,     0.58258,     0.58358,     0.58458,     0.58559,     0.58659,     0.58759,     0.58859,     0.58959,     0.59059,     0.59159,     0.59259,     0.59359,     0.59459,      0.5956,      0.5966,      0.5976,      0.5986,      0.5996,\n",
       "            0.6006,      0.6016,      0.6026,      0.6036,      0.6046,     0.60561,     0.60661,     0.60761,     0.60861,     0.60961,     0.61061,     0.61161,     0.61261,     0.61361,     0.61461,     0.61562,     0.61662,     0.61762,     0.61862,     0.61962,     0.62062,     0.62162,     0.62262,     0.62362,\n",
       "           0.62462,     0.62563,     0.62663,     0.62763,     0.62863,     0.62963,     0.63063,     0.63163,     0.63263,     0.63363,     0.63463,     0.63564,     0.63664,     0.63764,     0.63864,     0.63964,     0.64064,     0.64164,     0.64264,     0.64364,     0.64464,     0.64565,     0.64665,     0.64765,\n",
       "           0.64865,     0.64965,     0.65065,     0.65165,     0.65265,     0.65365,     0.65465,     0.65566,     0.65666,     0.65766,     0.65866,     0.65966,     0.66066,     0.66166,     0.66266,     0.66366,     0.66466,     0.66567,     0.66667,     0.66767,     0.66867,     0.66967,     0.67067,     0.67167,\n",
       "           0.67267,     0.67367,     0.67467,     0.67568,     0.67668,     0.67768,     0.67868,     0.67968,     0.68068,     0.68168,     0.68268,     0.68368,     0.68468,     0.68569,     0.68669,     0.68769,     0.68869,     0.68969,     0.69069,     0.69169,     0.69269,     0.69369,     0.69469,      0.6957,\n",
       "            0.6967,      0.6977,      0.6987,      0.6997,      0.7007,      0.7017,      0.7027,      0.7037,      0.7047,     0.70571,     0.70671,     0.70771,     0.70871,     0.70971,     0.71071,     0.71171,     0.71271,     0.71371,     0.71471,     0.71572,     0.71672,     0.71772,     0.71872,     0.71972,\n",
       "           0.72072,     0.72172,     0.72272,     0.72372,     0.72472,     0.72573,     0.72673,     0.72773,     0.72873,     0.72973,     0.73073,     0.73173,     0.73273,     0.73373,     0.73473,     0.73574,     0.73674,     0.73774,     0.73874,     0.73974,     0.74074,     0.74174,     0.74274,     0.74374,\n",
       "           0.74474,     0.74575,     0.74675,     0.74775,     0.74875,     0.74975,     0.75075,     0.75175,     0.75275,     0.75375,     0.75475,     0.75576,     0.75676,     0.75776,     0.75876,     0.75976,     0.76076,     0.76176,     0.76276,     0.76376,     0.76476,     0.76577,     0.76677,     0.76777,\n",
       "           0.76877,     0.76977,     0.77077,     0.77177,     0.77277,     0.77377,     0.77477,     0.77578,     0.77678,     0.77778,     0.77878,     0.77978,     0.78078,     0.78178,     0.78278,     0.78378,     0.78478,     0.78579,     0.78679,     0.78779,     0.78879,     0.78979,     0.79079,     0.79179,\n",
       "           0.79279,     0.79379,     0.79479,      0.7958,      0.7968,      0.7978,      0.7988,      0.7998,      0.8008,      0.8018,      0.8028,      0.8038,      0.8048,     0.80581,     0.80681,     0.80781,     0.80881,     0.80981,     0.81081,     0.81181,     0.81281,     0.81381,     0.81481,     0.81582,\n",
       "           0.81682,     0.81782,     0.81882,     0.81982,     0.82082,     0.82182,     0.82282,     0.82382,     0.82482,     0.82583,     0.82683,     0.82783,     0.82883,     0.82983,     0.83083,     0.83183,     0.83283,     0.83383,     0.83483,     0.83584,     0.83684,     0.83784,     0.83884,     0.83984,\n",
       "           0.84084,     0.84184,     0.84284,     0.84384,     0.84484,     0.84585,     0.84685,     0.84785,     0.84885,     0.84985,     0.85085,     0.85185,     0.85285,     0.85385,     0.85485,     0.85586,     0.85686,     0.85786,     0.85886,     0.85986,     0.86086,     0.86186,     0.86286,     0.86386,\n",
       "           0.86486,     0.86587,     0.86687,     0.86787,     0.86887,     0.86987,     0.87087,     0.87187,     0.87287,     0.87387,     0.87487,     0.87588,     0.87688,     0.87788,     0.87888,     0.87988,     0.88088,     0.88188,     0.88288,     0.88388,     0.88488,     0.88589,     0.88689,     0.88789,\n",
       "           0.88889,     0.88989,     0.89089,     0.89189,     0.89289,     0.89389,     0.89489,      0.8959,      0.8969,      0.8979,      0.8989,      0.8999,      0.9009,      0.9019,      0.9029,      0.9039,      0.9049,     0.90591,     0.90691,     0.90791,     0.90891,     0.90991,     0.91091,     0.91191,\n",
       "           0.91291,     0.91391,     0.91491,     0.91592,     0.91692,     0.91792,     0.91892,     0.91992,     0.92092,     0.92192,     0.92292,     0.92392,     0.92492,     0.92593,     0.92693,     0.92793,     0.92893,     0.92993,     0.93093,     0.93193,     0.93293,     0.93393,     0.93493,     0.93594,\n",
       "           0.93694,     0.93794,     0.93894,     0.93994,     0.94094,     0.94194,     0.94294,     0.94394,     0.94494,     0.94595,     0.94695,     0.94795,     0.94895,     0.94995,     0.95095,     0.95195,     0.95295,     0.95395,     0.95495,     0.95596,     0.95696,     0.95796,     0.95896,     0.95996,\n",
       "           0.96096,     0.96196,     0.96296,     0.96396,     0.96496,     0.96597,     0.96697,     0.96797,     0.96897,     0.96997,     0.97097,     0.97197,     0.97297,     0.97397,     0.97497,     0.97598,     0.97698,     0.97798,     0.97898,     0.97998,     0.98098,     0.98198,     0.98298,     0.98398,\n",
       "           0.98498,     0.98599,     0.98699,     0.98799,     0.98899,     0.98999,     0.99099,     0.99199,     0.99299,     0.99399,     0.99499,       0.996,       0.997,       0.998,       0.999,           1]), array([[        0.1,         0.1,         0.1,         0.1,           0,           0,           0,           0,           0,           0,           0,           0,           0,           0,           0,           0,           0,           0,           0,           0,           0,           0,           0,\n",
       "                  0,           0,           0,           0,           0,           0,           0,           0,           0,           0,           0,           0,           0,           0,           0,           0,           0,           0,           0,           0,           0,           0,           0,\n",
       "                  0,           0,           0,           0,           0,           0,           0,           0,           0,           0,           0,           0,           0,           0,           0,           0,           0,           0,           0,           0,           0,           0,           0,\n",
       "                  0,           0,           0,           0,           0,           0,           0,           0,           0,           0,           0,           0,           0,           0,           0,           0,           0,           0,           0,           0,           0,           0,           0,\n",
       "                  0,           0,           0,           0,           0,           0,           0,           0,           0,           0,           0,           0,           0,           0,           0,           0,           0,           0,           0,           0,           0,           0,           0,\n",
       "                  0,           0,           0,           0,           0,           0,           0,           0,           0,           0,           0,           0,           0,           0,           0,           0,           0,           0,           0,           0,           0,           0,           0,\n",
       "                  0,           0,           0,           0,           0,           0,           0,           0,           0,           0,           0,           0,           0,           0,           0,           0,           0,           0,           0,           0,           0,           0,           0,\n",
       "                  0,           0,           0,           0,           0,           0,           0,           0,           0,           0,           0,           0,           0,           0,           0,           0,           0,           0,           0,           0,           0,           0,           0,\n",
       "                  0,           0,           0,           0,           0,           0,           0,           0,           0,           0,           0,           0,           0,           0,           0,           0,           0,           0,           0,           0,           0,           0,           0,\n",
       "                  0,           0,           0,           0,           0,           0,           0,           0,           0,           0,           0,           0,           0,           0,           0,           0,           0,           0,           0,           0,           0,           0,           0,\n",
       "                  0,           0,           0,           0,           0,           0,           0,           0,           0,           0,           0,           0,           0,           0,           0,           0,           0,           0,           0,           0,           0,           0,           0,\n",
       "                  0,           0,           0,           0,           0,           0,           0,           0,           0,           0,           0,           0,           0,           0,           0,           0,           0,           0,           0,           0,           0,           0,           0,\n",
       "                  0,           0,           0,           0,           0,           0,           0,           0,           0,           0,           0,           0,           0,           0,           0,           0,           0,           0,           0,           0,           0,           0,           0,\n",
       "                  0,           0,           0,           0,           0,           0,           0,           0,           0,           0,           0,           0,           0,           0,           0,           0,           0,           0,           0,           0,           0,           0,           0,\n",
       "                  0,           0,           0,           0,           0,           0,           0,           0,           0,           0,           0,           0,           0,           0,           0,           0,           0,           0,           0,           0,           0,           0,           0,\n",
       "                  0,           0,           0,           0,           0,           0,           0,           0,           0,           0,           0,           0,           0,           0,           0,           0,           0,           0,           0,           0,           0,           0,           0,\n",
       "                  0,           0,           0,           0,           0,           0,           0,           0,           0,           0,           0,           0,           0,           0,           0,           0,           0,           0,           0,           0,           0,           0,           0,\n",
       "                  0,           0,           0,           0,           0,           0,           0,           0,           0,           0,           0,           0,           0,           0,           0,           0,           0,           0,           0,           0,           0,           0,           0,\n",
       "                  0,           0,           0,           0,           0,           0,           0,           0,           0,           0,           0,           0,           0,           0,           0,           0,           0,           0,           0,           0,           0,           0,           0,\n",
       "                  0,           0,           0,           0,           0,           0,           0,           0,           0,           0,           0,           0,           0,           0,           0,           0,           0,           0,           0,           0,           0,           0,           0,\n",
       "                  0,           0,           0,           0,           0,           0,           0,           0,           0,           0,           0,           0,           0,           0,           0,           0,           0,           0,           0,           0,           0,           0,           0,\n",
       "                  0,           0,           0,           0,           0,           0,           0,           0,           0,           0,           0,           0,           0,           0,           0,           0,           0,           0,           0,           0,           0,           0,           0,\n",
       "                  0,           0,           0,           0,           0,           0,           0,           0,           0,           0,           0,           0,           0,           0,           0,           0,           0,           0,           0,           0,           0,           0,           0,\n",
       "                  0,           0,           0,           0,           0,           0,           0,           0,           0,           0,           0,           0,           0,           0,           0,           0,           0,           0,           0,           0,           0,           0,           0,\n",
       "                  0,           0,           0,           0,           0,           0,           0,           0,           0,           0,           0,           0,           0,           0,           0,           0,           0,           0,           0,           0,           0,           0,           0,\n",
       "                  0,           0,           0,           0,           0,           0,           0,           0,           0,           0,           0,           0,           0,           0,           0,           0,           0,           0,           0,           0,           0,           0,           0,\n",
       "                  0,           0,           0,           0,           0,           0,           0,           0,           0,           0,           0,           0,           0,           0,           0,           0,           0,           0,           0,           0,           0,           0,           0,\n",
       "                  0,           0,           0,           0,           0,           0,           0,           0,           0,           0,           0,           0,           0,           0,           0,           0,           0,           0,           0,           0,           0,           0,           0,\n",
       "                  0,           0,           0,           0,           0,           0,           0,           0,           0,           0,           0,           0,           0,           0,           0,           0,           0,           0,           0,           0,           0,           0,           0,\n",
       "                  0,           0,           0,           0,           0,           0,           0,           0,           0,           0,           0,           0,           0,           0,           0,           0,           0,           0,           0,           0,           0,           0,           0,\n",
       "                  0,           0,           0,           0,           0,           0,           0,           0,           0,           0,           0,           0,           0,           0,           0,           0,           0,           0,           0,           0,           0,           0,           0,\n",
       "                  0,           0,           0,           0,           0,           0,           0,           0,           0,           0,           0,           0,           0,           0,           0,           0,           0,           0,           0,           0,           0,           0,           0,\n",
       "                  0,           0,           0,           0,           0,           0,           0,           0,           0,           0,           0,           0,           0,           0,           0,           0,           0,           0,           0,           0,           0,           0,           0,\n",
       "                  0,           0,           0,           0,           0,           0,           0,           0,           0,           0,           0,           0,           0,           0,           0,           0,           0,           0,           0,           0,           0,           0,           0,\n",
       "                  0,           0,           0,           0,           0,           0,           0,           0,           0,           0,           0,           0,           0,           0,           0,           0,           0,           0,           0,           0,           0,           0,           0,\n",
       "                  0,           0,           0,           0,           0,           0,           0,           0,           0,           0,           0,           0,           0,           0,           0,           0,           0,           0,           0,           0,           0,           0,           0,\n",
       "                  0,           0,           0,           0,           0,           0,           0,           0,           0,           0,           0,           0,           0,           0,           0,           0,           0,           0,           0,           0,           0,           0,           0,\n",
       "                  0,           0,           0,           0,           0,           0,           0,           0,           0,           0,           0,           0,           0,           0,           0,           0,           0,           0,           0,           0,           0,           0,           0,\n",
       "                  0,           0,           0,           0,           0,           0,           0,           0,           0,           0,           0,           0,           0,           0,           0,           0,           0,           0,           0,           0,           0,           0,           0,\n",
       "                  0,           0,           0,           0,           0,           0,           0,           0,           0,           0,           0,           0,           0,           0,           0,           0,           0,           0,           0,           0,           0,           0,           0,\n",
       "                  0,           0,           0,           0,           0,           0,           0,           0,           0,           0,           0,           0,           0,           0,           0,           0,           0,           0,           0,           0,           0,           0,           0,\n",
       "                  0,           0,           0,           0,           0,           0,           0,           0,           0,           0,           0,           0,           0,           0,           0,           0,           0,           0,           0,           0,           0,           0,           0,\n",
       "                  0,           0,           0,           0,           0,           0,           0,           0,           0,           0,           0,           0,           0,           0,           0,           0,           0,           0,           0,           0,           0,           0,           0,\n",
       "                  0,           0,           0,           0,           0,           0,           0,           0,           0,           0,           0]]), 'Confidence', 'Recall']]\n",
       "fitness: 0.00014786031746031746\n",
       "keys: ['metrics/precision(B)', 'metrics/recall(B)', 'metrics/mAP50(B)', 'metrics/mAP50-95(B)']\n",
       "maps: array([ 0.00013862])\n",
       "names: {0: 'Tag'}\n",
       "plot: True\n",
       "results_dict: {'metrics/precision(B)': 0.0003333333333333333, 'metrics/recall(B)': 0.1, 'metrics/mAP50(B)': 0.00023103174603174601, 'metrics/mAP50-95(B)': 0.00013861904761904763, 'fitness': 0.00014786031746031746}\n",
       "save_dir: WindowsPath('runs/detect/train6')\n",
       "speed: {'preprocess': 0.19998550415039062, 'inference': 1.1000394821166992, 'loss': 0.0, 'postprocess': 0.899958610534668}\n",
       "task: 'detect'"
      ]
     },
     "execution_count": 1,
     "metadata": {},
     "output_type": "execute_result"
    }
   ],
   "source": [
    "from ultralytics import YOLO\n",
    "\n",
    "# Load a pretrained model\n",
    "model = YOLO(\"yolov8n.pt\")\n",
    "\n",
    "# Train the model using your .yaml file\n",
    "model.train(data=\"data.yaml\", epochs=50)\n"
   ]
  },
  {
   "cell_type": "code",
   "execution_count": 3,
   "id": "63a5e901-104d-430f-b7d4-6e8ba9872dbd",
   "metadata": {},
   "outputs": [
    {
     "name": "stdout",
     "output_type": "stream",
     "text": [
      "\n",
      "video 1/1 (1/1341) C:\\Users\\Alexkoh\\Desktop\\Footfallcam\\sample.mp4: 480x640 (no detections), 7.0ms\n",
      "video 1/1 (2/1341) C:\\Users\\Alexkoh\\Desktop\\Footfallcam\\sample.mp4: 480x640 (no detections), 7.0ms\n",
      "video 1/1 (3/1341) C:\\Users\\Alexkoh\\Desktop\\Footfallcam\\sample.mp4: 480x640 (no detections), 9.0ms\n",
      "video 1/1 (4/1341) C:\\Users\\Alexkoh\\Desktop\\Footfallcam\\sample.mp4: 480x640 (no detections), 8.7ms\n",
      "video 1/1 (5/1341) C:\\Users\\Alexkoh\\Desktop\\Footfallcam\\sample.mp4: 480x640 (no detections), 8.0ms\n",
      "video 1/1 (6/1341) C:\\Users\\Alexkoh\\Desktop\\Footfallcam\\sample.mp4: 480x640 (no detections), 7.0ms\n",
      "video 1/1 (7/1341) C:\\Users\\Alexkoh\\Desktop\\Footfallcam\\sample.mp4: 480x640 (no detections), 8.6ms\n",
      "video 1/1 (8/1341) C:\\Users\\Alexkoh\\Desktop\\Footfallcam\\sample.mp4: 480x640 (no detections), 7.0ms\n",
      "video 1/1 (9/1341) C:\\Users\\Alexkoh\\Desktop\\Footfallcam\\sample.mp4: 480x640 (no detections), 8.0ms\n",
      "video 1/1 (10/1341) C:\\Users\\Alexkoh\\Desktop\\Footfallcam\\sample.mp4: 480x640 (no detections), 9.1ms\n",
      "video 1/1 (11/1341) C:\\Users\\Alexkoh\\Desktop\\Footfallcam\\sample.mp4: 480x640 (no detections), 7.0ms\n",
      "video 1/1 (12/1341) C:\\Users\\Alexkoh\\Desktop\\Footfallcam\\sample.mp4: 480x640 (no detections), 9.0ms\n",
      "video 1/1 (13/1341) C:\\Users\\Alexkoh\\Desktop\\Footfallcam\\sample.mp4: 480x640 (no detections), 8.8ms\n",
      "video 1/1 (14/1341) C:\\Users\\Alexkoh\\Desktop\\Footfallcam\\sample.mp4: 480x640 (no detections), 6.0ms\n",
      "video 1/1 (15/1341) C:\\Users\\Alexkoh\\Desktop\\Footfallcam\\sample.mp4: 480x640 (no detections), 8.4ms\n",
      "video 1/1 (16/1341) C:\\Users\\Alexkoh\\Desktop\\Footfallcam\\sample.mp4: 480x640 (no detections), 8.0ms\n",
      "video 1/1 (17/1341) C:\\Users\\Alexkoh\\Desktop\\Footfallcam\\sample.mp4: 480x640 (no detections), 7.0ms\n",
      "video 1/1 (18/1341) C:\\Users\\Alexkoh\\Desktop\\Footfallcam\\sample.mp4: 480x640 (no detections), 7.6ms\n",
      "video 1/1 (19/1341) C:\\Users\\Alexkoh\\Desktop\\Footfallcam\\sample.mp4: 480x640 (no detections), 6.0ms\n",
      "video 1/1 (20/1341) C:\\Users\\Alexkoh\\Desktop\\Footfallcam\\sample.mp4: 480x640 (no detections), 6.0ms\n",
      "video 1/1 (21/1341) C:\\Users\\Alexkoh\\Desktop\\Footfallcam\\sample.mp4: 480x640 (no detections), 7.0ms\n",
      "video 1/1 (22/1341) C:\\Users\\Alexkoh\\Desktop\\Footfallcam\\sample.mp4: 480x640 (no detections), 6.0ms\n",
      "video 1/1 (23/1341) C:\\Users\\Alexkoh\\Desktop\\Footfallcam\\sample.mp4: 480x640 (no detections), 7.0ms\n",
      "video 1/1 (24/1341) C:\\Users\\Alexkoh\\Desktop\\Footfallcam\\sample.mp4: 480x640 (no detections), 7.0ms\n",
      "video 1/1 (25/1341) C:\\Users\\Alexkoh\\Desktop\\Footfallcam\\sample.mp4: 480x640 (no detections), 6.0ms\n",
      "video 1/1 (26/1341) C:\\Users\\Alexkoh\\Desktop\\Footfallcam\\sample.mp4: 480x640 (no detections), 7.0ms\n",
      "video 1/1 (27/1341) C:\\Users\\Alexkoh\\Desktop\\Footfallcam\\sample.mp4: 480x640 (no detections), 7.0ms\n",
      "video 1/1 (28/1341) C:\\Users\\Alexkoh\\Desktop\\Footfallcam\\sample.mp4: 480x640 (no detections), 6.0ms\n",
      "video 1/1 (29/1341) C:\\Users\\Alexkoh\\Desktop\\Footfallcam\\sample.mp4: 480x640 (no detections), 7.0ms\n",
      "video 1/1 (30/1341) C:\\Users\\Alexkoh\\Desktop\\Footfallcam\\sample.mp4: 480x640 (no detections), 7.0ms\n",
      "video 1/1 (31/1341) C:\\Users\\Alexkoh\\Desktop\\Footfallcam\\sample.mp4: 480x640 (no detections), 6.0ms\n",
      "video 1/1 (32/1341) C:\\Users\\Alexkoh\\Desktop\\Footfallcam\\sample.mp4: 480x640 (no detections), 7.0ms\n",
      "video 1/1 (33/1341) C:\\Users\\Alexkoh\\Desktop\\Footfallcam\\sample.mp4: 480x640 (no detections), 7.0ms\n",
      "video 1/1 (34/1341) C:\\Users\\Alexkoh\\Desktop\\Footfallcam\\sample.mp4: 480x640 (no detections), 6.0ms\n",
      "video 1/1 (35/1341) C:\\Users\\Alexkoh\\Desktop\\Footfallcam\\sample.mp4: 480x640 (no detections), 7.0ms\n",
      "video 1/1 (36/1341) C:\\Users\\Alexkoh\\Desktop\\Footfallcam\\sample.mp4: 480x640 (no detections), 6.0ms\n",
      "video 1/1 (37/1341) C:\\Users\\Alexkoh\\Desktop\\Footfallcam\\sample.mp4: 480x640 (no detections), 7.0ms\n",
      "video 1/1 (38/1341) C:\\Users\\Alexkoh\\Desktop\\Footfallcam\\sample.mp4: 480x640 (no detections), 6.0ms\n",
      "video 1/1 (39/1341) C:\\Users\\Alexkoh\\Desktop\\Footfallcam\\sample.mp4: 480x640 (no detections), 6.0ms\n",
      "video 1/1 (40/1341) C:\\Users\\Alexkoh\\Desktop\\Footfallcam\\sample.mp4: 480x640 (no detections), 5.0ms\n",
      "video 1/1 (41/1341) C:\\Users\\Alexkoh\\Desktop\\Footfallcam\\sample.mp4: 480x640 (no detections), 6.0ms\n",
      "video 1/1 (42/1341) C:\\Users\\Alexkoh\\Desktop\\Footfallcam\\sample.mp4: 480x640 (no detections), 6.0ms\n",
      "video 1/1 (43/1341) C:\\Users\\Alexkoh\\Desktop\\Footfallcam\\sample.mp4: 480x640 (no detections), 7.0ms\n",
      "video 1/1 (44/1341) C:\\Users\\Alexkoh\\Desktop\\Footfallcam\\sample.mp4: 480x640 (no detections), 6.0ms\n",
      "video 1/1 (45/1341) C:\\Users\\Alexkoh\\Desktop\\Footfallcam\\sample.mp4: 480x640 (no detections), 5.0ms\n",
      "video 1/1 (46/1341) C:\\Users\\Alexkoh\\Desktop\\Footfallcam\\sample.mp4: 480x640 (no detections), 6.0ms\n",
      "video 1/1 (47/1341) C:\\Users\\Alexkoh\\Desktop\\Footfallcam\\sample.mp4: 480x640 (no detections), 5.0ms\n",
      "video 1/1 (48/1341) C:\\Users\\Alexkoh\\Desktop\\Footfallcam\\sample.mp4: 480x640 (no detections), 6.0ms\n",
      "video 1/1 (49/1341) C:\\Users\\Alexkoh\\Desktop\\Footfallcam\\sample.mp4: 480x640 (no detections), 6.0ms\n",
      "video 1/1 (50/1341) C:\\Users\\Alexkoh\\Desktop\\Footfallcam\\sample.mp4: 480x640 (no detections), 6.0ms\n",
      "video 1/1 (51/1341) C:\\Users\\Alexkoh\\Desktop\\Footfallcam\\sample.mp4: 480x640 (no detections), 6.0ms\n",
      "video 1/1 (52/1341) C:\\Users\\Alexkoh\\Desktop\\Footfallcam\\sample.mp4: 480x640 (no detections), 6.0ms\n",
      "video 1/1 (53/1341) C:\\Users\\Alexkoh\\Desktop\\Footfallcam\\sample.mp4: 480x640 (no detections), 6.0ms\n",
      "video 1/1 (54/1341) C:\\Users\\Alexkoh\\Desktop\\Footfallcam\\sample.mp4: 480x640 (no detections), 7.0ms\n",
      "video 1/1 (55/1341) C:\\Users\\Alexkoh\\Desktop\\Footfallcam\\sample.mp4: 480x640 (no detections), 6.0ms\n",
      "video 1/1 (56/1341) C:\\Users\\Alexkoh\\Desktop\\Footfallcam\\sample.mp4: 480x640 (no detections), 6.0ms\n",
      "video 1/1 (57/1341) C:\\Users\\Alexkoh\\Desktop\\Footfallcam\\sample.mp4: 480x640 (no detections), 7.0ms\n",
      "video 1/1 (58/1341) C:\\Users\\Alexkoh\\Desktop\\Footfallcam\\sample.mp4: 480x640 (no detections), 6.0ms\n",
      "video 1/1 (59/1341) C:\\Users\\Alexkoh\\Desktop\\Footfallcam\\sample.mp4: 480x640 (no detections), 6.0ms\n",
      "video 1/1 (60/1341) C:\\Users\\Alexkoh\\Desktop\\Footfallcam\\sample.mp4: 480x640 (no detections), 7.0ms\n",
      "video 1/1 (61/1341) C:\\Users\\Alexkoh\\Desktop\\Footfallcam\\sample.mp4: 480x640 (no detections), 6.0ms\n",
      "video 1/1 (62/1341) C:\\Users\\Alexkoh\\Desktop\\Footfallcam\\sample.mp4: 480x640 (no detections), 6.0ms\n",
      "video 1/1 (63/1341) C:\\Users\\Alexkoh\\Desktop\\Footfallcam\\sample.mp4: 480x640 (no detections), 6.0ms\n",
      "video 1/1 (64/1341) C:\\Users\\Alexkoh\\Desktop\\Footfallcam\\sample.mp4: 480x640 (no detections), 5.0ms\n",
      "video 1/1 (65/1341) C:\\Users\\Alexkoh\\Desktop\\Footfallcam\\sample.mp4: 480x640 (no detections), 7.0ms\n",
      "video 1/1 (66/1341) C:\\Users\\Alexkoh\\Desktop\\Footfallcam\\sample.mp4: 480x640 (no detections), 5.0ms\n",
      "video 1/1 (67/1341) C:\\Users\\Alexkoh\\Desktop\\Footfallcam\\sample.mp4: 480x640 (no detections), 7.5ms\n",
      "video 1/1 (68/1341) C:\\Users\\Alexkoh\\Desktop\\Footfallcam\\sample.mp4: 480x640 (no detections), 6.0ms\n",
      "video 1/1 (69/1341) C:\\Users\\Alexkoh\\Desktop\\Footfallcam\\sample.mp4: 480x640 (no detections), 6.0ms\n",
      "video 1/1 (70/1341) C:\\Users\\Alexkoh\\Desktop\\Footfallcam\\sample.mp4: 480x640 (no detections), 6.0ms\n",
      "video 1/1 (71/1341) C:\\Users\\Alexkoh\\Desktop\\Footfallcam\\sample.mp4: 480x640 (no detections), 6.0ms\n",
      "video 1/1 (72/1341) C:\\Users\\Alexkoh\\Desktop\\Footfallcam\\sample.mp4: 480x640 (no detections), 6.0ms\n",
      "video 1/1 (73/1341) C:\\Users\\Alexkoh\\Desktop\\Footfallcam\\sample.mp4: 480x640 (no detections), 6.0ms\n",
      "video 1/1 (74/1341) C:\\Users\\Alexkoh\\Desktop\\Footfallcam\\sample.mp4: 480x640 (no detections), 5.0ms\n",
      "video 1/1 (75/1341) C:\\Users\\Alexkoh\\Desktop\\Footfallcam\\sample.mp4: 480x640 (no detections), 6.0ms\n",
      "video 1/1 (76/1341) C:\\Users\\Alexkoh\\Desktop\\Footfallcam\\sample.mp4: 480x640 (no detections), 6.0ms\n",
      "video 1/1 (77/1341) C:\\Users\\Alexkoh\\Desktop\\Footfallcam\\sample.mp4: 480x640 (no detections), 6.0ms\n",
      "video 1/1 (78/1341) C:\\Users\\Alexkoh\\Desktop\\Footfallcam\\sample.mp4: 480x640 (no detections), 6.0ms\n",
      "video 1/1 (79/1341) C:\\Users\\Alexkoh\\Desktop\\Footfallcam\\sample.mp4: 480x640 (no detections), 6.0ms\n",
      "video 1/1 (80/1341) C:\\Users\\Alexkoh\\Desktop\\Footfallcam\\sample.mp4: 480x640 (no detections), 6.0ms\n",
      "video 1/1 (81/1341) C:\\Users\\Alexkoh\\Desktop\\Footfallcam\\sample.mp4: 480x640 (no detections), 5.0ms\n",
      "video 1/1 (82/1341) C:\\Users\\Alexkoh\\Desktop\\Footfallcam\\sample.mp4: 480x640 (no detections), 7.0ms\n",
      "video 1/1 (83/1341) C:\\Users\\Alexkoh\\Desktop\\Footfallcam\\sample.mp4: 480x640 (no detections), 6.0ms\n",
      "video 1/1 (84/1341) C:\\Users\\Alexkoh\\Desktop\\Footfallcam\\sample.mp4: 480x640 (no detections), 7.0ms\n",
      "video 1/1 (85/1341) C:\\Users\\Alexkoh\\Desktop\\Footfallcam\\sample.mp4: 480x640 (no detections), 6.0ms\n",
      "video 1/1 (86/1341) C:\\Users\\Alexkoh\\Desktop\\Footfallcam\\sample.mp4: 480x640 (no detections), 6.0ms\n",
      "video 1/1 (87/1341) C:\\Users\\Alexkoh\\Desktop\\Footfallcam\\sample.mp4: 480x640 (no detections), 5.0ms\n",
      "video 1/1 (88/1341) C:\\Users\\Alexkoh\\Desktop\\Footfallcam\\sample.mp4: 480x640 (no detections), 5.0ms\n",
      "video 1/1 (89/1341) C:\\Users\\Alexkoh\\Desktop\\Footfallcam\\sample.mp4: 480x640 (no detections), 6.0ms\n",
      "video 1/1 (90/1341) C:\\Users\\Alexkoh\\Desktop\\Footfallcam\\sample.mp4: 480x640 (no detections), 6.0ms\n",
      "video 1/1 (91/1341) C:\\Users\\Alexkoh\\Desktop\\Footfallcam\\sample.mp4: 480x640 (no detections), 6.0ms\n",
      "video 1/1 (92/1341) C:\\Users\\Alexkoh\\Desktop\\Footfallcam\\sample.mp4: 480x640 (no detections), 6.0ms\n",
      "video 1/1 (93/1341) C:\\Users\\Alexkoh\\Desktop\\Footfallcam\\sample.mp4: 480x640 (no detections), 7.0ms\n",
      "video 1/1 (94/1341) C:\\Users\\Alexkoh\\Desktop\\Footfallcam\\sample.mp4: 480x640 (no detections), 6.0ms\n",
      "video 1/1 (95/1341) C:\\Users\\Alexkoh\\Desktop\\Footfallcam\\sample.mp4: 480x640 (no detections), 5.0ms\n",
      "video 1/1 (96/1341) C:\\Users\\Alexkoh\\Desktop\\Footfallcam\\sample.mp4: 480x640 (no detections), 6.0ms\n",
      "video 1/1 (97/1341) C:\\Users\\Alexkoh\\Desktop\\Footfallcam\\sample.mp4: 480x640 (no detections), 5.0ms\n",
      "video 1/1 (98/1341) C:\\Users\\Alexkoh\\Desktop\\Footfallcam\\sample.mp4: 480x640 (no detections), 6.0ms\n",
      "video 1/1 (99/1341) C:\\Users\\Alexkoh\\Desktop\\Footfallcam\\sample.mp4: 480x640 (no detections), 6.0ms\n",
      "video 1/1 (100/1341) C:\\Users\\Alexkoh\\Desktop\\Footfallcam\\sample.mp4: 480x640 (no detections), 6.0ms\n",
      "video 1/1 (101/1341) C:\\Users\\Alexkoh\\Desktop\\Footfallcam\\sample.mp4: 480x640 (no detections), 7.0ms\n",
      "video 1/1 (102/1341) C:\\Users\\Alexkoh\\Desktop\\Footfallcam\\sample.mp4: 480x640 (no detections), 6.0ms\n",
      "video 1/1 (103/1341) C:\\Users\\Alexkoh\\Desktop\\Footfallcam\\sample.mp4: 480x640 (no detections), 6.0ms\n",
      "video 1/1 (104/1341) C:\\Users\\Alexkoh\\Desktop\\Footfallcam\\sample.mp4: 480x640 (no detections), 7.0ms\n",
      "video 1/1 (105/1341) C:\\Users\\Alexkoh\\Desktop\\Footfallcam\\sample.mp4: 480x640 (no detections), 6.0ms\n",
      "video 1/1 (106/1341) C:\\Users\\Alexkoh\\Desktop\\Footfallcam\\sample.mp4: 480x640 (no detections), 5.0ms\n",
      "video 1/1 (107/1341) C:\\Users\\Alexkoh\\Desktop\\Footfallcam\\sample.mp4: 480x640 (no detections), 6.0ms\n",
      "video 1/1 (108/1341) C:\\Users\\Alexkoh\\Desktop\\Footfallcam\\sample.mp4: 480x640 (no detections), 5.0ms\n",
      "video 1/1 (109/1341) C:\\Users\\Alexkoh\\Desktop\\Footfallcam\\sample.mp4: 480x640 (no detections), 5.0ms\n",
      "video 1/1 (110/1341) C:\\Users\\Alexkoh\\Desktop\\Footfallcam\\sample.mp4: 480x640 (no detections), 5.0ms\n",
      "video 1/1 (111/1341) C:\\Users\\Alexkoh\\Desktop\\Footfallcam\\sample.mp4: 480x640 (no detections), 5.0ms\n",
      "video 1/1 (112/1341) C:\\Users\\Alexkoh\\Desktop\\Footfallcam\\sample.mp4: 480x640 (no detections), 5.0ms\n",
      "video 1/1 (113/1341) C:\\Users\\Alexkoh\\Desktop\\Footfallcam\\sample.mp4: 480x640 (no detections), 5.0ms\n",
      "video 1/1 (114/1341) C:\\Users\\Alexkoh\\Desktop\\Footfallcam\\sample.mp4: 480x640 (no detections), 5.0ms\n",
      "video 1/1 (115/1341) C:\\Users\\Alexkoh\\Desktop\\Footfallcam\\sample.mp4: 480x640 (no detections), 5.0ms\n",
      "video 1/1 (116/1341) C:\\Users\\Alexkoh\\Desktop\\Footfallcam\\sample.mp4: 480x640 (no detections), 5.0ms\n",
      "video 1/1 (117/1341) C:\\Users\\Alexkoh\\Desktop\\Footfallcam\\sample.mp4: 480x640 (no detections), 5.0ms\n",
      "video 1/1 (118/1341) C:\\Users\\Alexkoh\\Desktop\\Footfallcam\\sample.mp4: 480x640 (no detections), 6.0ms\n",
      "video 1/1 (119/1341) C:\\Users\\Alexkoh\\Desktop\\Footfallcam\\sample.mp4: 480x640 (no detections), 5.0ms\n",
      "video 1/1 (120/1341) C:\\Users\\Alexkoh\\Desktop\\Footfallcam\\sample.mp4: 480x640 (no detections), 5.0ms\n",
      "video 1/1 (121/1341) C:\\Users\\Alexkoh\\Desktop\\Footfallcam\\sample.mp4: 480x640 (no detections), 5.0ms\n",
      "video 1/1 (122/1341) C:\\Users\\Alexkoh\\Desktop\\Footfallcam\\sample.mp4: 480x640 (no detections), 5.0ms\n",
      "video 1/1 (123/1341) C:\\Users\\Alexkoh\\Desktop\\Footfallcam\\sample.mp4: 480x640 (no detections), 5.0ms\n",
      "video 1/1 (124/1341) C:\\Users\\Alexkoh\\Desktop\\Footfallcam\\sample.mp4: 480x640 (no detections), 5.0ms\n",
      "video 1/1 (125/1341) C:\\Users\\Alexkoh\\Desktop\\Footfallcam\\sample.mp4: 480x640 (no detections), 5.0ms\n",
      "video 1/1 (126/1341) C:\\Users\\Alexkoh\\Desktop\\Footfallcam\\sample.mp4: 480x640 (no detections), 5.0ms\n",
      "video 1/1 (127/1341) C:\\Users\\Alexkoh\\Desktop\\Footfallcam\\sample.mp4: 480x640 (no detections), 5.0ms\n",
      "video 1/1 (128/1341) C:\\Users\\Alexkoh\\Desktop\\Footfallcam\\sample.mp4: 480x640 (no detections), 6.0ms\n",
      "video 1/1 (129/1341) C:\\Users\\Alexkoh\\Desktop\\Footfallcam\\sample.mp4: 480x640 (no detections), 6.0ms\n",
      "video 1/1 (130/1341) C:\\Users\\Alexkoh\\Desktop\\Footfallcam\\sample.mp4: 480x640 (no detections), 6.0ms\n",
      "video 1/1 (131/1341) C:\\Users\\Alexkoh\\Desktop\\Footfallcam\\sample.mp4: 480x640 (no detections), 5.0ms\n",
      "video 1/1 (132/1341) C:\\Users\\Alexkoh\\Desktop\\Footfallcam\\sample.mp4: 480x640 (no detections), 4.0ms\n",
      "video 1/1 (133/1341) C:\\Users\\Alexkoh\\Desktop\\Footfallcam\\sample.mp4: 480x640 (no detections), 5.0ms\n",
      "video 1/1 (134/1341) C:\\Users\\Alexkoh\\Desktop\\Footfallcam\\sample.mp4: 480x640 (no detections), 5.0ms\n",
      "video 1/1 (135/1341) C:\\Users\\Alexkoh\\Desktop\\Footfallcam\\sample.mp4: 480x640 (no detections), 7.0ms\n",
      "video 1/1 (136/1341) C:\\Users\\Alexkoh\\Desktop\\Footfallcam\\sample.mp4: 480x640 (no detections), 5.0ms\n",
      "video 1/1 (137/1341) C:\\Users\\Alexkoh\\Desktop\\Footfallcam\\sample.mp4: 480x640 (no detections), 4.0ms\n",
      "video 1/1 (138/1341) C:\\Users\\Alexkoh\\Desktop\\Footfallcam\\sample.mp4: 480x640 (no detections), 5.0ms\n",
      "video 1/1 (139/1341) C:\\Users\\Alexkoh\\Desktop\\Footfallcam\\sample.mp4: 480x640 (no detections), 5.0ms\n",
      "video 1/1 (140/1341) C:\\Users\\Alexkoh\\Desktop\\Footfallcam\\sample.mp4: 480x640 (no detections), 5.0ms\n",
      "video 1/1 (141/1341) C:\\Users\\Alexkoh\\Desktop\\Footfallcam\\sample.mp4: 480x640 (no detections), 4.0ms\n",
      "video 1/1 (142/1341) C:\\Users\\Alexkoh\\Desktop\\Footfallcam\\sample.mp4: 480x640 (no detections), 5.0ms\n",
      "video 1/1 (143/1341) C:\\Users\\Alexkoh\\Desktop\\Footfallcam\\sample.mp4: 480x640 (no detections), 5.0ms\n",
      "video 1/1 (144/1341) C:\\Users\\Alexkoh\\Desktop\\Footfallcam\\sample.mp4: 480x640 (no detections), 5.0ms\n",
      "video 1/1 (145/1341) C:\\Users\\Alexkoh\\Desktop\\Footfallcam\\sample.mp4: 480x640 (no detections), 5.0ms\n",
      "video 1/1 (146/1341) C:\\Users\\Alexkoh\\Desktop\\Footfallcam\\sample.mp4: 480x640 (no detections), 5.0ms\n",
      "video 1/1 (147/1341) C:\\Users\\Alexkoh\\Desktop\\Footfallcam\\sample.mp4: 480x640 (no detections), 5.0ms\n",
      "video 1/1 (148/1341) C:\\Users\\Alexkoh\\Desktop\\Footfallcam\\sample.mp4: 480x640 (no detections), 5.0ms\n",
      "video 1/1 (149/1341) C:\\Users\\Alexkoh\\Desktop\\Footfallcam\\sample.mp4: 480x640 (no detections), 5.0ms\n",
      "video 1/1 (150/1341) C:\\Users\\Alexkoh\\Desktop\\Footfallcam\\sample.mp4: 480x640 (no detections), 7.0ms\n",
      "video 1/1 (151/1341) C:\\Users\\Alexkoh\\Desktop\\Footfallcam\\sample.mp4: 480x640 (no detections), 5.0ms\n",
      "video 1/1 (152/1341) C:\\Users\\Alexkoh\\Desktop\\Footfallcam\\sample.mp4: 480x640 (no detections), 6.0ms\n",
      "video 1/1 (153/1341) C:\\Users\\Alexkoh\\Desktop\\Footfallcam\\sample.mp4: 480x640 (no detections), 5.0ms\n",
      "video 1/1 (154/1341) C:\\Users\\Alexkoh\\Desktop\\Footfallcam\\sample.mp4: 480x640 (no detections), 6.0ms\n",
      "video 1/1 (155/1341) C:\\Users\\Alexkoh\\Desktop\\Footfallcam\\sample.mp4: 480x640 (no detections), 5.0ms\n",
      "video 1/1 (156/1341) C:\\Users\\Alexkoh\\Desktop\\Footfallcam\\sample.mp4: 480x640 (no detections), 5.0ms\n",
      "video 1/1 (157/1341) C:\\Users\\Alexkoh\\Desktop\\Footfallcam\\sample.mp4: 480x640 (no detections), 5.0ms\n",
      "video 1/1 (158/1341) C:\\Users\\Alexkoh\\Desktop\\Footfallcam\\sample.mp4: 480x640 (no detections), 5.0ms\n",
      "video 1/1 (159/1341) C:\\Users\\Alexkoh\\Desktop\\Footfallcam\\sample.mp4: 480x640 (no detections), 5.0ms\n",
      "video 1/1 (160/1341) C:\\Users\\Alexkoh\\Desktop\\Footfallcam\\sample.mp4: 480x640 (no detections), 6.0ms\n",
      "video 1/1 (161/1341) C:\\Users\\Alexkoh\\Desktop\\Footfallcam\\sample.mp4: 480x640 (no detections), 6.0ms\n",
      "video 1/1 (162/1341) C:\\Users\\Alexkoh\\Desktop\\Footfallcam\\sample.mp4: 480x640 (no detections), 6.0ms\n",
      "video 1/1 (163/1341) C:\\Users\\Alexkoh\\Desktop\\Footfallcam\\sample.mp4: 480x640 (no detections), 5.0ms\n",
      "video 1/1 (164/1341) C:\\Users\\Alexkoh\\Desktop\\Footfallcam\\sample.mp4: 480x640 (no detections), 5.0ms\n",
      "video 1/1 (165/1341) C:\\Users\\Alexkoh\\Desktop\\Footfallcam\\sample.mp4: 480x640 (no detections), 6.0ms\n",
      "video 1/1 (166/1341) C:\\Users\\Alexkoh\\Desktop\\Footfallcam\\sample.mp4: 480x640 (no detections), 5.0ms\n",
      "video 1/1 (167/1341) C:\\Users\\Alexkoh\\Desktop\\Footfallcam\\sample.mp4: 480x640 (no detections), 7.0ms\n",
      "video 1/1 (168/1341) C:\\Users\\Alexkoh\\Desktop\\Footfallcam\\sample.mp4: 480x640 (no detections), 5.0ms\n",
      "video 1/1 (169/1341) C:\\Users\\Alexkoh\\Desktop\\Footfallcam\\sample.mp4: 480x640 (no detections), 5.0ms\n",
      "video 1/1 (170/1341) C:\\Users\\Alexkoh\\Desktop\\Footfallcam\\sample.mp4: 480x640 (no detections), 5.0ms\n",
      "video 1/1 (171/1341) C:\\Users\\Alexkoh\\Desktop\\Footfallcam\\sample.mp4: 480x640 (no detections), 5.0ms\n",
      "video 1/1 (172/1341) C:\\Users\\Alexkoh\\Desktop\\Footfallcam\\sample.mp4: 480x640 (no detections), 7.0ms\n",
      "video 1/1 (173/1341) C:\\Users\\Alexkoh\\Desktop\\Footfallcam\\sample.mp4: 480x640 (no detections), 5.0ms\n",
      "video 1/1 (174/1341) C:\\Users\\Alexkoh\\Desktop\\Footfallcam\\sample.mp4: 480x640 (no detections), 6.0ms\n",
      "video 1/1 (175/1341) C:\\Users\\Alexkoh\\Desktop\\Footfallcam\\sample.mp4: 480x640 (no detections), 5.0ms\n",
      "video 1/1 (176/1341) C:\\Users\\Alexkoh\\Desktop\\Footfallcam\\sample.mp4: 480x640 (no detections), 5.0ms\n",
      "video 1/1 (177/1341) C:\\Users\\Alexkoh\\Desktop\\Footfallcam\\sample.mp4: 480x640 (no detections), 5.0ms\n",
      "video 1/1 (178/1341) C:\\Users\\Alexkoh\\Desktop\\Footfallcam\\sample.mp4: 480x640 (no detections), 5.0ms\n",
      "video 1/1 (179/1341) C:\\Users\\Alexkoh\\Desktop\\Footfallcam\\sample.mp4: 480x640 (no detections), 5.0ms\n",
      "video 1/1 (180/1341) C:\\Users\\Alexkoh\\Desktop\\Footfallcam\\sample.mp4: 480x640 (no detections), 5.0ms\n",
      "video 1/1 (181/1341) C:\\Users\\Alexkoh\\Desktop\\Footfallcam\\sample.mp4: 480x640 (no detections), 6.0ms\n",
      "video 1/1 (182/1341) C:\\Users\\Alexkoh\\Desktop\\Footfallcam\\sample.mp4: 480x640 (no detections), 6.0ms\n",
      "video 1/1 (183/1341) C:\\Users\\Alexkoh\\Desktop\\Footfallcam\\sample.mp4: 480x640 (no detections), 6.0ms\n",
      "video 1/1 (184/1341) C:\\Users\\Alexkoh\\Desktop\\Footfallcam\\sample.mp4: 480x640 (no detections), 5.0ms\n",
      "video 1/1 (185/1341) C:\\Users\\Alexkoh\\Desktop\\Footfallcam\\sample.mp4: 480x640 (no detections), 5.0ms\n",
      "video 1/1 (186/1341) C:\\Users\\Alexkoh\\Desktop\\Footfallcam\\sample.mp4: 480x640 (no detections), 6.0ms\n",
      "video 1/1 (187/1341) C:\\Users\\Alexkoh\\Desktop\\Footfallcam\\sample.mp4: 480x640 (no detections), 5.0ms\n",
      "video 1/1 (188/1341) C:\\Users\\Alexkoh\\Desktop\\Footfallcam\\sample.mp4: 480x640 (no detections), 6.0ms\n",
      "video 1/1 (189/1341) C:\\Users\\Alexkoh\\Desktop\\Footfallcam\\sample.mp4: 480x640 (no detections), 6.0ms\n",
      "video 1/1 (190/1341) C:\\Users\\Alexkoh\\Desktop\\Footfallcam\\sample.mp4: 480x640 (no detections), 6.0ms\n",
      "video 1/1 (191/1341) C:\\Users\\Alexkoh\\Desktop\\Footfallcam\\sample.mp4: 480x640 (no detections), 7.0ms\n",
      "video 1/1 (192/1341) C:\\Users\\Alexkoh\\Desktop\\Footfallcam\\sample.mp4: 480x640 (no detections), 5.0ms\n",
      "video 1/1 (193/1341) C:\\Users\\Alexkoh\\Desktop\\Footfallcam\\sample.mp4: 480x640 (no detections), 6.0ms\n",
      "video 1/1 (194/1341) C:\\Users\\Alexkoh\\Desktop\\Footfallcam\\sample.mp4: 480x640 (no detections), 6.0ms\n",
      "video 1/1 (195/1341) C:\\Users\\Alexkoh\\Desktop\\Footfallcam\\sample.mp4: 480x640 (no detections), 5.0ms\n",
      "video 1/1 (196/1341) C:\\Users\\Alexkoh\\Desktop\\Footfallcam\\sample.mp4: 480x640 (no detections), 5.0ms\n",
      "video 1/1 (197/1341) C:\\Users\\Alexkoh\\Desktop\\Footfallcam\\sample.mp4: 480x640 (no detections), 5.0ms\n",
      "video 1/1 (198/1341) C:\\Users\\Alexkoh\\Desktop\\Footfallcam\\sample.mp4: 480x640 (no detections), 5.0ms\n",
      "video 1/1 (199/1341) C:\\Users\\Alexkoh\\Desktop\\Footfallcam\\sample.mp4: 480x640 (no detections), 6.0ms\n",
      "video 1/1 (200/1341) C:\\Users\\Alexkoh\\Desktop\\Footfallcam\\sample.mp4: 480x640 (no detections), 7.0ms\n",
      "video 1/1 (201/1341) C:\\Users\\Alexkoh\\Desktop\\Footfallcam\\sample.mp4: 480x640 (no detections), 6.0ms\n",
      "video 1/1 (202/1341) C:\\Users\\Alexkoh\\Desktop\\Footfallcam\\sample.mp4: 480x640 (no detections), 5.0ms\n",
      "video 1/1 (203/1341) C:\\Users\\Alexkoh\\Desktop\\Footfallcam\\sample.mp4: 480x640 (no detections), 6.0ms\n",
      "video 1/1 (204/1341) C:\\Users\\Alexkoh\\Desktop\\Footfallcam\\sample.mp4: 480x640 (no detections), 5.0ms\n",
      "video 1/1 (205/1341) C:\\Users\\Alexkoh\\Desktop\\Footfallcam\\sample.mp4: 480x640 (no detections), 6.0ms\n",
      "video 1/1 (206/1341) C:\\Users\\Alexkoh\\Desktop\\Footfallcam\\sample.mp4: 480x640 (no detections), 6.0ms\n",
      "video 1/1 (207/1341) C:\\Users\\Alexkoh\\Desktop\\Footfallcam\\sample.mp4: 480x640 (no detections), 5.0ms\n",
      "video 1/1 (208/1341) C:\\Users\\Alexkoh\\Desktop\\Footfallcam\\sample.mp4: 480x640 (no detections), 6.0ms\n",
      "video 1/1 (209/1341) C:\\Users\\Alexkoh\\Desktop\\Footfallcam\\sample.mp4: 480x640 (no detections), 6.0ms\n",
      "video 1/1 (210/1341) C:\\Users\\Alexkoh\\Desktop\\Footfallcam\\sample.mp4: 480x640 (no detections), 6.0ms\n",
      "video 1/1 (211/1341) C:\\Users\\Alexkoh\\Desktop\\Footfallcam\\sample.mp4: 480x640 (no detections), 7.0ms\n",
      "video 1/1 (212/1341) C:\\Users\\Alexkoh\\Desktop\\Footfallcam\\sample.mp4: 480x640 (no detections), 5.0ms\n",
      "video 1/1 (213/1341) C:\\Users\\Alexkoh\\Desktop\\Footfallcam\\sample.mp4: 480x640 (no detections), 5.0ms\n",
      "video 1/1 (214/1341) C:\\Users\\Alexkoh\\Desktop\\Footfallcam\\sample.mp4: 480x640 (no detections), 5.0ms\n",
      "video 1/1 (215/1341) C:\\Users\\Alexkoh\\Desktop\\Footfallcam\\sample.mp4: 480x640 (no detections), 7.0ms\n",
      "video 1/1 (216/1341) C:\\Users\\Alexkoh\\Desktop\\Footfallcam\\sample.mp4: 480x640 (no detections), 5.0ms\n",
      "video 1/1 (217/1341) C:\\Users\\Alexkoh\\Desktop\\Footfallcam\\sample.mp4: 480x640 (no detections), 6.0ms\n",
      "video 1/1 (218/1341) C:\\Users\\Alexkoh\\Desktop\\Footfallcam\\sample.mp4: 480x640 (no detections), 5.0ms\n",
      "video 1/1 (219/1341) C:\\Users\\Alexkoh\\Desktop\\Footfallcam\\sample.mp4: 480x640 (no detections), 6.0ms\n",
      "video 1/1 (220/1341) C:\\Users\\Alexkoh\\Desktop\\Footfallcam\\sample.mp4: 480x640 (no detections), 6.0ms\n",
      "video 1/1 (221/1341) C:\\Users\\Alexkoh\\Desktop\\Footfallcam\\sample.mp4: 480x640 (no detections), 6.0ms\n",
      "video 1/1 (222/1341) C:\\Users\\Alexkoh\\Desktop\\Footfallcam\\sample.mp4: 480x640 (no detections), 5.0ms\n",
      "video 1/1 (223/1341) C:\\Users\\Alexkoh\\Desktop\\Footfallcam\\sample.mp4: 480x640 (no detections), 6.0ms\n",
      "video 1/1 (224/1341) C:\\Users\\Alexkoh\\Desktop\\Footfallcam\\sample.mp4: 480x640 (no detections), 6.0ms\n",
      "video 1/1 (225/1341) C:\\Users\\Alexkoh\\Desktop\\Footfallcam\\sample.mp4: 480x640 (no detections), 5.0ms\n",
      "video 1/1 (226/1341) C:\\Users\\Alexkoh\\Desktop\\Footfallcam\\sample.mp4: 480x640 (no detections), 6.0ms\n",
      "video 1/1 (227/1341) C:\\Users\\Alexkoh\\Desktop\\Footfallcam\\sample.mp4: 480x640 (no detections), 7.0ms\n",
      "video 1/1 (228/1341) C:\\Users\\Alexkoh\\Desktop\\Footfallcam\\sample.mp4: 480x640 (no detections), 6.0ms\n",
      "video 1/1 (229/1341) C:\\Users\\Alexkoh\\Desktop\\Footfallcam\\sample.mp4: 480x640 (no detections), 6.0ms\n",
      "video 1/1 (230/1341) C:\\Users\\Alexkoh\\Desktop\\Footfallcam\\sample.mp4: 480x640 (no detections), 6.0ms\n",
      "video 1/1 (231/1341) C:\\Users\\Alexkoh\\Desktop\\Footfallcam\\sample.mp4: 480x640 (no detections), 6.0ms\n",
      "video 1/1 (232/1341) C:\\Users\\Alexkoh\\Desktop\\Footfallcam\\sample.mp4: 480x640 (no detections), 5.0ms\n",
      "video 1/1 (233/1341) C:\\Users\\Alexkoh\\Desktop\\Footfallcam\\sample.mp4: 480x640 (no detections), 6.0ms\n",
      "video 1/1 (234/1341) C:\\Users\\Alexkoh\\Desktop\\Footfallcam\\sample.mp4: 480x640 (no detections), 5.0ms\n",
      "video 1/1 (235/1341) C:\\Users\\Alexkoh\\Desktop\\Footfallcam\\sample.mp4: 480x640 (no detections), 6.0ms\n",
      "video 1/1 (236/1341) C:\\Users\\Alexkoh\\Desktop\\Footfallcam\\sample.mp4: 480x640 (no detections), 6.0ms\n",
      "video 1/1 (237/1341) C:\\Users\\Alexkoh\\Desktop\\Footfallcam\\sample.mp4: 480x640 (no detections), 5.0ms\n",
      "video 1/1 (238/1341) C:\\Users\\Alexkoh\\Desktop\\Footfallcam\\sample.mp4: 480x640 (no detections), 6.0ms\n",
      "video 1/1 (239/1341) C:\\Users\\Alexkoh\\Desktop\\Footfallcam\\sample.mp4: 480x640 (no detections), 5.0ms\n",
      "video 1/1 (240/1341) C:\\Users\\Alexkoh\\Desktop\\Footfallcam\\sample.mp4: 480x640 (no detections), 6.0ms\n",
      "video 1/1 (241/1341) C:\\Users\\Alexkoh\\Desktop\\Footfallcam\\sample.mp4: 480x640 (no detections), 5.0ms\n",
      "video 1/1 (242/1341) C:\\Users\\Alexkoh\\Desktop\\Footfallcam\\sample.mp4: 480x640 (no detections), 6.0ms\n",
      "video 1/1 (243/1341) C:\\Users\\Alexkoh\\Desktop\\Footfallcam\\sample.mp4: 480x640 (no detections), 5.0ms\n",
      "video 1/1 (244/1341) C:\\Users\\Alexkoh\\Desktop\\Footfallcam\\sample.mp4: 480x640 (no detections), 5.0ms\n",
      "video 1/1 (245/1341) C:\\Users\\Alexkoh\\Desktop\\Footfallcam\\sample.mp4: 480x640 (no detections), 5.0ms\n",
      "video 1/1 (246/1341) C:\\Users\\Alexkoh\\Desktop\\Footfallcam\\sample.mp4: 480x640 (no detections), 5.0ms\n",
      "video 1/1 (247/1341) C:\\Users\\Alexkoh\\Desktop\\Footfallcam\\sample.mp4: 480x640 (no detections), 5.0ms\n",
      "video 1/1 (248/1341) C:\\Users\\Alexkoh\\Desktop\\Footfallcam\\sample.mp4: 480x640 (no detections), 6.0ms\n",
      "video 1/1 (249/1341) C:\\Users\\Alexkoh\\Desktop\\Footfallcam\\sample.mp4: 480x640 (no detections), 6.0ms\n",
      "video 1/1 (250/1341) C:\\Users\\Alexkoh\\Desktop\\Footfallcam\\sample.mp4: 480x640 (no detections), 5.0ms\n",
      "video 1/1 (251/1341) C:\\Users\\Alexkoh\\Desktop\\Footfallcam\\sample.mp4: 480x640 (no detections), 5.0ms\n",
      "video 1/1 (252/1341) C:\\Users\\Alexkoh\\Desktop\\Footfallcam\\sample.mp4: 480x640 (no detections), 5.0ms\n",
      "video 1/1 (253/1341) C:\\Users\\Alexkoh\\Desktop\\Footfallcam\\sample.mp4: 480x640 (no detections), 6.0ms\n",
      "video 1/1 (254/1341) C:\\Users\\Alexkoh\\Desktop\\Footfallcam\\sample.mp4: 480x640 (no detections), 5.0ms\n",
      "video 1/1 (255/1341) C:\\Users\\Alexkoh\\Desktop\\Footfallcam\\sample.mp4: 480x640 (no detections), 5.0ms\n",
      "video 1/1 (256/1341) C:\\Users\\Alexkoh\\Desktop\\Footfallcam\\sample.mp4: 480x640 (no detections), 5.0ms\n",
      "video 1/1 (257/1341) C:\\Users\\Alexkoh\\Desktop\\Footfallcam\\sample.mp4: 480x640 (no detections), 6.0ms\n",
      "video 1/1 (258/1341) C:\\Users\\Alexkoh\\Desktop\\Footfallcam\\sample.mp4: 480x640 (no detections), 5.0ms\n",
      "video 1/1 (259/1341) C:\\Users\\Alexkoh\\Desktop\\Footfallcam\\sample.mp4: 480x640 (no detections), 6.0ms\n",
      "video 1/1 (260/1341) C:\\Users\\Alexkoh\\Desktop\\Footfallcam\\sample.mp4: 480x640 (no detections), 6.0ms\n",
      "video 1/1 (261/1341) C:\\Users\\Alexkoh\\Desktop\\Footfallcam\\sample.mp4: 480x640 (no detections), 6.0ms\n",
      "video 1/1 (262/1341) C:\\Users\\Alexkoh\\Desktop\\Footfallcam\\sample.mp4: 480x640 (no detections), 6.0ms\n",
      "video 1/1 (263/1341) C:\\Users\\Alexkoh\\Desktop\\Footfallcam\\sample.mp4: 480x640 (no detections), 6.0ms\n",
      "video 1/1 (264/1341) C:\\Users\\Alexkoh\\Desktop\\Footfallcam\\sample.mp4: 480x640 (no detections), 5.0ms\n",
      "video 1/1 (265/1341) C:\\Users\\Alexkoh\\Desktop\\Footfallcam\\sample.mp4: 480x640 (no detections), 5.0ms\n",
      "video 1/1 (266/1341) C:\\Users\\Alexkoh\\Desktop\\Footfallcam\\sample.mp4: 480x640 (no detections), 6.0ms\n",
      "video 1/1 (267/1341) C:\\Users\\Alexkoh\\Desktop\\Footfallcam\\sample.mp4: 480x640 (no detections), 5.0ms\n",
      "video 1/1 (268/1341) C:\\Users\\Alexkoh\\Desktop\\Footfallcam\\sample.mp4: 480x640 (no detections), 6.0ms\n",
      "video 1/1 (269/1341) C:\\Users\\Alexkoh\\Desktop\\Footfallcam\\sample.mp4: 480x640 (no detections), 5.0ms\n",
      "video 1/1 (270/1341) C:\\Users\\Alexkoh\\Desktop\\Footfallcam\\sample.mp4: 480x640 (no detections), 6.0ms\n",
      "video 1/1 (271/1341) C:\\Users\\Alexkoh\\Desktop\\Footfallcam\\sample.mp4: 480x640 (no detections), 7.0ms\n",
      "video 1/1 (272/1341) C:\\Users\\Alexkoh\\Desktop\\Footfallcam\\sample.mp4: 480x640 (no detections), 6.0ms\n",
      "video 1/1 (273/1341) C:\\Users\\Alexkoh\\Desktop\\Footfallcam\\sample.mp4: 480x640 (no detections), 6.0ms\n",
      "video 1/1 (274/1341) C:\\Users\\Alexkoh\\Desktop\\Footfallcam\\sample.mp4: 480x640 (no detections), 5.0ms\n",
      "video 1/1 (275/1341) C:\\Users\\Alexkoh\\Desktop\\Footfallcam\\sample.mp4: 480x640 (no detections), 6.0ms\n",
      "video 1/1 (276/1341) C:\\Users\\Alexkoh\\Desktop\\Footfallcam\\sample.mp4: 480x640 (no detections), 6.0ms\n",
      "video 1/1 (277/1341) C:\\Users\\Alexkoh\\Desktop\\Footfallcam\\sample.mp4: 480x640 (no detections), 6.0ms\n",
      "video 1/1 (278/1341) C:\\Users\\Alexkoh\\Desktop\\Footfallcam\\sample.mp4: 480x640 (no detections), 6.0ms\n",
      "video 1/1 (279/1341) C:\\Users\\Alexkoh\\Desktop\\Footfallcam\\sample.mp4: 480x640 (no detections), 5.0ms\n",
      "video 1/1 (280/1341) C:\\Users\\Alexkoh\\Desktop\\Footfallcam\\sample.mp4: 480x640 (no detections), 5.0ms\n",
      "video 1/1 (281/1341) C:\\Users\\Alexkoh\\Desktop\\Footfallcam\\sample.mp4: 480x640 (no detections), 5.0ms\n",
      "video 1/1 (282/1341) C:\\Users\\Alexkoh\\Desktop\\Footfallcam\\sample.mp4: 480x640 (no detections), 6.0ms\n",
      "video 1/1 (283/1341) C:\\Users\\Alexkoh\\Desktop\\Footfallcam\\sample.mp4: 480x640 (no detections), 6.0ms\n",
      "video 1/1 (284/1341) C:\\Users\\Alexkoh\\Desktop\\Footfallcam\\sample.mp4: 480x640 (no detections), 6.0ms\n",
      "video 1/1 (285/1341) C:\\Users\\Alexkoh\\Desktop\\Footfallcam\\sample.mp4: 480x640 (no detections), 5.0ms\n",
      "video 1/1 (286/1341) C:\\Users\\Alexkoh\\Desktop\\Footfallcam\\sample.mp4: 480x640 (no detections), 6.0ms\n",
      "video 1/1 (287/1341) C:\\Users\\Alexkoh\\Desktop\\Footfallcam\\sample.mp4: 480x640 (no detections), 5.0ms\n",
      "video 1/1 (288/1341) C:\\Users\\Alexkoh\\Desktop\\Footfallcam\\sample.mp4: 480x640 (no detections), 5.0ms\n",
      "video 1/1 (289/1341) C:\\Users\\Alexkoh\\Desktop\\Footfallcam\\sample.mp4: 480x640 (no detections), 6.0ms\n",
      "video 1/1 (290/1341) C:\\Users\\Alexkoh\\Desktop\\Footfallcam\\sample.mp4: 480x640 (no detections), 5.0ms\n",
      "video 1/1 (291/1341) C:\\Users\\Alexkoh\\Desktop\\Footfallcam\\sample.mp4: 480x640 (no detections), 5.0ms\n",
      "video 1/1 (292/1341) C:\\Users\\Alexkoh\\Desktop\\Footfallcam\\sample.mp4: 480x640 (no detections), 5.0ms\n",
      "video 1/1 (293/1341) C:\\Users\\Alexkoh\\Desktop\\Footfallcam\\sample.mp4: 480x640 (no detections), 5.0ms\n",
      "video 1/1 (294/1341) C:\\Users\\Alexkoh\\Desktop\\Footfallcam\\sample.mp4: 480x640 (no detections), 5.0ms\n",
      "video 1/1 (295/1341) C:\\Users\\Alexkoh\\Desktop\\Footfallcam\\sample.mp4: 480x640 (no detections), 5.0ms\n",
      "video 1/1 (296/1341) C:\\Users\\Alexkoh\\Desktop\\Footfallcam\\sample.mp4: 480x640 (no detections), 6.0ms\n",
      "video 1/1 (297/1341) C:\\Users\\Alexkoh\\Desktop\\Footfallcam\\sample.mp4: 480x640 (no detections), 5.0ms\n",
      "video 1/1 (298/1341) C:\\Users\\Alexkoh\\Desktop\\Footfallcam\\sample.mp4: 480x640 (no detections), 5.0ms\n",
      "video 1/1 (299/1341) C:\\Users\\Alexkoh\\Desktop\\Footfallcam\\sample.mp4: 480x640 (no detections), 5.0ms\n",
      "video 1/1 (300/1341) C:\\Users\\Alexkoh\\Desktop\\Footfallcam\\sample.mp4: 480x640 (no detections), 5.0ms\n",
      "video 1/1 (301/1341) C:\\Users\\Alexkoh\\Desktop\\Footfallcam\\sample.mp4: 480x640 (no detections), 5.0ms\n",
      "video 1/1 (302/1341) C:\\Users\\Alexkoh\\Desktop\\Footfallcam\\sample.mp4: 480x640 (no detections), 7.0ms\n",
      "video 1/1 (303/1341) C:\\Users\\Alexkoh\\Desktop\\Footfallcam\\sample.mp4: 480x640 (no detections), 4.0ms\n",
      "video 1/1 (304/1341) C:\\Users\\Alexkoh\\Desktop\\Footfallcam\\sample.mp4: 480x640 (no detections), 6.0ms\n",
      "video 1/1 (305/1341) C:\\Users\\Alexkoh\\Desktop\\Footfallcam\\sample.mp4: 480x640 (no detections), 5.0ms\n",
      "video 1/1 (306/1341) C:\\Users\\Alexkoh\\Desktop\\Footfallcam\\sample.mp4: 480x640 (no detections), 6.0ms\n",
      "video 1/1 (307/1341) C:\\Users\\Alexkoh\\Desktop\\Footfallcam\\sample.mp4: 480x640 (no detections), 5.0ms\n",
      "video 1/1 (308/1341) C:\\Users\\Alexkoh\\Desktop\\Footfallcam\\sample.mp4: 480x640 (no detections), 5.0ms\n",
      "video 1/1 (309/1341) C:\\Users\\Alexkoh\\Desktop\\Footfallcam\\sample.mp4: 480x640 (no detections), 6.0ms\n",
      "video 1/1 (310/1341) C:\\Users\\Alexkoh\\Desktop\\Footfallcam\\sample.mp4: 480x640 (no detections), 6.0ms\n",
      "video 1/1 (311/1341) C:\\Users\\Alexkoh\\Desktop\\Footfallcam\\sample.mp4: 480x640 (no detections), 6.0ms\n",
      "video 1/1 (312/1341) C:\\Users\\Alexkoh\\Desktop\\Footfallcam\\sample.mp4: 480x640 (no detections), 5.0ms\n",
      "video 1/1 (313/1341) C:\\Users\\Alexkoh\\Desktop\\Footfallcam\\sample.mp4: 480x640 (no detections), 4.0ms\n",
      "video 1/1 (314/1341) C:\\Users\\Alexkoh\\Desktop\\Footfallcam\\sample.mp4: 480x640 (no detections), 5.0ms\n",
      "video 1/1 (315/1341) C:\\Users\\Alexkoh\\Desktop\\Footfallcam\\sample.mp4: 480x640 (no detections), 4.0ms\n",
      "video 1/1 (316/1341) C:\\Users\\Alexkoh\\Desktop\\Footfallcam\\sample.mp4: 480x640 (no detections), 5.0ms\n",
      "video 1/1 (317/1341) C:\\Users\\Alexkoh\\Desktop\\Footfallcam\\sample.mp4: 480x640 (no detections), 5.0ms\n",
      "video 1/1 (318/1341) C:\\Users\\Alexkoh\\Desktop\\Footfallcam\\sample.mp4: 480x640 (no detections), 5.0ms\n",
      "video 1/1 (319/1341) C:\\Users\\Alexkoh\\Desktop\\Footfallcam\\sample.mp4: 480x640 (no detections), 6.0ms\n",
      "video 1/1 (320/1341) C:\\Users\\Alexkoh\\Desktop\\Footfallcam\\sample.mp4: 480x640 (no detections), 7.0ms\n",
      "video 1/1 (321/1341) C:\\Users\\Alexkoh\\Desktop\\Footfallcam\\sample.mp4: 480x640 (no detections), 5.0ms\n",
      "video 1/1 (322/1341) C:\\Users\\Alexkoh\\Desktop\\Footfallcam\\sample.mp4: 480x640 (no detections), 6.0ms\n",
      "video 1/1 (323/1341) C:\\Users\\Alexkoh\\Desktop\\Footfallcam\\sample.mp4: 480x640 (no detections), 5.0ms\n",
      "video 1/1 (324/1341) C:\\Users\\Alexkoh\\Desktop\\Footfallcam\\sample.mp4: 480x640 (no detections), 6.0ms\n",
      "video 1/1 (325/1341) C:\\Users\\Alexkoh\\Desktop\\Footfallcam\\sample.mp4: 480x640 (no detections), 5.0ms\n",
      "video 1/1 (326/1341) C:\\Users\\Alexkoh\\Desktop\\Footfallcam\\sample.mp4: 480x640 (no detections), 5.0ms\n",
      "video 1/1 (327/1341) C:\\Users\\Alexkoh\\Desktop\\Footfallcam\\sample.mp4: 480x640 (no detections), 6.0ms\n",
      "video 1/1 (328/1341) C:\\Users\\Alexkoh\\Desktop\\Footfallcam\\sample.mp4: 480x640 (no detections), 5.0ms\n",
      "video 1/1 (329/1341) C:\\Users\\Alexkoh\\Desktop\\Footfallcam\\sample.mp4: 480x640 (no detections), 5.0ms\n",
      "video 1/1 (330/1341) C:\\Users\\Alexkoh\\Desktop\\Footfallcam\\sample.mp4: 480x640 (no detections), 5.0ms\n",
      "video 1/1 (331/1341) C:\\Users\\Alexkoh\\Desktop\\Footfallcam\\sample.mp4: 480x640 (no detections), 5.0ms\n",
      "video 1/1 (332/1341) C:\\Users\\Alexkoh\\Desktop\\Footfallcam\\sample.mp4: 480x640 (no detections), 5.0ms\n",
      "video 1/1 (333/1341) C:\\Users\\Alexkoh\\Desktop\\Footfallcam\\sample.mp4: 480x640 (no detections), 6.0ms\n",
      "video 1/1 (334/1341) C:\\Users\\Alexkoh\\Desktop\\Footfallcam\\sample.mp4: 480x640 (no detections), 5.0ms\n",
      "video 1/1 (335/1341) C:\\Users\\Alexkoh\\Desktop\\Footfallcam\\sample.mp4: 480x640 (no detections), 6.0ms\n",
      "video 1/1 (336/1341) C:\\Users\\Alexkoh\\Desktop\\Footfallcam\\sample.mp4: 480x640 (no detections), 4.0ms\n",
      "video 1/1 (337/1341) C:\\Users\\Alexkoh\\Desktop\\Footfallcam\\sample.mp4: 480x640 (no detections), 5.0ms\n",
      "video 1/1 (338/1341) C:\\Users\\Alexkoh\\Desktop\\Footfallcam\\sample.mp4: 480x640 (no detections), 5.0ms\n",
      "video 1/1 (339/1341) C:\\Users\\Alexkoh\\Desktop\\Footfallcam\\sample.mp4: 480x640 (no detections), 4.0ms\n",
      "video 1/1 (340/1341) C:\\Users\\Alexkoh\\Desktop\\Footfallcam\\sample.mp4: 480x640 (no detections), 5.0ms\n",
      "video 1/1 (341/1341) C:\\Users\\Alexkoh\\Desktop\\Footfallcam\\sample.mp4: 480x640 (no detections), 5.0ms\n",
      "video 1/1 (342/1341) C:\\Users\\Alexkoh\\Desktop\\Footfallcam\\sample.mp4: 480x640 (no detections), 5.0ms\n",
      "video 1/1 (343/1341) C:\\Users\\Alexkoh\\Desktop\\Footfallcam\\sample.mp4: 480x640 (no detections), 5.0ms\n",
      "video 1/1 (344/1341) C:\\Users\\Alexkoh\\Desktop\\Footfallcam\\sample.mp4: 480x640 (no detections), 6.0ms\n",
      "video 1/1 (345/1341) C:\\Users\\Alexkoh\\Desktop\\Footfallcam\\sample.mp4: 480x640 (no detections), 5.0ms\n",
      "video 1/1 (346/1341) C:\\Users\\Alexkoh\\Desktop\\Footfallcam\\sample.mp4: 480x640 (no detections), 5.0ms\n",
      "video 1/1 (347/1341) C:\\Users\\Alexkoh\\Desktop\\Footfallcam\\sample.mp4: 480x640 (no detections), 5.0ms\n",
      "video 1/1 (348/1341) C:\\Users\\Alexkoh\\Desktop\\Footfallcam\\sample.mp4: 480x640 (no detections), 5.0ms\n",
      "video 1/1 (349/1341) C:\\Users\\Alexkoh\\Desktop\\Footfallcam\\sample.mp4: 480x640 (no detections), 7.0ms\n",
      "video 1/1 (350/1341) C:\\Users\\Alexkoh\\Desktop\\Footfallcam\\sample.mp4: 480x640 (no detections), 5.0ms\n",
      "video 1/1 (351/1341) C:\\Users\\Alexkoh\\Desktop\\Footfallcam\\sample.mp4: 480x640 (no detections), 5.0ms\n",
      "video 1/1 (352/1341) C:\\Users\\Alexkoh\\Desktop\\Footfallcam\\sample.mp4: 480x640 (no detections), 6.0ms\n",
      "video 1/1 (353/1341) C:\\Users\\Alexkoh\\Desktop\\Footfallcam\\sample.mp4: 480x640 (no detections), 6.0ms\n",
      "video 1/1 (354/1341) C:\\Users\\Alexkoh\\Desktop\\Footfallcam\\sample.mp4: 480x640 (no detections), 5.0ms\n",
      "video 1/1 (355/1341) C:\\Users\\Alexkoh\\Desktop\\Footfallcam\\sample.mp4: 480x640 (no detections), 6.0ms\n",
      "video 1/1 (356/1341) C:\\Users\\Alexkoh\\Desktop\\Footfallcam\\sample.mp4: 480x640 (no detections), 5.0ms\n",
      "video 1/1 (357/1341) C:\\Users\\Alexkoh\\Desktop\\Footfallcam\\sample.mp4: 480x640 (no detections), 6.0ms\n",
      "video 1/1 (358/1341) C:\\Users\\Alexkoh\\Desktop\\Footfallcam\\sample.mp4: 480x640 (no detections), 5.0ms\n",
      "video 1/1 (359/1341) C:\\Users\\Alexkoh\\Desktop\\Footfallcam\\sample.mp4: 480x640 (no detections), 6.0ms\n",
      "video 1/1 (360/1341) C:\\Users\\Alexkoh\\Desktop\\Footfallcam\\sample.mp4: 480x640 (no detections), 6.0ms\n",
      "video 1/1 (361/1341) C:\\Users\\Alexkoh\\Desktop\\Footfallcam\\sample.mp4: 480x640 (no detections), 6.0ms\n",
      "video 1/1 (362/1341) C:\\Users\\Alexkoh\\Desktop\\Footfallcam\\sample.mp4: 480x640 (no detections), 6.0ms\n",
      "video 1/1 (363/1341) C:\\Users\\Alexkoh\\Desktop\\Footfallcam\\sample.mp4: 480x640 (no detections), 5.0ms\n",
      "video 1/1 (364/1341) C:\\Users\\Alexkoh\\Desktop\\Footfallcam\\sample.mp4: 480x640 (no detections), 5.0ms\n",
      "video 1/1 (365/1341) C:\\Users\\Alexkoh\\Desktop\\Footfallcam\\sample.mp4: 480x640 (no detections), 5.0ms\n",
      "video 1/1 (366/1341) C:\\Users\\Alexkoh\\Desktop\\Footfallcam\\sample.mp4: 480x640 (no detections), 5.0ms\n",
      "video 1/1 (367/1341) C:\\Users\\Alexkoh\\Desktop\\Footfallcam\\sample.mp4: 480x640 (no detections), 6.0ms\n",
      "video 1/1 (368/1341) C:\\Users\\Alexkoh\\Desktop\\Footfallcam\\sample.mp4: 480x640 (no detections), 5.0ms\n",
      "video 1/1 (369/1341) C:\\Users\\Alexkoh\\Desktop\\Footfallcam\\sample.mp4: 480x640 (no detections), 6.0ms\n",
      "video 1/1 (370/1341) C:\\Users\\Alexkoh\\Desktop\\Footfallcam\\sample.mp4: 480x640 (no detections), 6.0ms\n",
      "video 1/1 (371/1341) C:\\Users\\Alexkoh\\Desktop\\Footfallcam\\sample.mp4: 480x640 (no detections), 6.0ms\n",
      "video 1/1 (372/1341) C:\\Users\\Alexkoh\\Desktop\\Footfallcam\\sample.mp4: 480x640 (no detections), 6.0ms\n",
      "video 1/1 (373/1341) C:\\Users\\Alexkoh\\Desktop\\Footfallcam\\sample.mp4: 480x640 (no detections), 5.0ms\n",
      "video 1/1 (374/1341) C:\\Users\\Alexkoh\\Desktop\\Footfallcam\\sample.mp4: 480x640 (no detections), 5.0ms\n",
      "video 1/1 (375/1341) C:\\Users\\Alexkoh\\Desktop\\Footfallcam\\sample.mp4: 480x640 (no detections), 5.0ms\n",
      "video 1/1 (376/1341) C:\\Users\\Alexkoh\\Desktop\\Footfallcam\\sample.mp4: 480x640 (no detections), 5.0ms\n",
      "video 1/1 (377/1341) C:\\Users\\Alexkoh\\Desktop\\Footfallcam\\sample.mp4: 480x640 1 Tag, 5.0ms\n",
      "video 1/1 (378/1341) C:\\Users\\Alexkoh\\Desktop\\Footfallcam\\sample.mp4: 480x640 1 Tag, 5.0ms\n",
      "video 1/1 (379/1341) C:\\Users\\Alexkoh\\Desktop\\Footfallcam\\sample.mp4: 480x640 1 Tag, 4.0ms\n",
      "video 1/1 (380/1341) C:\\Users\\Alexkoh\\Desktop\\Footfallcam\\sample.mp4: 480x640 1 Tag, 5.0ms\n",
      "video 1/1 (381/1341) C:\\Users\\Alexkoh\\Desktop\\Footfallcam\\sample.mp4: 480x640 1 Tag, 5.0ms\n",
      "video 1/1 (382/1341) C:\\Users\\Alexkoh\\Desktop\\Footfallcam\\sample.mp4: 480x640 1 Tag, 4.0ms\n",
      "video 1/1 (383/1341) C:\\Users\\Alexkoh\\Desktop\\Footfallcam\\sample.mp4: 480x640 1 Tag, 5.0ms\n",
      "video 1/1 (384/1341) C:\\Users\\Alexkoh\\Desktop\\Footfallcam\\sample.mp4: 480x640 1 Tag, 6.0ms\n",
      "video 1/1 (385/1341) C:\\Users\\Alexkoh\\Desktop\\Footfallcam\\sample.mp4: 480x640 1 Tag, 5.0ms\n",
      "video 1/1 (386/1341) C:\\Users\\Alexkoh\\Desktop\\Footfallcam\\sample.mp4: 480x640 1 Tag, 5.0ms\n",
      "video 1/1 (387/1341) C:\\Users\\Alexkoh\\Desktop\\Footfallcam\\sample.mp4: 480x640 1 Tag, 5.0ms\n",
      "video 1/1 (388/1341) C:\\Users\\Alexkoh\\Desktop\\Footfallcam\\sample.mp4: 480x640 1 Tag, 5.0ms\n",
      "video 1/1 (389/1341) C:\\Users\\Alexkoh\\Desktop\\Footfallcam\\sample.mp4: 480x640 (no detections), 5.0ms\n",
      "video 1/1 (390/1341) C:\\Users\\Alexkoh\\Desktop\\Footfallcam\\sample.mp4: 480x640 (no detections), 5.0ms\n",
      "video 1/1 (391/1341) C:\\Users\\Alexkoh\\Desktop\\Footfallcam\\sample.mp4: 480x640 (no detections), 5.0ms\n",
      "video 1/1 (392/1341) C:\\Users\\Alexkoh\\Desktop\\Footfallcam\\sample.mp4: 480x640 (no detections), 5.0ms\n",
      "video 1/1 (393/1341) C:\\Users\\Alexkoh\\Desktop\\Footfallcam\\sample.mp4: 480x640 (no detections), 5.0ms\n",
      "video 1/1 (394/1341) C:\\Users\\Alexkoh\\Desktop\\Footfallcam\\sample.mp4: 480x640 (no detections), 6.0ms\n",
      "video 1/1 (395/1341) C:\\Users\\Alexkoh\\Desktop\\Footfallcam\\sample.mp4: 480x640 (no detections), 6.0ms\n",
      "video 1/1 (396/1341) C:\\Users\\Alexkoh\\Desktop\\Footfallcam\\sample.mp4: 480x640 (no detections), 6.0ms\n",
      "video 1/1 (397/1341) C:\\Users\\Alexkoh\\Desktop\\Footfallcam\\sample.mp4: 480x640 (no detections), 7.0ms\n",
      "video 1/1 (398/1341) C:\\Users\\Alexkoh\\Desktop\\Footfallcam\\sample.mp4: 480x640 (no detections), 5.0ms\n",
      "video 1/1 (399/1341) C:\\Users\\Alexkoh\\Desktop\\Footfallcam\\sample.mp4: 480x640 (no detections), 5.0ms\n",
      "video 1/1 (400/1341) C:\\Users\\Alexkoh\\Desktop\\Footfallcam\\sample.mp4: 480x640 (no detections), 5.0ms\n",
      "video 1/1 (401/1341) C:\\Users\\Alexkoh\\Desktop\\Footfallcam\\sample.mp4: 480x640 (no detections), 5.0ms\n",
      "video 1/1 (402/1341) C:\\Users\\Alexkoh\\Desktop\\Footfallcam\\sample.mp4: 480x640 (no detections), 5.0ms\n",
      "video 1/1 (403/1341) C:\\Users\\Alexkoh\\Desktop\\Footfallcam\\sample.mp4: 480x640 (no detections), 5.0ms\n",
      "video 1/1 (404/1341) C:\\Users\\Alexkoh\\Desktop\\Footfallcam\\sample.mp4: 480x640 (no detections), 6.0ms\n",
      "video 1/1 (405/1341) C:\\Users\\Alexkoh\\Desktop\\Footfallcam\\sample.mp4: 480x640 (no detections), 6.0ms\n",
      "video 1/1 (406/1341) C:\\Users\\Alexkoh\\Desktop\\Footfallcam\\sample.mp4: 480x640 (no detections), 5.0ms\n",
      "video 1/1 (407/1341) C:\\Users\\Alexkoh\\Desktop\\Footfallcam\\sample.mp4: 480x640 (no detections), 6.0ms\n",
      "video 1/1 (408/1341) C:\\Users\\Alexkoh\\Desktop\\Footfallcam\\sample.mp4: 480x640 (no detections), 6.0ms\n",
      "video 1/1 (409/1341) C:\\Users\\Alexkoh\\Desktop\\Footfallcam\\sample.mp4: 480x640 (no detections), 6.0ms\n",
      "video 1/1 (410/1341) C:\\Users\\Alexkoh\\Desktop\\Footfallcam\\sample.mp4: 480x640 (no detections), 7.0ms\n",
      "video 1/1 (411/1341) C:\\Users\\Alexkoh\\Desktop\\Footfallcam\\sample.mp4: 480x640 (no detections), 6.0ms\n",
      "video 1/1 (412/1341) C:\\Users\\Alexkoh\\Desktop\\Footfallcam\\sample.mp4: 480x640 (no detections), 5.0ms\n",
      "video 1/1 (413/1341) C:\\Users\\Alexkoh\\Desktop\\Footfallcam\\sample.mp4: 480x640 (no detections), 7.0ms\n",
      "video 1/1 (414/1341) C:\\Users\\Alexkoh\\Desktop\\Footfallcam\\sample.mp4: 480x640 (no detections), 6.0ms\n",
      "video 1/1 (415/1341) C:\\Users\\Alexkoh\\Desktop\\Footfallcam\\sample.mp4: 480x640 (no detections), 5.0ms\n",
      "video 1/1 (416/1341) C:\\Users\\Alexkoh\\Desktop\\Footfallcam\\sample.mp4: 480x640 (no detections), 6.0ms\n",
      "video 1/1 (417/1341) C:\\Users\\Alexkoh\\Desktop\\Footfallcam\\sample.mp4: 480x640 (no detections), 5.0ms\n",
      "video 1/1 (418/1341) C:\\Users\\Alexkoh\\Desktop\\Footfallcam\\sample.mp4: 480x640 (no detections), 5.0ms\n",
      "video 1/1 (419/1341) C:\\Users\\Alexkoh\\Desktop\\Footfallcam\\sample.mp4: 480x640 (no detections), 6.0ms\n",
      "video 1/1 (420/1341) C:\\Users\\Alexkoh\\Desktop\\Footfallcam\\sample.mp4: 480x640 (no detections), 6.0ms\n",
      "video 1/1 (421/1341) C:\\Users\\Alexkoh\\Desktop\\Footfallcam\\sample.mp4: 480x640 (no detections), 5.0ms\n",
      "video 1/1 (422/1341) C:\\Users\\Alexkoh\\Desktop\\Footfallcam\\sample.mp4: 480x640 (no detections), 5.0ms\n",
      "video 1/1 (423/1341) C:\\Users\\Alexkoh\\Desktop\\Footfallcam\\sample.mp4: 480x640 (no detections), 5.0ms\n",
      "video 1/1 (424/1341) C:\\Users\\Alexkoh\\Desktop\\Footfallcam\\sample.mp4: 480x640 (no detections), 5.0ms\n",
      "video 1/1 (425/1341) C:\\Users\\Alexkoh\\Desktop\\Footfallcam\\sample.mp4: 480x640 1 Tag, 5.0ms\n",
      "video 1/1 (426/1341) C:\\Users\\Alexkoh\\Desktop\\Footfallcam\\sample.mp4: 480x640 1 Tag, 5.0ms\n",
      "video 1/1 (427/1341) C:\\Users\\Alexkoh\\Desktop\\Footfallcam\\sample.mp4: 480x640 1 Tag, 5.0ms\n",
      "video 1/1 (428/1341) C:\\Users\\Alexkoh\\Desktop\\Footfallcam\\sample.mp4: 480x640 1 Tag, 5.0ms\n",
      "video 1/1 (429/1341) C:\\Users\\Alexkoh\\Desktop\\Footfallcam\\sample.mp4: 480x640 1 Tag, 5.0ms\n",
      "video 1/1 (430/1341) C:\\Users\\Alexkoh\\Desktop\\Footfallcam\\sample.mp4: 480x640 1 Tag, 5.0ms\n",
      "video 1/1 (431/1341) C:\\Users\\Alexkoh\\Desktop\\Footfallcam\\sample.mp4: 480x640 1 Tag, 5.0ms\n",
      "video 1/1 (432/1341) C:\\Users\\Alexkoh\\Desktop\\Footfallcam\\sample.mp4: 480x640 1 Tag, 6.0ms\n",
      "video 1/1 (433/1341) C:\\Users\\Alexkoh\\Desktop\\Footfallcam\\sample.mp4: 480x640 1 Tag, 5.0ms\n",
      "video 1/1 (434/1341) C:\\Users\\Alexkoh\\Desktop\\Footfallcam\\sample.mp4: 480x640 1 Tag, 4.0ms\n",
      "video 1/1 (435/1341) C:\\Users\\Alexkoh\\Desktop\\Footfallcam\\sample.mp4: 480x640 1 Tag, 5.0ms\n",
      "video 1/1 (436/1341) C:\\Users\\Alexkoh\\Desktop\\Footfallcam\\sample.mp4: 480x640 1 Tag, 5.0ms\n",
      "video 1/1 (437/1341) C:\\Users\\Alexkoh\\Desktop\\Footfallcam\\sample.mp4: 480x640 1 Tag, 6.0ms\n",
      "video 1/1 (438/1341) C:\\Users\\Alexkoh\\Desktop\\Footfallcam\\sample.mp4: 480x640 1 Tag, 5.0ms\n",
      "video 1/1 (439/1341) C:\\Users\\Alexkoh\\Desktop\\Footfallcam\\sample.mp4: 480x640 (no detections), 6.0ms\n",
      "video 1/1 (440/1341) C:\\Users\\Alexkoh\\Desktop\\Footfallcam\\sample.mp4: 480x640 (no detections), 6.0ms\n",
      "video 1/1 (441/1341) C:\\Users\\Alexkoh\\Desktop\\Footfallcam\\sample.mp4: 480x640 (no detections), 4.0ms\n",
      "video 1/1 (442/1341) C:\\Users\\Alexkoh\\Desktop\\Footfallcam\\sample.mp4: 480x640 (no detections), 6.0ms\n",
      "video 1/1 (443/1341) C:\\Users\\Alexkoh\\Desktop\\Footfallcam\\sample.mp4: 480x640 (no detections), 4.0ms\n",
      "video 1/1 (444/1341) C:\\Users\\Alexkoh\\Desktop\\Footfallcam\\sample.mp4: 480x640 (no detections), 7.0ms\n",
      "video 1/1 (445/1341) C:\\Users\\Alexkoh\\Desktop\\Footfallcam\\sample.mp4: 480x640 (no detections), 5.0ms\n",
      "video 1/1 (446/1341) C:\\Users\\Alexkoh\\Desktop\\Footfallcam\\sample.mp4: 480x640 (no detections), 6.0ms\n",
      "video 1/1 (447/1341) C:\\Users\\Alexkoh\\Desktop\\Footfallcam\\sample.mp4: 480x640 (no detections), 5.0ms\n",
      "video 1/1 (448/1341) C:\\Users\\Alexkoh\\Desktop\\Footfallcam\\sample.mp4: 480x640 (no detections), 4.0ms\n",
      "video 1/1 (449/1341) C:\\Users\\Alexkoh\\Desktop\\Footfallcam\\sample.mp4: 480x640 (no detections), 6.0ms\n",
      "video 1/1 (450/1341) C:\\Users\\Alexkoh\\Desktop\\Footfallcam\\sample.mp4: 480x640 (no detections), 4.0ms\n",
      "video 1/1 (451/1341) C:\\Users\\Alexkoh\\Desktop\\Footfallcam\\sample.mp4: 480x640 (no detections), 4.0ms\n",
      "video 1/1 (452/1341) C:\\Users\\Alexkoh\\Desktop\\Footfallcam\\sample.mp4: 480x640 (no detections), 4.0ms\n",
      "video 1/1 (453/1341) C:\\Users\\Alexkoh\\Desktop\\Footfallcam\\sample.mp4: 480x640 (no detections), 5.0ms\n",
      "video 1/1 (454/1341) C:\\Users\\Alexkoh\\Desktop\\Footfallcam\\sample.mp4: 480x640 (no detections), 4.0ms\n",
      "video 1/1 (455/1341) C:\\Users\\Alexkoh\\Desktop\\Footfallcam\\sample.mp4: 480x640 (no detections), 5.0ms\n",
      "video 1/1 (456/1341) C:\\Users\\Alexkoh\\Desktop\\Footfallcam\\sample.mp4: 480x640 (no detections), 5.0ms\n",
      "video 1/1 (457/1341) C:\\Users\\Alexkoh\\Desktop\\Footfallcam\\sample.mp4: 480x640 (no detections), 5.0ms\n",
      "video 1/1 (458/1341) C:\\Users\\Alexkoh\\Desktop\\Footfallcam\\sample.mp4: 480x640 (no detections), 5.0ms\n",
      "video 1/1 (459/1341) C:\\Users\\Alexkoh\\Desktop\\Footfallcam\\sample.mp4: 480x640 1 Tag, 5.0ms\n",
      "video 1/1 (460/1341) C:\\Users\\Alexkoh\\Desktop\\Footfallcam\\sample.mp4: 480x640 1 Tag, 5.0ms\n",
      "video 1/1 (461/1341) C:\\Users\\Alexkoh\\Desktop\\Footfallcam\\sample.mp4: 480x640 1 Tag, 4.0ms\n",
      "video 1/1 (462/1341) C:\\Users\\Alexkoh\\Desktop\\Footfallcam\\sample.mp4: 480x640 1 Tag, 4.0ms\n",
      "video 1/1 (463/1341) C:\\Users\\Alexkoh\\Desktop\\Footfallcam\\sample.mp4: 480x640 1 Tag, 4.0ms\n",
      "video 1/1 (464/1341) C:\\Users\\Alexkoh\\Desktop\\Footfallcam\\sample.mp4: 480x640 1 Tag, 5.0ms\n",
      "video 1/1 (465/1341) C:\\Users\\Alexkoh\\Desktop\\Footfallcam\\sample.mp4: 480x640 1 Tag, 5.0ms\n",
      "video 1/1 (466/1341) C:\\Users\\Alexkoh\\Desktop\\Footfallcam\\sample.mp4: 480x640 1 Tag, 5.0ms\n",
      "video 1/1 (467/1341) C:\\Users\\Alexkoh\\Desktop\\Footfallcam\\sample.mp4: 480x640 1 Tag, 5.0ms\n",
      "video 1/1 (468/1341) C:\\Users\\Alexkoh\\Desktop\\Footfallcam\\sample.mp4: 480x640 1 Tag, 6.0ms\n",
      "video 1/1 (469/1341) C:\\Users\\Alexkoh\\Desktop\\Footfallcam\\sample.mp4: 480x640 1 Tag, 6.0ms\n",
      "video 1/1 (470/1341) C:\\Users\\Alexkoh\\Desktop\\Footfallcam\\sample.mp4: 480x640 1 Tag, 6.0ms\n",
      "video 1/1 (471/1341) C:\\Users\\Alexkoh\\Desktop\\Footfallcam\\sample.mp4: 480x640 1 Tag, 5.0ms\n",
      "video 1/1 (472/1341) C:\\Users\\Alexkoh\\Desktop\\Footfallcam\\sample.mp4: 480x640 1 Tag, 6.0ms\n",
      "video 1/1 (473/1341) C:\\Users\\Alexkoh\\Desktop\\Footfallcam\\sample.mp4: 480x640 1 Tag, 5.0ms\n",
      "video 1/1 (474/1341) C:\\Users\\Alexkoh\\Desktop\\Footfallcam\\sample.mp4: 480x640 (no detections), 6.0ms\n",
      "video 1/1 (475/1341) C:\\Users\\Alexkoh\\Desktop\\Footfallcam\\sample.mp4: 480x640 (no detections), 4.0ms\n",
      "video 1/1 (476/1341) C:\\Users\\Alexkoh\\Desktop\\Footfallcam\\sample.mp4: 480x640 (no detections), 7.0ms\n",
      "video 1/1 (477/1341) C:\\Users\\Alexkoh\\Desktop\\Footfallcam\\sample.mp4: 480x640 (no detections), 5.0ms\n",
      "video 1/1 (478/1341) C:\\Users\\Alexkoh\\Desktop\\Footfallcam\\sample.mp4: 480x640 (no detections), 5.0ms\n",
      "video 1/1 (479/1341) C:\\Users\\Alexkoh\\Desktop\\Footfallcam\\sample.mp4: 480x640 (no detections), 5.0ms\n",
      "video 1/1 (480/1341) C:\\Users\\Alexkoh\\Desktop\\Footfallcam\\sample.mp4: 480x640 (no detections), 5.0ms\n",
      "video 1/1 (481/1341) C:\\Users\\Alexkoh\\Desktop\\Footfallcam\\sample.mp4: 480x640 (no detections), 5.0ms\n",
      "video 1/1 (482/1341) C:\\Users\\Alexkoh\\Desktop\\Footfallcam\\sample.mp4: 480x640 (no detections), 5.0ms\n",
      "video 1/1 (483/1341) C:\\Users\\Alexkoh\\Desktop\\Footfallcam\\sample.mp4: 480x640 (no detections), 6.0ms\n",
      "video 1/1 (484/1341) C:\\Users\\Alexkoh\\Desktop\\Footfallcam\\sample.mp4: 480x640 (no detections), 6.0ms\n",
      "video 1/1 (485/1341) C:\\Users\\Alexkoh\\Desktop\\Footfallcam\\sample.mp4: 480x640 (no detections), 5.0ms\n",
      "video 1/1 (486/1341) C:\\Users\\Alexkoh\\Desktop\\Footfallcam\\sample.mp4: 480x640 (no detections), 4.0ms\n",
      "video 1/1 (487/1341) C:\\Users\\Alexkoh\\Desktop\\Footfallcam\\sample.mp4: 480x640 (no detections), 5.0ms\n",
      "video 1/1 (488/1341) C:\\Users\\Alexkoh\\Desktop\\Footfallcam\\sample.mp4: 480x640 (no detections), 6.0ms\n",
      "video 1/1 (489/1341) C:\\Users\\Alexkoh\\Desktop\\Footfallcam\\sample.mp4: 480x640 (no detections), 5.0ms\n",
      "video 1/1 (490/1341) C:\\Users\\Alexkoh\\Desktop\\Footfallcam\\sample.mp4: 480x640 (no detections), 6.0ms\n",
      "video 1/1 (491/1341) C:\\Users\\Alexkoh\\Desktop\\Footfallcam\\sample.mp4: 480x640 (no detections), 5.0ms\n",
      "video 1/1 (492/1341) C:\\Users\\Alexkoh\\Desktop\\Footfallcam\\sample.mp4: 480x640 (no detections), 6.0ms\n",
      "video 1/1 (493/1341) C:\\Users\\Alexkoh\\Desktop\\Footfallcam\\sample.mp4: 480x640 (no detections), 7.0ms\n",
      "video 1/1 (494/1341) C:\\Users\\Alexkoh\\Desktop\\Footfallcam\\sample.mp4: 480x640 (no detections), 6.0ms\n",
      "video 1/1 (495/1341) C:\\Users\\Alexkoh\\Desktop\\Footfallcam\\sample.mp4: 480x640 (no detections), 5.0ms\n",
      "video 1/1 (496/1341) C:\\Users\\Alexkoh\\Desktop\\Footfallcam\\sample.mp4: 480x640 (no detections), 6.0ms\n",
      "video 1/1 (497/1341) C:\\Users\\Alexkoh\\Desktop\\Footfallcam\\sample.mp4: 480x640 (no detections), 6.0ms\n",
      "video 1/1 (498/1341) C:\\Users\\Alexkoh\\Desktop\\Footfallcam\\sample.mp4: 480x640 (no detections), 6.0ms\n",
      "video 1/1 (499/1341) C:\\Users\\Alexkoh\\Desktop\\Footfallcam\\sample.mp4: 480x640 (no detections), 6.0ms\n",
      "video 1/1 (500/1341) C:\\Users\\Alexkoh\\Desktop\\Footfallcam\\sample.mp4: 480x640 (no detections), 5.0ms\n",
      "video 1/1 (501/1341) C:\\Users\\Alexkoh\\Desktop\\Footfallcam\\sample.mp4: 480x640 (no detections), 6.0ms\n",
      "video 1/1 (502/1341) C:\\Users\\Alexkoh\\Desktop\\Footfallcam\\sample.mp4: 480x640 (no detections), 6.0ms\n",
      "video 1/1 (503/1341) C:\\Users\\Alexkoh\\Desktop\\Footfallcam\\sample.mp4: 480x640 1 Tag, 6.0ms\n",
      "video 1/1 (504/1341) C:\\Users\\Alexkoh\\Desktop\\Footfallcam\\sample.mp4: 480x640 1 Tag, 5.0ms\n",
      "video 1/1 (505/1341) C:\\Users\\Alexkoh\\Desktop\\Footfallcam\\sample.mp4: 480x640 1 Tag, 5.0ms\n",
      "video 1/1 (506/1341) C:\\Users\\Alexkoh\\Desktop\\Footfallcam\\sample.mp4: 480x640 1 Tag, 5.0ms\n",
      "video 1/1 (507/1341) C:\\Users\\Alexkoh\\Desktop\\Footfallcam\\sample.mp4: 480x640 1 Tag, 5.0ms\n",
      "video 1/1 (508/1341) C:\\Users\\Alexkoh\\Desktop\\Footfallcam\\sample.mp4: 480x640 1 Tag, 6.0ms\n",
      "video 1/1 (509/1341) C:\\Users\\Alexkoh\\Desktop\\Footfallcam\\sample.mp4: 480x640 1 Tag, 6.0ms\n",
      "video 1/1 (510/1341) C:\\Users\\Alexkoh\\Desktop\\Footfallcam\\sample.mp4: 480x640 1 Tag, 5.0ms\n",
      "video 1/1 (511/1341) C:\\Users\\Alexkoh\\Desktop\\Footfallcam\\sample.mp4: 480x640 1 Tag, 5.0ms\n",
      "video 1/1 (512/1341) C:\\Users\\Alexkoh\\Desktop\\Footfallcam\\sample.mp4: 480x640 1 Tag, 5.0ms\n",
      "video 1/1 (513/1341) C:\\Users\\Alexkoh\\Desktop\\Footfallcam\\sample.mp4: 480x640 (no detections), 5.0ms\n",
      "video 1/1 (514/1341) C:\\Users\\Alexkoh\\Desktop\\Footfallcam\\sample.mp4: 480x640 (no detections), 5.0ms\n",
      "video 1/1 (515/1341) C:\\Users\\Alexkoh\\Desktop\\Footfallcam\\sample.mp4: 480x640 (no detections), 5.0ms\n",
      "video 1/1 (516/1341) C:\\Users\\Alexkoh\\Desktop\\Footfallcam\\sample.mp4: 480x640 (no detections), 5.0ms\n",
      "video 1/1 (517/1341) C:\\Users\\Alexkoh\\Desktop\\Footfallcam\\sample.mp4: 480x640 (no detections), 6.0ms\n",
      "video 1/1 (518/1341) C:\\Users\\Alexkoh\\Desktop\\Footfallcam\\sample.mp4: 480x640 (no detections), 6.0ms\n",
      "video 1/1 (519/1341) C:\\Users\\Alexkoh\\Desktop\\Footfallcam\\sample.mp4: 480x640 (no detections), 5.0ms\n",
      "video 1/1 (520/1341) C:\\Users\\Alexkoh\\Desktop\\Footfallcam\\sample.mp4: 480x640 (no detections), 6.0ms\n",
      "video 1/1 (521/1341) C:\\Users\\Alexkoh\\Desktop\\Footfallcam\\sample.mp4: 480x640 (no detections), 6.0ms\n",
      "video 1/1 (522/1341) C:\\Users\\Alexkoh\\Desktop\\Footfallcam\\sample.mp4: 480x640 (no detections), 6.0ms\n",
      "video 1/1 (523/1341) C:\\Users\\Alexkoh\\Desktop\\Footfallcam\\sample.mp4: 480x640 (no detections), 5.0ms\n",
      "video 1/1 (524/1341) C:\\Users\\Alexkoh\\Desktop\\Footfallcam\\sample.mp4: 480x640 (no detections), 6.0ms\n",
      "video 1/1 (525/1341) C:\\Users\\Alexkoh\\Desktop\\Footfallcam\\sample.mp4: 480x640 (no detections), 5.0ms\n",
      "video 1/1 (526/1341) C:\\Users\\Alexkoh\\Desktop\\Footfallcam\\sample.mp4: 480x640 (no detections), 5.0ms\n",
      "video 1/1 (527/1341) C:\\Users\\Alexkoh\\Desktop\\Footfallcam\\sample.mp4: 480x640 (no detections), 5.0ms\n",
      "video 1/1 (528/1341) C:\\Users\\Alexkoh\\Desktop\\Footfallcam\\sample.mp4: 480x640 (no detections), 6.0ms\n",
      "video 1/1 (529/1341) C:\\Users\\Alexkoh\\Desktop\\Footfallcam\\sample.mp4: 480x640 (no detections), 6.0ms\n",
      "video 1/1 (530/1341) C:\\Users\\Alexkoh\\Desktop\\Footfallcam\\sample.mp4: 480x640 (no detections), 5.0ms\n",
      "video 1/1 (531/1341) C:\\Users\\Alexkoh\\Desktop\\Footfallcam\\sample.mp4: 480x640 (no detections), 6.0ms\n",
      "video 1/1 (532/1341) C:\\Users\\Alexkoh\\Desktop\\Footfallcam\\sample.mp4: 480x640 (no detections), 6.0ms\n",
      "video 1/1 (533/1341) C:\\Users\\Alexkoh\\Desktop\\Footfallcam\\sample.mp4: 480x640 (no detections), 5.0ms\n",
      "video 1/1 (534/1341) C:\\Users\\Alexkoh\\Desktop\\Footfallcam\\sample.mp4: 480x640 (no detections), 6.0ms\n",
      "video 1/1 (535/1341) C:\\Users\\Alexkoh\\Desktop\\Footfallcam\\sample.mp4: 480x640 (no detections), 5.0ms\n",
      "video 1/1 (536/1341) C:\\Users\\Alexkoh\\Desktop\\Footfallcam\\sample.mp4: 480x640 (no detections), 5.0ms\n",
      "video 1/1 (537/1341) C:\\Users\\Alexkoh\\Desktop\\Footfallcam\\sample.mp4: 480x640 (no detections), 6.0ms\n",
      "video 1/1 (538/1341) C:\\Users\\Alexkoh\\Desktop\\Footfallcam\\sample.mp4: 480x640 (no detections), 7.0ms\n",
      "video 1/1 (539/1341) C:\\Users\\Alexkoh\\Desktop\\Footfallcam\\sample.mp4: 480x640 (no detections), 5.0ms\n",
      "video 1/1 (540/1341) C:\\Users\\Alexkoh\\Desktop\\Footfallcam\\sample.mp4: 480x640 (no detections), 6.0ms\n",
      "video 1/1 (541/1341) C:\\Users\\Alexkoh\\Desktop\\Footfallcam\\sample.mp4: 480x640 (no detections), 6.0ms\n",
      "video 1/1 (542/1341) C:\\Users\\Alexkoh\\Desktop\\Footfallcam\\sample.mp4: 480x640 (no detections), 5.0ms\n",
      "video 1/1 (543/1341) C:\\Users\\Alexkoh\\Desktop\\Footfallcam\\sample.mp4: 480x640 (no detections), 6.0ms\n",
      "video 1/1 (544/1341) C:\\Users\\Alexkoh\\Desktop\\Footfallcam\\sample.mp4: 480x640 (no detections), 5.0ms\n",
      "video 1/1 (545/1341) C:\\Users\\Alexkoh\\Desktop\\Footfallcam\\sample.mp4: 480x640 (no detections), 5.0ms\n",
      "video 1/1 (546/1341) C:\\Users\\Alexkoh\\Desktop\\Footfallcam\\sample.mp4: 480x640 (no detections), 6.0ms\n",
      "video 1/1 (547/1341) C:\\Users\\Alexkoh\\Desktop\\Footfallcam\\sample.mp4: 480x640 (no detections), 5.0ms\n",
      "video 1/1 (548/1341) C:\\Users\\Alexkoh\\Desktop\\Footfallcam\\sample.mp4: 480x640 (no detections), 6.0ms\n",
      "video 1/1 (549/1341) C:\\Users\\Alexkoh\\Desktop\\Footfallcam\\sample.mp4: 480x640 (no detections), 5.0ms\n",
      "video 1/1 (550/1341) C:\\Users\\Alexkoh\\Desktop\\Footfallcam\\sample.mp4: 480x640 (no detections), 6.0ms\n",
      "video 1/1 (551/1341) C:\\Users\\Alexkoh\\Desktop\\Footfallcam\\sample.mp4: 480x640 (no detections), 6.0ms\n",
      "video 1/1 (552/1341) C:\\Users\\Alexkoh\\Desktop\\Footfallcam\\sample.mp4: 480x640 (no detections), 5.0ms\n",
      "video 1/1 (553/1341) C:\\Users\\Alexkoh\\Desktop\\Footfallcam\\sample.mp4: 480x640 (no detections), 5.0ms\n",
      "video 1/1 (554/1341) C:\\Users\\Alexkoh\\Desktop\\Footfallcam\\sample.mp4: 480x640 (no detections), 5.0ms\n",
      "video 1/1 (555/1341) C:\\Users\\Alexkoh\\Desktop\\Footfallcam\\sample.mp4: 480x640 (no detections), 5.0ms\n",
      "video 1/1 (556/1341) C:\\Users\\Alexkoh\\Desktop\\Footfallcam\\sample.mp4: 480x640 (no detections), 5.0ms\n",
      "video 1/1 (557/1341) C:\\Users\\Alexkoh\\Desktop\\Footfallcam\\sample.mp4: 480x640 1 Tag, 5.0ms\n",
      "video 1/1 (558/1341) C:\\Users\\Alexkoh\\Desktop\\Footfallcam\\sample.mp4: 480x640 1 Tag, 5.0ms\n",
      "video 1/1 (559/1341) C:\\Users\\Alexkoh\\Desktop\\Footfallcam\\sample.mp4: 480x640 1 Tag, 5.0ms\n",
      "video 1/1 (560/1341) C:\\Users\\Alexkoh\\Desktop\\Footfallcam\\sample.mp4: 480x640 1 Tag, 5.0ms\n",
      "video 1/1 (561/1341) C:\\Users\\Alexkoh\\Desktop\\Footfallcam\\sample.mp4: 480x640 (no detections), 6.0ms\n",
      "video 1/1 (562/1341) C:\\Users\\Alexkoh\\Desktop\\Footfallcam\\sample.mp4: 480x640 (no detections), 6.0ms\n",
      "video 1/1 (563/1341) C:\\Users\\Alexkoh\\Desktop\\Footfallcam\\sample.mp4: 480x640 (no detections), 6.0ms\n",
      "video 1/1 (564/1341) C:\\Users\\Alexkoh\\Desktop\\Footfallcam\\sample.mp4: 480x640 (no detections), 7.0ms\n",
      "video 1/1 (565/1341) C:\\Users\\Alexkoh\\Desktop\\Footfallcam\\sample.mp4: 480x640 (no detections), 5.0ms\n",
      "video 1/1 (566/1341) C:\\Users\\Alexkoh\\Desktop\\Footfallcam\\sample.mp4: 480x640 (no detections), 6.0ms\n",
      "video 1/1 (567/1341) C:\\Users\\Alexkoh\\Desktop\\Footfallcam\\sample.mp4: 480x640 (no detections), 6.0ms\n",
      "video 1/1 (568/1341) C:\\Users\\Alexkoh\\Desktop\\Footfallcam\\sample.mp4: 480x640 (no detections), 6.0ms\n",
      "video 1/1 (569/1341) C:\\Users\\Alexkoh\\Desktop\\Footfallcam\\sample.mp4: 480x640 (no detections), 5.0ms\n",
      "video 1/1 (570/1341) C:\\Users\\Alexkoh\\Desktop\\Footfallcam\\sample.mp4: 480x640 (no detections), 6.0ms\n",
      "video 1/1 (571/1341) C:\\Users\\Alexkoh\\Desktop\\Footfallcam\\sample.mp4: 480x640 (no detections), 6.0ms\n",
      "video 1/1 (572/1341) C:\\Users\\Alexkoh\\Desktop\\Footfallcam\\sample.mp4: 480x640 (no detections), 6.0ms\n",
      "video 1/1 (573/1341) C:\\Users\\Alexkoh\\Desktop\\Footfallcam\\sample.mp4: 480x640 (no detections), 5.0ms\n",
      "video 1/1 (574/1341) C:\\Users\\Alexkoh\\Desktop\\Footfallcam\\sample.mp4: 480x640 (no detections), 6.0ms\n",
      "video 1/1 (575/1341) C:\\Users\\Alexkoh\\Desktop\\Footfallcam\\sample.mp4: 480x640 (no detections), 5.0ms\n",
      "video 1/1 (576/1341) C:\\Users\\Alexkoh\\Desktop\\Footfallcam\\sample.mp4: 480x640 (no detections), 6.0ms\n",
      "video 1/1 (577/1341) C:\\Users\\Alexkoh\\Desktop\\Footfallcam\\sample.mp4: 480x640 (no detections), 7.0ms\n",
      "video 1/1 (578/1341) C:\\Users\\Alexkoh\\Desktop\\Footfallcam\\sample.mp4: 480x640 (no detections), 6.0ms\n",
      "video 1/1 (579/1341) C:\\Users\\Alexkoh\\Desktop\\Footfallcam\\sample.mp4: 480x640 (no detections), 5.0ms\n",
      "video 1/1 (580/1341) C:\\Users\\Alexkoh\\Desktop\\Footfallcam\\sample.mp4: 480x640 (no detections), 7.0ms\n",
      "video 1/1 (581/1341) C:\\Users\\Alexkoh\\Desktop\\Footfallcam\\sample.mp4: 480x640 (no detections), 5.0ms\n",
      "video 1/1 (582/1341) C:\\Users\\Alexkoh\\Desktop\\Footfallcam\\sample.mp4: 480x640 (no detections), 5.0ms\n",
      "video 1/1 (583/1341) C:\\Users\\Alexkoh\\Desktop\\Footfallcam\\sample.mp4: 480x640 (no detections), 6.0ms\n",
      "video 1/1 (584/1341) C:\\Users\\Alexkoh\\Desktop\\Footfallcam\\sample.mp4: 480x640 (no detections), 5.0ms\n",
      "video 1/1 (585/1341) C:\\Users\\Alexkoh\\Desktop\\Footfallcam\\sample.mp4: 480x640 (no detections), 7.0ms\n",
      "video 1/1 (586/1341) C:\\Users\\Alexkoh\\Desktop\\Footfallcam\\sample.mp4: 480x640 (no detections), 7.0ms\n",
      "video 1/1 (587/1341) C:\\Users\\Alexkoh\\Desktop\\Footfallcam\\sample.mp4: 480x640 (no detections), 5.0ms\n",
      "video 1/1 (588/1341) C:\\Users\\Alexkoh\\Desktop\\Footfallcam\\sample.mp4: 480x640 (no detections), 6.0ms\n",
      "video 1/1 (589/1341) C:\\Users\\Alexkoh\\Desktop\\Footfallcam\\sample.mp4: 480x640 (no detections), 6.0ms\n",
      "video 1/1 (590/1341) C:\\Users\\Alexkoh\\Desktop\\Footfallcam\\sample.mp4: 480x640 (no detections), 6.0ms\n",
      "video 1/1 (591/1341) C:\\Users\\Alexkoh\\Desktop\\Footfallcam\\sample.mp4: 480x640 (no detections), 6.0ms\n",
      "video 1/1 (592/1341) C:\\Users\\Alexkoh\\Desktop\\Footfallcam\\sample.mp4: 480x640 (no detections), 6.0ms\n",
      "video 1/1 (593/1341) C:\\Users\\Alexkoh\\Desktop\\Footfallcam\\sample.mp4: 480x640 (no detections), 6.0ms\n",
      "video 1/1 (594/1341) C:\\Users\\Alexkoh\\Desktop\\Footfallcam\\sample.mp4: 480x640 (no detections), 6.0ms\n",
      "video 1/1 (595/1341) C:\\Users\\Alexkoh\\Desktop\\Footfallcam\\sample.mp4: 480x640 (no detections), 5.0ms\n",
      "video 1/1 (596/1341) C:\\Users\\Alexkoh\\Desktop\\Footfallcam\\sample.mp4: 480x640 (no detections), 7.0ms\n",
      "video 1/1 (597/1341) C:\\Users\\Alexkoh\\Desktop\\Footfallcam\\sample.mp4: 480x640 (no detections), 6.0ms\n",
      "video 1/1 (598/1341) C:\\Users\\Alexkoh\\Desktop\\Footfallcam\\sample.mp4: 480x640 (no detections), 6.0ms\n",
      "video 1/1 (599/1341) C:\\Users\\Alexkoh\\Desktop\\Footfallcam\\sample.mp4: 480x640 (no detections), 7.0ms\n",
      "video 1/1 (600/1341) C:\\Users\\Alexkoh\\Desktop\\Footfallcam\\sample.mp4: 480x640 (no detections), 5.0ms\n",
      "video 1/1 (601/1341) C:\\Users\\Alexkoh\\Desktop\\Footfallcam\\sample.mp4: 480x640 (no detections), 6.0ms\n",
      "video 1/1 (602/1341) C:\\Users\\Alexkoh\\Desktop\\Footfallcam\\sample.mp4: 480x640 (no detections), 6.0ms\n",
      "video 1/1 (603/1341) C:\\Users\\Alexkoh\\Desktop\\Footfallcam\\sample.mp4: 480x640 (no detections), 5.0ms\n",
      "video 1/1 (604/1341) C:\\Users\\Alexkoh\\Desktop\\Footfallcam\\sample.mp4: 480x640 (no detections), 6.0ms\n",
      "video 1/1 (605/1341) C:\\Users\\Alexkoh\\Desktop\\Footfallcam\\sample.mp4: 480x640 (no detections), 6.0ms\n",
      "video 1/1 (606/1341) C:\\Users\\Alexkoh\\Desktop\\Footfallcam\\sample.mp4: 480x640 (no detections), 6.0ms\n",
      "video 1/1 (607/1341) C:\\Users\\Alexkoh\\Desktop\\Footfallcam\\sample.mp4: 480x640 (no detections), 7.0ms\n",
      "video 1/1 (608/1341) C:\\Users\\Alexkoh\\Desktop\\Footfallcam\\sample.mp4: 480x640 (no detections), 6.0ms\n",
      "video 1/1 (609/1341) C:\\Users\\Alexkoh\\Desktop\\Footfallcam\\sample.mp4: 480x640 (no detections), 5.0ms\n",
      "video 1/1 (610/1341) C:\\Users\\Alexkoh\\Desktop\\Footfallcam\\sample.mp4: 480x640 (no detections), 5.0ms\n",
      "video 1/1 (611/1341) C:\\Users\\Alexkoh\\Desktop\\Footfallcam\\sample.mp4: 480x640 (no detections), 5.0ms\n",
      "video 1/1 (612/1341) C:\\Users\\Alexkoh\\Desktop\\Footfallcam\\sample.mp4: 480x640 (no detections), 7.0ms\n",
      "video 1/1 (613/1341) C:\\Users\\Alexkoh\\Desktop\\Footfallcam\\sample.mp4: 480x640 (no detections), 6.0ms\n",
      "video 1/1 (614/1341) C:\\Users\\Alexkoh\\Desktop\\Footfallcam\\sample.mp4: 480x640 (no detections), 6.0ms\n",
      "video 1/1 (615/1341) C:\\Users\\Alexkoh\\Desktop\\Footfallcam\\sample.mp4: 480x640 (no detections), 5.0ms\n",
      "video 1/1 (616/1341) C:\\Users\\Alexkoh\\Desktop\\Footfallcam\\sample.mp4: 480x640 (no detections), 6.0ms\n",
      "video 1/1 (617/1341) C:\\Users\\Alexkoh\\Desktop\\Footfallcam\\sample.mp4: 480x640 (no detections), 6.0ms\n",
      "video 1/1 (618/1341) C:\\Users\\Alexkoh\\Desktop\\Footfallcam\\sample.mp4: 480x640 (no detections), 6.0ms\n",
      "video 1/1 (619/1341) C:\\Users\\Alexkoh\\Desktop\\Footfallcam\\sample.mp4: 480x640 (no detections), 6.0ms\n",
      "video 1/1 (620/1341) C:\\Users\\Alexkoh\\Desktop\\Footfallcam\\sample.mp4: 480x640 (no detections), 6.0ms\n",
      "video 1/1 (621/1341) C:\\Users\\Alexkoh\\Desktop\\Footfallcam\\sample.mp4: 480x640 (no detections), 6.0ms\n",
      "video 1/1 (622/1341) C:\\Users\\Alexkoh\\Desktop\\Footfallcam\\sample.mp4: 480x640 (no detections), 6.0ms\n",
      "video 1/1 (623/1341) C:\\Users\\Alexkoh\\Desktop\\Footfallcam\\sample.mp4: 480x640 (no detections), 6.0ms\n",
      "video 1/1 (624/1341) C:\\Users\\Alexkoh\\Desktop\\Footfallcam\\sample.mp4: 480x640 (no detections), 6.0ms\n",
      "video 1/1 (625/1341) C:\\Users\\Alexkoh\\Desktop\\Footfallcam\\sample.mp4: 480x640 (no detections), 6.0ms\n",
      "video 1/1 (626/1341) C:\\Users\\Alexkoh\\Desktop\\Footfallcam\\sample.mp4: 480x640 (no detections), 7.0ms\n",
      "video 1/1 (627/1341) C:\\Users\\Alexkoh\\Desktop\\Footfallcam\\sample.mp4: 480x640 (no detections), 6.0ms\n",
      "video 1/1 (628/1341) C:\\Users\\Alexkoh\\Desktop\\Footfallcam\\sample.mp4: 480x640 (no detections), 5.0ms\n",
      "video 1/1 (629/1341) C:\\Users\\Alexkoh\\Desktop\\Footfallcam\\sample.mp4: 480x640 (no detections), 7.0ms\n",
      "video 1/1 (630/1341) C:\\Users\\Alexkoh\\Desktop\\Footfallcam\\sample.mp4: 480x640 (no detections), 5.0ms\n",
      "video 1/1 (631/1341) C:\\Users\\Alexkoh\\Desktop\\Footfallcam\\sample.mp4: 480x640 (no detections), 6.0ms\n",
      "video 1/1 (632/1341) C:\\Users\\Alexkoh\\Desktop\\Footfallcam\\sample.mp4: 480x640 (no detections), 6.0ms\n",
      "video 1/1 (633/1341) C:\\Users\\Alexkoh\\Desktop\\Footfallcam\\sample.mp4: 480x640 (no detections), 6.0ms\n",
      "video 1/1 (634/1341) C:\\Users\\Alexkoh\\Desktop\\Footfallcam\\sample.mp4: 480x640 (no detections), 6.0ms\n",
      "video 1/1 (635/1341) C:\\Users\\Alexkoh\\Desktop\\Footfallcam\\sample.mp4: 480x640 (no detections), 5.0ms\n",
      "video 1/1 (636/1341) C:\\Users\\Alexkoh\\Desktop\\Footfallcam\\sample.mp4: 480x640 (no detections), 6.0ms\n",
      "video 1/1 (637/1341) C:\\Users\\Alexkoh\\Desktop\\Footfallcam\\sample.mp4: 480x640 (no detections), 5.0ms\n",
      "video 1/1 (638/1341) C:\\Users\\Alexkoh\\Desktop\\Footfallcam\\sample.mp4: 480x640 (no detections), 6.0ms\n",
      "video 1/1 (639/1341) C:\\Users\\Alexkoh\\Desktop\\Footfallcam\\sample.mp4: 480x640 (no detections), 5.0ms\n",
      "video 1/1 (640/1341) C:\\Users\\Alexkoh\\Desktop\\Footfallcam\\sample.mp4: 480x640 (no detections), 5.0ms\n",
      "video 1/1 (641/1341) C:\\Users\\Alexkoh\\Desktop\\Footfallcam\\sample.mp4: 480x640 (no detections), 7.0ms\n",
      "video 1/1 (642/1341) C:\\Users\\Alexkoh\\Desktop\\Footfallcam\\sample.mp4: 480x640 (no detections), 5.0ms\n",
      "video 1/1 (643/1341) C:\\Users\\Alexkoh\\Desktop\\Footfallcam\\sample.mp4: 480x640 (no detections), 6.0ms\n",
      "video 1/1 (644/1341) C:\\Users\\Alexkoh\\Desktop\\Footfallcam\\sample.mp4: 480x640 (no detections), 5.0ms\n",
      "video 1/1 (645/1341) C:\\Users\\Alexkoh\\Desktop\\Footfallcam\\sample.mp4: 480x640 (no detections), 5.0ms\n",
      "video 1/1 (646/1341) C:\\Users\\Alexkoh\\Desktop\\Footfallcam\\sample.mp4: 480x640 (no detections), 5.0ms\n",
      "video 1/1 (647/1341) C:\\Users\\Alexkoh\\Desktop\\Footfallcam\\sample.mp4: 480x640 (no detections), 5.0ms\n",
      "video 1/1 (648/1341) C:\\Users\\Alexkoh\\Desktop\\Footfallcam\\sample.mp4: 480x640 (no detections), 6.0ms\n",
      "video 1/1 (649/1341) C:\\Users\\Alexkoh\\Desktop\\Footfallcam\\sample.mp4: 480x640 (no detections), 5.0ms\n",
      "video 1/1 (650/1341) C:\\Users\\Alexkoh\\Desktop\\Footfallcam\\sample.mp4: 480x640 (no detections), 5.0ms\n",
      "video 1/1 (651/1341) C:\\Users\\Alexkoh\\Desktop\\Footfallcam\\sample.mp4: 480x640 (no detections), 5.0ms\n",
      "video 1/1 (652/1341) C:\\Users\\Alexkoh\\Desktop\\Footfallcam\\sample.mp4: 480x640 (no detections), 5.0ms\n",
      "video 1/1 (653/1341) C:\\Users\\Alexkoh\\Desktop\\Footfallcam\\sample.mp4: 480x640 (no detections), 6.0ms\n",
      "video 1/1 (654/1341) C:\\Users\\Alexkoh\\Desktop\\Footfallcam\\sample.mp4: 480x640 (no detections), 5.0ms\n",
      "video 1/1 (655/1341) C:\\Users\\Alexkoh\\Desktop\\Footfallcam\\sample.mp4: 480x640 (no detections), 6.0ms\n",
      "video 1/1 (656/1341) C:\\Users\\Alexkoh\\Desktop\\Footfallcam\\sample.mp4: 480x640 (no detections), 6.0ms\n",
      "video 1/1 (657/1341) C:\\Users\\Alexkoh\\Desktop\\Footfallcam\\sample.mp4: 480x640 (no detections), 6.0ms\n",
      "video 1/1 (658/1341) C:\\Users\\Alexkoh\\Desktop\\Footfallcam\\sample.mp4: 480x640 (no detections), 6.0ms\n",
      "video 1/1 (659/1341) C:\\Users\\Alexkoh\\Desktop\\Footfallcam\\sample.mp4: 480x640 (no detections), 5.0ms\n",
      "video 1/1 (660/1341) C:\\Users\\Alexkoh\\Desktop\\Footfallcam\\sample.mp4: 480x640 (no detections), 5.0ms\n",
      "video 1/1 (661/1341) C:\\Users\\Alexkoh\\Desktop\\Footfallcam\\sample.mp4: 480x640 (no detections), 6.0ms\n",
      "video 1/1 (662/1341) C:\\Users\\Alexkoh\\Desktop\\Footfallcam\\sample.mp4: 480x640 (no detections), 5.0ms\n",
      "video 1/1 (663/1341) C:\\Users\\Alexkoh\\Desktop\\Footfallcam\\sample.mp4: 480x640 (no detections), 5.0ms\n",
      "video 1/1 (664/1341) C:\\Users\\Alexkoh\\Desktop\\Footfallcam\\sample.mp4: 480x640 (no detections), 5.0ms\n",
      "video 1/1 (665/1341) C:\\Users\\Alexkoh\\Desktop\\Footfallcam\\sample.mp4: 480x640 (no detections), 5.0ms\n",
      "video 1/1 (666/1341) C:\\Users\\Alexkoh\\Desktop\\Footfallcam\\sample.mp4: 480x640 (no detections), 6.0ms\n",
      "video 1/1 (667/1341) C:\\Users\\Alexkoh\\Desktop\\Footfallcam\\sample.mp4: 480x640 (no detections), 6.0ms\n",
      "video 1/1 (668/1341) C:\\Users\\Alexkoh\\Desktop\\Footfallcam\\sample.mp4: 480x640 (no detections), 5.0ms\n",
      "video 1/1 (669/1341) C:\\Users\\Alexkoh\\Desktop\\Footfallcam\\sample.mp4: 480x640 (no detections), 6.0ms\n",
      "video 1/1 (670/1341) C:\\Users\\Alexkoh\\Desktop\\Footfallcam\\sample.mp4: 480x640 (no detections), 6.0ms\n",
      "video 1/1 (671/1341) C:\\Users\\Alexkoh\\Desktop\\Footfallcam\\sample.mp4: 480x640 (no detections), 5.0ms\n",
      "video 1/1 (672/1341) C:\\Users\\Alexkoh\\Desktop\\Footfallcam\\sample.mp4: 480x640 (no detections), 6.0ms\n",
      "video 1/1 (673/1341) C:\\Users\\Alexkoh\\Desktop\\Footfallcam\\sample.mp4: 480x640 (no detections), 7.0ms\n",
      "video 1/1 (674/1341) C:\\Users\\Alexkoh\\Desktop\\Footfallcam\\sample.mp4: 480x640 (no detections), 6.0ms\n",
      "video 1/1 (675/1341) C:\\Users\\Alexkoh\\Desktop\\Footfallcam\\sample.mp4: 480x640 (no detections), 6.0ms\n",
      "video 1/1 (676/1341) C:\\Users\\Alexkoh\\Desktop\\Footfallcam\\sample.mp4: 480x640 (no detections), 6.0ms\n",
      "video 1/1 (677/1341) C:\\Users\\Alexkoh\\Desktop\\Footfallcam\\sample.mp4: 480x640 (no detections), 5.0ms\n",
      "video 1/1 (678/1341) C:\\Users\\Alexkoh\\Desktop\\Footfallcam\\sample.mp4: 480x640 (no detections), 5.0ms\n",
      "video 1/1 (679/1341) C:\\Users\\Alexkoh\\Desktop\\Footfallcam\\sample.mp4: 480x640 (no detections), 5.0ms\n",
      "video 1/1 (680/1341) C:\\Users\\Alexkoh\\Desktop\\Footfallcam\\sample.mp4: 480x640 (no detections), 5.0ms\n",
      "video 1/1 (681/1341) C:\\Users\\Alexkoh\\Desktop\\Footfallcam\\sample.mp4: 480x640 (no detections), 6.0ms\n",
      "video 1/1 (682/1341) C:\\Users\\Alexkoh\\Desktop\\Footfallcam\\sample.mp4: 480x640 (no detections), 5.0ms\n",
      "video 1/1 (683/1341) C:\\Users\\Alexkoh\\Desktop\\Footfallcam\\sample.mp4: 480x640 (no detections), 5.0ms\n",
      "video 1/1 (684/1341) C:\\Users\\Alexkoh\\Desktop\\Footfallcam\\sample.mp4: 480x640 (no detections), 5.0ms\n",
      "video 1/1 (685/1341) C:\\Users\\Alexkoh\\Desktop\\Footfallcam\\sample.mp4: 480x640 (no detections), 5.0ms\n",
      "video 1/1 (686/1341) C:\\Users\\Alexkoh\\Desktop\\Footfallcam\\sample.mp4: 480x640 (no detections), 6.0ms\n",
      "video 1/1 (687/1341) C:\\Users\\Alexkoh\\Desktop\\Footfallcam\\sample.mp4: 480x640 (no detections), 6.0ms\n",
      "video 1/1 (688/1341) C:\\Users\\Alexkoh\\Desktop\\Footfallcam\\sample.mp4: 480x640 (no detections), 6.0ms\n",
      "video 1/1 (689/1341) C:\\Users\\Alexkoh\\Desktop\\Footfallcam\\sample.mp4: 480x640 (no detections), 5.0ms\n",
      "video 1/1 (690/1341) C:\\Users\\Alexkoh\\Desktop\\Footfallcam\\sample.mp4: 480x640 (no detections), 5.0ms\n",
      "video 1/1 (691/1341) C:\\Users\\Alexkoh\\Desktop\\Footfallcam\\sample.mp4: 480x640 (no detections), 5.0ms\n",
      "video 1/1 (692/1341) C:\\Users\\Alexkoh\\Desktop\\Footfallcam\\sample.mp4: 480x640 (no detections), 5.0ms\n",
      "video 1/1 (693/1341) C:\\Users\\Alexkoh\\Desktop\\Footfallcam\\sample.mp4: 480x640 (no detections), 6.0ms\n",
      "video 1/1 (694/1341) C:\\Users\\Alexkoh\\Desktop\\Footfallcam\\sample.mp4: 480x640 (no detections), 6.0ms\n",
      "video 1/1 (695/1341) C:\\Users\\Alexkoh\\Desktop\\Footfallcam\\sample.mp4: 480x640 (no detections), 5.0ms\n",
      "video 1/1 (696/1341) C:\\Users\\Alexkoh\\Desktop\\Footfallcam\\sample.mp4: 480x640 (no detections), 6.0ms\n",
      "video 1/1 (697/1341) C:\\Users\\Alexkoh\\Desktop\\Footfallcam\\sample.mp4: 480x640 (no detections), 6.0ms\n",
      "video 1/1 (698/1341) C:\\Users\\Alexkoh\\Desktop\\Footfallcam\\sample.mp4: 480x640 (no detections), 6.0ms\n",
      "video 1/1 (699/1341) C:\\Users\\Alexkoh\\Desktop\\Footfallcam\\sample.mp4: 480x640 (no detections), 5.0ms\n",
      "video 1/1 (700/1341) C:\\Users\\Alexkoh\\Desktop\\Footfallcam\\sample.mp4: 480x640 (no detections), 6.0ms\n",
      "video 1/1 (701/1341) C:\\Users\\Alexkoh\\Desktop\\Footfallcam\\sample.mp4: 480x640 (no detections), 5.0ms\n",
      "video 1/1 (702/1341) C:\\Users\\Alexkoh\\Desktop\\Footfallcam\\sample.mp4: 480x640 (no detections), 5.0ms\n",
      "video 1/1 (703/1341) C:\\Users\\Alexkoh\\Desktop\\Footfallcam\\sample.mp4: 480x640 (no detections), 5.0ms\n",
      "video 1/1 (704/1341) C:\\Users\\Alexkoh\\Desktop\\Footfallcam\\sample.mp4: 480x640 (no detections), 5.0ms\n",
      "video 1/1 (705/1341) C:\\Users\\Alexkoh\\Desktop\\Footfallcam\\sample.mp4: 480x640 (no detections), 5.0ms\n",
      "video 1/1 (706/1341) C:\\Users\\Alexkoh\\Desktop\\Footfallcam\\sample.mp4: 480x640 (no detections), 5.0ms\n",
      "video 1/1 (707/1341) C:\\Users\\Alexkoh\\Desktop\\Footfallcam\\sample.mp4: 480x640 (no detections), 5.0ms\n",
      "video 1/1 (708/1341) C:\\Users\\Alexkoh\\Desktop\\Footfallcam\\sample.mp4: 480x640 (no detections), 5.0ms\n",
      "video 1/1 (709/1341) C:\\Users\\Alexkoh\\Desktop\\Footfallcam\\sample.mp4: 480x640 (no detections), 5.0ms\n",
      "video 1/1 (710/1341) C:\\Users\\Alexkoh\\Desktop\\Footfallcam\\sample.mp4: 480x640 (no detections), 6.0ms\n",
      "video 1/1 (711/1341) C:\\Users\\Alexkoh\\Desktop\\Footfallcam\\sample.mp4: 480x640 (no detections), 5.0ms\n",
      "video 1/1 (712/1341) C:\\Users\\Alexkoh\\Desktop\\Footfallcam\\sample.mp4: 480x640 (no detections), 5.0ms\n",
      "video 1/1 (713/1341) C:\\Users\\Alexkoh\\Desktop\\Footfallcam\\sample.mp4: 480x640 (no detections), 5.0ms\n",
      "video 1/1 (714/1341) C:\\Users\\Alexkoh\\Desktop\\Footfallcam\\sample.mp4: 480x640 (no detections), 5.0ms\n",
      "video 1/1 (715/1341) C:\\Users\\Alexkoh\\Desktop\\Footfallcam\\sample.mp4: 480x640 (no detections), 6.0ms\n",
      "video 1/1 (716/1341) C:\\Users\\Alexkoh\\Desktop\\Footfallcam\\sample.mp4: 480x640 (no detections), 5.0ms\n",
      "video 1/1 (717/1341) C:\\Users\\Alexkoh\\Desktop\\Footfallcam\\sample.mp4: 480x640 (no detections), 5.0ms\n",
      "video 1/1 (718/1341) C:\\Users\\Alexkoh\\Desktop\\Footfallcam\\sample.mp4: 480x640 (no detections), 6.0ms\n",
      "video 1/1 (719/1341) C:\\Users\\Alexkoh\\Desktop\\Footfallcam\\sample.mp4: 480x640 (no detections), 7.0ms\n",
      "video 1/1 (720/1341) C:\\Users\\Alexkoh\\Desktop\\Footfallcam\\sample.mp4: 480x640 (no detections), 5.0ms\n",
      "video 1/1 (721/1341) C:\\Users\\Alexkoh\\Desktop\\Footfallcam\\sample.mp4: 480x640 (no detections), 6.0ms\n",
      "video 1/1 (722/1341) C:\\Users\\Alexkoh\\Desktop\\Footfallcam\\sample.mp4: 480x640 (no detections), 5.0ms\n",
      "video 1/1 (723/1341) C:\\Users\\Alexkoh\\Desktop\\Footfallcam\\sample.mp4: 480x640 (no detections), 5.0ms\n",
      "video 1/1 (724/1341) C:\\Users\\Alexkoh\\Desktop\\Footfallcam\\sample.mp4: 480x640 (no detections), 5.0ms\n",
      "video 1/1 (725/1341) C:\\Users\\Alexkoh\\Desktop\\Footfallcam\\sample.mp4: 480x640 (no detections), 5.0ms\n",
      "video 1/1 (726/1341) C:\\Users\\Alexkoh\\Desktop\\Footfallcam\\sample.mp4: 480x640 (no detections), 5.0ms\n",
      "video 1/1 (727/1341) C:\\Users\\Alexkoh\\Desktop\\Footfallcam\\sample.mp4: 480x640 (no detections), 6.0ms\n",
      "video 1/1 (728/1341) C:\\Users\\Alexkoh\\Desktop\\Footfallcam\\sample.mp4: 480x640 (no detections), 5.0ms\n",
      "video 1/1 (729/1341) C:\\Users\\Alexkoh\\Desktop\\Footfallcam\\sample.mp4: 480x640 (no detections), 5.0ms\n",
      "video 1/1 (730/1341) C:\\Users\\Alexkoh\\Desktop\\Footfallcam\\sample.mp4: 480x640 (no detections), 6.0ms\n",
      "video 1/1 (731/1341) C:\\Users\\Alexkoh\\Desktop\\Footfallcam\\sample.mp4: 480x640 (no detections), 5.0ms\n",
      "video 1/1 (732/1341) C:\\Users\\Alexkoh\\Desktop\\Footfallcam\\sample.mp4: 480x640 (no detections), 5.0ms\n",
      "video 1/1 (733/1341) C:\\Users\\Alexkoh\\Desktop\\Footfallcam\\sample.mp4: 480x640 (no detections), 6.0ms\n",
      "video 1/1 (734/1341) C:\\Users\\Alexkoh\\Desktop\\Footfallcam\\sample.mp4: 480x640 (no detections), 5.0ms\n",
      "video 1/1 (735/1341) C:\\Users\\Alexkoh\\Desktop\\Footfallcam\\sample.mp4: 480x640 (no detections), 5.0ms\n",
      "video 1/1 (736/1341) C:\\Users\\Alexkoh\\Desktop\\Footfallcam\\sample.mp4: 480x640 (no detections), 5.0ms\n",
      "video 1/1 (737/1341) C:\\Users\\Alexkoh\\Desktop\\Footfallcam\\sample.mp4: 480x640 (no detections), 5.0ms\n",
      "video 1/1 (738/1341) C:\\Users\\Alexkoh\\Desktop\\Footfallcam\\sample.mp4: 480x640 (no detections), 5.0ms\n",
      "video 1/1 (739/1341) C:\\Users\\Alexkoh\\Desktop\\Footfallcam\\sample.mp4: 480x640 (no detections), 6.0ms\n",
      "video 1/1 (740/1341) C:\\Users\\Alexkoh\\Desktop\\Footfallcam\\sample.mp4: 480x640 (no detections), 5.0ms\n",
      "video 1/1 (741/1341) C:\\Users\\Alexkoh\\Desktop\\Footfallcam\\sample.mp4: 480x640 (no detections), 5.0ms\n",
      "video 1/1 (742/1341) C:\\Users\\Alexkoh\\Desktop\\Footfallcam\\sample.mp4: 480x640 (no detections), 6.0ms\n",
      "video 1/1 (743/1341) C:\\Users\\Alexkoh\\Desktop\\Footfallcam\\sample.mp4: 480x640 (no detections), 6.0ms\n",
      "video 1/1 (744/1341) C:\\Users\\Alexkoh\\Desktop\\Footfallcam\\sample.mp4: 480x640 (no detections), 6.0ms\n",
      "video 1/1 (745/1341) C:\\Users\\Alexkoh\\Desktop\\Footfallcam\\sample.mp4: 480x640 (no detections), 5.0ms\n",
      "video 1/1 (746/1341) C:\\Users\\Alexkoh\\Desktop\\Footfallcam\\sample.mp4: 480x640 (no detections), 5.0ms\n",
      "video 1/1 (747/1341) C:\\Users\\Alexkoh\\Desktop\\Footfallcam\\sample.mp4: 480x640 (no detections), 5.0ms\n",
      "video 1/1 (748/1341) C:\\Users\\Alexkoh\\Desktop\\Footfallcam\\sample.mp4: 480x640 (no detections), 5.0ms\n",
      "video 1/1 (749/1341) C:\\Users\\Alexkoh\\Desktop\\Footfallcam\\sample.mp4: 480x640 (no detections), 6.0ms\n",
      "video 1/1 (750/1341) C:\\Users\\Alexkoh\\Desktop\\Footfallcam\\sample.mp4: 480x640 (no detections), 5.0ms\n",
      "video 1/1 (751/1341) C:\\Users\\Alexkoh\\Desktop\\Footfallcam\\sample.mp4: 480x640 (no detections), 5.0ms\n",
      "video 1/1 (752/1341) C:\\Users\\Alexkoh\\Desktop\\Footfallcam\\sample.mp4: 480x640 (no detections), 5.0ms\n",
      "video 1/1 (753/1341) C:\\Users\\Alexkoh\\Desktop\\Footfallcam\\sample.mp4: 480x640 (no detections), 6.0ms\n",
      "video 1/1 (754/1341) C:\\Users\\Alexkoh\\Desktop\\Footfallcam\\sample.mp4: 480x640 (no detections), 6.0ms\n",
      "video 1/1 (755/1341) C:\\Users\\Alexkoh\\Desktop\\Footfallcam\\sample.mp4: 480x640 (no detections), 5.0ms\n",
      "video 1/1 (756/1341) C:\\Users\\Alexkoh\\Desktop\\Footfallcam\\sample.mp4: 480x640 (no detections), 6.0ms\n",
      "video 1/1 (757/1341) C:\\Users\\Alexkoh\\Desktop\\Footfallcam\\sample.mp4: 480x640 (no detections), 5.0ms\n",
      "video 1/1 (758/1341) C:\\Users\\Alexkoh\\Desktop\\Footfallcam\\sample.mp4: 480x640 (no detections), 4.0ms\n",
      "video 1/1 (759/1341) C:\\Users\\Alexkoh\\Desktop\\Footfallcam\\sample.mp4: 480x640 (no detections), 5.0ms\n",
      "video 1/1 (760/1341) C:\\Users\\Alexkoh\\Desktop\\Footfallcam\\sample.mp4: 480x640 (no detections), 6.0ms\n",
      "video 1/1 (761/1341) C:\\Users\\Alexkoh\\Desktop\\Footfallcam\\sample.mp4: 480x640 (no detections), 4.0ms\n",
      "video 1/1 (762/1341) C:\\Users\\Alexkoh\\Desktop\\Footfallcam\\sample.mp4: 480x640 (no detections), 4.0ms\n",
      "video 1/1 (763/1341) C:\\Users\\Alexkoh\\Desktop\\Footfallcam\\sample.mp4: 480x640 (no detections), 6.0ms\n",
      "video 1/1 (764/1341) C:\\Users\\Alexkoh\\Desktop\\Footfallcam\\sample.mp4: 480x640 (no detections), 6.0ms\n",
      "video 1/1 (765/1341) C:\\Users\\Alexkoh\\Desktop\\Footfallcam\\sample.mp4: 480x640 (no detections), 5.0ms\n",
      "video 1/1 (766/1341) C:\\Users\\Alexkoh\\Desktop\\Footfallcam\\sample.mp4: 480x640 (no detections), 5.0ms\n",
      "video 1/1 (767/1341) C:\\Users\\Alexkoh\\Desktop\\Footfallcam\\sample.mp4: 480x640 (no detections), 6.0ms\n",
      "video 1/1 (768/1341) C:\\Users\\Alexkoh\\Desktop\\Footfallcam\\sample.mp4: 480x640 (no detections), 5.0ms\n",
      "video 1/1 (769/1341) C:\\Users\\Alexkoh\\Desktop\\Footfallcam\\sample.mp4: 480x640 (no detections), 5.0ms\n",
      "video 1/1 (770/1341) C:\\Users\\Alexkoh\\Desktop\\Footfallcam\\sample.mp4: 480x640 (no detections), 5.0ms\n",
      "video 1/1 (771/1341) C:\\Users\\Alexkoh\\Desktop\\Footfallcam\\sample.mp4: 480x640 (no detections), 5.0ms\n",
      "video 1/1 (772/1341) C:\\Users\\Alexkoh\\Desktop\\Footfallcam\\sample.mp4: 480x640 (no detections), 5.0ms\n",
      "video 1/1 (773/1341) C:\\Users\\Alexkoh\\Desktop\\Footfallcam\\sample.mp4: 480x640 (no detections), 5.0ms\n",
      "video 1/1 (774/1341) C:\\Users\\Alexkoh\\Desktop\\Footfallcam\\sample.mp4: 480x640 (no detections), 6.0ms\n",
      "video 1/1 (775/1341) C:\\Users\\Alexkoh\\Desktop\\Footfallcam\\sample.mp4: 480x640 (no detections), 7.0ms\n",
      "video 1/1 (776/1341) C:\\Users\\Alexkoh\\Desktop\\Footfallcam\\sample.mp4: 480x640 (no detections), 5.0ms\n",
      "video 1/1 (777/1341) C:\\Users\\Alexkoh\\Desktop\\Footfallcam\\sample.mp4: 480x640 (no detections), 6.0ms\n",
      "video 1/1 (778/1341) C:\\Users\\Alexkoh\\Desktop\\Footfallcam\\sample.mp4: 480x640 (no detections), 7.0ms\n",
      "video 1/1 (779/1341) C:\\Users\\Alexkoh\\Desktop\\Footfallcam\\sample.mp4: 480x640 (no detections), 6.0ms\n",
      "video 1/1 (780/1341) C:\\Users\\Alexkoh\\Desktop\\Footfallcam\\sample.mp4: 480x640 (no detections), 8.0ms\n",
      "video 1/1 (781/1341) C:\\Users\\Alexkoh\\Desktop\\Footfallcam\\sample.mp4: 480x640 (no detections), 5.0ms\n",
      "video 1/1 (782/1341) C:\\Users\\Alexkoh\\Desktop\\Footfallcam\\sample.mp4: 480x640 (no detections), 5.0ms\n",
      "video 1/1 (783/1341) C:\\Users\\Alexkoh\\Desktop\\Footfallcam\\sample.mp4: 480x640 (no detections), 6.0ms\n",
      "video 1/1 (784/1341) C:\\Users\\Alexkoh\\Desktop\\Footfallcam\\sample.mp4: 480x640 (no detections), 6.0ms\n",
      "video 1/1 (785/1341) C:\\Users\\Alexkoh\\Desktop\\Footfallcam\\sample.mp4: 480x640 (no detections), 5.0ms\n",
      "video 1/1 (786/1341) C:\\Users\\Alexkoh\\Desktop\\Footfallcam\\sample.mp4: 480x640 (no detections), 5.0ms\n",
      "video 1/1 (787/1341) C:\\Users\\Alexkoh\\Desktop\\Footfallcam\\sample.mp4: 480x640 (no detections), 5.0ms\n",
      "video 1/1 (788/1341) C:\\Users\\Alexkoh\\Desktop\\Footfallcam\\sample.mp4: 480x640 (no detections), 6.0ms\n",
      "video 1/1 (789/1341) C:\\Users\\Alexkoh\\Desktop\\Footfallcam\\sample.mp4: 480x640 (no detections), 6.0ms\n",
      "video 1/1 (790/1341) C:\\Users\\Alexkoh\\Desktop\\Footfallcam\\sample.mp4: 480x640 (no detections), 6.0ms\n",
      "video 1/1 (791/1341) C:\\Users\\Alexkoh\\Desktop\\Footfallcam\\sample.mp4: 480x640 (no detections), 5.0ms\n",
      "video 1/1 (792/1341) C:\\Users\\Alexkoh\\Desktop\\Footfallcam\\sample.mp4: 480x640 (no detections), 6.0ms\n",
      "video 1/1 (793/1341) C:\\Users\\Alexkoh\\Desktop\\Footfallcam\\sample.mp4: 480x640 (no detections), 6.0ms\n",
      "video 1/1 (794/1341) C:\\Users\\Alexkoh\\Desktop\\Footfallcam\\sample.mp4: 480x640 (no detections), 6.0ms\n",
      "video 1/1 (795/1341) C:\\Users\\Alexkoh\\Desktop\\Footfallcam\\sample.mp4: 480x640 (no detections), 5.0ms\n",
      "video 1/1 (796/1341) C:\\Users\\Alexkoh\\Desktop\\Footfallcam\\sample.mp4: 480x640 (no detections), 5.0ms\n",
      "video 1/1 (797/1341) C:\\Users\\Alexkoh\\Desktop\\Footfallcam\\sample.mp4: 480x640 (no detections), 7.0ms\n",
      "video 1/1 (798/1341) C:\\Users\\Alexkoh\\Desktop\\Footfallcam\\sample.mp4: 480x640 (no detections), 6.0ms\n",
      "video 1/1 (799/1341) C:\\Users\\Alexkoh\\Desktop\\Footfallcam\\sample.mp4: 480x640 (no detections), 6.0ms\n",
      "video 1/1 (800/1341) C:\\Users\\Alexkoh\\Desktop\\Footfallcam\\sample.mp4: 480x640 (no detections), 6.0ms\n",
      "video 1/1 (801/1341) C:\\Users\\Alexkoh\\Desktop\\Footfallcam\\sample.mp4: 480x640 (no detections), 5.0ms\n",
      "video 1/1 (802/1341) C:\\Users\\Alexkoh\\Desktop\\Footfallcam\\sample.mp4: 480x640 (no detections), 6.0ms\n",
      "video 1/1 (803/1341) C:\\Users\\Alexkoh\\Desktop\\Footfallcam\\sample.mp4: 480x640 (no detections), 5.0ms\n",
      "video 1/1 (804/1341) C:\\Users\\Alexkoh\\Desktop\\Footfallcam\\sample.mp4: 480x640 (no detections), 6.0ms\n",
      "video 1/1 (805/1341) C:\\Users\\Alexkoh\\Desktop\\Footfallcam\\sample.mp4: 480x640 (no detections), 5.0ms\n",
      "video 1/1 (806/1341) C:\\Users\\Alexkoh\\Desktop\\Footfallcam\\sample.mp4: 480x640 (no detections), 5.0ms\n",
      "video 1/1 (807/1341) C:\\Users\\Alexkoh\\Desktop\\Footfallcam\\sample.mp4: 480x640 (no detections), 6.0ms\n",
      "video 1/1 (808/1341) C:\\Users\\Alexkoh\\Desktop\\Footfallcam\\sample.mp4: 480x640 (no detections), 5.0ms\n",
      "video 1/1 (809/1341) C:\\Users\\Alexkoh\\Desktop\\Footfallcam\\sample.mp4: 480x640 1 Tag, 5.0ms\n",
      "video 1/1 (810/1341) C:\\Users\\Alexkoh\\Desktop\\Footfallcam\\sample.mp4: 480x640 1 Tag, 6.0ms\n",
      "video 1/1 (811/1341) C:\\Users\\Alexkoh\\Desktop\\Footfallcam\\sample.mp4: 480x640 1 Tag, 6.0ms\n",
      "video 1/1 (812/1341) C:\\Users\\Alexkoh\\Desktop\\Footfallcam\\sample.mp4: 480x640 1 Tag, 5.0ms\n",
      "video 1/1 (813/1341) C:\\Users\\Alexkoh\\Desktop\\Footfallcam\\sample.mp4: 480x640 1 Tag, 5.0ms\n",
      "video 1/1 (814/1341) C:\\Users\\Alexkoh\\Desktop\\Footfallcam\\sample.mp4: 480x640 1 Tag, 5.0ms\n",
      "video 1/1 (815/1341) C:\\Users\\Alexkoh\\Desktop\\Footfallcam\\sample.mp4: 480x640 1 Tag, 4.0ms\n",
      "video 1/1 (816/1341) C:\\Users\\Alexkoh\\Desktop\\Footfallcam\\sample.mp4: 480x640 1 Tag, 5.0ms\n",
      "video 1/1 (817/1341) C:\\Users\\Alexkoh\\Desktop\\Footfallcam\\sample.mp4: 480x640 1 Tag, 5.0ms\n",
      "video 1/1 (818/1341) C:\\Users\\Alexkoh\\Desktop\\Footfallcam\\sample.mp4: 480x640 1 Tag, 6.0ms\n",
      "video 1/1 (819/1341) C:\\Users\\Alexkoh\\Desktop\\Footfallcam\\sample.mp4: 480x640 1 Tag, 5.0ms\n",
      "video 1/1 (820/1341) C:\\Users\\Alexkoh\\Desktop\\Footfallcam\\sample.mp4: 480x640 1 Tag, 6.0ms\n",
      "video 1/1 (821/1341) C:\\Users\\Alexkoh\\Desktop\\Footfallcam\\sample.mp4: 480x640 1 Tag, 6.0ms\n",
      "video 1/1 (822/1341) C:\\Users\\Alexkoh\\Desktop\\Footfallcam\\sample.mp4: 480x640 (no detections), 5.0ms\n",
      "video 1/1 (823/1341) C:\\Users\\Alexkoh\\Desktop\\Footfallcam\\sample.mp4: 480x640 (no detections), 5.0ms\n",
      "video 1/1 (824/1341) C:\\Users\\Alexkoh\\Desktop\\Footfallcam\\sample.mp4: 480x640 (no detections), 5.0ms\n",
      "video 1/1 (825/1341) C:\\Users\\Alexkoh\\Desktop\\Footfallcam\\sample.mp4: 480x640 (no detections), 6.0ms\n",
      "video 1/1 (826/1341) C:\\Users\\Alexkoh\\Desktop\\Footfallcam\\sample.mp4: 480x640 (no detections), 5.0ms\n",
      "video 1/1 (827/1341) C:\\Users\\Alexkoh\\Desktop\\Footfallcam\\sample.mp4: 480x640 (no detections), 6.0ms\n",
      "video 1/1 (828/1341) C:\\Users\\Alexkoh\\Desktop\\Footfallcam\\sample.mp4: 480x640 (no detections), 7.0ms\n",
      "video 1/1 (829/1341) C:\\Users\\Alexkoh\\Desktop\\Footfallcam\\sample.mp4: 480x640 (no detections), 7.0ms\n",
      "video 1/1 (830/1341) C:\\Users\\Alexkoh\\Desktop\\Footfallcam\\sample.mp4: 480x640 (no detections), 7.0ms\n",
      "video 1/1 (831/1341) C:\\Users\\Alexkoh\\Desktop\\Footfallcam\\sample.mp4: 480x640 (no detections), 5.0ms\n",
      "video 1/1 (832/1341) C:\\Users\\Alexkoh\\Desktop\\Footfallcam\\sample.mp4: 480x640 (no detections), 7.0ms\n",
      "video 1/1 (833/1341) C:\\Users\\Alexkoh\\Desktop\\Footfallcam\\sample.mp4: 480x640 (no detections), 5.0ms\n",
      "video 1/1 (834/1341) C:\\Users\\Alexkoh\\Desktop\\Footfallcam\\sample.mp4: 480x640 (no detections), 5.0ms\n",
      "video 1/1 (835/1341) C:\\Users\\Alexkoh\\Desktop\\Footfallcam\\sample.mp4: 480x640 (no detections), 6.0ms\n",
      "video 1/1 (836/1341) C:\\Users\\Alexkoh\\Desktop\\Footfallcam\\sample.mp4: 480x640 (no detections), 5.0ms\n",
      "video 1/1 (837/1341) C:\\Users\\Alexkoh\\Desktop\\Footfallcam\\sample.mp4: 480x640 (no detections), 6.0ms\n",
      "video 1/1 (838/1341) C:\\Users\\Alexkoh\\Desktop\\Footfallcam\\sample.mp4: 480x640 (no detections), 6.0ms\n",
      "video 1/1 (839/1341) C:\\Users\\Alexkoh\\Desktop\\Footfallcam\\sample.mp4: 480x640 (no detections), 5.0ms\n",
      "video 1/1 (840/1341) C:\\Users\\Alexkoh\\Desktop\\Footfallcam\\sample.mp4: 480x640 (no detections), 5.0ms\n",
      "video 1/1 (841/1341) C:\\Users\\Alexkoh\\Desktop\\Footfallcam\\sample.mp4: 480x640 (no detections), 5.0ms\n",
      "video 1/1 (842/1341) C:\\Users\\Alexkoh\\Desktop\\Footfallcam\\sample.mp4: 480x640 (no detections), 6.0ms\n",
      "video 1/1 (843/1341) C:\\Users\\Alexkoh\\Desktop\\Footfallcam\\sample.mp4: 480x640 (no detections), 5.0ms\n",
      "video 1/1 (844/1341) C:\\Users\\Alexkoh\\Desktop\\Footfallcam\\sample.mp4: 480x640 (no detections), 5.0ms\n",
      "video 1/1 (845/1341) C:\\Users\\Alexkoh\\Desktop\\Footfallcam\\sample.mp4: 480x640 (no detections), 6.0ms\n",
      "video 1/1 (846/1341) C:\\Users\\Alexkoh\\Desktop\\Footfallcam\\sample.mp4: 480x640 (no detections), 4.0ms\n",
      "video 1/1 (847/1341) C:\\Users\\Alexkoh\\Desktop\\Footfallcam\\sample.mp4: 480x640 (no detections), 5.0ms\n",
      "video 1/1 (848/1341) C:\\Users\\Alexkoh\\Desktop\\Footfallcam\\sample.mp4: 480x640 (no detections), 4.0ms\n",
      "video 1/1 (849/1341) C:\\Users\\Alexkoh\\Desktop\\Footfallcam\\sample.mp4: 480x640 (no detections), 5.0ms\n",
      "video 1/1 (850/1341) C:\\Users\\Alexkoh\\Desktop\\Footfallcam\\sample.mp4: 480x640 (no detections), 6.0ms\n",
      "video 1/1 (851/1341) C:\\Users\\Alexkoh\\Desktop\\Footfallcam\\sample.mp4: 480x640 (no detections), 4.0ms\n",
      "video 1/1 (852/1341) C:\\Users\\Alexkoh\\Desktop\\Footfallcam\\sample.mp4: 480x640 (no detections), 4.0ms\n",
      "video 1/1 (853/1341) C:\\Users\\Alexkoh\\Desktop\\Footfallcam\\sample.mp4: 480x640 (no detections), 5.0ms\n",
      "video 1/1 (854/1341) C:\\Users\\Alexkoh\\Desktop\\Footfallcam\\sample.mp4: 480x640 (no detections), 6.0ms\n",
      "video 1/1 (855/1341) C:\\Users\\Alexkoh\\Desktop\\Footfallcam\\sample.mp4: 480x640 (no detections), 5.0ms\n",
      "video 1/1 (856/1341) C:\\Users\\Alexkoh\\Desktop\\Footfallcam\\sample.mp4: 480x640 1 Tag, 5.0ms\n",
      "video 1/1 (857/1341) C:\\Users\\Alexkoh\\Desktop\\Footfallcam\\sample.mp4: 480x640 1 Tag, 5.0ms\n",
      "video 1/1 (858/1341) C:\\Users\\Alexkoh\\Desktop\\Footfallcam\\sample.mp4: 480x640 1 Tag, 5.0ms\n",
      "video 1/1 (859/1341) C:\\Users\\Alexkoh\\Desktop\\Footfallcam\\sample.mp4: 480x640 1 Tag, 5.0ms\n",
      "video 1/1 (860/1341) C:\\Users\\Alexkoh\\Desktop\\Footfallcam\\sample.mp4: 480x640 1 Tag, 5.0ms\n",
      "video 1/1 (861/1341) C:\\Users\\Alexkoh\\Desktop\\Footfallcam\\sample.mp4: 480x640 1 Tag, 5.0ms\n",
      "video 1/1 (862/1341) C:\\Users\\Alexkoh\\Desktop\\Footfallcam\\sample.mp4: 480x640 1 Tag, 6.0ms\n",
      "video 1/1 (863/1341) C:\\Users\\Alexkoh\\Desktop\\Footfallcam\\sample.mp4: 480x640 1 Tag, 4.0ms\n",
      "video 1/1 (864/1341) C:\\Users\\Alexkoh\\Desktop\\Footfallcam\\sample.mp4: 480x640 1 Tag, 5.0ms\n",
      "video 1/1 (865/1341) C:\\Users\\Alexkoh\\Desktop\\Footfallcam\\sample.mp4: 480x640 (no detections), 8.0ms\n",
      "video 1/1 (866/1341) C:\\Users\\Alexkoh\\Desktop\\Footfallcam\\sample.mp4: 480x640 (no detections), 5.0ms\n",
      "video 1/1 (867/1341) C:\\Users\\Alexkoh\\Desktop\\Footfallcam\\sample.mp4: 480x640 (no detections), 6.0ms\n",
      "video 1/1 (868/1341) C:\\Users\\Alexkoh\\Desktop\\Footfallcam\\sample.mp4: 480x640 (no detections), 4.0ms\n",
      "video 1/1 (869/1341) C:\\Users\\Alexkoh\\Desktop\\Footfallcam\\sample.mp4: 480x640 (no detections), 5.0ms\n",
      "video 1/1 (870/1341) C:\\Users\\Alexkoh\\Desktop\\Footfallcam\\sample.mp4: 480x640 (no detections), 6.0ms\n",
      "video 1/1 (871/1341) C:\\Users\\Alexkoh\\Desktop\\Footfallcam\\sample.mp4: 480x640 (no detections), 5.0ms\n",
      "video 1/1 (872/1341) C:\\Users\\Alexkoh\\Desktop\\Footfallcam\\sample.mp4: 480x640 (no detections), 4.0ms\n",
      "video 1/1 (873/1341) C:\\Users\\Alexkoh\\Desktop\\Footfallcam\\sample.mp4: 480x640 (no detections), 5.0ms\n",
      "video 1/1 (874/1341) C:\\Users\\Alexkoh\\Desktop\\Footfallcam\\sample.mp4: 480x640 (no detections), 6.0ms\n",
      "video 1/1 (875/1341) C:\\Users\\Alexkoh\\Desktop\\Footfallcam\\sample.mp4: 480x640 (no detections), 5.0ms\n",
      "video 1/1 (876/1341) C:\\Users\\Alexkoh\\Desktop\\Footfallcam\\sample.mp4: 480x640 (no detections), 6.0ms\n",
      "video 1/1 (877/1341) C:\\Users\\Alexkoh\\Desktop\\Footfallcam\\sample.mp4: 480x640 (no detections), 5.0ms\n",
      "video 1/1 (878/1341) C:\\Users\\Alexkoh\\Desktop\\Footfallcam\\sample.mp4: 480x640 (no detections), 5.0ms\n",
      "video 1/1 (879/1341) C:\\Users\\Alexkoh\\Desktop\\Footfallcam\\sample.mp4: 480x640 (no detections), 5.0ms\n",
      "video 1/1 (880/1341) C:\\Users\\Alexkoh\\Desktop\\Footfallcam\\sample.mp4: 480x640 (no detections), 5.0ms\n",
      "video 1/1 (881/1341) C:\\Users\\Alexkoh\\Desktop\\Footfallcam\\sample.mp4: 480x640 (no detections), 5.0ms\n",
      "video 1/1 (882/1341) C:\\Users\\Alexkoh\\Desktop\\Footfallcam\\sample.mp4: 480x640 (no detections), 6.0ms\n",
      "video 1/1 (883/1341) C:\\Users\\Alexkoh\\Desktop\\Footfallcam\\sample.mp4: 480x640 (no detections), 5.0ms\n",
      "video 1/1 (884/1341) C:\\Users\\Alexkoh\\Desktop\\Footfallcam\\sample.mp4: 480x640 (no detections), 5.0ms\n",
      "video 1/1 (885/1341) C:\\Users\\Alexkoh\\Desktop\\Footfallcam\\sample.mp4: 480x640 (no detections), 5.0ms\n",
      "video 1/1 (886/1341) C:\\Users\\Alexkoh\\Desktop\\Footfallcam\\sample.mp4: 480x640 (no detections), 4.0ms\n",
      "video 1/1 (887/1341) C:\\Users\\Alexkoh\\Desktop\\Footfallcam\\sample.mp4: 480x640 (no detections), 5.0ms\n",
      "video 1/1 (888/1341) C:\\Users\\Alexkoh\\Desktop\\Footfallcam\\sample.mp4: 480x640 (no detections), 5.0ms\n",
      "video 1/1 (889/1341) C:\\Users\\Alexkoh\\Desktop\\Footfallcam\\sample.mp4: 480x640 (no detections), 5.0ms\n",
      "video 1/1 (890/1341) C:\\Users\\Alexkoh\\Desktop\\Footfallcam\\sample.mp4: 480x640 (no detections), 5.0ms\n",
      "video 1/1 (891/1341) C:\\Users\\Alexkoh\\Desktop\\Footfallcam\\sample.mp4: 480x640 (no detections), 6.0ms\n",
      "video 1/1 (892/1341) C:\\Users\\Alexkoh\\Desktop\\Footfallcam\\sample.mp4: 480x640 1 Tag, 5.0ms\n",
      "video 1/1 (893/1341) C:\\Users\\Alexkoh\\Desktop\\Footfallcam\\sample.mp4: 480x640 1 Tag, 5.0ms\n",
      "video 1/1 (894/1341) C:\\Users\\Alexkoh\\Desktop\\Footfallcam\\sample.mp4: 480x640 1 Tag, 6.0ms\n",
      "video 1/1 (895/1341) C:\\Users\\Alexkoh\\Desktop\\Footfallcam\\sample.mp4: 480x640 1 Tag, 4.0ms\n",
      "video 1/1 (896/1341) C:\\Users\\Alexkoh\\Desktop\\Footfallcam\\sample.mp4: 480x640 1 Tag, 5.0ms\n",
      "video 1/1 (897/1341) C:\\Users\\Alexkoh\\Desktop\\Footfallcam\\sample.mp4: 480x640 1 Tag, 5.0ms\n",
      "video 1/1 (898/1341) C:\\Users\\Alexkoh\\Desktop\\Footfallcam\\sample.mp4: 480x640 1 Tag, 6.0ms\n",
      "video 1/1 (899/1341) C:\\Users\\Alexkoh\\Desktop\\Footfallcam\\sample.mp4: 480x640 1 Tag, 6.0ms\n",
      "video 1/1 (900/1341) C:\\Users\\Alexkoh\\Desktop\\Footfallcam\\sample.mp4: 480x640 1 Tag, 6.0ms\n",
      "video 1/1 (901/1341) C:\\Users\\Alexkoh\\Desktop\\Footfallcam\\sample.mp4: 480x640 1 Tag, 5.0ms\n",
      "video 1/1 (902/1341) C:\\Users\\Alexkoh\\Desktop\\Footfallcam\\sample.mp4: 480x640 1 Tag, 4.0ms\n",
      "video 1/1 (903/1341) C:\\Users\\Alexkoh\\Desktop\\Footfallcam\\sample.mp4: 480x640 1 Tag, 5.0ms\n",
      "video 1/1 (904/1341) C:\\Users\\Alexkoh\\Desktop\\Footfallcam\\sample.mp4: 480x640 1 Tag, 4.0ms\n",
      "video 1/1 (905/1341) C:\\Users\\Alexkoh\\Desktop\\Footfallcam\\sample.mp4: 480x640 1 Tag, 6.0ms\n",
      "video 1/1 (906/1341) C:\\Users\\Alexkoh\\Desktop\\Footfallcam\\sample.mp4: 480x640 1 Tag, 6.0ms\n",
      "video 1/1 (907/1341) C:\\Users\\Alexkoh\\Desktop\\Footfallcam\\sample.mp4: 480x640 (no detections), 6.0ms\n",
      "video 1/1 (908/1341) C:\\Users\\Alexkoh\\Desktop\\Footfallcam\\sample.mp4: 480x640 (no detections), 5.0ms\n",
      "video 1/1 (909/1341) C:\\Users\\Alexkoh\\Desktop\\Footfallcam\\sample.mp4: 480x640 (no detections), 6.0ms\n",
      "video 1/1 (910/1341) C:\\Users\\Alexkoh\\Desktop\\Footfallcam\\sample.mp4: 480x640 (no detections), 5.0ms\n",
      "video 1/1 (911/1341) C:\\Users\\Alexkoh\\Desktop\\Footfallcam\\sample.mp4: 480x640 (no detections), 6.0ms\n",
      "video 1/1 (912/1341) C:\\Users\\Alexkoh\\Desktop\\Footfallcam\\sample.mp4: 480x640 (no detections), 5.0ms\n",
      "video 1/1 (913/1341) C:\\Users\\Alexkoh\\Desktop\\Footfallcam\\sample.mp4: 480x640 (no detections), 5.0ms\n",
      "video 1/1 (914/1341) C:\\Users\\Alexkoh\\Desktop\\Footfallcam\\sample.mp4: 480x640 (no detections), 6.0ms\n",
      "video 1/1 (915/1341) C:\\Users\\Alexkoh\\Desktop\\Footfallcam\\sample.mp4: 480x640 (no detections), 5.0ms\n",
      "video 1/1 (916/1341) C:\\Users\\Alexkoh\\Desktop\\Footfallcam\\sample.mp4: 480x640 (no detections), 6.0ms\n",
      "video 1/1 (917/1341) C:\\Users\\Alexkoh\\Desktop\\Footfallcam\\sample.mp4: 480x640 (no detections), 6.0ms\n",
      "video 1/1 (918/1341) C:\\Users\\Alexkoh\\Desktop\\Footfallcam\\sample.mp4: 480x640 (no detections), 6.0ms\n",
      "video 1/1 (919/1341) C:\\Users\\Alexkoh\\Desktop\\Footfallcam\\sample.mp4: 480x640 (no detections), 6.0ms\n",
      "video 1/1 (920/1341) C:\\Users\\Alexkoh\\Desktop\\Footfallcam\\sample.mp4: 480x640 (no detections), 7.0ms\n",
      "video 1/1 (921/1341) C:\\Users\\Alexkoh\\Desktop\\Footfallcam\\sample.mp4: 480x640 (no detections), 5.0ms\n",
      "video 1/1 (922/1341) C:\\Users\\Alexkoh\\Desktop\\Footfallcam\\sample.mp4: 480x640 (no detections), 5.0ms\n",
      "video 1/1 (923/1341) C:\\Users\\Alexkoh\\Desktop\\Footfallcam\\sample.mp4: 480x640 (no detections), 5.0ms\n",
      "video 1/1 (924/1341) C:\\Users\\Alexkoh\\Desktop\\Footfallcam\\sample.mp4: 480x640 (no detections), 5.0ms\n",
      "video 1/1 (925/1341) C:\\Users\\Alexkoh\\Desktop\\Footfallcam\\sample.mp4: 480x640 (no detections), 5.0ms\n",
      "video 1/1 (926/1341) C:\\Users\\Alexkoh\\Desktop\\Footfallcam\\sample.mp4: 480x640 1 Tag, 5.0ms\n",
      "video 1/1 (927/1341) C:\\Users\\Alexkoh\\Desktop\\Footfallcam\\sample.mp4: 480x640 1 Tag, 6.0ms\n",
      "video 1/1 (928/1341) C:\\Users\\Alexkoh\\Desktop\\Footfallcam\\sample.mp4: 480x640 1 Tag, 6.0ms\n",
      "video 1/1 (929/1341) C:\\Users\\Alexkoh\\Desktop\\Footfallcam\\sample.mp4: 480x640 1 Tag, 5.0ms\n",
      "video 1/1 (930/1341) C:\\Users\\Alexkoh\\Desktop\\Footfallcam\\sample.mp4: 480x640 1 Tag, 5.0ms\n",
      "video 1/1 (931/1341) C:\\Users\\Alexkoh\\Desktop\\Footfallcam\\sample.mp4: 480x640 1 Tag, 6.0ms\n",
      "video 1/1 (932/1341) C:\\Users\\Alexkoh\\Desktop\\Footfallcam\\sample.mp4: 480x640 1 Tag, 6.0ms\n",
      "video 1/1 (933/1341) C:\\Users\\Alexkoh\\Desktop\\Footfallcam\\sample.mp4: 480x640 1 Tag, 5.0ms\n",
      "video 1/1 (934/1341) C:\\Users\\Alexkoh\\Desktop\\Footfallcam\\sample.mp4: 480x640 1 Tag, 5.0ms\n",
      "video 1/1 (935/1341) C:\\Users\\Alexkoh\\Desktop\\Footfallcam\\sample.mp4: 480x640 1 Tag, 5.0ms\n",
      "video 1/1 (936/1341) C:\\Users\\Alexkoh\\Desktop\\Footfallcam\\sample.mp4: 480x640 1 Tag, 5.0ms\n",
      "video 1/1 (937/1341) C:\\Users\\Alexkoh\\Desktop\\Footfallcam\\sample.mp4: 480x640 1 Tag, 6.0ms\n",
      "video 1/1 (938/1341) C:\\Users\\Alexkoh\\Desktop\\Footfallcam\\sample.mp4: 480x640 1 Tag, 6.0ms\n",
      "video 1/1 (939/1341) C:\\Users\\Alexkoh\\Desktop\\Footfallcam\\sample.mp4: 480x640 1 Tag, 6.0ms\n",
      "video 1/1 (940/1341) C:\\Users\\Alexkoh\\Desktop\\Footfallcam\\sample.mp4: 480x640 1 Tag, 7.0ms\n",
      "video 1/1 (941/1341) C:\\Users\\Alexkoh\\Desktop\\Footfallcam\\sample.mp4: 480x640 1 Tag, 6.0ms\n",
      "video 1/1 (942/1341) C:\\Users\\Alexkoh\\Desktop\\Footfallcam\\sample.mp4: 480x640 1 Tag, 8.0ms\n",
      "video 1/1 (943/1341) C:\\Users\\Alexkoh\\Desktop\\Footfallcam\\sample.mp4: 480x640 (no detections), 7.0ms\n",
      "video 1/1 (944/1341) C:\\Users\\Alexkoh\\Desktop\\Footfallcam\\sample.mp4: 480x640 (no detections), 5.0ms\n",
      "video 1/1 (945/1341) C:\\Users\\Alexkoh\\Desktop\\Footfallcam\\sample.mp4: 480x640 (no detections), 6.0ms\n",
      "video 1/1 (946/1341) C:\\Users\\Alexkoh\\Desktop\\Footfallcam\\sample.mp4: 480x640 (no detections), 6.0ms\n",
      "video 1/1 (947/1341) C:\\Users\\Alexkoh\\Desktop\\Footfallcam\\sample.mp4: 480x640 (no detections), 6.0ms\n",
      "video 1/1 (948/1341) C:\\Users\\Alexkoh\\Desktop\\Footfallcam\\sample.mp4: 480x640 (no detections), 7.0ms\n",
      "video 1/1 (949/1341) C:\\Users\\Alexkoh\\Desktop\\Footfallcam\\sample.mp4: 480x640 (no detections), 7.0ms\n",
      "video 1/1 (950/1341) C:\\Users\\Alexkoh\\Desktop\\Footfallcam\\sample.mp4: 480x640 (no detections), 7.0ms\n",
      "video 1/1 (951/1341) C:\\Users\\Alexkoh\\Desktop\\Footfallcam\\sample.mp4: 480x640 (no detections), 6.0ms\n",
      "video 1/1 (952/1341) C:\\Users\\Alexkoh\\Desktop\\Footfallcam\\sample.mp4: 480x640 (no detections), 6.0ms\n",
      "video 1/1 (953/1341) C:\\Users\\Alexkoh\\Desktop\\Footfallcam\\sample.mp4: 480x640 (no detections), 6.0ms\n",
      "video 1/1 (954/1341) C:\\Users\\Alexkoh\\Desktop\\Footfallcam\\sample.mp4: 480x640 (no detections), 6.0ms\n",
      "video 1/1 (955/1341) C:\\Users\\Alexkoh\\Desktop\\Footfallcam\\sample.mp4: 480x640 (no detections), 7.0ms\n",
      "video 1/1 (956/1341) C:\\Users\\Alexkoh\\Desktop\\Footfallcam\\sample.mp4: 480x640 (no detections), 6.0ms\n",
      "video 1/1 (957/1341) C:\\Users\\Alexkoh\\Desktop\\Footfallcam\\sample.mp4: 480x640 (no detections), 6.0ms\n",
      "video 1/1 (958/1341) C:\\Users\\Alexkoh\\Desktop\\Footfallcam\\sample.mp4: 480x640 (no detections), 5.0ms\n",
      "video 1/1 (959/1341) C:\\Users\\Alexkoh\\Desktop\\Footfallcam\\sample.mp4: 480x640 (no detections), 4.0ms\n",
      "video 1/1 (960/1341) C:\\Users\\Alexkoh\\Desktop\\Footfallcam\\sample.mp4: 480x640 (no detections), 5.0ms\n",
      "video 1/1 (961/1341) C:\\Users\\Alexkoh\\Desktop\\Footfallcam\\sample.mp4: 480x640 (no detections), 6.0ms\n",
      "video 1/1 (962/1341) C:\\Users\\Alexkoh\\Desktop\\Footfallcam\\sample.mp4: 480x640 (no detections), 5.0ms\n",
      "video 1/1 (963/1341) C:\\Users\\Alexkoh\\Desktop\\Footfallcam\\sample.mp4: 480x640 (no detections), 5.0ms\n",
      "video 1/1 (964/1341) C:\\Users\\Alexkoh\\Desktop\\Footfallcam\\sample.mp4: 480x640 (no detections), 6.0ms\n",
      "video 1/1 (965/1341) C:\\Users\\Alexkoh\\Desktop\\Footfallcam\\sample.mp4: 480x640 (no detections), 6.0ms\n",
      "video 1/1 (966/1341) C:\\Users\\Alexkoh\\Desktop\\Footfallcam\\sample.mp4: 480x640 (no detections), 6.0ms\n",
      "video 1/1 (967/1341) C:\\Users\\Alexkoh\\Desktop\\Footfallcam\\sample.mp4: 480x640 (no detections), 6.0ms\n",
      "video 1/1 (968/1341) C:\\Users\\Alexkoh\\Desktop\\Footfallcam\\sample.mp4: 480x640 (no detections), 6.0ms\n",
      "video 1/1 (969/1341) C:\\Users\\Alexkoh\\Desktop\\Footfallcam\\sample.mp4: 480x640 1 Tag, 5.0ms\n",
      "video 1/1 (970/1341) C:\\Users\\Alexkoh\\Desktop\\Footfallcam\\sample.mp4: 480x640 1 Tag, 6.0ms\n",
      "video 1/1 (971/1341) C:\\Users\\Alexkoh\\Desktop\\Footfallcam\\sample.mp4: 480x640 1 Tag, 6.0ms\n",
      "video 1/1 (972/1341) C:\\Users\\Alexkoh\\Desktop\\Footfallcam\\sample.mp4: 480x640 1 Tag, 5.0ms\n",
      "video 1/1 (973/1341) C:\\Users\\Alexkoh\\Desktop\\Footfallcam\\sample.mp4: 480x640 1 Tag, 6.0ms\n",
      "video 1/1 (974/1341) C:\\Users\\Alexkoh\\Desktop\\Footfallcam\\sample.mp4: 480x640 1 Tag, 6.0ms\n",
      "video 1/1 (975/1341) C:\\Users\\Alexkoh\\Desktop\\Footfallcam\\sample.mp4: 480x640 1 Tag, 5.0ms\n",
      "video 1/1 (976/1341) C:\\Users\\Alexkoh\\Desktop\\Footfallcam\\sample.mp4: 480x640 1 Tag, 6.0ms\n",
      "video 1/1 (977/1341) C:\\Users\\Alexkoh\\Desktop\\Footfallcam\\sample.mp4: 480x640 1 Tag, 6.0ms\n",
      "video 1/1 (978/1341) C:\\Users\\Alexkoh\\Desktop\\Footfallcam\\sample.mp4: 480x640 1 Tag, 6.0ms\n",
      "video 1/1 (979/1341) C:\\Users\\Alexkoh\\Desktop\\Footfallcam\\sample.mp4: 480x640 1 Tag, 5.0ms\n",
      "video 1/1 (980/1341) C:\\Users\\Alexkoh\\Desktop\\Footfallcam\\sample.mp4: 480x640 1 Tag, 6.0ms\n",
      "video 1/1 (981/1341) C:\\Users\\Alexkoh\\Desktop\\Footfallcam\\sample.mp4: 480x640 1 Tag, 5.0ms\n",
      "video 1/1 (982/1341) C:\\Users\\Alexkoh\\Desktop\\Footfallcam\\sample.mp4: 480x640 1 Tag, 5.0ms\n",
      "video 1/1 (983/1341) C:\\Users\\Alexkoh\\Desktop\\Footfallcam\\sample.mp4: 480x640 1 Tag, 5.0ms\n",
      "video 1/1 (984/1341) C:\\Users\\Alexkoh\\Desktop\\Footfallcam\\sample.mp4: 480x640 1 Tag, 5.0ms\n",
      "video 1/1 (985/1341) C:\\Users\\Alexkoh\\Desktop\\Footfallcam\\sample.mp4: 480x640 1 Tag, 6.0ms\n",
      "video 1/1 (986/1341) C:\\Users\\Alexkoh\\Desktop\\Footfallcam\\sample.mp4: 480x640 (no detections), 6.0ms\n",
      "video 1/1 (987/1341) C:\\Users\\Alexkoh\\Desktop\\Footfallcam\\sample.mp4: 480x640 (no detections), 6.0ms\n",
      "video 1/1 (988/1341) C:\\Users\\Alexkoh\\Desktop\\Footfallcam\\sample.mp4: 480x640 (no detections), 5.0ms\n",
      "video 1/1 (989/1341) C:\\Users\\Alexkoh\\Desktop\\Footfallcam\\sample.mp4: 480x640 (no detections), 5.0ms\n",
      "video 1/1 (990/1341) C:\\Users\\Alexkoh\\Desktop\\Footfallcam\\sample.mp4: 480x640 (no detections), 6.0ms\n",
      "video 1/1 (991/1341) C:\\Users\\Alexkoh\\Desktop\\Footfallcam\\sample.mp4: 480x640 (no detections), 6.0ms\n",
      "video 1/1 (992/1341) C:\\Users\\Alexkoh\\Desktop\\Footfallcam\\sample.mp4: 480x640 (no detections), 6.0ms\n",
      "video 1/1 (993/1341) C:\\Users\\Alexkoh\\Desktop\\Footfallcam\\sample.mp4: 480x640 (no detections), 6.0ms\n",
      "video 1/1 (994/1341) C:\\Users\\Alexkoh\\Desktop\\Footfallcam\\sample.mp4: 480x640 (no detections), 5.0ms\n",
      "video 1/1 (995/1341) C:\\Users\\Alexkoh\\Desktop\\Footfallcam\\sample.mp4: 480x640 (no detections), 5.0ms\n",
      "video 1/1 (996/1341) C:\\Users\\Alexkoh\\Desktop\\Footfallcam\\sample.mp4: 480x640 (no detections), 6.0ms\n",
      "video 1/1 (997/1341) C:\\Users\\Alexkoh\\Desktop\\Footfallcam\\sample.mp4: 480x640 (no detections), 5.0ms\n",
      "video 1/1 (998/1341) C:\\Users\\Alexkoh\\Desktop\\Footfallcam\\sample.mp4: 480x640 (no detections), 5.0ms\n",
      "video 1/1 (999/1341) C:\\Users\\Alexkoh\\Desktop\\Footfallcam\\sample.mp4: 480x640 (no detections), 6.0ms\n",
      "video 1/1 (1000/1341) C:\\Users\\Alexkoh\\Desktop\\Footfallcam\\sample.mp4: 480x640 (no detections), 5.0ms\n",
      "video 1/1 (1001/1341) C:\\Users\\Alexkoh\\Desktop\\Footfallcam\\sample.mp4: 480x640 (no detections), 6.0ms\n",
      "video 1/1 (1002/1341) C:\\Users\\Alexkoh\\Desktop\\Footfallcam\\sample.mp4: 480x640 (no detections), 6.0ms\n",
      "video 1/1 (1003/1341) C:\\Users\\Alexkoh\\Desktop\\Footfallcam\\sample.mp4: 480x640 (no detections), 6.0ms\n",
      "video 1/1 (1004/1341) C:\\Users\\Alexkoh\\Desktop\\Footfallcam\\sample.mp4: 480x640 (no detections), 6.0ms\n",
      "video 1/1 (1005/1341) C:\\Users\\Alexkoh\\Desktop\\Footfallcam\\sample.mp4: 480x640 (no detections), 5.0ms\n",
      "video 1/1 (1006/1341) C:\\Users\\Alexkoh\\Desktop\\Footfallcam\\sample.mp4: 480x640 (no detections), 5.0ms\n",
      "video 1/1 (1007/1341) C:\\Users\\Alexkoh\\Desktop\\Footfallcam\\sample.mp4: 480x640 (no detections), 5.0ms\n",
      "video 1/1 (1008/1341) C:\\Users\\Alexkoh\\Desktop\\Footfallcam\\sample.mp4: 480x640 (no detections), 5.0ms\n",
      "video 1/1 (1009/1341) C:\\Users\\Alexkoh\\Desktop\\Footfallcam\\sample.mp4: 480x640 (no detections), 6.0ms\n",
      "video 1/1 (1010/1341) C:\\Users\\Alexkoh\\Desktop\\Footfallcam\\sample.mp4: 480x640 (no detections), 5.0ms\n",
      "video 1/1 (1011/1341) C:\\Users\\Alexkoh\\Desktop\\Footfallcam\\sample.mp4: 480x640 (no detections), 5.0ms\n",
      "video 1/1 (1012/1341) C:\\Users\\Alexkoh\\Desktop\\Footfallcam\\sample.mp4: 480x640 1 Tag, 5.0ms\n",
      "video 1/1 (1013/1341) C:\\Users\\Alexkoh\\Desktop\\Footfallcam\\sample.mp4: 480x640 1 Tag, 5.0ms\n",
      "video 1/1 (1014/1341) C:\\Users\\Alexkoh\\Desktop\\Footfallcam\\sample.mp4: 480x640 1 Tag, 5.0ms\n",
      "video 1/1 (1015/1341) C:\\Users\\Alexkoh\\Desktop\\Footfallcam\\sample.mp4: 480x640 1 Tag, 5.0ms\n",
      "video 1/1 (1016/1341) C:\\Users\\Alexkoh\\Desktop\\Footfallcam\\sample.mp4: 480x640 1 Tag, 5.0ms\n",
      "video 1/1 (1017/1341) C:\\Users\\Alexkoh\\Desktop\\Footfallcam\\sample.mp4: 480x640 1 Tag, 5.0ms\n",
      "video 1/1 (1018/1341) C:\\Users\\Alexkoh\\Desktop\\Footfallcam\\sample.mp4: 480x640 1 Tag, 5.0ms\n",
      "video 1/1 (1019/1341) C:\\Users\\Alexkoh\\Desktop\\Footfallcam\\sample.mp4: 480x640 1 Tag, 5.0ms\n",
      "video 1/1 (1020/1341) C:\\Users\\Alexkoh\\Desktop\\Footfallcam\\sample.mp4: 480x640 1 Tag, 6.0ms\n",
      "video 1/1 (1021/1341) C:\\Users\\Alexkoh\\Desktop\\Footfallcam\\sample.mp4: 480x640 1 Tag, 5.0ms\n",
      "video 1/1 (1022/1341) C:\\Users\\Alexkoh\\Desktop\\Footfallcam\\sample.mp4: 480x640 1 Tag, 5.0ms\n",
      "video 1/1 (1023/1341) C:\\Users\\Alexkoh\\Desktop\\Footfallcam\\sample.mp4: 480x640 1 Tag, 5.0ms\n",
      "video 1/1 (1024/1341) C:\\Users\\Alexkoh\\Desktop\\Footfallcam\\sample.mp4: 480x640 1 Tag, 5.0ms\n",
      "video 1/1 (1025/1341) C:\\Users\\Alexkoh\\Desktop\\Footfallcam\\sample.mp4: 480x640 1 Tag, 5.0ms\n",
      "video 1/1 (1026/1341) C:\\Users\\Alexkoh\\Desktop\\Footfallcam\\sample.mp4: 480x640 1 Tag, 5.0ms\n",
      "video 1/1 (1027/1341) C:\\Users\\Alexkoh\\Desktop\\Footfallcam\\sample.mp4: 480x640 1 Tag, 6.0ms\n",
      "video 1/1 (1028/1341) C:\\Users\\Alexkoh\\Desktop\\Footfallcam\\sample.mp4: 480x640 (no detections), 5.0ms\n",
      "video 1/1 (1029/1341) C:\\Users\\Alexkoh\\Desktop\\Footfallcam\\sample.mp4: 480x640 (no detections), 6.0ms\n",
      "video 1/1 (1030/1341) C:\\Users\\Alexkoh\\Desktop\\Footfallcam\\sample.mp4: 480x640 (no detections), 5.0ms\n",
      "video 1/1 (1031/1341) C:\\Users\\Alexkoh\\Desktop\\Footfallcam\\sample.mp4: 480x640 (no detections), 6.0ms\n",
      "video 1/1 (1032/1341) C:\\Users\\Alexkoh\\Desktop\\Footfallcam\\sample.mp4: 480x640 (no detections), 5.0ms\n",
      "video 1/1 (1033/1341) C:\\Users\\Alexkoh\\Desktop\\Footfallcam\\sample.mp4: 480x640 (no detections), 5.0ms\n",
      "video 1/1 (1034/1341) C:\\Users\\Alexkoh\\Desktop\\Footfallcam\\sample.mp4: 480x640 (no detections), 5.0ms\n",
      "video 1/1 (1035/1341) C:\\Users\\Alexkoh\\Desktop\\Footfallcam\\sample.mp4: 480x640 (no detections), 6.0ms\n",
      "video 1/1 (1036/1341) C:\\Users\\Alexkoh\\Desktop\\Footfallcam\\sample.mp4: 480x640 (no detections), 5.0ms\n",
      "video 1/1 (1037/1341) C:\\Users\\Alexkoh\\Desktop\\Footfallcam\\sample.mp4: 480x640 (no detections), 6.0ms\n",
      "video 1/1 (1038/1341) C:\\Users\\Alexkoh\\Desktop\\Footfallcam\\sample.mp4: 480x640 (no detections), 6.0ms\n",
      "video 1/1 (1039/1341) C:\\Users\\Alexkoh\\Desktop\\Footfallcam\\sample.mp4: 480x640 (no detections), 5.0ms\n",
      "video 1/1 (1040/1341) C:\\Users\\Alexkoh\\Desktop\\Footfallcam\\sample.mp4: 480x640 (no detections), 5.0ms\n",
      "video 1/1 (1041/1341) C:\\Users\\Alexkoh\\Desktop\\Footfallcam\\sample.mp4: 480x640 (no detections), 5.0ms\n",
      "video 1/1 (1042/1341) C:\\Users\\Alexkoh\\Desktop\\Footfallcam\\sample.mp4: 480x640 (no detections), 5.0ms\n",
      "video 1/1 (1043/1341) C:\\Users\\Alexkoh\\Desktop\\Footfallcam\\sample.mp4: 480x640 (no detections), 5.0ms\n",
      "video 1/1 (1044/1341) C:\\Users\\Alexkoh\\Desktop\\Footfallcam\\sample.mp4: 480x640 (no detections), 5.0ms\n",
      "video 1/1 (1045/1341) C:\\Users\\Alexkoh\\Desktop\\Footfallcam\\sample.mp4: 480x640 (no detections), 5.0ms\n",
      "video 1/1 (1046/1341) C:\\Users\\Alexkoh\\Desktop\\Footfallcam\\sample.mp4: 480x640 (no detections), 5.0ms\n",
      "video 1/1 (1047/1341) C:\\Users\\Alexkoh\\Desktop\\Footfallcam\\sample.mp4: 480x640 (no detections), 6.0ms\n",
      "video 1/1 (1048/1341) C:\\Users\\Alexkoh\\Desktop\\Footfallcam\\sample.mp4: 480x640 (no detections), 5.0ms\n",
      "video 1/1 (1049/1341) C:\\Users\\Alexkoh\\Desktop\\Footfallcam\\sample.mp4: 480x640 (no detections), 5.0ms\n",
      "video 1/1 (1050/1341) C:\\Users\\Alexkoh\\Desktop\\Footfallcam\\sample.mp4: 480x640 (no detections), 5.0ms\n",
      "video 1/1 (1051/1341) C:\\Users\\Alexkoh\\Desktop\\Footfallcam\\sample.mp4: 480x640 (no detections), 5.0ms\n",
      "video 1/1 (1052/1341) C:\\Users\\Alexkoh\\Desktop\\Footfallcam\\sample.mp4: 480x640 (no detections), 6.0ms\n",
      "video 1/1 (1053/1341) C:\\Users\\Alexkoh\\Desktop\\Footfallcam\\sample.mp4: 480x640 (no detections), 5.0ms\n",
      "video 1/1 (1054/1341) C:\\Users\\Alexkoh\\Desktop\\Footfallcam\\sample.mp4: 480x640 (no detections), 5.0ms\n",
      "video 1/1 (1055/1341) C:\\Users\\Alexkoh\\Desktop\\Footfallcam\\sample.mp4: 480x640 (no detections), 5.0ms\n",
      "video 1/1 (1056/1341) C:\\Users\\Alexkoh\\Desktop\\Footfallcam\\sample.mp4: 480x640 (no detections), 5.0ms\n",
      "video 1/1 (1057/1341) C:\\Users\\Alexkoh\\Desktop\\Footfallcam\\sample.mp4: 480x640 (no detections), 5.0ms\n",
      "video 1/1 (1058/1341) C:\\Users\\Alexkoh\\Desktop\\Footfallcam\\sample.mp4: 480x640 (no detections), 5.0ms\n",
      "video 1/1 (1059/1341) C:\\Users\\Alexkoh\\Desktop\\Footfallcam\\sample.mp4: 480x640 1 Tag, 5.0ms\n",
      "video 1/1 (1060/1341) C:\\Users\\Alexkoh\\Desktop\\Footfallcam\\sample.mp4: 480x640 1 Tag, 4.0ms\n",
      "video 1/1 (1061/1341) C:\\Users\\Alexkoh\\Desktop\\Footfallcam\\sample.mp4: 480x640 1 Tag, 5.0ms\n",
      "video 1/1 (1062/1341) C:\\Users\\Alexkoh\\Desktop\\Footfallcam\\sample.mp4: 480x640 1 Tag, 6.0ms\n",
      "video 1/1 (1063/1341) C:\\Users\\Alexkoh\\Desktop\\Footfallcam\\sample.mp4: 480x640 1 Tag, 4.0ms\n",
      "video 1/1 (1064/1341) C:\\Users\\Alexkoh\\Desktop\\Footfallcam\\sample.mp4: 480x640 1 Tag, 5.0ms\n",
      "video 1/1 (1065/1341) C:\\Users\\Alexkoh\\Desktop\\Footfallcam\\sample.mp4: 480x640 1 Tag, 5.0ms\n",
      "video 1/1 (1066/1341) C:\\Users\\Alexkoh\\Desktop\\Footfallcam\\sample.mp4: 480x640 1 Tag, 5.0ms\n",
      "video 1/1 (1067/1341) C:\\Users\\Alexkoh\\Desktop\\Footfallcam\\sample.mp4: 480x640 1 Tag, 5.0ms\n",
      "video 1/1 (1068/1341) C:\\Users\\Alexkoh\\Desktop\\Footfallcam\\sample.mp4: 480x640 1 Tag, 5.0ms\n",
      "video 1/1 (1069/1341) C:\\Users\\Alexkoh\\Desktop\\Footfallcam\\sample.mp4: 480x640 1 Tag, 5.0ms\n",
      "video 1/1 (1070/1341) C:\\Users\\Alexkoh\\Desktop\\Footfallcam\\sample.mp4: 480x640 1 Tag, 6.0ms\n",
      "video 1/1 (1071/1341) C:\\Users\\Alexkoh\\Desktop\\Footfallcam\\sample.mp4: 480x640 1 Tag, 5.0ms\n",
      "video 1/1 (1072/1341) C:\\Users\\Alexkoh\\Desktop\\Footfallcam\\sample.mp4: 480x640 1 Tag, 5.0ms\n",
      "video 1/1 (1073/1341) C:\\Users\\Alexkoh\\Desktop\\Footfallcam\\sample.mp4: 480x640 1 Tag, 5.0ms\n",
      "video 1/1 (1074/1341) C:\\Users\\Alexkoh\\Desktop\\Footfallcam\\sample.mp4: 480x640 (no detections), 6.0ms\n",
      "video 1/1 (1075/1341) C:\\Users\\Alexkoh\\Desktop\\Footfallcam\\sample.mp4: 480x640 (no detections), 5.0ms\n",
      "video 1/1 (1076/1341) C:\\Users\\Alexkoh\\Desktop\\Footfallcam\\sample.mp4: 480x640 (no detections), 6.0ms\n",
      "video 1/1 (1077/1341) C:\\Users\\Alexkoh\\Desktop\\Footfallcam\\sample.mp4: 480x640 (no detections), 5.0ms\n",
      "video 1/1 (1078/1341) C:\\Users\\Alexkoh\\Desktop\\Footfallcam\\sample.mp4: 480x640 (no detections), 6.0ms\n",
      "video 1/1 (1079/1341) C:\\Users\\Alexkoh\\Desktop\\Footfallcam\\sample.mp4: 480x640 (no detections), 6.0ms\n",
      "video 1/1 (1080/1341) C:\\Users\\Alexkoh\\Desktop\\Footfallcam\\sample.mp4: 480x640 (no detections), 5.0ms\n",
      "video 1/1 (1081/1341) C:\\Users\\Alexkoh\\Desktop\\Footfallcam\\sample.mp4: 480x640 (no detections), 6.0ms\n",
      "video 1/1 (1082/1341) C:\\Users\\Alexkoh\\Desktop\\Footfallcam\\sample.mp4: 480x640 (no detections), 6.0ms\n",
      "video 1/1 (1083/1341) C:\\Users\\Alexkoh\\Desktop\\Footfallcam\\sample.mp4: 480x640 (no detections), 5.0ms\n",
      "video 1/1 (1084/1341) C:\\Users\\Alexkoh\\Desktop\\Footfallcam\\sample.mp4: 480x640 (no detections), 5.0ms\n",
      "video 1/1 (1085/1341) C:\\Users\\Alexkoh\\Desktop\\Footfallcam\\sample.mp4: 480x640 (no detections), 6.0ms\n",
      "video 1/1 (1086/1341) C:\\Users\\Alexkoh\\Desktop\\Footfallcam\\sample.mp4: 480x640 (no detections), 6.0ms\n",
      "video 1/1 (1087/1341) C:\\Users\\Alexkoh\\Desktop\\Footfallcam\\sample.mp4: 480x640 (no detections), 6.0ms\n",
      "video 1/1 (1088/1341) C:\\Users\\Alexkoh\\Desktop\\Footfallcam\\sample.mp4: 480x640 (no detections), 5.0ms\n",
      "video 1/1 (1089/1341) C:\\Users\\Alexkoh\\Desktop\\Footfallcam\\sample.mp4: 480x640 (no detections), 5.0ms\n",
      "video 1/1 (1090/1341) C:\\Users\\Alexkoh\\Desktop\\Footfallcam\\sample.mp4: 480x640 (no detections), 5.0ms\n",
      "video 1/1 (1091/1341) C:\\Users\\Alexkoh\\Desktop\\Footfallcam\\sample.mp4: 480x640 (no detections), 5.0ms\n",
      "video 1/1 (1092/1341) C:\\Users\\Alexkoh\\Desktop\\Footfallcam\\sample.mp4: 480x640 (no detections), 6.0ms\n",
      "video 1/1 (1093/1341) C:\\Users\\Alexkoh\\Desktop\\Footfallcam\\sample.mp4: 480x640 (no detections), 6.0ms\n",
      "video 1/1 (1094/1341) C:\\Users\\Alexkoh\\Desktop\\Footfallcam\\sample.mp4: 480x640 (no detections), 6.0ms\n",
      "video 1/1 (1095/1341) C:\\Users\\Alexkoh\\Desktop\\Footfallcam\\sample.mp4: 480x640 (no detections), 5.0ms\n",
      "video 1/1 (1096/1341) C:\\Users\\Alexkoh\\Desktop\\Footfallcam\\sample.mp4: 480x640 (no detections), 5.0ms\n",
      "video 1/1 (1097/1341) C:\\Users\\Alexkoh\\Desktop\\Footfallcam\\sample.mp4: 480x640 (no detections), 5.0ms\n",
      "video 1/1 (1098/1341) C:\\Users\\Alexkoh\\Desktop\\Footfallcam\\sample.mp4: 480x640 (no detections), 5.0ms\n",
      "video 1/1 (1099/1341) C:\\Users\\Alexkoh\\Desktop\\Footfallcam\\sample.mp4: 480x640 (no detections), 5.0ms\n",
      "video 1/1 (1100/1341) C:\\Users\\Alexkoh\\Desktop\\Footfallcam\\sample.mp4: 480x640 (no detections), 5.0ms\n",
      "video 1/1 (1101/1341) C:\\Users\\Alexkoh\\Desktop\\Footfallcam\\sample.mp4: 480x640 (no detections), 5.0ms\n",
      "video 1/1 (1102/1341) C:\\Users\\Alexkoh\\Desktop\\Footfallcam\\sample.mp4: 480x640 (no detections), 5.0ms\n",
      "video 1/1 (1103/1341) C:\\Users\\Alexkoh\\Desktop\\Footfallcam\\sample.mp4: 480x640 (no detections), 6.0ms\n",
      "video 1/1 (1104/1341) C:\\Users\\Alexkoh\\Desktop\\Footfallcam\\sample.mp4: 480x640 (no detections), 5.0ms\n",
      "video 1/1 (1105/1341) C:\\Users\\Alexkoh\\Desktop\\Footfallcam\\sample.mp4: 480x640 (no detections), 5.0ms\n",
      "video 1/1 (1106/1341) C:\\Users\\Alexkoh\\Desktop\\Footfallcam\\sample.mp4: 480x640 (no detections), 5.0ms\n",
      "video 1/1 (1107/1341) C:\\Users\\Alexkoh\\Desktop\\Footfallcam\\sample.mp4: 480x640 (no detections), 5.0ms\n",
      "video 1/1 (1108/1341) C:\\Users\\Alexkoh\\Desktop\\Footfallcam\\sample.mp4: 480x640 (no detections), 5.0ms\n",
      "video 1/1 (1109/1341) C:\\Users\\Alexkoh\\Desktop\\Footfallcam\\sample.mp4: 480x640 (no detections), 5.0ms\n",
      "video 1/1 (1110/1341) C:\\Users\\Alexkoh\\Desktop\\Footfallcam\\sample.mp4: 480x640 (no detections), 6.0ms\n",
      "video 1/1 (1111/1341) C:\\Users\\Alexkoh\\Desktop\\Footfallcam\\sample.mp4: 480x640 (no detections), 5.0ms\n",
      "video 1/1 (1112/1341) C:\\Users\\Alexkoh\\Desktop\\Footfallcam\\sample.mp4: 480x640 1 Tag, 6.0ms\n",
      "video 1/1 (1113/1341) C:\\Users\\Alexkoh\\Desktop\\Footfallcam\\sample.mp4: 480x640 1 Tag, 6.0ms\n",
      "video 1/1 (1114/1341) C:\\Users\\Alexkoh\\Desktop\\Footfallcam\\sample.mp4: 480x640 1 Tag, 5.0ms\n",
      "video 1/1 (1115/1341) C:\\Users\\Alexkoh\\Desktop\\Footfallcam\\sample.mp4: 480x640 1 Tag, 5.0ms\n",
      "video 1/1 (1116/1341) C:\\Users\\Alexkoh\\Desktop\\Footfallcam\\sample.mp4: 480x640 1 Tag, 6.0ms\n",
      "video 1/1 (1117/1341) C:\\Users\\Alexkoh\\Desktop\\Footfallcam\\sample.mp4: 480x640 1 Tag, 6.0ms\n",
      "video 1/1 (1118/1341) C:\\Users\\Alexkoh\\Desktop\\Footfallcam\\sample.mp4: 480x640 1 Tag, 6.0ms\n",
      "video 1/1 (1119/1341) C:\\Users\\Alexkoh\\Desktop\\Footfallcam\\sample.mp4: 480x640 1 Tag, 6.0ms\n",
      "video 1/1 (1120/1341) C:\\Users\\Alexkoh\\Desktop\\Footfallcam\\sample.mp4: 480x640 1 Tag, 5.0ms\n",
      "video 1/1 (1121/1341) C:\\Users\\Alexkoh\\Desktop\\Footfallcam\\sample.mp4: 480x640 1 Tag, 5.0ms\n",
      "video 1/1 (1122/1341) C:\\Users\\Alexkoh\\Desktop\\Footfallcam\\sample.mp4: 480x640 1 Tag, 5.0ms\n",
      "video 1/1 (1123/1341) C:\\Users\\Alexkoh\\Desktop\\Footfallcam\\sample.mp4: 480x640 (no detections), 7.0ms\n",
      "video 1/1 (1124/1341) C:\\Users\\Alexkoh\\Desktop\\Footfallcam\\sample.mp4: 480x640 (no detections), 5.0ms\n",
      "video 1/1 (1125/1341) C:\\Users\\Alexkoh\\Desktop\\Footfallcam\\sample.mp4: 480x640 (no detections), 5.0ms\n",
      "video 1/1 (1126/1341) C:\\Users\\Alexkoh\\Desktop\\Footfallcam\\sample.mp4: 480x640 (no detections), 5.0ms\n",
      "video 1/1 (1127/1341) C:\\Users\\Alexkoh\\Desktop\\Footfallcam\\sample.mp4: 480x640 (no detections), 6.0ms\n",
      "video 1/1 (1128/1341) C:\\Users\\Alexkoh\\Desktop\\Footfallcam\\sample.mp4: 480x640 (no detections), 6.0ms\n",
      "video 1/1 (1129/1341) C:\\Users\\Alexkoh\\Desktop\\Footfallcam\\sample.mp4: 480x640 (no detections), 6.0ms\n",
      "video 1/1 (1130/1341) C:\\Users\\Alexkoh\\Desktop\\Footfallcam\\sample.mp4: 480x640 (no detections), 6.0ms\n",
      "video 1/1 (1131/1341) C:\\Users\\Alexkoh\\Desktop\\Footfallcam\\sample.mp4: 480x640 (no detections), 5.0ms\n",
      "video 1/1 (1132/1341) C:\\Users\\Alexkoh\\Desktop\\Footfallcam\\sample.mp4: 480x640 (no detections), 6.0ms\n",
      "video 1/1 (1133/1341) C:\\Users\\Alexkoh\\Desktop\\Footfallcam\\sample.mp4: 480x640 (no detections), 6.0ms\n",
      "video 1/1 (1134/1341) C:\\Users\\Alexkoh\\Desktop\\Footfallcam\\sample.mp4: 480x640 (no detections), 6.0ms\n",
      "video 1/1 (1135/1341) C:\\Users\\Alexkoh\\Desktop\\Footfallcam\\sample.mp4: 480x640 (no detections), 6.0ms\n",
      "video 1/1 (1136/1341) C:\\Users\\Alexkoh\\Desktop\\Footfallcam\\sample.mp4: 480x640 (no detections), 6.0ms\n",
      "video 1/1 (1137/1341) C:\\Users\\Alexkoh\\Desktop\\Footfallcam\\sample.mp4: 480x640 (no detections), 6.0ms\n",
      "video 1/1 (1138/1341) C:\\Users\\Alexkoh\\Desktop\\Footfallcam\\sample.mp4: 480x640 (no detections), 6.0ms\n",
      "video 1/1 (1139/1341) C:\\Users\\Alexkoh\\Desktop\\Footfallcam\\sample.mp4: 480x640 (no detections), 6.0ms\n",
      "video 1/1 (1140/1341) C:\\Users\\Alexkoh\\Desktop\\Footfallcam\\sample.mp4: 480x640 (no detections), 5.0ms\n",
      "video 1/1 (1141/1341) C:\\Users\\Alexkoh\\Desktop\\Footfallcam\\sample.mp4: 480x640 (no detections), 6.0ms\n",
      "video 1/1 (1142/1341) C:\\Users\\Alexkoh\\Desktop\\Footfallcam\\sample.mp4: 480x640 (no detections), 5.0ms\n",
      "video 1/1 (1143/1341) C:\\Users\\Alexkoh\\Desktop\\Footfallcam\\sample.mp4: 480x640 (no detections), 5.0ms\n",
      "video 1/1 (1144/1341) C:\\Users\\Alexkoh\\Desktop\\Footfallcam\\sample.mp4: 480x640 (no detections), 5.0ms\n",
      "video 1/1 (1145/1341) C:\\Users\\Alexkoh\\Desktop\\Footfallcam\\sample.mp4: 480x640 (no detections), 5.0ms\n",
      "video 1/1 (1146/1341) C:\\Users\\Alexkoh\\Desktop\\Footfallcam\\sample.mp4: 480x640 (no detections), 5.0ms\n",
      "video 1/1 (1147/1341) C:\\Users\\Alexkoh\\Desktop\\Footfallcam\\sample.mp4: 480x640 (no detections), 5.0ms\n",
      "video 1/1 (1148/1341) C:\\Users\\Alexkoh\\Desktop\\Footfallcam\\sample.mp4: 480x640 (no detections), 6.0ms\n",
      "video 1/1 (1149/1341) C:\\Users\\Alexkoh\\Desktop\\Footfallcam\\sample.mp4: 480x640 (no detections), 5.0ms\n",
      "video 1/1 (1150/1341) C:\\Users\\Alexkoh\\Desktop\\Footfallcam\\sample.mp4: 480x640 (no detections), 6.0ms\n",
      "video 1/1 (1151/1341) C:\\Users\\Alexkoh\\Desktop\\Footfallcam\\sample.mp4: 480x640 (no detections), 5.0ms\n",
      "video 1/1 (1152/1341) C:\\Users\\Alexkoh\\Desktop\\Footfallcam\\sample.mp4: 480x640 (no detections), 6.0ms\n",
      "video 1/1 (1153/1341) C:\\Users\\Alexkoh\\Desktop\\Footfallcam\\sample.mp4: 480x640 (no detections), 5.0ms\n",
      "video 1/1 (1154/1341) C:\\Users\\Alexkoh\\Desktop\\Footfallcam\\sample.mp4: 480x640 1 Tag, 6.0ms\n",
      "video 1/1 (1155/1341) C:\\Users\\Alexkoh\\Desktop\\Footfallcam\\sample.mp4: 480x640 1 Tag, 5.0ms\n",
      "video 1/1 (1156/1341) C:\\Users\\Alexkoh\\Desktop\\Footfallcam\\sample.mp4: 480x640 1 Tag, 5.0ms\n",
      "video 1/1 (1157/1341) C:\\Users\\Alexkoh\\Desktop\\Footfallcam\\sample.mp4: 480x640 1 Tag, 5.0ms\n",
      "video 1/1 (1158/1341) C:\\Users\\Alexkoh\\Desktop\\Footfallcam\\sample.mp4: 480x640 1 Tag, 5.0ms\n",
      "video 1/1 (1159/1341) C:\\Users\\Alexkoh\\Desktop\\Footfallcam\\sample.mp4: 480x640 1 Tag, 5.0ms\n",
      "video 1/1 (1160/1341) C:\\Users\\Alexkoh\\Desktop\\Footfallcam\\sample.mp4: 480x640 1 Tag, 5.0ms\n",
      "video 1/1 (1161/1341) C:\\Users\\Alexkoh\\Desktop\\Footfallcam\\sample.mp4: 480x640 1 Tag, 6.0ms\n",
      "video 1/1 (1162/1341) C:\\Users\\Alexkoh\\Desktop\\Footfallcam\\sample.mp4: 480x640 1 Tag, 5.0ms\n",
      "video 1/1 (1163/1341) C:\\Users\\Alexkoh\\Desktop\\Footfallcam\\sample.mp4: 480x640 1 Tag, 5.0ms\n",
      "video 1/1 (1164/1341) C:\\Users\\Alexkoh\\Desktop\\Footfallcam\\sample.mp4: 480x640 1 Tag, 5.0ms\n",
      "video 1/1 (1165/1341) C:\\Users\\Alexkoh\\Desktop\\Footfallcam\\sample.mp4: 480x640 1 Tag, 5.0ms\n",
      "video 1/1 (1166/1341) C:\\Users\\Alexkoh\\Desktop\\Footfallcam\\sample.mp4: 480x640 1 Tag, 6.0ms\n",
      "video 1/1 (1167/1341) C:\\Users\\Alexkoh\\Desktop\\Footfallcam\\sample.mp4: 480x640 1 Tag, 6.0ms\n",
      "video 1/1 (1168/1341) C:\\Users\\Alexkoh\\Desktop\\Footfallcam\\sample.mp4: 480x640 1 Tag, 6.0ms\n",
      "video 1/1 (1169/1341) C:\\Users\\Alexkoh\\Desktop\\Footfallcam\\sample.mp4: 480x640 1 Tag, 6.0ms\n",
      "video 1/1 (1170/1341) C:\\Users\\Alexkoh\\Desktop\\Footfallcam\\sample.mp4: 480x640 1 Tag, 6.0ms\n",
      "video 1/1 (1171/1341) C:\\Users\\Alexkoh\\Desktop\\Footfallcam\\sample.mp4: 480x640 (no detections), 6.0ms\n",
      "video 1/1 (1172/1341) C:\\Users\\Alexkoh\\Desktop\\Footfallcam\\sample.mp4: 480x640 (no detections), 5.0ms\n",
      "video 1/1 (1173/1341) C:\\Users\\Alexkoh\\Desktop\\Footfallcam\\sample.mp4: 480x640 (no detections), 6.0ms\n",
      "video 1/1 (1174/1341) C:\\Users\\Alexkoh\\Desktop\\Footfallcam\\sample.mp4: 480x640 (no detections), 5.0ms\n",
      "video 1/1 (1175/1341) C:\\Users\\Alexkoh\\Desktop\\Footfallcam\\sample.mp4: 480x640 (no detections), 5.0ms\n",
      "video 1/1 (1176/1341) C:\\Users\\Alexkoh\\Desktop\\Footfallcam\\sample.mp4: 480x640 (no detections), 5.0ms\n",
      "video 1/1 (1177/1341) C:\\Users\\Alexkoh\\Desktop\\Footfallcam\\sample.mp4: 480x640 (no detections), 5.0ms\n",
      "video 1/1 (1178/1341) C:\\Users\\Alexkoh\\Desktop\\Footfallcam\\sample.mp4: 480x640 (no detections), 5.0ms\n",
      "video 1/1 (1179/1341) C:\\Users\\Alexkoh\\Desktop\\Footfallcam\\sample.mp4: 480x640 (no detections), 5.0ms\n",
      "video 1/1 (1180/1341) C:\\Users\\Alexkoh\\Desktop\\Footfallcam\\sample.mp4: 480x640 (no detections), 5.0ms\n",
      "video 1/1 (1181/1341) C:\\Users\\Alexkoh\\Desktop\\Footfallcam\\sample.mp4: 480x640 (no detections), 5.0ms\n",
      "video 1/1 (1182/1341) C:\\Users\\Alexkoh\\Desktop\\Footfallcam\\sample.mp4: 480x640 (no detections), 6.0ms\n",
      "video 1/1 (1183/1341) C:\\Users\\Alexkoh\\Desktop\\Footfallcam\\sample.mp4: 480x640 (no detections), 5.0ms\n",
      "video 1/1 (1184/1341) C:\\Users\\Alexkoh\\Desktop\\Footfallcam\\sample.mp4: 480x640 (no detections), 5.0ms\n",
      "video 1/1 (1185/1341) C:\\Users\\Alexkoh\\Desktop\\Footfallcam\\sample.mp4: 480x640 (no detections), 6.0ms\n",
      "video 1/1 (1186/1341) C:\\Users\\Alexkoh\\Desktop\\Footfallcam\\sample.mp4: 480x640 (no detections), 7.0ms\n",
      "video 1/1 (1187/1341) C:\\Users\\Alexkoh\\Desktop\\Footfallcam\\sample.mp4: 480x640 (no detections), 5.0ms\n",
      "video 1/1 (1188/1341) C:\\Users\\Alexkoh\\Desktop\\Footfallcam\\sample.mp4: 480x640 (no detections), 6.0ms\n",
      "video 1/1 (1189/1341) C:\\Users\\Alexkoh\\Desktop\\Footfallcam\\sample.mp4: 480x640 (no detections), 5.0ms\n",
      "video 1/1 (1190/1341) C:\\Users\\Alexkoh\\Desktop\\Footfallcam\\sample.mp4: 480x640 (no detections), 5.0ms\n",
      "video 1/1 (1191/1341) C:\\Users\\Alexkoh\\Desktop\\Footfallcam\\sample.mp4: 480x640 (no detections), 5.0ms\n",
      "video 1/1 (1192/1341) C:\\Users\\Alexkoh\\Desktop\\Footfallcam\\sample.mp4: 480x640 (no detections), 5.0ms\n",
      "video 1/1 (1193/1341) C:\\Users\\Alexkoh\\Desktop\\Footfallcam\\sample.mp4: 480x640 (no detections), 5.0ms\n",
      "video 1/1 (1194/1341) C:\\Users\\Alexkoh\\Desktop\\Footfallcam\\sample.mp4: 480x640 (no detections), 5.0ms\n",
      "video 1/1 (1195/1341) C:\\Users\\Alexkoh\\Desktop\\Footfallcam\\sample.mp4: 480x640 (no detections), 5.0ms\n",
      "video 1/1 (1196/1341) C:\\Users\\Alexkoh\\Desktop\\Footfallcam\\sample.mp4: 480x640 (no detections), 5.0ms\n",
      "video 1/1 (1197/1341) C:\\Users\\Alexkoh\\Desktop\\Footfallcam\\sample.mp4: 480x640 1 Tag, 5.0ms\n",
      "video 1/1 (1198/1341) C:\\Users\\Alexkoh\\Desktop\\Footfallcam\\sample.mp4: 480x640 1 Tag, 5.0ms\n",
      "video 1/1 (1199/1341) C:\\Users\\Alexkoh\\Desktop\\Footfallcam\\sample.mp4: 480x640 1 Tag, 6.0ms\n",
      "video 1/1 (1200/1341) C:\\Users\\Alexkoh\\Desktop\\Footfallcam\\sample.mp4: 480x640 1 Tag, 5.0ms\n",
      "video 1/1 (1201/1341) C:\\Users\\Alexkoh\\Desktop\\Footfallcam\\sample.mp4: 480x640 1 Tag, 6.0ms\n",
      "video 1/1 (1202/1341) C:\\Users\\Alexkoh\\Desktop\\Footfallcam\\sample.mp4: 480x640 1 Tag, 5.0ms\n",
      "video 1/1 (1203/1341) C:\\Users\\Alexkoh\\Desktop\\Footfallcam\\sample.mp4: 480x640 1 Tag, 5.0ms\n",
      "video 1/1 (1204/1341) C:\\Users\\Alexkoh\\Desktop\\Footfallcam\\sample.mp4: 480x640 1 Tag, 5.0ms\n",
      "video 1/1 (1205/1341) C:\\Users\\Alexkoh\\Desktop\\Footfallcam\\sample.mp4: 480x640 1 Tag, 5.0ms\n",
      "video 1/1 (1206/1341) C:\\Users\\Alexkoh\\Desktop\\Footfallcam\\sample.mp4: 480x640 1 Tag, 5.0ms\n",
      "video 1/1 (1207/1341) C:\\Users\\Alexkoh\\Desktop\\Footfallcam\\sample.mp4: 480x640 1 Tag, 5.0ms\n",
      "video 1/1 (1208/1341) C:\\Users\\Alexkoh\\Desktop\\Footfallcam\\sample.mp4: 480x640 1 Tag, 6.0ms\n",
      "video 1/1 (1209/1341) C:\\Users\\Alexkoh\\Desktop\\Footfallcam\\sample.mp4: 480x640 1 Tag, 5.0ms\n",
      "video 1/1 (1210/1341) C:\\Users\\Alexkoh\\Desktop\\Footfallcam\\sample.mp4: 480x640 (no detections), 6.0ms\n",
      "video 1/1 (1211/1341) C:\\Users\\Alexkoh\\Desktop\\Footfallcam\\sample.mp4: 480x640 (no detections), 5.0ms\n",
      "video 1/1 (1212/1341) C:\\Users\\Alexkoh\\Desktop\\Footfallcam\\sample.mp4: 480x640 (no detections), 6.0ms\n",
      "video 1/1 (1213/1341) C:\\Users\\Alexkoh\\Desktop\\Footfallcam\\sample.mp4: 480x640 (no detections), 5.0ms\n",
      "video 1/1 (1214/1341) C:\\Users\\Alexkoh\\Desktop\\Footfallcam\\sample.mp4: 480x640 (no detections), 6.0ms\n",
      "video 1/1 (1215/1341) C:\\Users\\Alexkoh\\Desktop\\Footfallcam\\sample.mp4: 480x640 (no detections), 6.0ms\n",
      "video 1/1 (1216/1341) C:\\Users\\Alexkoh\\Desktop\\Footfallcam\\sample.mp4: 480x640 (no detections), 6.0ms\n",
      "video 1/1 (1217/1341) C:\\Users\\Alexkoh\\Desktop\\Footfallcam\\sample.mp4: 480x640 (no detections), 6.0ms\n",
      "video 1/1 (1218/1341) C:\\Users\\Alexkoh\\Desktop\\Footfallcam\\sample.mp4: 480x640 (no detections), 6.0ms\n",
      "video 1/1 (1219/1341) C:\\Users\\Alexkoh\\Desktop\\Footfallcam\\sample.mp4: 480x640 (no detections), 6.0ms\n",
      "video 1/1 (1220/1341) C:\\Users\\Alexkoh\\Desktop\\Footfallcam\\sample.mp4: 480x640 (no detections), 6.0ms\n",
      "video 1/1 (1221/1341) C:\\Users\\Alexkoh\\Desktop\\Footfallcam\\sample.mp4: 480x640 (no detections), 6.0ms\n",
      "video 1/1 (1222/1341) C:\\Users\\Alexkoh\\Desktop\\Footfallcam\\sample.mp4: 480x640 (no detections), 6.0ms\n",
      "video 1/1 (1223/1341) C:\\Users\\Alexkoh\\Desktop\\Footfallcam\\sample.mp4: 480x640 (no detections), 5.0ms\n",
      "video 1/1 (1224/1341) C:\\Users\\Alexkoh\\Desktop\\Footfallcam\\sample.mp4: 480x640 1 Tag, 6.0ms\n",
      "video 1/1 (1225/1341) C:\\Users\\Alexkoh\\Desktop\\Footfallcam\\sample.mp4: 480x640 1 Tag, 6.0ms\n",
      "video 1/1 (1226/1341) C:\\Users\\Alexkoh\\Desktop\\Footfallcam\\sample.mp4: 480x640 (no detections), 7.0ms\n",
      "video 1/1 (1227/1341) C:\\Users\\Alexkoh\\Desktop\\Footfallcam\\sample.mp4: 480x640 (no detections), 5.0ms\n",
      "video 1/1 (1228/1341) C:\\Users\\Alexkoh\\Desktop\\Footfallcam\\sample.mp4: 480x640 (no detections), 7.0ms\n",
      "video 1/1 (1229/1341) C:\\Users\\Alexkoh\\Desktop\\Footfallcam\\sample.mp4: 480x640 (no detections), 6.0ms\n",
      "video 1/1 (1230/1341) C:\\Users\\Alexkoh\\Desktop\\Footfallcam\\sample.mp4: 480x640 (no detections), 6.0ms\n",
      "video 1/1 (1231/1341) C:\\Users\\Alexkoh\\Desktop\\Footfallcam\\sample.mp4: 480x640 (no detections), 7.0ms\n",
      "video 1/1 (1232/1341) C:\\Users\\Alexkoh\\Desktop\\Footfallcam\\sample.mp4: 480x640 (no detections), 6.0ms\n",
      "video 1/1 (1233/1341) C:\\Users\\Alexkoh\\Desktop\\Footfallcam\\sample.mp4: 480x640 (no detections), 6.0ms\n",
      "video 1/1 (1234/1341) C:\\Users\\Alexkoh\\Desktop\\Footfallcam\\sample.mp4: 480x640 (no detections), 6.0ms\n",
      "video 1/1 (1235/1341) C:\\Users\\Alexkoh\\Desktop\\Footfallcam\\sample.mp4: 480x640 (no detections), 5.0ms\n",
      "video 1/1 (1236/1341) C:\\Users\\Alexkoh\\Desktop\\Footfallcam\\sample.mp4: 480x640 (no detections), 6.0ms\n",
      "video 1/1 (1237/1341) C:\\Users\\Alexkoh\\Desktop\\Footfallcam\\sample.mp4: 480x640 (no detections), 5.0ms\n",
      "video 1/1 (1238/1341) C:\\Users\\Alexkoh\\Desktop\\Footfallcam\\sample.mp4: 480x640 (no detections), 6.0ms\n",
      "video 1/1 (1239/1341) C:\\Users\\Alexkoh\\Desktop\\Footfallcam\\sample.mp4: 480x640 (no detections), 5.0ms\n",
      "video 1/1 (1240/1341) C:\\Users\\Alexkoh\\Desktop\\Footfallcam\\sample.mp4: 480x640 (no detections), 5.0ms\n",
      "video 1/1 (1241/1341) C:\\Users\\Alexkoh\\Desktop\\Footfallcam\\sample.mp4: 480x640 (no detections), 5.0ms\n",
      "video 1/1 (1242/1341) C:\\Users\\Alexkoh\\Desktop\\Footfallcam\\sample.mp4: 480x640 (no detections), 5.0ms\n",
      "video 1/1 (1243/1341) C:\\Users\\Alexkoh\\Desktop\\Footfallcam\\sample.mp4: 480x640 (no detections), 5.0ms\n",
      "video 1/1 (1244/1341) C:\\Users\\Alexkoh\\Desktop\\Footfallcam\\sample.mp4: 480x640 (no detections), 5.0ms\n",
      "video 1/1 (1245/1341) C:\\Users\\Alexkoh\\Desktop\\Footfallcam\\sample.mp4: 480x640 (no detections), 6.0ms\n",
      "video 1/1 (1246/1341) C:\\Users\\Alexkoh\\Desktop\\Footfallcam\\sample.mp4: 480x640 (no detections), 6.0ms\n",
      "video 1/1 (1247/1341) C:\\Users\\Alexkoh\\Desktop\\Footfallcam\\sample.mp4: 480x640 (no detections), 6.0ms\n",
      "video 1/1 (1248/1341) C:\\Users\\Alexkoh\\Desktop\\Footfallcam\\sample.mp4: 480x640 (no detections), 6.0ms\n",
      "video 1/1 (1249/1341) C:\\Users\\Alexkoh\\Desktop\\Footfallcam\\sample.mp4: 480x640 (no detections), 5.0ms\n",
      "video 1/1 (1250/1341) C:\\Users\\Alexkoh\\Desktop\\Footfallcam\\sample.mp4: 480x640 (no detections), 6.0ms\n",
      "video 1/1 (1251/1341) C:\\Users\\Alexkoh\\Desktop\\Footfallcam\\sample.mp4: 480x640 (no detections), 6.0ms\n",
      "video 1/1 (1252/1341) C:\\Users\\Alexkoh\\Desktop\\Footfallcam\\sample.mp4: 480x640 (no detections), 6.0ms\n",
      "video 1/1 (1253/1341) C:\\Users\\Alexkoh\\Desktop\\Footfallcam\\sample.mp4: 480x640 (no detections), 6.0ms\n",
      "video 1/1 (1254/1341) C:\\Users\\Alexkoh\\Desktop\\Footfallcam\\sample.mp4: 480x640 (no detections), 6.0ms\n",
      "video 1/1 (1255/1341) C:\\Users\\Alexkoh\\Desktop\\Footfallcam\\sample.mp4: 480x640 (no detections), 5.0ms\n",
      "video 1/1 (1256/1341) C:\\Users\\Alexkoh\\Desktop\\Footfallcam\\sample.mp4: 480x640 (no detections), 6.0ms\n",
      "video 1/1 (1257/1341) C:\\Users\\Alexkoh\\Desktop\\Footfallcam\\sample.mp4: 480x640 (no detections), 6.0ms\n",
      "video 1/1 (1258/1341) C:\\Users\\Alexkoh\\Desktop\\Footfallcam\\sample.mp4: 480x640 (no detections), 6.0ms\n",
      "video 1/1 (1259/1341) C:\\Users\\Alexkoh\\Desktop\\Footfallcam\\sample.mp4: 480x640 (no detections), 6.0ms\n",
      "video 1/1 (1260/1341) C:\\Users\\Alexkoh\\Desktop\\Footfallcam\\sample.mp4: 480x640 (no detections), 7.0ms\n",
      "video 1/1 (1261/1341) C:\\Users\\Alexkoh\\Desktop\\Footfallcam\\sample.mp4: 480x640 (no detections), 7.0ms\n",
      "video 1/1 (1262/1341) C:\\Users\\Alexkoh\\Desktop\\Footfallcam\\sample.mp4: 480x640 (no detections), 6.0ms\n",
      "video 1/1 (1263/1341) C:\\Users\\Alexkoh\\Desktop\\Footfallcam\\sample.mp4: 480x640 (no detections), 6.0ms\n",
      "video 1/1 (1264/1341) C:\\Users\\Alexkoh\\Desktop\\Footfallcam\\sample.mp4: 480x640 (no detections), 6.0ms\n",
      "video 1/1 (1265/1341) C:\\Users\\Alexkoh\\Desktop\\Footfallcam\\sample.mp4: 480x640 (no detections), 6.0ms\n",
      "video 1/1 (1266/1341) C:\\Users\\Alexkoh\\Desktop\\Footfallcam\\sample.mp4: 480x640 (no detections), 6.0ms\n",
      "video 1/1 (1267/1341) C:\\Users\\Alexkoh\\Desktop\\Footfallcam\\sample.mp4: 480x640 (no detections), 6.0ms\n",
      "video 1/1 (1268/1341) C:\\Users\\Alexkoh\\Desktop\\Footfallcam\\sample.mp4: 480x640 (no detections), 5.0ms\n",
      "video 1/1 (1269/1341) C:\\Users\\Alexkoh\\Desktop\\Footfallcam\\sample.mp4: 480x640 (no detections), 5.0ms\n",
      "video 1/1 (1270/1341) C:\\Users\\Alexkoh\\Desktop\\Footfallcam\\sample.mp4: 480x640 (no detections), 8.0ms\n",
      "video 1/1 (1271/1341) C:\\Users\\Alexkoh\\Desktop\\Footfallcam\\sample.mp4: 480x640 (no detections), 5.0ms\n",
      "video 1/1 (1272/1341) C:\\Users\\Alexkoh\\Desktop\\Footfallcam\\sample.mp4: 480x640 (no detections), 6.0ms\n",
      "video 1/1 (1273/1341) C:\\Users\\Alexkoh\\Desktop\\Footfallcam\\sample.mp4: 480x640 (no detections), 7.0ms\n",
      "video 1/1 (1274/1341) C:\\Users\\Alexkoh\\Desktop\\Footfallcam\\sample.mp4: 480x640 (no detections), 6.0ms\n",
      "video 1/1 (1275/1341) C:\\Users\\Alexkoh\\Desktop\\Footfallcam\\sample.mp4: 480x640 (no detections), 6.0ms\n",
      "video 1/1 (1276/1341) C:\\Users\\Alexkoh\\Desktop\\Footfallcam\\sample.mp4: 480x640 (no detections), 6.0ms\n",
      "video 1/1 (1277/1341) C:\\Users\\Alexkoh\\Desktop\\Footfallcam\\sample.mp4: 480x640 (no detections), 6.0ms\n",
      "video 1/1 (1278/1341) C:\\Users\\Alexkoh\\Desktop\\Footfallcam\\sample.mp4: 480x640 (no detections), 6.0ms\n",
      "video 1/1 (1279/1341) C:\\Users\\Alexkoh\\Desktop\\Footfallcam\\sample.mp4: 480x640 (no detections), 5.0ms\n",
      "video 1/1 (1280/1341) C:\\Users\\Alexkoh\\Desktop\\Footfallcam\\sample.mp4: 480x640 (no detections), 5.0ms\n",
      "video 1/1 (1281/1341) C:\\Users\\Alexkoh\\Desktop\\Footfallcam\\sample.mp4: 480x640 (no detections), 5.0ms\n",
      "video 1/1 (1282/1341) C:\\Users\\Alexkoh\\Desktop\\Footfallcam\\sample.mp4: 480x640 (no detections), 5.0ms\n",
      "video 1/1 (1283/1341) C:\\Users\\Alexkoh\\Desktop\\Footfallcam\\sample.mp4: 480x640 (no detections), 5.0ms\n",
      "video 1/1 (1284/1341) C:\\Users\\Alexkoh\\Desktop\\Footfallcam\\sample.mp4: 480x640 (no detections), 5.0ms\n",
      "video 1/1 (1285/1341) C:\\Users\\Alexkoh\\Desktop\\Footfallcam\\sample.mp4: 480x640 (no detections), 7.0ms\n",
      "video 1/1 (1286/1341) C:\\Users\\Alexkoh\\Desktop\\Footfallcam\\sample.mp4: 480x640 (no detections), 7.0ms\n",
      "video 1/1 (1287/1341) C:\\Users\\Alexkoh\\Desktop\\Footfallcam\\sample.mp4: 480x640 (no detections), 5.0ms\n",
      "video 1/1 (1288/1341) C:\\Users\\Alexkoh\\Desktop\\Footfallcam\\sample.mp4: 480x640 (no detections), 5.0ms\n",
      "video 1/1 (1289/1341) C:\\Users\\Alexkoh\\Desktop\\Footfallcam\\sample.mp4: 480x640 (no detections), 6.0ms\n",
      "video 1/1 (1290/1341) C:\\Users\\Alexkoh\\Desktop\\Footfallcam\\sample.mp4: 480x640 (no detections), 5.0ms\n",
      "video 1/1 (1291/1341) C:\\Users\\Alexkoh\\Desktop\\Footfallcam\\sample.mp4: 480x640 (no detections), 5.0ms\n",
      "video 1/1 (1292/1341) C:\\Users\\Alexkoh\\Desktop\\Footfallcam\\sample.mp4: 480x640 (no detections), 5.0ms\n",
      "video 1/1 (1293/1341) C:\\Users\\Alexkoh\\Desktop\\Footfallcam\\sample.mp4: 480x640 (no detections), 5.0ms\n",
      "video 1/1 (1294/1341) C:\\Users\\Alexkoh\\Desktop\\Footfallcam\\sample.mp4: 480x640 (no detections), 5.0ms\n",
      "video 1/1 (1295/1341) C:\\Users\\Alexkoh\\Desktop\\Footfallcam\\sample.mp4: 480x640 (no detections), 5.0ms\n",
      "video 1/1 (1296/1341) C:\\Users\\Alexkoh\\Desktop\\Footfallcam\\sample.mp4: 480x640 (no detections), 5.0ms\n",
      "video 1/1 (1297/1341) C:\\Users\\Alexkoh\\Desktop\\Footfallcam\\sample.mp4: 480x640 (no detections), 5.0ms\n",
      "video 1/1 (1298/1341) C:\\Users\\Alexkoh\\Desktop\\Footfallcam\\sample.mp4: 480x640 (no detections), 5.0ms\n",
      "video 1/1 (1299/1341) C:\\Users\\Alexkoh\\Desktop\\Footfallcam\\sample.mp4: 480x640 (no detections), 5.0ms\n",
      "video 1/1 (1300/1341) C:\\Users\\Alexkoh\\Desktop\\Footfallcam\\sample.mp4: 480x640 (no detections), 5.0ms\n",
      "video 1/1 (1301/1341) C:\\Users\\Alexkoh\\Desktop\\Footfallcam\\sample.mp4: 480x640 (no detections), 6.0ms\n",
      "video 1/1 (1302/1341) C:\\Users\\Alexkoh\\Desktop\\Footfallcam\\sample.mp4: 480x640 (no detections), 5.0ms\n",
      "video 1/1 (1303/1341) C:\\Users\\Alexkoh\\Desktop\\Footfallcam\\sample.mp4: 480x640 (no detections), 5.0ms\n",
      "video 1/1 (1304/1341) C:\\Users\\Alexkoh\\Desktop\\Footfallcam\\sample.mp4: 480x640 (no detections), 5.0ms\n",
      "video 1/1 (1305/1341) C:\\Users\\Alexkoh\\Desktop\\Footfallcam\\sample.mp4: 480x640 (no detections), 5.0ms\n",
      "video 1/1 (1306/1341) C:\\Users\\Alexkoh\\Desktop\\Footfallcam\\sample.mp4: 480x640 (no detections), 5.0ms\n",
      "video 1/1 (1307/1341) C:\\Users\\Alexkoh\\Desktop\\Footfallcam\\sample.mp4: 480x640 (no detections), 6.0ms\n",
      "video 1/1 (1308/1341) C:\\Users\\Alexkoh\\Desktop\\Footfallcam\\sample.mp4: 480x640 (no detections), 5.0ms\n",
      "video 1/1 (1309/1341) C:\\Users\\Alexkoh\\Desktop\\Footfallcam\\sample.mp4: 480x640 (no detections), 6.0ms\n",
      "video 1/1 (1310/1341) C:\\Users\\Alexkoh\\Desktop\\Footfallcam\\sample.mp4: 480x640 (no detections), 5.0ms\n",
      "video 1/1 (1311/1341) C:\\Users\\Alexkoh\\Desktop\\Footfallcam\\sample.mp4: 480x640 (no detections), 5.0ms\n",
      "video 1/1 (1312/1341) C:\\Users\\Alexkoh\\Desktop\\Footfallcam\\sample.mp4: 480x640 (no detections), 6.0ms\n",
      "video 1/1 (1313/1341) C:\\Users\\Alexkoh\\Desktop\\Footfallcam\\sample.mp4: 480x640 (no detections), 5.0ms\n",
      "video 1/1 (1314/1341) C:\\Users\\Alexkoh\\Desktop\\Footfallcam\\sample.mp4: 480x640 (no detections), 5.0ms\n",
      "video 1/1 (1315/1341) C:\\Users\\Alexkoh\\Desktop\\Footfallcam\\sample.mp4: 480x640 (no detections), 5.0ms\n",
      "video 1/1 (1316/1341) C:\\Users\\Alexkoh\\Desktop\\Footfallcam\\sample.mp4: 480x640 (no detections), 5.0ms\n",
      "video 1/1 (1317/1341) C:\\Users\\Alexkoh\\Desktop\\Footfallcam\\sample.mp4: 480x640 (no detections), 6.0ms\n",
      "video 1/1 (1318/1341) C:\\Users\\Alexkoh\\Desktop\\Footfallcam\\sample.mp4: 480x640 (no detections), 5.0ms\n",
      "video 1/1 (1319/1341) C:\\Users\\Alexkoh\\Desktop\\Footfallcam\\sample.mp4: 480x640 (no detections), 6.0ms\n",
      "video 1/1 (1320/1341) C:\\Users\\Alexkoh\\Desktop\\Footfallcam\\sample.mp4: 480x640 (no detections), 5.0ms\n",
      "video 1/1 (1321/1341) C:\\Users\\Alexkoh\\Desktop\\Footfallcam\\sample.mp4: 480x640 (no detections), 5.0ms\n",
      "video 1/1 (1322/1341) C:\\Users\\Alexkoh\\Desktop\\Footfallcam\\sample.mp4: 480x640 (no detections), 5.0ms\n",
      "video 1/1 (1323/1341) C:\\Users\\Alexkoh\\Desktop\\Footfallcam\\sample.mp4: 480x640 (no detections), 5.0ms\n",
      "video 1/1 (1324/1341) C:\\Users\\Alexkoh\\Desktop\\Footfallcam\\sample.mp4: 480x640 (no detections), 5.0ms\n",
      "video 1/1 (1325/1341) C:\\Users\\Alexkoh\\Desktop\\Footfallcam\\sample.mp4: 480x640 (no detections), 6.0ms\n",
      "video 1/1 (1326/1341) C:\\Users\\Alexkoh\\Desktop\\Footfallcam\\sample.mp4: 480x640 (no detections), 5.0ms\n",
      "video 1/1 (1327/1341) C:\\Users\\Alexkoh\\Desktop\\Footfallcam\\sample.mp4: 480x640 (no detections), 5.0ms\n",
      "video 1/1 (1328/1341) C:\\Users\\Alexkoh\\Desktop\\Footfallcam\\sample.mp4: 480x640 (no detections), 5.0ms\n",
      "video 1/1 (1329/1341) C:\\Users\\Alexkoh\\Desktop\\Footfallcam\\sample.mp4: 480x640 (no detections), 5.0ms\n",
      "video 1/1 (1330/1341) C:\\Users\\Alexkoh\\Desktop\\Footfallcam\\sample.mp4: 480x640 (no detections), 5.0ms\n",
      "video 1/1 (1331/1341) C:\\Users\\Alexkoh\\Desktop\\Footfallcam\\sample.mp4: 480x640 (no detections), 6.0ms\n",
      "video 1/1 (1332/1341) C:\\Users\\Alexkoh\\Desktop\\Footfallcam\\sample.mp4: 480x640 (no detections), 5.0ms\n",
      "video 1/1 (1333/1341) C:\\Users\\Alexkoh\\Desktop\\Footfallcam\\sample.mp4: 480x640 (no detections), 5.0ms\n",
      "video 1/1 (1334/1341) C:\\Users\\Alexkoh\\Desktop\\Footfallcam\\sample.mp4: 480x640 (no detections), 5.0ms\n",
      "video 1/1 (1335/1341) C:\\Users\\Alexkoh\\Desktop\\Footfallcam\\sample.mp4: 480x640 (no detections), 5.0ms\n",
      "video 1/1 (1336/1341) C:\\Users\\Alexkoh\\Desktop\\Footfallcam\\sample.mp4: 480x640 (no detections), 6.0ms\n",
      "video 1/1 (1337/1341) C:\\Users\\Alexkoh\\Desktop\\Footfallcam\\sample.mp4: 480x640 (no detections), 6.0ms\n",
      "video 1/1 (1338/1341) C:\\Users\\Alexkoh\\Desktop\\Footfallcam\\sample.mp4: 480x640 (no detections), 6.0ms\n",
      "video 1/1 (1339/1341) C:\\Users\\Alexkoh\\Desktop\\Footfallcam\\sample.mp4: 480x640 (no detections), 5.0ms\n",
      "video 1/1 (1340/1341) C:\\Users\\Alexkoh\\Desktop\\Footfallcam\\sample.mp4: 480x640 (no detections), 5.0ms\n",
      "video 1/1 (1341/1341) C:\\Users\\Alexkoh\\Desktop\\Footfallcam\\sample.mp4: 480x640 (no detections), 5.0ms\n",
      "Speed: 1.6ms preprocess, 5.5ms inference, 0.5ms postprocess per image at shape (1, 3, 480, 640)\n"
     ]
    }
   ],
   "source": [
    "import cv2\n",
    "from ultralytics import YOLO\n",
    "\n",
    "# Load a pretrained YOLOv8n model\n",
    "model = YOLO('best.pt')  # Replace with your model path\n",
    "\n",
    "# Define path to video file\n",
    "source = 'sample.mp4'  # Replace with your video path\n",
    "\n",
    "# Run inference on the source\n",
    "results = model(source, stream=True)  # generator of Results objects\n",
    "\n",
    "# Iterate over each frame's results\n",
    "for result in results:\n",
    "    frame = result.orig_img\n",
    "    for box in result.boxes:\n",
    "        # Extract box coordinates from the xyxy tensor\n",
    "        x1, y1, x2, y2 = box.xyxy.cpu().numpy()[0]  # Extract the first row of the tensor\n",
    "        label = result.names[int(box.cls)]\n",
    "        conf = box.conf.cpu().numpy()[0]\n",
    "\n",
    "        # Draw rectangle and label\n",
    "        cv2.rectangle(frame, (int(x1), int(y1)), (int(x2), int(y2)), (0, 255, 0), 2)\n",
    "        cv2.putText(frame, f'{label} {conf:.2f}', (int(x1), int(y1) - 10), cv2.FONT_HERSHEY_SIMPLEX, 0.5, (0, 255, 0), 2)\n",
    "\n",
    "    # Display the frame\n",
    "    cv2.imshow('YOLOv8 Detection', frame)\n",
    "    if cv2.waitKey(1) & 0xFF == ord('q'):\n",
    "        break\n",
    "\n",
    "cv2.destroyAllWindows()"
   ]
  },
  {
   "cell_type": "code",
   "execution_count": 4,
   "id": "281be821-cc84-495d-8c83-b33424ecea66",
   "metadata": {},
   "outputs": [
    {
     "name": "stdout",
     "output_type": "stream",
     "text": [
      "\n",
      "\n",
      "video 1/1 (1/1341) C:\\Users\\Alexkoh\\Desktop\\Footfallcam\\sample.mp4: 480x640 1 chair, 38.0ms\n",
      "video 1/1 (1/1341) C:\\Users\\Alexkoh\\Desktop\\Footfallcam\\sample.mp4: 480x640 (no detections), 7.0ms\n",
      "video 1/1 (2/1341) C:\\Users\\Alexkoh\\Desktop\\Footfallcam\\sample.mp4: 480x640 1 chair, 6.0ms\n",
      "video 1/1 (2/1341) C:\\Users\\Alexkoh\\Desktop\\Footfallcam\\sample.mp4: 480x640 (no detections), 6.0ms\n",
      "video 1/1 (3/1341) C:\\Users\\Alexkoh\\Desktop\\Footfallcam\\sample.mp4: 480x640 1 chair, 6.0ms\n",
      "video 1/1 (3/1341) C:\\Users\\Alexkoh\\Desktop\\Footfallcam\\sample.mp4: 480x640 (no detections), 5.0ms\n",
      "video 1/1 (4/1341) C:\\Users\\Alexkoh\\Desktop\\Footfallcam\\sample.mp4: 480x640 1 motorcycle, 2 chairs, 1 tv, 6.0ms\n",
      "video 1/1 (4/1341) C:\\Users\\Alexkoh\\Desktop\\Footfallcam\\sample.mp4: 480x640 (no detections), 6.0ms\n",
      "video 1/1 (5/1341) C:\\Users\\Alexkoh\\Desktop\\Footfallcam\\sample.mp4: 480x640 1 motorcycle, 2 chairs, 1 tv, 6.0ms\n",
      "video 1/1 (5/1341) C:\\Users\\Alexkoh\\Desktop\\Footfallcam\\sample.mp4: 480x640 (no detections), 7.0ms\n",
      "video 1/1 (6/1341) C:\\Users\\Alexkoh\\Desktop\\Footfallcam\\sample.mp4: 480x640 2 chairs, 1 tv, 6.0ms\n",
      "video 1/1 (6/1341) C:\\Users\\Alexkoh\\Desktop\\Footfallcam\\sample.mp4: 480x640 (no detections), 7.0ms\n",
      "video 1/1 (7/1341) C:\\Users\\Alexkoh\\Desktop\\Footfallcam\\sample.mp4: 480x640 1 chair, 1 tv, 6.0ms\n",
      "video 1/1 (7/1341) C:\\Users\\Alexkoh\\Desktop\\Footfallcam\\sample.mp4: 480x640 (no detections), 7.0ms\n",
      "video 1/1 (8/1341) C:\\Users\\Alexkoh\\Desktop\\Footfallcam\\sample.mp4: 480x640 1 chair, 1 tv, 7.0ms\n",
      "video 1/1 (8/1341) C:\\Users\\Alexkoh\\Desktop\\Footfallcam\\sample.mp4: 480x640 (no detections), 9.0ms\n",
      "video 1/1 (9/1341) C:\\Users\\Alexkoh\\Desktop\\Footfallcam\\sample.mp4: 480x640 1 chair, 1 tv, 7.0ms\n",
      "video 1/1 (9/1341) C:\\Users\\Alexkoh\\Desktop\\Footfallcam\\sample.mp4: 480x640 (no detections), 5.0ms\n",
      "video 1/1 (10/1341) C:\\Users\\Alexkoh\\Desktop\\Footfallcam\\sample.mp4: 480x640 1 person, 1 chair, 1 tv, 7.0ms\n",
      "video 1/1 (10/1341) C:\\Users\\Alexkoh\\Desktop\\Footfallcam\\sample.mp4: 480x640 (no detections), 6.0ms\n",
      "video 1/1 (11/1341) C:\\Users\\Alexkoh\\Desktop\\Footfallcam\\sample.mp4: 480x640 1 person, 2 chairs, 1 tv, 6.0ms\n",
      "video 1/1 (11/1341) C:\\Users\\Alexkoh\\Desktop\\Footfallcam\\sample.mp4: 480x640 (no detections), 6.0ms\n",
      "video 1/1 (12/1341) C:\\Users\\Alexkoh\\Desktop\\Footfallcam\\sample.mp4: 480x640 1 person, 2 chairs, 1 tv, 6.0ms\n",
      "video 1/1 (12/1341) C:\\Users\\Alexkoh\\Desktop\\Footfallcam\\sample.mp4: 480x640 (no detections), 6.0ms\n",
      "video 1/1 (13/1341) C:\\Users\\Alexkoh\\Desktop\\Footfallcam\\sample.mp4: 480x640 1 person, 2 chairs, 6.0ms\n",
      "video 1/1 (13/1341) C:\\Users\\Alexkoh\\Desktop\\Footfallcam\\sample.mp4: 480x640 (no detections), 6.0ms\n",
      "video 1/1 (14/1341) C:\\Users\\Alexkoh\\Desktop\\Footfallcam\\sample.mp4: 480x640 2 chairs, 1 tv, 5.0ms\n",
      "video 1/1 (14/1341) C:\\Users\\Alexkoh\\Desktop\\Footfallcam\\sample.mp4: 480x640 (no detections), 6.0ms\n",
      "video 1/1 (15/1341) C:\\Users\\Alexkoh\\Desktop\\Footfallcam\\sample.mp4: 480x640 2 chairs, 5.0ms\n",
      "video 1/1 (15/1341) C:\\Users\\Alexkoh\\Desktop\\Footfallcam\\sample.mp4: 480x640 (no detections), 6.0ms\n",
      "video 1/1 (16/1341) C:\\Users\\Alexkoh\\Desktop\\Footfallcam\\sample.mp4: 480x640 2 chairs, 5.0ms\n",
      "video 1/1 (16/1341) C:\\Users\\Alexkoh\\Desktop\\Footfallcam\\sample.mp4: 480x640 (no detections), 6.0ms\n",
      "video 1/1 (17/1341) C:\\Users\\Alexkoh\\Desktop\\Footfallcam\\sample.mp4: 480x640 2 chairs, 6.0ms\n",
      "video 1/1 (17/1341) C:\\Users\\Alexkoh\\Desktop\\Footfallcam\\sample.mp4: 480x640 (no detections), 6.0ms\n",
      "video 1/1 (18/1341) C:\\Users\\Alexkoh\\Desktop\\Footfallcam\\sample.mp4: 480x640 1 person, 2 chairs, 6.0ms\n",
      "video 1/1 (18/1341) C:\\Users\\Alexkoh\\Desktop\\Footfallcam\\sample.mp4: 480x640 (no detections), 6.0ms\n",
      "video 1/1 (19/1341) C:\\Users\\Alexkoh\\Desktop\\Footfallcam\\sample.mp4: 480x640 3 chairs, 7.0ms\n",
      "video 1/1 (19/1341) C:\\Users\\Alexkoh\\Desktop\\Footfallcam\\sample.mp4: 480x640 (no detections), 5.0ms\n",
      "video 1/1 (20/1341) C:\\Users\\Alexkoh\\Desktop\\Footfallcam\\sample.mp4: 480x640 2 chairs, 8.0ms\n",
      "video 1/1 (20/1341) C:\\Users\\Alexkoh\\Desktop\\Footfallcam\\sample.mp4: 480x640 (no detections), 5.0ms\n",
      "video 1/1 (21/1341) C:\\Users\\Alexkoh\\Desktop\\Footfallcam\\sample.mp4: 480x640 3 chairs, 8.0ms\n",
      "video 1/1 (21/1341) C:\\Users\\Alexkoh\\Desktop\\Footfallcam\\sample.mp4: 480x640 (no detections), 5.0ms\n",
      "video 1/1 (22/1341) C:\\Users\\Alexkoh\\Desktop\\Footfallcam\\sample.mp4: 480x640 3 chairs, 6.0ms\n",
      "video 1/1 (22/1341) C:\\Users\\Alexkoh\\Desktop\\Footfallcam\\sample.mp4: 480x640 (no detections), 6.0ms\n",
      "video 1/1 (23/1341) C:\\Users\\Alexkoh\\Desktop\\Footfallcam\\sample.mp4: 480x640 3 chairs, 6.0ms\n",
      "video 1/1 (23/1341) C:\\Users\\Alexkoh\\Desktop\\Footfallcam\\sample.mp4: 480x640 (no detections), 7.0ms\n",
      "video 1/1 (24/1341) C:\\Users\\Alexkoh\\Desktop\\Footfallcam\\sample.mp4: 480x640 2 chairs, 6.0ms\n",
      "video 1/1 (24/1341) C:\\Users\\Alexkoh\\Desktop\\Footfallcam\\sample.mp4: 480x640 (no detections), 5.0ms\n",
      "video 1/1 (25/1341) C:\\Users\\Alexkoh\\Desktop\\Footfallcam\\sample.mp4: 480x640 1 person, 2 chairs, 5.0ms\n",
      "video 1/1 (25/1341) C:\\Users\\Alexkoh\\Desktop\\Footfallcam\\sample.mp4: 480x640 (no detections), 7.0ms\n",
      "video 1/1 (26/1341) C:\\Users\\Alexkoh\\Desktop\\Footfallcam\\sample.mp4: 480x640 1 person, 2 chairs, 1 tv, 5.0ms\n",
      "video 1/1 (26/1341) C:\\Users\\Alexkoh\\Desktop\\Footfallcam\\sample.mp4: 480x640 (no detections), 7.0ms\n",
      "video 1/1 (27/1341) C:\\Users\\Alexkoh\\Desktop\\Footfallcam\\sample.mp4: 480x640 2 persons, 3 chairs, 6.0ms\n",
      "video 1/1 (27/1341) C:\\Users\\Alexkoh\\Desktop\\Footfallcam\\sample.mp4: 480x640 (no detections), 6.0ms\n",
      "video 1/1 (28/1341) C:\\Users\\Alexkoh\\Desktop\\Footfallcam\\sample.mp4: 480x640 2 chairs, 6.0ms\n",
      "video 1/1 (28/1341) C:\\Users\\Alexkoh\\Desktop\\Footfallcam\\sample.mp4: 480x640 (no detections), 6.0ms\n",
      "video 1/1 (29/1341) C:\\Users\\Alexkoh\\Desktop\\Footfallcam\\sample.mp4: 480x640 1 person, 2 chairs, 1 tv, 7.0ms\n",
      "video 1/1 (29/1341) C:\\Users\\Alexkoh\\Desktop\\Footfallcam\\sample.mp4: 480x640 (no detections), 6.0ms\n",
      "video 1/1 (30/1341) C:\\Users\\Alexkoh\\Desktop\\Footfallcam\\sample.mp4: 480x640 1 person, 3 chairs, 1 tv, 7.0ms\n",
      "video 1/1 (30/1341) C:\\Users\\Alexkoh\\Desktop\\Footfallcam\\sample.mp4: 480x640 (no detections), 5.0ms\n",
      "video 1/1 (31/1341) C:\\Users\\Alexkoh\\Desktop\\Footfallcam\\sample.mp4: 480x640 1 person, 3 chairs, 1 tv, 7.0ms\n",
      "video 1/1 (31/1341) C:\\Users\\Alexkoh\\Desktop\\Footfallcam\\sample.mp4: 480x640 (no detections), 6.0ms\n",
      "video 1/1 (32/1341) C:\\Users\\Alexkoh\\Desktop\\Footfallcam\\sample.mp4: 480x640 1 person, 3 chairs, 1 tv, 6.0ms\n",
      "video 1/1 (32/1341) C:\\Users\\Alexkoh\\Desktop\\Footfallcam\\sample.mp4: 480x640 (no detections), 6.0ms\n",
      "video 1/1 (33/1341) C:\\Users\\Alexkoh\\Desktop\\Footfallcam\\sample.mp4: 480x640 1 person, 3 chairs, 1 tv, 6.0ms\n",
      "video 1/1 (33/1341) C:\\Users\\Alexkoh\\Desktop\\Footfallcam\\sample.mp4: 480x640 (no detections), 5.0ms\n",
      "video 1/1 (34/1341) C:\\Users\\Alexkoh\\Desktop\\Footfallcam\\sample.mp4: 480x640 1 person, 3 chairs, 1 tv, 6.0ms\n",
      "video 1/1 (34/1341) C:\\Users\\Alexkoh\\Desktop\\Footfallcam\\sample.mp4: 480x640 (no detections), 5.0ms\n",
      "video 1/1 (35/1341) C:\\Users\\Alexkoh\\Desktop\\Footfallcam\\sample.mp4: 480x640 2 persons, 3 chairs, 1 tv, 5.0ms\n",
      "video 1/1 (35/1341) C:\\Users\\Alexkoh\\Desktop\\Footfallcam\\sample.mp4: 480x640 (no detections), 6.0ms\n",
      "video 1/1 (36/1341) C:\\Users\\Alexkoh\\Desktop\\Footfallcam\\sample.mp4: 480x640 1 person, 3 chairs, 1 tv, 6.0ms\n",
      "video 1/1 (36/1341) C:\\Users\\Alexkoh\\Desktop\\Footfallcam\\sample.mp4: 480x640 (no detections), 6.0ms\n",
      "video 1/1 (37/1341) C:\\Users\\Alexkoh\\Desktop\\Footfallcam\\sample.mp4: 480x640 1 person, 2 chairs, 1 tv, 5.0ms\n",
      "video 1/1 (37/1341) C:\\Users\\Alexkoh\\Desktop\\Footfallcam\\sample.mp4: 480x640 (no detections), 6.0ms\n",
      "video 1/1 (38/1341) C:\\Users\\Alexkoh\\Desktop\\Footfallcam\\sample.mp4: 480x640 2 chairs, 1 tv, 6.0ms\n",
      "video 1/1 (38/1341) C:\\Users\\Alexkoh\\Desktop\\Footfallcam\\sample.mp4: 480x640 (no detections), 6.0ms\n",
      "video 1/1 (39/1341) C:\\Users\\Alexkoh\\Desktop\\Footfallcam\\sample.mp4: 480x640 1 person, 4 chairs, 1 tv, 6.0ms\n",
      "video 1/1 (39/1341) C:\\Users\\Alexkoh\\Desktop\\Footfallcam\\sample.mp4: 480x640 (no detections), 6.0ms\n",
      "video 1/1 (40/1341) C:\\Users\\Alexkoh\\Desktop\\Footfallcam\\sample.mp4: 480x640 1 person, 3 chairs, 1 tv, 6.0ms\n",
      "video 1/1 (40/1341) C:\\Users\\Alexkoh\\Desktop\\Footfallcam\\sample.mp4: 480x640 (no detections), 8.0ms\n",
      "video 1/1 (41/1341) C:\\Users\\Alexkoh\\Desktop\\Footfallcam\\sample.mp4: 480x640 1 person, 3 chairs, 1 tv, 7.0ms\n",
      "video 1/1 (41/1341) C:\\Users\\Alexkoh\\Desktop\\Footfallcam\\sample.mp4: 480x640 (no detections), 5.0ms\n",
      "video 1/1 (42/1341) C:\\Users\\Alexkoh\\Desktop\\Footfallcam\\sample.mp4: 480x640 1 person, 5 chairs, 1 tv, 7.0ms\n",
      "video 1/1 (42/1341) C:\\Users\\Alexkoh\\Desktop\\Footfallcam\\sample.mp4: 480x640 (no detections), 6.0ms\n",
      "video 1/1 (43/1341) C:\\Users\\Alexkoh\\Desktop\\Footfallcam\\sample.mp4: 480x640 1 person, 3 chairs, 1 tv, 7.0ms\n",
      "video 1/1 (43/1341) C:\\Users\\Alexkoh\\Desktop\\Footfallcam\\sample.mp4: 480x640 (no detections), 5.0ms\n",
      "video 1/1 (44/1341) C:\\Users\\Alexkoh\\Desktop\\Footfallcam\\sample.mp4: 480x640 1 person, 3 chairs, 1 tv, 6.0ms\n",
      "video 1/1 (44/1341) C:\\Users\\Alexkoh\\Desktop\\Footfallcam\\sample.mp4: 480x640 (no detections), 6.0ms\n",
      "video 1/1 (45/1341) C:\\Users\\Alexkoh\\Desktop\\Footfallcam\\sample.mp4: 480x640 1 person, 2 chairs, 1 tv, 5.0ms\n",
      "video 1/1 (45/1341) C:\\Users\\Alexkoh\\Desktop\\Footfallcam\\sample.mp4: 480x640 (no detections), 6.0ms\n",
      "video 1/1 (46/1341) C:\\Users\\Alexkoh\\Desktop\\Footfallcam\\sample.mp4: 480x640 3 persons, 3 chairs, 1 tv, 6.0ms\n",
      "video 1/1 (46/1341) C:\\Users\\Alexkoh\\Desktop\\Footfallcam\\sample.mp4: 480x640 (no detections), 5.0ms\n",
      "video 1/1 (47/1341) C:\\Users\\Alexkoh\\Desktop\\Footfallcam\\sample.mp4: 480x640 2 persons, 4 chairs, 1 tv, 5.0ms\n",
      "video 1/1 (47/1341) C:\\Users\\Alexkoh\\Desktop\\Footfallcam\\sample.mp4: 480x640 (no detections), 7.0ms\n",
      "video 1/1 (48/1341) C:\\Users\\Alexkoh\\Desktop\\Footfallcam\\sample.mp4: 480x640 2 persons, 4 chairs, 1 tv, 6.0ms\n",
      "video 1/1 (48/1341) C:\\Users\\Alexkoh\\Desktop\\Footfallcam\\sample.mp4: 480x640 (no detections), 7.0ms\n",
      "video 1/1 (49/1341) C:\\Users\\Alexkoh\\Desktop\\Footfallcam\\sample.mp4: 480x640 2 persons, 3 chairs, 1 tv, 6.0ms\n",
      "video 1/1 (49/1341) C:\\Users\\Alexkoh\\Desktop\\Footfallcam\\sample.mp4: 480x640 (no detections), 5.0ms\n",
      "video 1/1 (50/1341) C:\\Users\\Alexkoh\\Desktop\\Footfallcam\\sample.mp4: 480x640 3 persons, 4 chairs, 1 tv, 5.0ms\n",
      "video 1/1 (50/1341) C:\\Users\\Alexkoh\\Desktop\\Footfallcam\\sample.mp4: 480x640 (no detections), 6.0ms\n",
      "video 1/1 (51/1341) C:\\Users\\Alexkoh\\Desktop\\Footfallcam\\sample.mp4: 480x640 3 persons, 5 chairs, 1 tv, 5.0ms\n",
      "video 1/1 (51/1341) C:\\Users\\Alexkoh\\Desktop\\Footfallcam\\sample.mp4: 480x640 (no detections), 7.0ms\n",
      "video 1/1 (52/1341) C:\\Users\\Alexkoh\\Desktop\\Footfallcam\\sample.mp4: 480x640 1 person, 3 chairs, 1 tv, 7.0ms\n",
      "video 1/1 (52/1341) C:\\Users\\Alexkoh\\Desktop\\Footfallcam\\sample.mp4: 480x640 (no detections), 5.0ms\n",
      "video 1/1 (53/1341) C:\\Users\\Alexkoh\\Desktop\\Footfallcam\\sample.mp4: 480x640 1 person, 2 chairs, 1 tv, 7.0ms\n",
      "video 1/1 (53/1341) C:\\Users\\Alexkoh\\Desktop\\Footfallcam\\sample.mp4: 480x640 (no detections), 5.0ms\n",
      "video 1/1 (54/1341) C:\\Users\\Alexkoh\\Desktop\\Footfallcam\\sample.mp4: 480x640 2 persons, 4 chairs, 1 tv, 7.0ms\n",
      "video 1/1 (54/1341) C:\\Users\\Alexkoh\\Desktop\\Footfallcam\\sample.mp4: 480x640 (no detections), 6.0ms\n",
      "video 1/1 (55/1341) C:\\Users\\Alexkoh\\Desktop\\Footfallcam\\sample.mp4: 480x640 2 persons, 4 chairs, 1 tv, 8.0ms\n",
      "video 1/1 (55/1341) C:\\Users\\Alexkoh\\Desktop\\Footfallcam\\sample.mp4: 480x640 (no detections), 6.0ms\n",
      "video 1/1 (56/1341) C:\\Users\\Alexkoh\\Desktop\\Footfallcam\\sample.mp4: 480x640 2 persons, 3 chairs, 1 tv, 6.0ms\n",
      "video 1/1 (56/1341) C:\\Users\\Alexkoh\\Desktop\\Footfallcam\\sample.mp4: 480x640 (no detections), 6.0ms\n",
      "video 1/1 (57/1341) C:\\Users\\Alexkoh\\Desktop\\Footfallcam\\sample.mp4: 480x640 1 person, 2 chairs, 1 tv, 6.0ms\n",
      "video 1/1 (57/1341) C:\\Users\\Alexkoh\\Desktop\\Footfallcam\\sample.mp4: 480x640 (no detections), 6.0ms\n",
      "video 1/1 (58/1341) C:\\Users\\Alexkoh\\Desktop\\Footfallcam\\sample.mp4: 480x640 1 person, 2 chairs, 1 tv, 6.0ms\n",
      "video 1/1 (58/1341) C:\\Users\\Alexkoh\\Desktop\\Footfallcam\\sample.mp4: 480x640 (no detections), 6.0ms\n",
      "video 1/1 (59/1341) C:\\Users\\Alexkoh\\Desktop\\Footfallcam\\sample.mp4: 480x640 1 person, 2 chairs, 1 tv, 6.0ms\n",
      "video 1/1 (59/1341) C:\\Users\\Alexkoh\\Desktop\\Footfallcam\\sample.mp4: 480x640 (no detections), 5.0ms\n",
      "video 1/1 (60/1341) C:\\Users\\Alexkoh\\Desktop\\Footfallcam\\sample.mp4: 480x640 1 person, 2 chairs, 1 tv, 6.0ms\n",
      "video 1/1 (60/1341) C:\\Users\\Alexkoh\\Desktop\\Footfallcam\\sample.mp4: 480x640 (no detections), 6.0ms\n",
      "video 1/1 (61/1341) C:\\Users\\Alexkoh\\Desktop\\Footfallcam\\sample.mp4: 480x640 1 motorcycle, 4 chairs, 6.0ms\n",
      "video 1/1 (61/1341) C:\\Users\\Alexkoh\\Desktop\\Footfallcam\\sample.mp4: 480x640 (no detections), 6.0ms\n",
      "video 1/1 (62/1341) C:\\Users\\Alexkoh\\Desktop\\Footfallcam\\sample.mp4: 480x640 5 chairs, 6.0ms\n",
      "video 1/1 (62/1341) C:\\Users\\Alexkoh\\Desktop\\Footfallcam\\sample.mp4: 480x640 (no detections), 6.0ms\n",
      "video 1/1 (63/1341) C:\\Users\\Alexkoh\\Desktop\\Footfallcam\\sample.mp4: 480x640 1 person, 5 chairs, 6.0ms\n",
      "video 1/1 (63/1341) C:\\Users\\Alexkoh\\Desktop\\Footfallcam\\sample.mp4: 480x640 (no detections), 6.0ms\n",
      "video 1/1 (64/1341) C:\\Users\\Alexkoh\\Desktop\\Footfallcam\\sample.mp4: 480x640 5 chairs, 6.0ms\n",
      "video 1/1 (64/1341) C:\\Users\\Alexkoh\\Desktop\\Footfallcam\\sample.mp4: 480x640 (no detections), 6.0ms\n",
      "video 1/1 (65/1341) C:\\Users\\Alexkoh\\Desktop\\Footfallcam\\sample.mp4: 480x640 1 motorcycle, 5 chairs, 6.0ms\n",
      "video 1/1 (65/1341) C:\\Users\\Alexkoh\\Desktop\\Footfallcam\\sample.mp4: 480x640 (no detections), 6.0ms\n",
      "video 1/1 (66/1341) C:\\Users\\Alexkoh\\Desktop\\Footfallcam\\sample.mp4: 480x640 1 motorcycle, 5 chairs, 6.0ms\n",
      "video 1/1 (66/1341) C:\\Users\\Alexkoh\\Desktop\\Footfallcam\\sample.mp4: 480x640 (no detections), 6.0ms\n",
      "video 1/1 (67/1341) C:\\Users\\Alexkoh\\Desktop\\Footfallcam\\sample.mp4: 480x640 1 motorcycle, 7 chairs, 6.0ms\n",
      "video 1/1 (67/1341) C:\\Users\\Alexkoh\\Desktop\\Footfallcam\\sample.mp4: 480x640 (no detections), 6.0ms\n",
      "video 1/1 (68/1341) C:\\Users\\Alexkoh\\Desktop\\Footfallcam\\sample.mp4: 480x640 1 person, 1 motorcycle, 7 chairs, 6.0ms\n",
      "video 1/1 (68/1341) C:\\Users\\Alexkoh\\Desktop\\Footfallcam\\sample.mp4: 480x640 (no detections), 7.0ms\n",
      "video 1/1 (69/1341) C:\\Users\\Alexkoh\\Desktop\\Footfallcam\\sample.mp4: 480x640 2 persons, 1 motorcycle, 7 chairs, 5.0ms\n",
      "video 1/1 (69/1341) C:\\Users\\Alexkoh\\Desktop\\Footfallcam\\sample.mp4: 480x640 (no detections), 5.0ms\n",
      "video 1/1 (70/1341) C:\\Users\\Alexkoh\\Desktop\\Footfallcam\\sample.mp4: 480x640 1 person, 1 motorcycle, 6 chairs, 6.0ms\n",
      "video 1/1 (70/1341) C:\\Users\\Alexkoh\\Desktop\\Footfallcam\\sample.mp4: 480x640 (no detections), 6.0ms\n",
      "video 1/1 (71/1341) C:\\Users\\Alexkoh\\Desktop\\Footfallcam\\sample.mp4: 480x640 1 motorcycle, 5 chairs, 6.0ms\n",
      "video 1/1 (71/1341) C:\\Users\\Alexkoh\\Desktop\\Footfallcam\\sample.mp4: 480x640 (no detections), 6.0ms\n",
      "video 1/1 (72/1341) C:\\Users\\Alexkoh\\Desktop\\Footfallcam\\sample.mp4: 480x640 1 motorcycle, 5 chairs, 6.0ms\n",
      "video 1/1 (72/1341) C:\\Users\\Alexkoh\\Desktop\\Footfallcam\\sample.mp4: 480x640 (no detections), 6.0ms\n",
      "video 1/1 (73/1341) C:\\Users\\Alexkoh\\Desktop\\Footfallcam\\sample.mp4: 480x640 1 motorcycle, 6 chairs, 6.0ms\n",
      "video 1/1 (73/1341) C:\\Users\\Alexkoh\\Desktop\\Footfallcam\\sample.mp4: 480x640 (no detections), 6.0ms\n",
      "video 1/1 (74/1341) C:\\Users\\Alexkoh\\Desktop\\Footfallcam\\sample.mp4: 480x640 2 persons, 1 motorcycle, 6 chairs, 1 tv, 6.0ms\n",
      "video 1/1 (74/1341) C:\\Users\\Alexkoh\\Desktop\\Footfallcam\\sample.mp4: 480x640 (no detections), 6.0ms\n",
      "video 1/1 (75/1341) C:\\Users\\Alexkoh\\Desktop\\Footfallcam\\sample.mp4: 480x640 2 persons, 5 chairs, 1 tv, 6.0ms\n",
      "video 1/1 (75/1341) C:\\Users\\Alexkoh\\Desktop\\Footfallcam\\sample.mp4: 480x640 (no detections), 6.0ms\n",
      "video 1/1 (76/1341) C:\\Users\\Alexkoh\\Desktop\\Footfallcam\\sample.mp4: 480x640 2 persons, 5 chairs, 1 tv, 6.0ms\n",
      "video 1/1 (76/1341) C:\\Users\\Alexkoh\\Desktop\\Footfallcam\\sample.mp4: 480x640 (no detections), 7.0ms\n",
      "video 1/1 (77/1341) C:\\Users\\Alexkoh\\Desktop\\Footfallcam\\sample.mp4: 480x640 2 persons, 1 motorcycle, 5 chairs, 6.0ms\n",
      "video 1/1 (77/1341) C:\\Users\\Alexkoh\\Desktop\\Footfallcam\\sample.mp4: 480x640 (no detections), 6.0ms\n",
      "video 1/1 (78/1341) C:\\Users\\Alexkoh\\Desktop\\Footfallcam\\sample.mp4: 480x640 2 persons, 1 motorcycle, 5 chairs, 6.0ms\n",
      "video 1/1 (78/1341) C:\\Users\\Alexkoh\\Desktop\\Footfallcam\\sample.mp4: 480x640 (no detections), 6.0ms\n",
      "video 1/1 (79/1341) C:\\Users\\Alexkoh\\Desktop\\Footfallcam\\sample.mp4: 480x640 2 persons, 1 motorcycle, 5 chairs, 1 tv, 8.0ms\n",
      "video 1/1 (79/1341) C:\\Users\\Alexkoh\\Desktop\\Footfallcam\\sample.mp4: 480x640 (no detections), 6.0ms\n",
      "video 1/1 (80/1341) C:\\Users\\Alexkoh\\Desktop\\Footfallcam\\sample.mp4: 480x640 2 persons, 1 motorcycle, 5 chairs, 6.0ms\n",
      "video 1/1 (80/1341) C:\\Users\\Alexkoh\\Desktop\\Footfallcam\\sample.mp4: 480x640 (no detections), 5.0ms\n",
      "video 1/1 (81/1341) C:\\Users\\Alexkoh\\Desktop\\Footfallcam\\sample.mp4: 480x640 1 person, 6 chairs, 7.0ms\n",
      "video 1/1 (81/1341) C:\\Users\\Alexkoh\\Desktop\\Footfallcam\\sample.mp4: 480x640 (no detections), 5.0ms\n",
      "video 1/1 (82/1341) C:\\Users\\Alexkoh\\Desktop\\Footfallcam\\sample.mp4: 480x640 2 persons, 6 chairs, 1 tv, 5.0ms\n",
      "video 1/1 (82/1341) C:\\Users\\Alexkoh\\Desktop\\Footfallcam\\sample.mp4: 480x640 (no detections), 6.0ms\n",
      "video 1/1 (83/1341) C:\\Users\\Alexkoh\\Desktop\\Footfallcam\\sample.mp4: 480x640 2 persons, 6 chairs, 1 tv, 6.0ms\n",
      "video 1/1 (83/1341) C:\\Users\\Alexkoh\\Desktop\\Footfallcam\\sample.mp4: 480x640 (no detections), 6.0ms\n",
      "video 1/1 (84/1341) C:\\Users\\Alexkoh\\Desktop\\Footfallcam\\sample.mp4: 480x640 2 persons, 6 chairs, 1 potted plant, 1 tv, 6.0ms\n",
      "video 1/1 (84/1341) C:\\Users\\Alexkoh\\Desktop\\Footfallcam\\sample.mp4: 480x640 (no detections), 5.0ms\n",
      "video 1/1 (85/1341) C:\\Users\\Alexkoh\\Desktop\\Footfallcam\\sample.mp4: 480x640 3 persons, 5 chairs, 1 potted plant, 1 tv, 6.0ms\n",
      "video 1/1 (85/1341) C:\\Users\\Alexkoh\\Desktop\\Footfallcam\\sample.mp4: 480x640 (no detections), 6.0ms\n",
      "video 1/1 (86/1341) C:\\Users\\Alexkoh\\Desktop\\Footfallcam\\sample.mp4: 480x640 4 persons, 5 chairs, 1 potted plant, 6.0ms\n",
      "video 1/1 (86/1341) C:\\Users\\Alexkoh\\Desktop\\Footfallcam\\sample.mp4: 480x640 (no detections), 6.0ms\n",
      "video 1/1 (87/1341) C:\\Users\\Alexkoh\\Desktop\\Footfallcam\\sample.mp4: 480x640 3 persons, 6 chairs, 1 potted plant, 1 tv, 6.0ms\n",
      "video 1/1 (87/1341) C:\\Users\\Alexkoh\\Desktop\\Footfallcam\\sample.mp4: 480x640 (no detections), 6.0ms\n",
      "video 1/1 (88/1341) C:\\Users\\Alexkoh\\Desktop\\Footfallcam\\sample.mp4: 480x640 3 persons, 5 chairs, 6.0ms\n",
      "video 1/1 (88/1341) C:\\Users\\Alexkoh\\Desktop\\Footfallcam\\sample.mp4: 480x640 (no detections), 7.0ms\n",
      "video 1/1 (89/1341) C:\\Users\\Alexkoh\\Desktop\\Footfallcam\\sample.mp4: 480x640 2 persons, 6 chairs, 6.0ms\n",
      "video 1/1 (89/1341) C:\\Users\\Alexkoh\\Desktop\\Footfallcam\\sample.mp4: 480x640 (no detections), 7.0ms\n",
      "video 1/1 (90/1341) C:\\Users\\Alexkoh\\Desktop\\Footfallcam\\sample.mp4: 480x640 3 persons, 6 chairs, 6.0ms\n",
      "video 1/1 (90/1341) C:\\Users\\Alexkoh\\Desktop\\Footfallcam\\sample.mp4: 480x640 (no detections), 6.0ms\n",
      "video 1/1 (91/1341) C:\\Users\\Alexkoh\\Desktop\\Footfallcam\\sample.mp4: 480x640 2 persons, 1 motorcycle, 6 chairs, 7.0ms\n",
      "video 1/1 (91/1341) C:\\Users\\Alexkoh\\Desktop\\Footfallcam\\sample.mp4: 480x640 (no detections), 5.0ms\n",
      "video 1/1 (92/1341) C:\\Users\\Alexkoh\\Desktop\\Footfallcam\\sample.mp4: 480x640 3 persons, 1 motorcycle, 6 chairs, 6.0ms\n",
      "video 1/1 (92/1341) C:\\Users\\Alexkoh\\Desktop\\Footfallcam\\sample.mp4: 480x640 (no detections), 6.0ms\n",
      "video 1/1 (93/1341) C:\\Users\\Alexkoh\\Desktop\\Footfallcam\\sample.mp4: 480x640 2 persons, 1 motorcycle, 5 chairs, 6.0ms\n",
      "video 1/1 (93/1341) C:\\Users\\Alexkoh\\Desktop\\Footfallcam\\sample.mp4: 480x640 (no detections), 6.0ms\n",
      "video 1/1 (94/1341) C:\\Users\\Alexkoh\\Desktop\\Footfallcam\\sample.mp4: 480x640 2 persons, 5 chairs, 6.0ms\n",
      "video 1/1 (94/1341) C:\\Users\\Alexkoh\\Desktop\\Footfallcam\\sample.mp4: 480x640 (no detections), 6.0ms\n",
      "video 1/1 (95/1341) C:\\Users\\Alexkoh\\Desktop\\Footfallcam\\sample.mp4: 480x640 3 persons, 6 chairs, 6.0ms\n",
      "video 1/1 (95/1341) C:\\Users\\Alexkoh\\Desktop\\Footfallcam\\sample.mp4: 480x640 (no detections), 5.0ms\n",
      "video 1/1 (96/1341) C:\\Users\\Alexkoh\\Desktop\\Footfallcam\\sample.mp4: 480x640 3 persons, 6 chairs, 6.0ms\n",
      "video 1/1 (96/1341) C:\\Users\\Alexkoh\\Desktop\\Footfallcam\\sample.mp4: 480x640 (no detections), 6.0ms\n",
      "video 1/1 (97/1341) C:\\Users\\Alexkoh\\Desktop\\Footfallcam\\sample.mp4: 480x640 2 persons, 5 chairs, 1 tv, 7.0ms\n",
      "video 1/1 (97/1341) C:\\Users\\Alexkoh\\Desktop\\Footfallcam\\sample.mp4: 480x640 (no detections), 6.0ms\n",
      "video 1/1 (98/1341) C:\\Users\\Alexkoh\\Desktop\\Footfallcam\\sample.mp4: 480x640 1 person, 5 chairs, 1 tv, 6.0ms\n",
      "video 1/1 (98/1341) C:\\Users\\Alexkoh\\Desktop\\Footfallcam\\sample.mp4: 480x640 (no detections), 7.0ms\n",
      "video 1/1 (99/1341) C:\\Users\\Alexkoh\\Desktop\\Footfallcam\\sample.mp4: 480x640 2 persons, 6 chairs, 1 tv, 7.0ms\n",
      "video 1/1 (99/1341) C:\\Users\\Alexkoh\\Desktop\\Footfallcam\\sample.mp4: 480x640 (no detections), 5.0ms\n",
      "video 1/1 (100/1341) C:\\Users\\Alexkoh\\Desktop\\Footfallcam\\sample.mp4: 480x640 2 persons, 6 chairs, 6.0ms\n",
      "video 1/1 (100/1341) C:\\Users\\Alexkoh\\Desktop\\Footfallcam\\sample.mp4: 480x640 (no detections), 8.0ms\n",
      "video 1/1 (101/1341) C:\\Users\\Alexkoh\\Desktop\\Footfallcam\\sample.mp4: 480x640 2 persons, 4 chairs, 6.0ms\n",
      "video 1/1 (101/1341) C:\\Users\\Alexkoh\\Desktop\\Footfallcam\\sample.mp4: 480x640 (no detections), 6.0ms\n",
      "video 1/1 (102/1341) C:\\Users\\Alexkoh\\Desktop\\Footfallcam\\sample.mp4: 480x640 2 persons, 5 chairs, 6.0ms\n",
      "video 1/1 (102/1341) C:\\Users\\Alexkoh\\Desktop\\Footfallcam\\sample.mp4: 480x640 (no detections), 6.0ms\n",
      "video 1/1 (103/1341) C:\\Users\\Alexkoh\\Desktop\\Footfallcam\\sample.mp4: 480x640 2 persons, 6 chairs, 6.0ms\n",
      "video 1/1 (103/1341) C:\\Users\\Alexkoh\\Desktop\\Footfallcam\\sample.mp4: 480x640 (no detections), 5.0ms\n",
      "video 1/1 (104/1341) C:\\Users\\Alexkoh\\Desktop\\Footfallcam\\sample.mp4: 480x640 2 persons, 6 chairs, 5.0ms\n",
      "video 1/1 (104/1341) C:\\Users\\Alexkoh\\Desktop\\Footfallcam\\sample.mp4: 480x640 (no detections), 6.0ms\n",
      "video 1/1 (105/1341) C:\\Users\\Alexkoh\\Desktop\\Footfallcam\\sample.mp4: 480x640 2 persons, 5 chairs, 6.0ms\n",
      "video 1/1 (105/1341) C:\\Users\\Alexkoh\\Desktop\\Footfallcam\\sample.mp4: 480x640 (no detections), 6.0ms\n",
      "video 1/1 (106/1341) C:\\Users\\Alexkoh\\Desktop\\Footfallcam\\sample.mp4: 480x640 1 person, 5 chairs, 6.0ms\n",
      "video 1/1 (106/1341) C:\\Users\\Alexkoh\\Desktop\\Footfallcam\\sample.mp4: 480x640 (no detections), 5.0ms\n",
      "video 1/1 (107/1341) C:\\Users\\Alexkoh\\Desktop\\Footfallcam\\sample.mp4: 480x640 2 persons, 5 chairs, 6.0ms\n",
      "video 1/1 (107/1341) C:\\Users\\Alexkoh\\Desktop\\Footfallcam\\sample.mp4: 480x640 (no detections), 6.0ms\n",
      "video 1/1 (108/1341) C:\\Users\\Alexkoh\\Desktop\\Footfallcam\\sample.mp4: 480x640 1 person, 6 chairs, 5.0ms\n",
      "video 1/1 (108/1341) C:\\Users\\Alexkoh\\Desktop\\Footfallcam\\sample.mp4: 480x640 (no detections), 5.0ms\n",
      "video 1/1 (109/1341) C:\\Users\\Alexkoh\\Desktop\\Footfallcam\\sample.mp4: 480x640 1 person, 6 chairs, 6.0ms\n",
      "video 1/1 (109/1341) C:\\Users\\Alexkoh\\Desktop\\Footfallcam\\sample.mp4: 480x640 (no detections), 5.0ms\n",
      "video 1/1 (110/1341) C:\\Users\\Alexkoh\\Desktop\\Footfallcam\\sample.mp4: 480x640 1 person, 6 chairs, 6.0ms\n",
      "video 1/1 (110/1341) C:\\Users\\Alexkoh\\Desktop\\Footfallcam\\sample.mp4: 480x640 (no detections), 6.0ms\n",
      "video 1/1 (111/1341) C:\\Users\\Alexkoh\\Desktop\\Footfallcam\\sample.mp4: 480x640 1 person, 6 chairs, 7.0ms\n",
      "video 1/1 (111/1341) C:\\Users\\Alexkoh\\Desktop\\Footfallcam\\sample.mp4: 480x640 (no detections), 6.0ms\n",
      "video 1/1 (112/1341) C:\\Users\\Alexkoh\\Desktop\\Footfallcam\\sample.mp4: 480x640 2 persons, 3 chairs, 6.0ms\n",
      "video 1/1 (112/1341) C:\\Users\\Alexkoh\\Desktop\\Footfallcam\\sample.mp4: 480x640 (no detections), 5.0ms\n",
      "video 1/1 (113/1341) C:\\Users\\Alexkoh\\Desktop\\Footfallcam\\sample.mp4: 480x640 2 persons, 4 chairs, 6.0ms\n",
      "video 1/1 (113/1341) C:\\Users\\Alexkoh\\Desktop\\Footfallcam\\sample.mp4: 480x640 (no detections), 6.0ms\n",
      "video 1/1 (114/1341) C:\\Users\\Alexkoh\\Desktop\\Footfallcam\\sample.mp4: 480x640 2 persons, 4 chairs, 6.0ms\n",
      "video 1/1 (114/1341) C:\\Users\\Alexkoh\\Desktop\\Footfallcam\\sample.mp4: 480x640 (no detections), 5.0ms\n",
      "video 1/1 (115/1341) C:\\Users\\Alexkoh\\Desktop\\Footfallcam\\sample.mp4: 480x640 2 persons, 5 chairs, 6.0ms\n",
      "video 1/1 (115/1341) C:\\Users\\Alexkoh\\Desktop\\Footfallcam\\sample.mp4: 480x640 (no detections), 5.0ms\n",
      "video 1/1 (116/1341) C:\\Users\\Alexkoh\\Desktop\\Footfallcam\\sample.mp4: 480x640 2 persons, 5 chairs, 6.0ms\n",
      "video 1/1 (116/1341) C:\\Users\\Alexkoh\\Desktop\\Footfallcam\\sample.mp4: 480x640 (no detections), 6.0ms\n",
      "video 1/1 (117/1341) C:\\Users\\Alexkoh\\Desktop\\Footfallcam\\sample.mp4: 480x640 4 chairs, 1 tv, 6.0ms\n",
      "video 1/1 (117/1341) C:\\Users\\Alexkoh\\Desktop\\Footfallcam\\sample.mp4: 480x640 (no detections), 6.0ms\n",
      "video 1/1 (118/1341) C:\\Users\\Alexkoh\\Desktop\\Footfallcam\\sample.mp4: 480x640 5 chairs, 6.0ms\n",
      "video 1/1 (118/1341) C:\\Users\\Alexkoh\\Desktop\\Footfallcam\\sample.mp4: 480x640 (no detections), 5.0ms\n",
      "video 1/1 (119/1341) C:\\Users\\Alexkoh\\Desktop\\Footfallcam\\sample.mp4: 480x640 1 person, 4 chairs, 5.0ms\n",
      "video 1/1 (119/1341) C:\\Users\\Alexkoh\\Desktop\\Footfallcam\\sample.mp4: 480x640 (no detections), 6.0ms\n",
      "video 1/1 (120/1341) C:\\Users\\Alexkoh\\Desktop\\Footfallcam\\sample.mp4: 480x640 1 person, 5 chairs, 5.0ms\n",
      "video 1/1 (120/1341) C:\\Users\\Alexkoh\\Desktop\\Footfallcam\\sample.mp4: 480x640 (no detections), 6.0ms\n",
      "video 1/1 (121/1341) C:\\Users\\Alexkoh\\Desktop\\Footfallcam\\sample.mp4: 480x640 2 persons, 6 chairs, 6.0ms\n",
      "video 1/1 (121/1341) C:\\Users\\Alexkoh\\Desktop\\Footfallcam\\sample.mp4: 480x640 (no detections), 5.0ms\n",
      "video 1/1 (122/1341) C:\\Users\\Alexkoh\\Desktop\\Footfallcam\\sample.mp4: 480x640 2 persons, 6 chairs, 6.0ms\n",
      "video 1/1 (122/1341) C:\\Users\\Alexkoh\\Desktop\\Footfallcam\\sample.mp4: 480x640 (no detections), 5.0ms\n",
      "video 1/1 (123/1341) C:\\Users\\Alexkoh\\Desktop\\Footfallcam\\sample.mp4: 480x640 3 persons, 5 chairs, 6.0ms\n",
      "video 1/1 (123/1341) C:\\Users\\Alexkoh\\Desktop\\Footfallcam\\sample.mp4: 480x640 (no detections), 5.0ms\n",
      "video 1/1 (124/1341) C:\\Users\\Alexkoh\\Desktop\\Footfallcam\\sample.mp4: 480x640 1 person, 5 chairs, 5.0ms\n",
      "video 1/1 (124/1341) C:\\Users\\Alexkoh\\Desktop\\Footfallcam\\sample.mp4: 480x640 (no detections), 6.0ms\n",
      "video 1/1 (125/1341) C:\\Users\\Alexkoh\\Desktop\\Footfallcam\\sample.mp4: 480x640 1 person, 5 chairs, 1 tv, 6.0ms\n",
      "video 1/1 (125/1341) C:\\Users\\Alexkoh\\Desktop\\Footfallcam\\sample.mp4: 480x640 (no detections), 5.0ms\n",
      "video 1/1 (126/1341) C:\\Users\\Alexkoh\\Desktop\\Footfallcam\\sample.mp4: 480x640 6 chairs, 6.0ms\n",
      "video 1/1 (126/1341) C:\\Users\\Alexkoh\\Desktop\\Footfallcam\\sample.mp4: 480x640 (no detections), 6.0ms\n",
      "video 1/1 (127/1341) C:\\Users\\Alexkoh\\Desktop\\Footfallcam\\sample.mp4: 480x640 1 person, 1 suitcase, 7 chairs, 5.0ms\n",
      "video 1/1 (127/1341) C:\\Users\\Alexkoh\\Desktop\\Footfallcam\\sample.mp4: 480x640 (no detections), 5.0ms\n",
      "video 1/1 (128/1341) C:\\Users\\Alexkoh\\Desktop\\Footfallcam\\sample.mp4: 480x640 1 person, 4 chairs, 6.0ms\n",
      "video 1/1 (128/1341) C:\\Users\\Alexkoh\\Desktop\\Footfallcam\\sample.mp4: 480x640 (no detections), 6.0ms\n",
      "video 1/1 (129/1341) C:\\Users\\Alexkoh\\Desktop\\Footfallcam\\sample.mp4: 480x640 1 person, 4 chairs, 6.0ms\n",
      "video 1/1 (129/1341) C:\\Users\\Alexkoh\\Desktop\\Footfallcam\\sample.mp4: 480x640 (no detections), 5.0ms\n",
      "video 1/1 (130/1341) C:\\Users\\Alexkoh\\Desktop\\Footfallcam\\sample.mp4: 480x640 1 person, 4 chairs, 6.0ms\n",
      "video 1/1 (130/1341) C:\\Users\\Alexkoh\\Desktop\\Footfallcam\\sample.mp4: 480x640 (no detections), 7.0ms\n",
      "video 1/1 (131/1341) C:\\Users\\Alexkoh\\Desktop\\Footfallcam\\sample.mp4: 480x640 1 person, 5 chairs, 6.0ms\n",
      "video 1/1 (131/1341) C:\\Users\\Alexkoh\\Desktop\\Footfallcam\\sample.mp4: 480x640 (no detections), 6.0ms\n",
      "video 1/1 (132/1341) C:\\Users\\Alexkoh\\Desktop\\Footfallcam\\sample.mp4: 480x640 1 person, 5 chairs, 1 tv, 7.0ms\n",
      "video 1/1 (132/1341) C:\\Users\\Alexkoh\\Desktop\\Footfallcam\\sample.mp4: 480x640 (no detections), 5.0ms\n",
      "video 1/1 (133/1341) C:\\Users\\Alexkoh\\Desktop\\Footfallcam\\sample.mp4: 480x640 1 person, 6 chairs, 6.0ms\n",
      "video 1/1 (133/1341) C:\\Users\\Alexkoh\\Desktop\\Footfallcam\\sample.mp4: 480x640 (no detections), 5.0ms\n",
      "video 1/1 (134/1341) C:\\Users\\Alexkoh\\Desktop\\Footfallcam\\sample.mp4: 480x640 2 persons, 6 chairs, 6.0ms\n",
      "video 1/1 (134/1341) C:\\Users\\Alexkoh\\Desktop\\Footfallcam\\sample.mp4: 480x640 (no detections), 5.0ms\n",
      "video 1/1 (135/1341) C:\\Users\\Alexkoh\\Desktop\\Footfallcam\\sample.mp4: 480x640 3 persons, 1 suitcase, 5 chairs, 6.0ms\n",
      "video 1/1 (135/1341) C:\\Users\\Alexkoh\\Desktop\\Footfallcam\\sample.mp4: 480x640 (no detections), 6.0ms\n",
      "video 1/1 (136/1341) C:\\Users\\Alexkoh\\Desktop\\Footfallcam\\sample.mp4: 480x640 3 persons, 6 chairs, 6.0ms\n",
      "video 1/1 (136/1341) C:\\Users\\Alexkoh\\Desktop\\Footfallcam\\sample.mp4: 480x640 (no detections), 6.0ms\n",
      "video 1/1 (137/1341) C:\\Users\\Alexkoh\\Desktop\\Footfallcam\\sample.mp4: 480x640 3 persons, 6 chairs, 1 potted plant, 1 tv, 5.0ms\n",
      "video 1/1 (137/1341) C:\\Users\\Alexkoh\\Desktop\\Footfallcam\\sample.mp4: 480x640 (no detections), 7.0ms\n",
      "video 1/1 (138/1341) C:\\Users\\Alexkoh\\Desktop\\Footfallcam\\sample.mp4: 480x640 3 persons, 5 chairs, 1 potted plant, 1 tv, 6.0ms\n",
      "video 1/1 (138/1341) C:\\Users\\Alexkoh\\Desktop\\Footfallcam\\sample.mp4: 480x640 (no detections), 5.0ms\n",
      "video 1/1 (139/1341) C:\\Users\\Alexkoh\\Desktop\\Footfallcam\\sample.mp4: 480x640 2 persons, 5 chairs, 1 potted plant, 1 tv, 6.0ms\n",
      "video 1/1 (139/1341) C:\\Users\\Alexkoh\\Desktop\\Footfallcam\\sample.mp4: 480x640 (no detections), 6.0ms\n",
      "video 1/1 (140/1341) C:\\Users\\Alexkoh\\Desktop\\Footfallcam\\sample.mp4: 480x640 1 person, 5 chairs, 1 potted plant, 1 tv, 6.0ms\n",
      "video 1/1 (140/1341) C:\\Users\\Alexkoh\\Desktop\\Footfallcam\\sample.mp4: 480x640 (no detections), 6.0ms\n",
      "video 1/1 (141/1341) C:\\Users\\Alexkoh\\Desktop\\Footfallcam\\sample.mp4: 480x640 6 chairs, 1 potted plant, 1 tv, 6.0ms\n",
      "video 1/1 (141/1341) C:\\Users\\Alexkoh\\Desktop\\Footfallcam\\sample.mp4: 480x640 (no detections), 6.0ms\n",
      "video 1/1 (142/1341) C:\\Users\\Alexkoh\\Desktop\\Footfallcam\\sample.mp4: 480x640 6 chairs, 1 potted plant, 1 tv, 7.0ms\n",
      "video 1/1 (142/1341) C:\\Users\\Alexkoh\\Desktop\\Footfallcam\\sample.mp4: 480x640 (no detections), 6.0ms\n",
      "video 1/1 (143/1341) C:\\Users\\Alexkoh\\Desktop\\Footfallcam\\sample.mp4: 480x640 6 chairs, 1 potted plant, 1 tv, 6.0ms\n",
      "video 1/1 (143/1341) C:\\Users\\Alexkoh\\Desktop\\Footfallcam\\sample.mp4: 480x640 (no detections), 6.0ms\n",
      "video 1/1 (144/1341) C:\\Users\\Alexkoh\\Desktop\\Footfallcam\\sample.mp4: 480x640 5 chairs, 1 potted plant, 1 tv, 5.0ms\n",
      "video 1/1 (144/1341) C:\\Users\\Alexkoh\\Desktop\\Footfallcam\\sample.mp4: 480x640 (no detections), 6.0ms\n",
      "video 1/1 (145/1341) C:\\Users\\Alexkoh\\Desktop\\Footfallcam\\sample.mp4: 480x640 6 chairs, 1 potted plant, 1 tv, 6.0ms\n",
      "video 1/1 (145/1341) C:\\Users\\Alexkoh\\Desktop\\Footfallcam\\sample.mp4: 480x640 (no detections), 6.0ms\n",
      "video 1/1 (146/1341) C:\\Users\\Alexkoh\\Desktop\\Footfallcam\\sample.mp4: 480x640 5 chairs, 1 tv, 6.0ms\n",
      "video 1/1 (146/1341) C:\\Users\\Alexkoh\\Desktop\\Footfallcam\\sample.mp4: 480x640 (no detections), 6.0ms\n",
      "video 1/1 (147/1341) C:\\Users\\Alexkoh\\Desktop\\Footfallcam\\sample.mp4: 480x640 4 chairs, 1 potted plant, 1 tv, 6.0ms\n",
      "video 1/1 (147/1341) C:\\Users\\Alexkoh\\Desktop\\Footfallcam\\sample.mp4: 480x640 (no detections), 5.0ms\n",
      "video 1/1 (148/1341) C:\\Users\\Alexkoh\\Desktop\\Footfallcam\\sample.mp4: 480x640 2 persons, 4 chairs, 1 tv, 6.0ms\n",
      "video 1/1 (148/1341) C:\\Users\\Alexkoh\\Desktop\\Footfallcam\\sample.mp4: 480x640 (no detections), 6.0ms\n",
      "video 1/1 (149/1341) C:\\Users\\Alexkoh\\Desktop\\Footfallcam\\sample.mp4: 480x640 2 persons, 6 chairs, 1 potted plant, 1 tv, 5.0ms\n",
      "video 1/1 (149/1341) C:\\Users\\Alexkoh\\Desktop\\Footfallcam\\sample.mp4: 480x640 (no detections), 6.0ms\n",
      "video 1/1 (150/1341) C:\\Users\\Alexkoh\\Desktop\\Footfallcam\\sample.mp4: 480x640 1 person, 6 chairs, 1 potted plant, 1 tv, 5.0ms\n",
      "video 1/1 (150/1341) C:\\Users\\Alexkoh\\Desktop\\Footfallcam\\sample.mp4: 480x640 (no detections), 6.0ms\n",
      "video 1/1 (151/1341) C:\\Users\\Alexkoh\\Desktop\\Footfallcam\\sample.mp4: 480x640 5 chairs, 1 tv, 6.0ms\n",
      "video 1/1 (151/1341) C:\\Users\\Alexkoh\\Desktop\\Footfallcam\\sample.mp4: 480x640 (no detections), 6.0ms\n",
      "video 1/1 (152/1341) C:\\Users\\Alexkoh\\Desktop\\Footfallcam\\sample.mp4: 480x640 1 person, 4 chairs, 1 tv, 6.0ms\n",
      "video 1/1 (152/1341) C:\\Users\\Alexkoh\\Desktop\\Footfallcam\\sample.mp4: 480x640 (no detections), 5.0ms\n"
     ]
    }
   ],
   "source": [
    "import cv2\n",
    "from ultralytics import YOLO\n",
    "\n",
    "# Load the models\n",
    "model = YOLO('yolov8n.pt')  # Original YOLO for human detection\n",
    "model_tag = YOLO('best.pt') # Trained model for Tag detection\n",
    "\n",
    "source = 'sample.mp4'  # video path\n",
    "\n",
    "# Run inference on the source\n",
    "results = model(source, stream=True)  # generator of human detection results\n",
    "results_tag = model_tag(source, stream=True)  # generator of tag detection results\n",
    "\n",
    "# Iterate over each frame's results\n",
    "for result, result_tag in zip(results, results_tag):\n",
    "    frame = result.orig_img\n",
    "\n",
    "    # Process results from the first model (human detection)\n",
    "    for box in result.boxes:\n",
    "        x1, y1, x2, y2 = box.xyxy.cpu().numpy()[0]\n",
    "        label = result.names[int(box.cls)]\n",
    "        conf = box.conf.cpu().numpy()[0]\n",
    "        cv2.rectangle(frame, (int(x1), int(y1)), (int(x2), int(y2)), (255, 0, 0), 2)  # Blue box for humans\n",
    "        cv2.putText(frame, f'Human {conf:.2f}', (int(x1), int(y1) - 10), cv2.FONT_HERSHEY_SIMPLEX, 0.5, (255, 0, 0), 2)\n",
    "\n",
    "    # Process results from the second model (tag detection)\n",
    "    for box in result_tag.boxes:\n",
    "        x1, y1, x2, y2 = box.xyxy.cpu().numpy()[0]\n",
    "        conf = box.conf.cpu().numpy()[0]\n",
    "        cv2.rectangle(frame, (int(x1), int(y1)), (int(x2), int(y2)), (0, 255, 0), 2)  # Green box for tags\n",
    "        cv2.putText(frame, f'Tag {conf:.2f}', (int(x1), int(y1) - 10), cv2.FONT_HERSHEY_SIMPLEX, 0.5, (0, 255, 0), 2)\n",
    "\n",
    "    # Display the frame with combined results\n",
    "    cv2.imshow('Combined YOLO Detections', frame)\n",
    "    if cv2.waitKey(1) & 0xFF == ord('q'):\n",
    "        break\n",
    "\n",
    "cv2.destroyAllWindows()\n"
   ]
  },
  {
   "cell_type": "code",
   "execution_count": 3,
   "id": "4a5ce272-1f43-4c58-b66d-6e31e61199c9",
   "metadata": {},
   "outputs": [
    {
     "name": "stdout",
     "output_type": "stream",
     "text": [
      "\n"
     ]
    },
    {
     "ename": "FileNotFoundError",
     "evalue": "sample.mp4 does not exist",
     "output_type": "error",
     "traceback": [
      "\u001b[1;31m---------------------------------------------------------------------------\u001b[0m",
      "\u001b[1;31mFileNotFoundError\u001b[0m                         Traceback (most recent call last)",
      "Cell \u001b[1;32mIn[3], line 27\u001b[0m\n\u001b[0;32m     24\u001b[0m results \u001b[38;5;241m=\u001b[39m model(source, stream\u001b[38;5;241m=\u001b[39m\u001b[38;5;28;01mTrue\u001b[39;00m)\n\u001b[0;32m     25\u001b[0m results_tag \u001b[38;5;241m=\u001b[39m model_tag(source, stream\u001b[38;5;241m=\u001b[39m\u001b[38;5;28;01mTrue\u001b[39;00m)\n\u001b[1;32m---> 27\u001b[0m \u001b[38;5;28;01mfor\u001b[39;00m result, result_tag \u001b[38;5;129;01min\u001b[39;00m \u001b[38;5;28mzip\u001b[39m(results, results_tag):\n\u001b[0;32m     28\u001b[0m     frame \u001b[38;5;241m=\u001b[39m result\u001b[38;5;241m.\u001b[39morig_img\n\u001b[0;32m     30\u001b[0m     \u001b[38;5;66;03m# Find overlapping boxes\u001b[39;00m\n",
      "File \u001b[1;32m~\\anaconda3\\envs\\footfall\\lib\\site-packages\\torch\\utils\\_contextlib.py:35\u001b[0m, in \u001b[0;36m_wrap_generator.<locals>.generator_context\u001b[1;34m(*args, **kwargs)\u001b[0m\n\u001b[0;32m     32\u001b[0m \u001b[38;5;28;01mtry\u001b[39;00m:\n\u001b[0;32m     33\u001b[0m     \u001b[38;5;66;03m# Issuing `None` to a generator fires it up\u001b[39;00m\n\u001b[0;32m     34\u001b[0m     \u001b[38;5;28;01mwith\u001b[39;00m ctx_factory():\n\u001b[1;32m---> 35\u001b[0m         response \u001b[38;5;241m=\u001b[39m \u001b[43mgen\u001b[49m\u001b[38;5;241;43m.\u001b[39;49m\u001b[43msend\u001b[49m\u001b[43m(\u001b[49m\u001b[38;5;28;43;01mNone\u001b[39;49;00m\u001b[43m)\u001b[49m\n\u001b[0;32m     37\u001b[0m     \u001b[38;5;28;01mwhile\u001b[39;00m \u001b[38;5;28;01mTrue\u001b[39;00m:\n\u001b[0;32m     38\u001b[0m         \u001b[38;5;28;01mtry\u001b[39;00m:\n\u001b[0;32m     39\u001b[0m             \u001b[38;5;66;03m# Forward the response to our caller and get its next request\u001b[39;00m\n",
      "File \u001b[1;32m~\\anaconda3\\envs\\footfall\\lib\\site-packages\\ultralytics\\engine\\predictor.py:241\u001b[0m, in \u001b[0;36mBasePredictor.stream_inference\u001b[1;34m(self, source, model, *args, **kwargs)\u001b[0m\n\u001b[0;32m    237\u001b[0m     \u001b[38;5;28mself\u001b[39m\u001b[38;5;241m.\u001b[39msetup_model(model)\n\u001b[0;32m    239\u001b[0m \u001b[38;5;28;01mwith\u001b[39;00m \u001b[38;5;28mself\u001b[39m\u001b[38;5;241m.\u001b[39m_lock:  \u001b[38;5;66;03m# for thread-safe inference\u001b[39;00m\n\u001b[0;32m    240\u001b[0m     \u001b[38;5;66;03m# Setup source every time predict is called\u001b[39;00m\n\u001b[1;32m--> 241\u001b[0m     \u001b[38;5;28;43mself\u001b[39;49m\u001b[38;5;241;43m.\u001b[39;49m\u001b[43msetup_source\u001b[49m\u001b[43m(\u001b[49m\u001b[43msource\u001b[49m\u001b[43m \u001b[49m\u001b[38;5;28;43;01mif\u001b[39;49;00m\u001b[43m \u001b[49m\u001b[43msource\u001b[49m\u001b[43m \u001b[49m\u001b[38;5;129;43;01mis\u001b[39;49;00m\u001b[43m \u001b[49m\u001b[38;5;129;43;01mnot\u001b[39;49;00m\u001b[43m \u001b[49m\u001b[38;5;28;43;01mNone\u001b[39;49;00m\u001b[43m \u001b[49m\u001b[38;5;28;43;01melse\u001b[39;49;00m\u001b[43m \u001b[49m\u001b[38;5;28;43mself\u001b[39;49m\u001b[38;5;241;43m.\u001b[39;49m\u001b[43margs\u001b[49m\u001b[38;5;241;43m.\u001b[39;49m\u001b[43msource\u001b[49m\u001b[43m)\u001b[49m\n\u001b[0;32m    243\u001b[0m     \u001b[38;5;66;03m# Check if save_dir/ label file exists\u001b[39;00m\n\u001b[0;32m    244\u001b[0m     \u001b[38;5;28;01mif\u001b[39;00m \u001b[38;5;28mself\u001b[39m\u001b[38;5;241m.\u001b[39margs\u001b[38;5;241m.\u001b[39msave \u001b[38;5;129;01mor\u001b[39;00m \u001b[38;5;28mself\u001b[39m\u001b[38;5;241m.\u001b[39margs\u001b[38;5;241m.\u001b[39msave_txt:\n",
      "File \u001b[1;32m~\\anaconda3\\envs\\footfall\\lib\\site-packages\\ultralytics\\engine\\predictor.py:216\u001b[0m, in \u001b[0;36mBasePredictor.setup_source\u001b[1;34m(self, source)\u001b[0m\n\u001b[0;32m    212\u001b[0m \u001b[38;5;28mself\u001b[39m\u001b[38;5;241m.\u001b[39mimgsz \u001b[38;5;241m=\u001b[39m check_imgsz(\u001b[38;5;28mself\u001b[39m\u001b[38;5;241m.\u001b[39margs\u001b[38;5;241m.\u001b[39mimgsz, stride\u001b[38;5;241m=\u001b[39m\u001b[38;5;28mself\u001b[39m\u001b[38;5;241m.\u001b[39mmodel\u001b[38;5;241m.\u001b[39mstride, min_dim\u001b[38;5;241m=\u001b[39m\u001b[38;5;241m2\u001b[39m)  \u001b[38;5;66;03m# check image size\u001b[39;00m\n\u001b[0;32m    213\u001b[0m \u001b[38;5;28mself\u001b[39m\u001b[38;5;241m.\u001b[39mtransforms \u001b[38;5;241m=\u001b[39m \u001b[38;5;28mgetattr\u001b[39m(\n\u001b[0;32m    214\u001b[0m     \u001b[38;5;28mself\u001b[39m\u001b[38;5;241m.\u001b[39mmodel\u001b[38;5;241m.\u001b[39mmodel, \u001b[38;5;124m'\u001b[39m\u001b[38;5;124mtransforms\u001b[39m\u001b[38;5;124m'\u001b[39m, classify_transforms(\n\u001b[0;32m    215\u001b[0m         \u001b[38;5;28mself\u001b[39m\u001b[38;5;241m.\u001b[39mimgsz[\u001b[38;5;241m0\u001b[39m], crop_fraction\u001b[38;5;241m=\u001b[39m\u001b[38;5;28mself\u001b[39m\u001b[38;5;241m.\u001b[39margs\u001b[38;5;241m.\u001b[39mcrop_fraction)) \u001b[38;5;28;01mif\u001b[39;00m \u001b[38;5;28mself\u001b[39m\u001b[38;5;241m.\u001b[39margs\u001b[38;5;241m.\u001b[39mtask \u001b[38;5;241m==\u001b[39m \u001b[38;5;124m'\u001b[39m\u001b[38;5;124mclassify\u001b[39m\u001b[38;5;124m'\u001b[39m \u001b[38;5;28;01melse\u001b[39;00m \u001b[38;5;28;01mNone\u001b[39;00m\n\u001b[1;32m--> 216\u001b[0m \u001b[38;5;28mself\u001b[39m\u001b[38;5;241m.\u001b[39mdataset \u001b[38;5;241m=\u001b[39m \u001b[43mload_inference_source\u001b[49m\u001b[43m(\u001b[49m\u001b[43msource\u001b[49m\u001b[38;5;241;43m=\u001b[39;49m\u001b[43msource\u001b[49m\u001b[43m,\u001b[49m\n\u001b[0;32m    217\u001b[0m \u001b[43m                                     \u001b[49m\u001b[43mimgsz\u001b[49m\u001b[38;5;241;43m=\u001b[39;49m\u001b[38;5;28;43mself\u001b[39;49m\u001b[38;5;241;43m.\u001b[39;49m\u001b[43mimgsz\u001b[49m\u001b[43m,\u001b[49m\n\u001b[0;32m    218\u001b[0m \u001b[43m                                     \u001b[49m\u001b[43mvid_stride\u001b[49m\u001b[38;5;241;43m=\u001b[39;49m\u001b[38;5;28;43mself\u001b[39;49m\u001b[38;5;241;43m.\u001b[39;49m\u001b[43margs\u001b[49m\u001b[38;5;241;43m.\u001b[39;49m\u001b[43mvid_stride\u001b[49m\u001b[43m,\u001b[49m\n\u001b[0;32m    219\u001b[0m \u001b[43m                                     \u001b[49m\u001b[43mbuffer\u001b[49m\u001b[38;5;241;43m=\u001b[39;49m\u001b[38;5;28;43mself\u001b[39;49m\u001b[38;5;241;43m.\u001b[39;49m\u001b[43margs\u001b[49m\u001b[38;5;241;43m.\u001b[39;49m\u001b[43mstream_buffer\u001b[49m\u001b[43m)\u001b[49m\n\u001b[0;32m    220\u001b[0m \u001b[38;5;28mself\u001b[39m\u001b[38;5;241m.\u001b[39msource_type \u001b[38;5;241m=\u001b[39m \u001b[38;5;28mself\u001b[39m\u001b[38;5;241m.\u001b[39mdataset\u001b[38;5;241m.\u001b[39msource_type\n\u001b[0;32m    221\u001b[0m \u001b[38;5;28;01mif\u001b[39;00m \u001b[38;5;129;01mnot\u001b[39;00m \u001b[38;5;28mgetattr\u001b[39m(\u001b[38;5;28mself\u001b[39m, \u001b[38;5;124m'\u001b[39m\u001b[38;5;124mstream\u001b[39m\u001b[38;5;124m'\u001b[39m, \u001b[38;5;28;01mTrue\u001b[39;00m) \u001b[38;5;129;01mand\u001b[39;00m (\u001b[38;5;28mself\u001b[39m\u001b[38;5;241m.\u001b[39mdataset\u001b[38;5;241m.\u001b[39mmode \u001b[38;5;241m==\u001b[39m \u001b[38;5;124m'\u001b[39m\u001b[38;5;124mstream\u001b[39m\u001b[38;5;124m'\u001b[39m \u001b[38;5;129;01mor\u001b[39;00m  \u001b[38;5;66;03m# streams\u001b[39;00m\n\u001b[0;32m    222\u001b[0m                                           \u001b[38;5;28mlen\u001b[39m(\u001b[38;5;28mself\u001b[39m\u001b[38;5;241m.\u001b[39mdataset) \u001b[38;5;241m>\u001b[39m \u001b[38;5;241m1000\u001b[39m \u001b[38;5;129;01mor\u001b[39;00m  \u001b[38;5;66;03m# images\u001b[39;00m\n\u001b[0;32m    223\u001b[0m                                           \u001b[38;5;28many\u001b[39m(\u001b[38;5;28mgetattr\u001b[39m(\u001b[38;5;28mself\u001b[39m\u001b[38;5;241m.\u001b[39mdataset, \u001b[38;5;124m'\u001b[39m\u001b[38;5;124mvideo_flag\u001b[39m\u001b[38;5;124m'\u001b[39m, [\u001b[38;5;28;01mFalse\u001b[39;00m]))):  \u001b[38;5;66;03m# videos\u001b[39;00m\n",
      "File \u001b[1;32m~\\anaconda3\\envs\\footfall\\lib\\site-packages\\ultralytics\\data\\build.py:171\u001b[0m, in \u001b[0;36mload_inference_source\u001b[1;34m(source, imgsz, vid_stride, buffer)\u001b[0m\n\u001b[0;32m    169\u001b[0m     dataset \u001b[38;5;241m=\u001b[39m LoadPilAndNumpy(source, imgsz\u001b[38;5;241m=\u001b[39mimgsz)\n\u001b[0;32m    170\u001b[0m \u001b[38;5;28;01melse\u001b[39;00m:\n\u001b[1;32m--> 171\u001b[0m     dataset \u001b[38;5;241m=\u001b[39m \u001b[43mLoadImages\u001b[49m\u001b[43m(\u001b[49m\u001b[43msource\u001b[49m\u001b[43m,\u001b[49m\u001b[43m \u001b[49m\u001b[43mimgsz\u001b[49m\u001b[38;5;241;43m=\u001b[39;49m\u001b[43mimgsz\u001b[49m\u001b[43m,\u001b[49m\u001b[43m \u001b[49m\u001b[43mvid_stride\u001b[49m\u001b[38;5;241;43m=\u001b[39;49m\u001b[43mvid_stride\u001b[49m\u001b[43m)\u001b[49m\n\u001b[0;32m    173\u001b[0m \u001b[38;5;66;03m# Attach source types to the dataset\u001b[39;00m\n\u001b[0;32m    174\u001b[0m \u001b[38;5;28msetattr\u001b[39m(dataset, \u001b[38;5;124m'\u001b[39m\u001b[38;5;124msource_type\u001b[39m\u001b[38;5;124m'\u001b[39m, source_type)\n",
      "File \u001b[1;32m~\\anaconda3\\envs\\footfall\\lib\\site-packages\\ultralytics\\data\\loaders.py:292\u001b[0m, in \u001b[0;36mLoadImages.__init__\u001b[1;34m(self, path, imgsz, vid_stride)\u001b[0m\n\u001b[0;32m    290\u001b[0m         files\u001b[38;5;241m.\u001b[39mappend(\u001b[38;5;28mstr\u001b[39m((parent \u001b[38;5;241m/\u001b[39m p)\u001b[38;5;241m.\u001b[39mabsolute()))  \u001b[38;5;66;03m# files (relative to *.txt file parent)\u001b[39;00m\n\u001b[0;32m    291\u001b[0m     \u001b[38;5;28;01melse\u001b[39;00m:\n\u001b[1;32m--> 292\u001b[0m         \u001b[38;5;28;01mraise\u001b[39;00m \u001b[38;5;167;01mFileNotFoundError\u001b[39;00m(\u001b[38;5;124mf\u001b[39m\u001b[38;5;124m'\u001b[39m\u001b[38;5;132;01m{\u001b[39;00mp\u001b[38;5;132;01m}\u001b[39;00m\u001b[38;5;124m does not exist\u001b[39m\u001b[38;5;124m'\u001b[39m)\n\u001b[0;32m    294\u001b[0m images \u001b[38;5;241m=\u001b[39m [x \u001b[38;5;28;01mfor\u001b[39;00m x \u001b[38;5;129;01min\u001b[39;00m files \u001b[38;5;28;01mif\u001b[39;00m x\u001b[38;5;241m.\u001b[39msplit(\u001b[38;5;124m'\u001b[39m\u001b[38;5;124m.\u001b[39m\u001b[38;5;124m'\u001b[39m)[\u001b[38;5;241m-\u001b[39m\u001b[38;5;241m1\u001b[39m]\u001b[38;5;241m.\u001b[39mlower() \u001b[38;5;129;01min\u001b[39;00m IMG_FORMATS]\n\u001b[0;32m    295\u001b[0m videos \u001b[38;5;241m=\u001b[39m [x \u001b[38;5;28;01mfor\u001b[39;00m x \u001b[38;5;129;01min\u001b[39;00m files \u001b[38;5;28;01mif\u001b[39;00m x\u001b[38;5;241m.\u001b[39msplit(\u001b[38;5;124m'\u001b[39m\u001b[38;5;124m.\u001b[39m\u001b[38;5;124m'\u001b[39m)[\u001b[38;5;241m-\u001b[39m\u001b[38;5;241m1\u001b[39m]\u001b[38;5;241m.\u001b[39mlower() \u001b[38;5;129;01min\u001b[39;00m VID_FORMATS]\n",
      "\u001b[1;31mFileNotFoundError\u001b[0m: sample.mp4 does not exist"
     ]
    }
   ],
   "source": [
    "import cv2\n",
    "from ultralytics import YOLO\n",
    "\n",
    "\n",
    "def boxes_overlap(box1, box2):\n",
    "    # Unpack the bounding boxes\n",
    "    x1_min, y1_min, x1_max, y1_max = box1.cpu().numpy()[0]\n",
    "    x2_min, y2_min, x2_max, y2_max = box2.cpu().numpy()[0]\n",
    "\n",
    "    # Check for no overlap conditions\n",
    "    if x1_max < x2_min or x2_max < x1_min:\n",
    "        return False\n",
    "    if y1_max < y2_min or y2_max < y1_min:\n",
    "        return False\n",
    "\n",
    "    return True\n",
    "\n",
    "# Load the models\n",
    "model = YOLO('yolov8n.pt')  # For human detection\n",
    "model_tag = YOLO('best.pt') # For Tag detection\n",
    "\n",
    "source = 'sample.mp4'\n",
    "\n",
    "results = model(source, stream=True)\n",
    "results_tag = model_tag(source, stream=True)\n",
    "\n",
    "for result, result_tag in zip(results, results_tag):\n",
    "    frame = result.orig_img\n",
    "\n",
    "    # Find overlapping boxes\n",
    "    for human_box in result.boxes:\n",
    "        for tag_box in result_tag.boxes:\n",
    "            if boxes_overlap(human_box.xyxy, tag_box.xyxy):\n",
    "                x1, y1, x2, y2 = human_box.xyxy.cpu().numpy()[0]\n",
    "                x3, y3, x4, y4 = tag_box.xyxy.cpu().numpy()[0]\n",
    "                cv2.rectangle(frame, (int(x1), int(y1)), (int(x2), int(y2)), (255, 0, 0), 2)  # Blue box for staff\n",
    "                cv2.putText(frame, f'Human {conf:.2f}', (int(x1), int(y1) - 10), cv2.FONT_HERSHEY_SIMPLEX, 0.5, (255, 0, 0), 2)\n",
    "            cv2.rectangle(frame, (int(x3), int(y3)), (int(x4), int(y4)), (0, 255, 0), 2)  # Green box for staff\n",
    "            cv2.putText(frame, f'Tag {conf:.2f}', (int(x3), int(y3) - 10), cv2.FONT_HERSHEY_SIMPLEX, 0.5, (0, 255, 0), 2)\n",
    "            break  # Assuming one tag per person\n",
    "\n",
    "    cv2.imshow('Staff Detection', frame)\n",
    "    if cv2.waitKey(1) & 0xFF == ord('q'):\n",
    "        break\n",
    "\n",
    "cv2.destroyAllWindows()"
   ]
  },
  {
   "cell_type": "code",
   "execution_count": 1,
   "id": "e4e9297e-d72b-4653-8bee-fd7b910b11aa",
   "metadata": {},
   "outputs": [
    {
     "name": "stdout",
     "output_type": "stream",
     "text": [
      "\n",
      "0: 480x640 (no detections), 33.0ms\n",
      "Speed: 6.0ms preprocess, 33.0ms inference, 7.0ms postprocess per image at shape (1, 3, 480, 640)\n"
     ]
    },
    {
     "ename": "UFuncTypeError",
     "evalue": "ufunc 'add' did not contain a loop with signature matching types (dtype('<U16'), dtype('uint8')) -> None",
     "output_type": "error",
     "traceback": [
      "\u001b[1;31m---------------------------------------------------------------------------\u001b[0m",
      "\u001b[1;31mUFuncTypeError\u001b[0m                            Traceback (most recent call last)",
      "Cell \u001b[1;32mIn[1], line 22\u001b[0m\n\u001b[0;32m     20\u001b[0m \u001b[38;5;66;03m# Visualize the results on the frame\u001b[39;00m\n\u001b[0;32m     21\u001b[0m annotated_frame \u001b[38;5;241m=\u001b[39m results[\u001b[38;5;241m0\u001b[39m]\u001b[38;5;241m.\u001b[39mplot()\n\u001b[1;32m---> 22\u001b[0m \u001b[38;5;28mprint\u001b[39m(\u001b[38;5;124;43m\"\u001b[39;49m\u001b[38;5;124;43mannotated_frame:\u001b[39;49m\u001b[38;5;124;43m\"\u001b[39;49m\u001b[43m \u001b[49m\u001b[38;5;241;43m+\u001b[39;49m\u001b[43m \u001b[49m\u001b[43mannotated_frame\u001b[49m)\n\u001b[0;32m     24\u001b[0m \u001b[38;5;66;03m# Display the annotated frame\u001b[39;00m\n\u001b[0;32m     25\u001b[0m cv2\u001b[38;5;241m.\u001b[39mimshow(\u001b[38;5;124m\"\u001b[39m\u001b[38;5;124mYOLOv8 Tracking\u001b[39m\u001b[38;5;124m\"\u001b[39m, annotated_frame)\n",
      "\u001b[1;31mUFuncTypeError\u001b[0m: ufunc 'add' did not contain a loop with signature matching types (dtype('<U16'), dtype('uint8')) -> None"
     ]
    }
   ],
   "source": [
    "import cv2\n",
    "from ultralytics import YOLO\n",
    "\n",
    "# Load the YOLOv8 model\n",
    "model = YOLO('best.pt')\n",
    "\n",
    "# Open the video file\n",
    "video_path = \"sample.mp4\"\n",
    "cap = cv2.VideoCapture(video_path)\n",
    "\n",
    "# Loop through the video frames\n",
    "while cap.isOpened():\n",
    "    # Read a frame from the video\n",
    "    success, frame = cap.read()\n",
    "\n",
    "    if success:\n",
    "        # Run YOLOv8 tracking on the frame, persisting tracks between frames\n",
    "        results = model.track(frame, persist=True)\n",
    "\n",
    "        # Visualize the results on the frame\n",
    "        annotated_frame = results[0].plot()\n",
    "\n",
    "        # Display the annotated frame\n",
    "        cv2.imshow(\"YOLOv8 Tracking\", annotated_frame)\n",
    "\n",
    "        # Break the loop if 'q' is pressed\n",
    "        if cv2.waitKey(1) & 0xFF == ord(\"q\"):\n",
    "            break\n",
    "    else:\n",
    "        # Break the loop if the end of the video is reached\n",
    "        break\n",
    "\n",
    "# Release the video capture object and close the display window\n",
    "cap.release()\n",
    "cv2.destroyAllWindows()"
   ]
  },
  {
   "cell_type": "code",
   "execution_count": null,
   "id": "b8934036-4cda-4de8-b5b9-a28f60bf69fd",
   "metadata": {},
   "outputs": [],
   "source": []
  }
 ],
 "metadata": {
  "kernelspec": {
   "display_name": "Python 3 (ipykernel)",
   "language": "python",
   "name": "python3"
  },
  "language_info": {
   "codemirror_mode": {
    "name": "ipython",
    "version": 3
   },
   "file_extension": ".py",
   "mimetype": "text/x-python",
   "name": "python",
   "nbconvert_exporter": "python",
   "pygments_lexer": "ipython3",
   "version": "3.9.18"
  }
 },
 "nbformat": 4,
 "nbformat_minor": 5
}

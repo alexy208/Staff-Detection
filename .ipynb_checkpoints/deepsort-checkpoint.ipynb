{
 "cells": [
  {
   "cell_type": "code",
   "execution_count": 1,
   "id": "7402c0d0-f039-4765-a29e-edeb57418244",
   "metadata": {},
   "outputs": [],
   "source": [
    "import cv2\n",
    "from ultralytics import YOLO\n",
    "from deep_sort_realtime.deepsort_tracker import DeepSort"
   ]
  },
  {
   "cell_type": "code",
   "execution_count": 3,
   "id": "c672e113-d365-4b78-8d2c-798de9b4321c",
   "metadata": {},
   "outputs": [
    {
     "name": "stdout",
     "output_type": "stream",
     "text": [
      "\n",
      "0: 384x640 35 persons, 2 birds, 38.0ms\n",
      "Speed: 2.0ms preprocess, 38.0ms inference, 2.0ms postprocess per image at shape (1, 3, 384, 640)\n",
      "Number of detections: 37\n",
      "Number of tracks: 37\n",
      "\n",
      "0: 384x640 34 persons, 1 bird, 6.0ms\n",
      "Speed: 2.0ms preprocess, 6.0ms inference, 2.0ms postprocess per image at shape (1, 3, 384, 640)\n",
      "Number of detections: 35\n",
      "Number of tracks: 35\n",
      "\n",
      "0: 384x640 33 persons, 3 birds, 7.0ms\n",
      "Speed: 1.0ms preprocess, 7.0ms inference, 1.0ms postprocess per image at shape (1, 3, 384, 640)\n",
      "Number of detections: 36\n",
      "Number of tracks: 36\n",
      "\n",
      "0: 384x640 36 persons, 2 birds, 6.0ms\n",
      "Speed: 1.0ms preprocess, 6.0ms inference, 1.0ms postprocess per image at shape (1, 3, 384, 640)\n",
      "Number of detections: 38\n"
     ]
    },
    {
     "ename": "ValueError",
     "evalue": "shapes (3,1280,3) and (3,1280,38) not aligned: 3 (dim 2) != 1280 (dim 1)",
     "output_type": "error",
     "traceback": [
      "\u001b[1;31m---------------------------------------------------------------------------\u001b[0m",
      "\u001b[1;31mValueError\u001b[0m                                Traceback (most recent call last)",
      "Cell \u001b[1;32mIn[3], line 35\u001b[0m\n\u001b[0;32m     32\u001b[0m \u001b[38;5;28mprint\u001b[39m(\u001b[38;5;124m\"\u001b[39m\u001b[38;5;124mNumber of detections:\u001b[39m\u001b[38;5;124m\"\u001b[39m, \u001b[38;5;28mlen\u001b[39m(deepsort_detections))\n\u001b[0;32m     34\u001b[0m \u001b[38;5;66;03m# Update DeepSORT with current frame and detections\u001b[39;00m\n\u001b[1;32m---> 35\u001b[0m tracker_outputs \u001b[38;5;241m=\u001b[39m \u001b[43mdeepsort\u001b[49m\u001b[38;5;241;43m.\u001b[39;49m\u001b[43mupdate_tracks\u001b[49m\u001b[43m(\u001b[49m\u001b[43mdeepsort_detections\u001b[49m\u001b[43m,\u001b[49m\u001b[43m \u001b[49m\u001b[43mframe\u001b[49m\u001b[43m)\u001b[49m\n\u001b[0;32m     37\u001b[0m \u001b[38;5;66;03m# Check if DeepSORT is returning any tracking data\u001b[39;00m\n\u001b[0;32m     38\u001b[0m \u001b[38;5;28mprint\u001b[39m(\u001b[38;5;124m\"\u001b[39m\u001b[38;5;124mNumber of tracks:\u001b[39m\u001b[38;5;124m\"\u001b[39m, \u001b[38;5;28mlen\u001b[39m(tracker_outputs))\n",
      "File \u001b[1;32m~\\anaconda3\\envs\\footfall\\lib\\site-packages\\deep_sort_realtime\\deepsort_tracker.py:228\u001b[0m, in \u001b[0;36mDeepSort.update_tracks\u001b[1;34m(self, raw_detections, embeds, frame, today, others, instance_masks)\u001b[0m\n\u001b[0;32m    226\u001b[0m \u001b[38;5;66;03m# Update tracker.\u001b[39;00m\n\u001b[0;32m    227\u001b[0m \u001b[38;5;28mself\u001b[39m\u001b[38;5;241m.\u001b[39mtracker\u001b[38;5;241m.\u001b[39mpredict()\n\u001b[1;32m--> 228\u001b[0m \u001b[38;5;28;43mself\u001b[39;49m\u001b[38;5;241;43m.\u001b[39;49m\u001b[43mtracker\u001b[49m\u001b[38;5;241;43m.\u001b[39;49m\u001b[43mupdate\u001b[49m\u001b[43m(\u001b[49m\u001b[43mdetections\u001b[49m\u001b[43m,\u001b[49m\u001b[43m \u001b[49m\u001b[43mtoday\u001b[49m\u001b[38;5;241;43m=\u001b[39;49m\u001b[43mtoday\u001b[49m\u001b[43m)\u001b[49m\n\u001b[0;32m    230\u001b[0m \u001b[38;5;28;01mreturn\u001b[39;00m \u001b[38;5;28mself\u001b[39m\u001b[38;5;241m.\u001b[39mtracker\u001b[38;5;241m.\u001b[39mtracks\n",
      "File \u001b[1;32m~\\anaconda3\\envs\\footfall\\lib\\site-packages\\deep_sort_realtime\\deep_sort\\tracker.py:97\u001b[0m, in \u001b[0;36mTracker.update\u001b[1;34m(self, detections, today)\u001b[0m\n\u001b[0;32m     94\u001b[0m         \u001b[38;5;28mself\u001b[39m\u001b[38;5;241m.\u001b[39m_next_id \u001b[38;5;241m=\u001b[39m \u001b[38;5;241m1\u001b[39m\n\u001b[0;32m     96\u001b[0m \u001b[38;5;66;03m# Run matching cascade.\u001b[39;00m\n\u001b[1;32m---> 97\u001b[0m matches, unmatched_tracks, unmatched_detections \u001b[38;5;241m=\u001b[39m \u001b[38;5;28;43mself\u001b[39;49m\u001b[38;5;241;43m.\u001b[39;49m\u001b[43m_match\u001b[49m\u001b[43m(\u001b[49m\u001b[43mdetections\u001b[49m\u001b[43m)\u001b[49m\n\u001b[0;32m     99\u001b[0m \u001b[38;5;66;03m# Update track set.\u001b[39;00m\n\u001b[0;32m    100\u001b[0m \u001b[38;5;28;01mfor\u001b[39;00m track_idx, detection_idx \u001b[38;5;129;01min\u001b[39;00m matches:\n",
      "File \u001b[1;32m~\\anaconda3\\envs\\footfall\\lib\\site-packages\\deep_sort_realtime\\deep_sort\\tracker.py:151\u001b[0m, in \u001b[0;36mTracker._match\u001b[1;34m(self, detections)\u001b[0m\n\u001b[0;32m    142\u001b[0m unconfirmed_tracks \u001b[38;5;241m=\u001b[39m [\n\u001b[0;32m    143\u001b[0m     i \u001b[38;5;28;01mfor\u001b[39;00m i, t \u001b[38;5;129;01min\u001b[39;00m \u001b[38;5;28menumerate\u001b[39m(\u001b[38;5;28mself\u001b[39m\u001b[38;5;241m.\u001b[39mtracks) \u001b[38;5;28;01mif\u001b[39;00m \u001b[38;5;129;01mnot\u001b[39;00m t\u001b[38;5;241m.\u001b[39mis_confirmed()\n\u001b[0;32m    144\u001b[0m ]\n\u001b[0;32m    146\u001b[0m \u001b[38;5;66;03m# Associate confirmed tracks using appearance features.\u001b[39;00m\n\u001b[0;32m    147\u001b[0m (\n\u001b[0;32m    148\u001b[0m     matches_a,\n\u001b[0;32m    149\u001b[0m     unmatched_tracks_a,\n\u001b[0;32m    150\u001b[0m     unmatched_detections,\n\u001b[1;32m--> 151\u001b[0m ) \u001b[38;5;241m=\u001b[39m \u001b[43mlinear_assignment\u001b[49m\u001b[38;5;241;43m.\u001b[39;49m\u001b[43mmatching_cascade\u001b[49m\u001b[43m(\u001b[49m\n\u001b[0;32m    152\u001b[0m \u001b[43m    \u001b[49m\u001b[43mgated_metric\u001b[49m\u001b[43m,\u001b[49m\n\u001b[0;32m    153\u001b[0m \u001b[43m    \u001b[49m\u001b[38;5;28;43mself\u001b[39;49m\u001b[38;5;241;43m.\u001b[39;49m\u001b[43mmetric\u001b[49m\u001b[38;5;241;43m.\u001b[39;49m\u001b[43mmatching_threshold\u001b[49m\u001b[43m,\u001b[49m\n\u001b[0;32m    154\u001b[0m \u001b[43m    \u001b[49m\u001b[38;5;28;43mself\u001b[39;49m\u001b[38;5;241;43m.\u001b[39;49m\u001b[43mmax_age\u001b[49m\u001b[43m,\u001b[49m\n\u001b[0;32m    155\u001b[0m \u001b[43m    \u001b[49m\u001b[38;5;28;43mself\u001b[39;49m\u001b[38;5;241;43m.\u001b[39;49m\u001b[43mtracks\u001b[49m\u001b[43m,\u001b[49m\n\u001b[0;32m    156\u001b[0m \u001b[43m    \u001b[49m\u001b[43mdetections\u001b[49m\u001b[43m,\u001b[49m\n\u001b[0;32m    157\u001b[0m \u001b[43m    \u001b[49m\u001b[43mconfirmed_tracks\u001b[49m\u001b[43m,\u001b[49m\n\u001b[0;32m    158\u001b[0m \u001b[43m\u001b[49m\u001b[43m)\u001b[49m\n\u001b[0;32m    160\u001b[0m \u001b[38;5;66;03m# Associate remaining tracks together with unconfirmed tracks using IOU.\u001b[39;00m\n\u001b[0;32m    161\u001b[0m iou_track_candidates \u001b[38;5;241m=\u001b[39m unconfirmed_tracks \u001b[38;5;241m+\u001b[39m [\n\u001b[0;32m    162\u001b[0m     k \u001b[38;5;28;01mfor\u001b[39;00m k \u001b[38;5;129;01min\u001b[39;00m unmatched_tracks_a \u001b[38;5;28;01mif\u001b[39;00m \u001b[38;5;28mself\u001b[39m\u001b[38;5;241m.\u001b[39mtracks[k]\u001b[38;5;241m.\u001b[39mtime_since_update \u001b[38;5;241m==\u001b[39m \u001b[38;5;241m1\u001b[39m\n\u001b[0;32m    163\u001b[0m ]\n",
      "File \u001b[1;32m~\\anaconda3\\envs\\footfall\\lib\\site-packages\\deep_sort_realtime\\deep_sort\\linear_assignment.py:147\u001b[0m, in \u001b[0;36mmatching_cascade\u001b[1;34m(distance_metric, max_distance, cascade_depth, tracks, detections, track_indices, detection_indices)\u001b[0m\n\u001b[0;32m    144\u001b[0m     \u001b[38;5;28;01mif\u001b[39;00m \u001b[38;5;28mlen\u001b[39m(track_indices_l) \u001b[38;5;241m==\u001b[39m \u001b[38;5;241m0\u001b[39m:  \u001b[38;5;66;03m# Nothing to match at this level\u001b[39;00m\n\u001b[0;32m    145\u001b[0m         \u001b[38;5;28;01mcontinue\u001b[39;00m\n\u001b[1;32m--> 147\u001b[0m     matches_l, _, unmatched_detections \u001b[38;5;241m=\u001b[39m \u001b[43mmin_cost_matching\u001b[49m\u001b[43m(\u001b[49m\n\u001b[0;32m    148\u001b[0m \u001b[43m        \u001b[49m\u001b[43mdistance_metric\u001b[49m\u001b[43m,\u001b[49m\n\u001b[0;32m    149\u001b[0m \u001b[43m        \u001b[49m\u001b[43mmax_distance\u001b[49m\u001b[43m,\u001b[49m\n\u001b[0;32m    150\u001b[0m \u001b[43m        \u001b[49m\u001b[43mtracks\u001b[49m\u001b[43m,\u001b[49m\n\u001b[0;32m    151\u001b[0m \u001b[43m        \u001b[49m\u001b[43mdetections\u001b[49m\u001b[43m,\u001b[49m\n\u001b[0;32m    152\u001b[0m \u001b[43m        \u001b[49m\u001b[43mtrack_indices_l\u001b[49m\u001b[43m,\u001b[49m\n\u001b[0;32m    153\u001b[0m \u001b[43m        \u001b[49m\u001b[43munmatched_detections\u001b[49m\u001b[43m,\u001b[49m\n\u001b[0;32m    154\u001b[0m \u001b[43m    \u001b[49m\u001b[43m)\u001b[49m\n\u001b[0;32m    155\u001b[0m     matches \u001b[38;5;241m+\u001b[39m\u001b[38;5;241m=\u001b[39m matches_l\n\u001b[0;32m    156\u001b[0m unmatched_tracks \u001b[38;5;241m=\u001b[39m \u001b[38;5;28mlist\u001b[39m(\u001b[38;5;28mset\u001b[39m(track_indices) \u001b[38;5;241m-\u001b[39m \u001b[38;5;28mset\u001b[39m(k \u001b[38;5;28;01mfor\u001b[39;00m k, _ \u001b[38;5;129;01min\u001b[39;00m matches))\n",
      "File \u001b[1;32m~\\anaconda3\\envs\\footfall\\lib\\site-packages\\deep_sort_realtime\\deep_sort\\linear_assignment.py:62\u001b[0m, in \u001b[0;36mmin_cost_matching\u001b[1;34m(distance_metric, max_distance, tracks, detections, track_indices, detection_indices)\u001b[0m\n\u001b[0;32m     59\u001b[0m \u001b[38;5;28;01mif\u001b[39;00m \u001b[38;5;28mlen\u001b[39m(detection_indices) \u001b[38;5;241m==\u001b[39m \u001b[38;5;241m0\u001b[39m \u001b[38;5;129;01mor\u001b[39;00m \u001b[38;5;28mlen\u001b[39m(track_indices) \u001b[38;5;241m==\u001b[39m \u001b[38;5;241m0\u001b[39m:\n\u001b[0;32m     60\u001b[0m     \u001b[38;5;28;01mreturn\u001b[39;00m [], track_indices, detection_indices  \u001b[38;5;66;03m# Nothing to match.\u001b[39;00m\n\u001b[1;32m---> 62\u001b[0m cost_matrix \u001b[38;5;241m=\u001b[39m \u001b[43mdistance_metric\u001b[49m\u001b[43m(\u001b[49m\u001b[43mtracks\u001b[49m\u001b[43m,\u001b[49m\u001b[43m \u001b[49m\u001b[43mdetections\u001b[49m\u001b[43m,\u001b[49m\u001b[43m \u001b[49m\u001b[43mtrack_indices\u001b[49m\u001b[43m,\u001b[49m\u001b[43m \u001b[49m\u001b[43mdetection_indices\u001b[49m\u001b[43m)\u001b[49m\n\u001b[0;32m     63\u001b[0m cost_matrix[cost_matrix \u001b[38;5;241m>\u001b[39m max_distance] \u001b[38;5;241m=\u001b[39m max_distance \u001b[38;5;241m+\u001b[39m \u001b[38;5;241m1e-5\u001b[39m\n\u001b[0;32m     64\u001b[0m \u001b[38;5;66;03m# indices = linear_assignment(cost_matrix)\u001b[39;00m\n",
      "File \u001b[1;32m~\\anaconda3\\envs\\footfall\\lib\\site-packages\\deep_sort_realtime\\deep_sort\\tracker.py:133\u001b[0m, in \u001b[0;36mTracker._match.<locals>.gated_metric\u001b[1;34m(tracks, dets, track_indices, detection_indices)\u001b[0m\n\u001b[0;32m    131\u001b[0m features \u001b[38;5;241m=\u001b[39m np\u001b[38;5;241m.\u001b[39marray([dets[i]\u001b[38;5;241m.\u001b[39mfeature \u001b[38;5;28;01mfor\u001b[39;00m i \u001b[38;5;129;01min\u001b[39;00m detection_indices])\n\u001b[0;32m    132\u001b[0m targets \u001b[38;5;241m=\u001b[39m np\u001b[38;5;241m.\u001b[39marray([tracks[i]\u001b[38;5;241m.\u001b[39mtrack_id \u001b[38;5;28;01mfor\u001b[39;00m i \u001b[38;5;129;01min\u001b[39;00m track_indices])\n\u001b[1;32m--> 133\u001b[0m cost_matrix \u001b[38;5;241m=\u001b[39m \u001b[38;5;28;43mself\u001b[39;49m\u001b[38;5;241;43m.\u001b[39;49m\u001b[43mmetric\u001b[49m\u001b[38;5;241;43m.\u001b[39;49m\u001b[43mdistance\u001b[49m\u001b[43m(\u001b[49m\u001b[43mfeatures\u001b[49m\u001b[43m,\u001b[49m\u001b[43m \u001b[49m\u001b[43mtargets\u001b[49m\u001b[43m)\u001b[49m\n\u001b[0;32m    134\u001b[0m cost_matrix \u001b[38;5;241m=\u001b[39m linear_assignment\u001b[38;5;241m.\u001b[39mgate_cost_matrix(\n\u001b[0;32m    135\u001b[0m     \u001b[38;5;28mself\u001b[39m\u001b[38;5;241m.\u001b[39mkf, cost_matrix, tracks, dets, track_indices, detection_indices, only_position\u001b[38;5;241m=\u001b[39m\u001b[38;5;28mself\u001b[39m\u001b[38;5;241m.\u001b[39mgating_only_position\n\u001b[0;32m    136\u001b[0m )\n\u001b[0;32m    138\u001b[0m \u001b[38;5;28;01mreturn\u001b[39;00m cost_matrix\n",
      "File \u001b[1;32m~\\anaconda3\\envs\\footfall\\lib\\site-packages\\deep_sort_realtime\\deep_sort\\nn_matching.py:174\u001b[0m, in \u001b[0;36mNearestNeighborDistanceMetric.distance\u001b[1;34m(self, features, targets)\u001b[0m\n\u001b[0;32m    172\u001b[0m cost_matrix \u001b[38;5;241m=\u001b[39m np\u001b[38;5;241m.\u001b[39mzeros((\u001b[38;5;28mlen\u001b[39m(targets), \u001b[38;5;28mlen\u001b[39m(features)))\n\u001b[0;32m    173\u001b[0m \u001b[38;5;28;01mfor\u001b[39;00m i, target \u001b[38;5;129;01min\u001b[39;00m \u001b[38;5;28menumerate\u001b[39m(targets):\n\u001b[1;32m--> 174\u001b[0m     cost_matrix[i, :] \u001b[38;5;241m=\u001b[39m \u001b[38;5;28;43mself\u001b[39;49m\u001b[38;5;241;43m.\u001b[39;49m\u001b[43m_metric\u001b[49m\u001b[43m(\u001b[49m\u001b[38;5;28;43mself\u001b[39;49m\u001b[38;5;241;43m.\u001b[39;49m\u001b[43msamples\u001b[49m\u001b[43m[\u001b[49m\u001b[43mtarget\u001b[49m\u001b[43m]\u001b[49m\u001b[43m,\u001b[49m\u001b[43m \u001b[49m\u001b[43mfeatures\u001b[49m\u001b[43m)\u001b[49m\n\u001b[0;32m    175\u001b[0m \u001b[38;5;28;01mreturn\u001b[39;00m cost_matrix\n",
      "File \u001b[1;32m~\\anaconda3\\envs\\footfall\\lib\\site-packages\\deep_sort_realtime\\deep_sort\\nn_matching.py:95\u001b[0m, in \u001b[0;36m_nn_cosine_distance\u001b[1;34m(x, y)\u001b[0m\n\u001b[0;32m     78\u001b[0m \u001b[38;5;28;01mdef\u001b[39;00m \u001b[38;5;21m_nn_cosine_distance\u001b[39m(x, y):\n\u001b[0;32m     79\u001b[0m \u001b[38;5;250m    \u001b[39m\u001b[38;5;124;03m\"\"\"Helper function for nearest neighbor distance metric (cosine).\u001b[39;00m\n\u001b[0;32m     80\u001b[0m \n\u001b[0;32m     81\u001b[0m \u001b[38;5;124;03m    Parameters\u001b[39;00m\n\u001b[1;32m   (...)\u001b[0m\n\u001b[0;32m     93\u001b[0m \n\u001b[0;32m     94\u001b[0m \u001b[38;5;124;03m    \"\"\"\u001b[39;00m\n\u001b[1;32m---> 95\u001b[0m     distances \u001b[38;5;241m=\u001b[39m \u001b[43m_cosine_distance\u001b[49m\u001b[43m(\u001b[49m\u001b[43mx\u001b[49m\u001b[43m,\u001b[49m\u001b[43m \u001b[49m\u001b[43my\u001b[49m\u001b[43m)\u001b[49m\n\u001b[0;32m     96\u001b[0m     \u001b[38;5;28;01mreturn\u001b[39;00m distances\u001b[38;5;241m.\u001b[39mmin(axis\u001b[38;5;241m=\u001b[39m\u001b[38;5;241m0\u001b[39m)\n",
      "File \u001b[1;32m~\\anaconda3\\envs\\footfall\\lib\\site-packages\\deep_sort_realtime\\deep_sort\\nn_matching.py:54\u001b[0m, in \u001b[0;36m_cosine_distance\u001b[1;34m(a, b, data_is_normalized)\u001b[0m\n\u001b[0;32m     52\u001b[0m     a \u001b[38;5;241m=\u001b[39m np\u001b[38;5;241m.\u001b[39masarray(a) \u001b[38;5;241m/\u001b[39m np\u001b[38;5;241m.\u001b[39mlinalg\u001b[38;5;241m.\u001b[39mnorm(a, axis\u001b[38;5;241m=\u001b[39m\u001b[38;5;241m1\u001b[39m, keepdims\u001b[38;5;241m=\u001b[39m\u001b[38;5;28;01mTrue\u001b[39;00m)\n\u001b[0;32m     53\u001b[0m     b \u001b[38;5;241m=\u001b[39m np\u001b[38;5;241m.\u001b[39masarray(b) \u001b[38;5;241m/\u001b[39m np\u001b[38;5;241m.\u001b[39mlinalg\u001b[38;5;241m.\u001b[39mnorm(b, axis\u001b[38;5;241m=\u001b[39m\u001b[38;5;241m1\u001b[39m, keepdims\u001b[38;5;241m=\u001b[39m\u001b[38;5;28;01mTrue\u001b[39;00m)\n\u001b[1;32m---> 54\u001b[0m \u001b[38;5;28;01mreturn\u001b[39;00m \u001b[38;5;241m1.0\u001b[39m \u001b[38;5;241m-\u001b[39m \u001b[43mnp\u001b[49m\u001b[38;5;241;43m.\u001b[39;49m\u001b[43mdot\u001b[49m\u001b[43m(\u001b[49m\u001b[43ma\u001b[49m\u001b[43m,\u001b[49m\u001b[43m \u001b[49m\u001b[43mb\u001b[49m\u001b[38;5;241;43m.\u001b[39;49m\u001b[43mT\u001b[49m\u001b[43m)\u001b[49m\n",
      "File \u001b[1;32m<__array_function__ internals>:180\u001b[0m, in \u001b[0;36mdot\u001b[1;34m(*args, **kwargs)\u001b[0m\n",
      "\u001b[1;31mValueError\u001b[0m: shapes (3,1280,3) and (3,1280,38) not aligned: 3 (dim 2) != 1280 (dim 1)"
     ]
    }
   ],
   "source": [
    "# Load YOLOv8 models\n",
    "model_human = YOLO('yolov8n.pt')  # YOLO for human detection\n",
    "model_tag = YOLO('best.pt')  # Trained model for Tag detection\n",
    "\n",
    "# Initialize DeepSORT\n",
    "tracker = DeepSort(max_age=30, nn_budget=100, override_track_class=None)\n",
    "\n",
    "# Load your video\n",
    "video_path = 'sample2.mp4'\n",
    "cap = cv2.VideoCapture(video_path)\n",
    "\n",
    "while cap.isOpened():\n",
    "    ret, frame = cap.read()\n",
    "    if not ret:\n",
    "        break\n",
    "\n",
    "    # Run inference with YOLOv8 for human detection\n",
    "    results_human = model_human(frame)\n",
    "    \n",
    "    # Prepare detections for DeepSORT\n",
    "    deepsort_detections = []\n",
    "    for result in results_human:\n",
    "        # Access bounding box data from 'boxes' attribute\n",
    "        for box in result.boxes:\n",
    "            x1, y1, x2, y2 = box.xyxy.cpu().numpy()[0]\n",
    "            conf = box.conf.cpu().numpy()\n",
    "            class_id = int(box.cls)\n",
    "            bbox = [x1, y1, x2, y2]\n",
    "            deepsort_detections.append((bbox, conf, class_id))\n",
    "    \n",
    "    # Check if any detections are made\n",
    "    print(\"Number of detections:\", len(deepsort_detections))\n",
    "    \n",
    "    # Update DeepSORT with current frame and detections\n",
    "    tracker_outputs = deepsort.update_tracks(deepsort_detections, frame)\n",
    "    \n",
    "    # Check if DeepSORT is returning any tracking data\n",
    "    print(\"Number of tracks:\", len(tracker_outputs))\n",
    "    \n",
    "    # Draw tracking results on the frame\n",
    "    for track in tracker_outputs:\n",
    "        track_id = track.track_id  # Get the track ID\n",
    "        x1, y1, x2, y2 = track.to_tlbr()  # Convert the track's bounding box to top-left, bottom-right format\n",
    "    \n",
    "        cv2.rectangle(frame, (int(x1), int(y1)), (int(x2), int(y2)), (0, 255, 0), 2)\n",
    "        cv2.putText(frame, f\"ID: {track_id}\", (int(x1), int(y1-10)), cv2.FONT_HERSHEY_SIMPLEX, 0.9, (0, 255, 0), 2)\n",
    "\n",
    "    \n",
    "    # Display the frame with tracking\n",
    "    cv2.imshow('DeepSORT Tracking', frame)\n",
    "    \n",
    "    if cv2.waitKey(1) & 0xFF == ord('q'):\n",
    "        break\n",
    "\n",
    "cap.release()\n",
    "cv2.destroyAllWindows()\n"
   ]
  },
  {
   "cell_type": "code",
   "execution_count": null,
   "id": "77394635-2102-4529-bc3b-9a527ce8d116",
   "metadata": {},
   "outputs": [],
   "source": []
  },
  {
   "cell_type": "code",
   "execution_count": null,
   "id": "e8eaf59c-66b8-4f97-bdd7-4c745dcda84d",
   "metadata": {},
   "outputs": [],
   "source": []
  }
 ],
 "metadata": {
  "kernelspec": {
   "display_name": "Python 3 (ipykernel)",
   "language": "python",
   "name": "python3"
  },
  "language_info": {
   "codemirror_mode": {
    "name": "ipython",
    "version": 3
   },
   "file_extension": ".py",
   "mimetype": "text/x-python",
   "name": "python",
   "nbconvert_exporter": "python",
   "pygments_lexer": "ipython3",
   "version": "3.9.18"
  }
 },
 "nbformat": 4,
 "nbformat_minor": 5
}
